{
 "cells": [
  {
   "cell_type": "markdown",
   "metadata": {},
   "source": [
    "### Native dict raise KeyError when the key requested is not found "
   ]
  },
  {
   "cell_type": "code",
   "execution_count": 1,
   "metadata": {},
   "outputs": [
    {
     "data": {
      "text/plain": [
       "{'key1': 0, 'key2': 1, 'key3': 2}"
      ]
     },
     "execution_count": 1,
     "metadata": {},
     "output_type": "execute_result"
    }
   ],
   "source": [
    "nativedict = dict()\n",
    "\n",
    "nativelist = [\"key1\", \"key2\", \"key3\"]\n",
    "\n",
    "for index, key in enumerate(nativelist):\n",
    "    nativedict[key] = index\n",
    "    \n",
    "nativedict"
   ]
  },
  {
   "cell_type": "code",
   "execution_count": 2,
   "metadata": {},
   "outputs": [
    {
     "ename": "KeyError",
     "evalue": "'key4'",
     "output_type": "error",
     "traceback": [
      "\u001b[1;31m---------------------------------------------------------------------------\u001b[0m",
      "\u001b[1;31mKeyError\u001b[0m                                  Traceback (most recent call last)",
      "\u001b[1;32m~\\AppData\\Local\\Temp\\1/ipykernel_23456/1020213048.py\u001b[0m in \u001b[0;36m<module>\u001b[1;34m\u001b[0m\n\u001b[1;32m----> 1\u001b[1;33m \u001b[0mnativedict\u001b[0m\u001b[1;33m[\u001b[0m\u001b[1;34m'key4'\u001b[0m\u001b[1;33m]\u001b[0m\u001b[1;33m\u001b[0m\u001b[1;33m\u001b[0m\u001b[0m\n\u001b[0m",
      "\u001b[1;31mKeyError\u001b[0m: 'key4'"
     ]
    }
   ],
   "source": [
    "nativedict['key4']"
   ]
  },
  {
   "cell_type": "markdown",
   "metadata": {},
   "source": [
    "## How to handle missing values\n",
    "1. Use .setdefault()\n",
    "2. Use .get()\n",
    "3. Use the key in dict idiom\n",
    "4. Use a try and except block"
   ]
  },
  {
   "cell_type": "markdown",
   "metadata": {},
   "source": [
    "### 1. Use .setdefault()\n",
    "\n",
    "setdefault(key[, default])\n",
    "\n",
    "If key is in the dictionary, return its value. If not, insert key with a value of default and return default. default defaults to None."
   ]
  },
  {
   "cell_type": "markdown",
   "metadata": {},
   "source": [
    "nativedict.setdefault(\"key4\", -1)\n",
    "\n",
    "nativedict['key4']"
   ]
  },
  {
   "cell_type": "markdown",
   "metadata": {},
   "source": [
    "### 2. Use .get()\n",
    "get(key[, default])\n",
    "\n",
    "Return the value for key if key is in the dictionary, else default. If default is not given, it defaults to None, so that this method never raises a KeyError."
   ]
  },
  {
   "cell_type": "code",
   "execution_count": 3,
   "metadata": {},
   "outputs": [
    {
     "data": {
      "text/plain": [
       "-1"
      ]
     },
     "execution_count": 3,
     "metadata": {},
     "output_type": "execute_result"
    }
   ],
   "source": [
    "nativedict.get('key5', -1)"
   ]
  },
  {
   "cell_type": "markdown",
   "metadata": {},
   "source": [
    "### 3. Use the key in dict idiom"
   ]
  },
  {
   "cell_type": "code",
   "execution_count": 4,
   "metadata": {},
   "outputs": [
    {
     "name": "stdout",
     "output_type": "stream",
     "text": [
      "key6 not exist\n"
     ]
    }
   ],
   "source": [
    "requested_key = 'key6'\n",
    "if requested_key in nativedict:\n",
    "    \n",
    "    print(nativedict[requested_key])\n",
    "    \n",
    "else:\n",
    "    \n",
    "    print(f\"{requested_key} not exist\")"
   ]
  },
  {
   "cell_type": "markdown",
   "metadata": {},
   "source": [
    "### 4. Use a try and except block"
   ]
  },
  {
   "cell_type": "code",
   "execution_count": 5,
   "metadata": {},
   "outputs": [
    {
     "name": "stdout",
     "output_type": "stream",
     "text": [
      "Error in retrieving 'key7'\n"
     ]
    }
   ],
   "source": [
    "try:\n",
    "    \n",
    "    print(nativedict[\"key7\"])\n",
    "    \n",
    "except KeyError as e:\n",
    "    \n",
    "    print(f\"Error in retrieving {e}\")"
   ]
  }
 ],
 "metadata": {
  "kernelspec": {
   "display_name": "Python 3 (ipykernel)",
   "language": "python",
   "name": "python3"
  },
  "language_info": {
   "codemirror_mode": {
    "name": "ipython",
    "version": 3
   },
   "file_extension": ".py",
   "mimetype": "text/x-python",
   "name": "python",
   "nbconvert_exporter": "python",
   "pygments_lexer": "ipython3",
   "version": "3.9.7"
  }
 },
 "nbformat": 4,
 "nbformat_minor": 4
}
