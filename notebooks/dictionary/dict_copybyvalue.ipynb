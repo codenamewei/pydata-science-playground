{
 "cells": [
  {
   "cell_type": "code",
   "execution_count": 4,
   "id": "0df82e5f-ecec-4b9c-92e2-6b1180a60615",
   "metadata": {},
   "outputs": [
    {
     "data": {
      "text/plain": [
       "{'abc': 100, 'def': 200}"
      ]
     },
     "execution_count": 4,
     "metadata": {},
     "output_type": "execute_result"
    }
   ],
   "source": [
    "ref = {\"abc\": 100, \"def\": 200}\n",
    "\n",
    "ref"
   ]
  },
  {
   "cell_type": "markdown",
   "id": "5ea6eb8b-200d-46f2-b391-a388dec39dba",
   "metadata": {},
   "source": [
    "## Copy by reference"
   ]
  },
  {
   "cell_type": "code",
   "execution_count": 6,
   "id": "56c193b8-fe45-49a2-a721-cf9201decefc",
   "metadata": {},
   "outputs": [
    {
     "data": {
      "text/plain": [
       "{'abc': 100, 'def': 200}"
      ]
     },
     "execution_count": 6,
     "metadata": {},
     "output_type": "execute_result"
    }
   ],
   "source": [
    "sample = ref\n",
    "sample"
   ]
  },
  {
   "cell_type": "code",
   "execution_count": 7,
   "id": "166840dd-655f-4508-81c5-59f4334c59c5",
   "metadata": {},
   "outputs": [
    {
     "data": {
      "text/plain": [
       "{'abc': 400, 'def': 200}"
      ]
     },
     "execution_count": 7,
     "metadata": {},
     "output_type": "execute_result"
    }
   ],
   "source": [
    "ref[\"abc\"] = 400\n",
    "\n",
    "sample"
   ]
  },
  {
   "cell_type": "markdown",
   "id": "d5c7ad36-30c5-4bd1-aecd-3be1244da7ec",
   "metadata": {},
   "source": [
    "## Copy by value"
   ]
  },
  {
   "cell_type": "code",
   "execution_count": 8,
   "id": "d006c41e-7a5d-4b39-9182-addcb17c0015",
   "metadata": {},
   "outputs": [
    {
     "data": {
      "text/plain": [
       "{'abc': 400, 'def': 200}"
      ]
     },
     "execution_count": 8,
     "metadata": {},
     "output_type": "execute_result"
    }
   ],
   "source": [
    "sample2 = ref.copy()\n",
    "\n",
    "sample2"
   ]
  },
  {
   "cell_type": "code",
   "execution_count": 9,
   "id": "1288edff-4733-4f1e-a831-2f4a012645ad",
   "metadata": {},
   "outputs": [
    {
     "data": {
      "text/plain": [
       "{'abc': 1000, 'def': 200}"
      ]
     },
     "execution_count": 9,
     "metadata": {},
     "output_type": "execute_result"
    }
   ],
   "source": [
    "ref[\"abc\"] = 1000\n",
    "ref"
   ]
  },
  {
   "cell_type": "code",
   "execution_count": 10,
   "id": "5e9f21a0-36d6-4068-b2af-12ec5d6d50d9",
   "metadata": {},
   "outputs": [
    {
     "data": {
      "text/plain": [
       "{'abc': 400, 'def': 200}"
      ]
     },
     "execution_count": 10,
     "metadata": {},
     "output_type": "execute_result"
    }
   ],
   "source": [
    "sample2"
   ]
  }
 ],
 "metadata": {
  "kernelspec": {
   "display_name": "Python 3 (ipykernel)",
   "language": "python",
   "name": "python3"
  },
  "language_info": {
   "codemirror_mode": {
    "name": "ipython",
    "version": 3
   },
   "file_extension": ".py",
   "mimetype": "text/x-python",
   "name": "python",
   "nbconvert_exporter": "python",
   "pygments_lexer": "ipython3",
   "version": "3.8.5"
  }
 },
 "nbformat": 4,
 "nbformat_minor": 5
}
