{
 "cells": [
  {
   "cell_type": "markdown",
   "id": "f38206ae-4f1e-4b77-9cbf-3e3ac0501851",
   "metadata": {
    "tags": []
   },
   "source": [
    "## list two ways to remove key from dict\n",
    "1. using `del sampledict[key]`\n",
    "2. using `sampledict.pop(key, second_param)`\n",
    "   - when the key is found, pop returns its value\n",
    "   - second_param says what to return if the key is not found\n",
    "   - when second_param not set will leads to KeyError when not found"
   ]
  },
  {
   "cell_type": "code",
   "execution_count": 4,
   "id": "842a4cda-a8d1-4f59-b321-139d4a1675ed",
   "metadata": {
    "tags": []
   },
   "outputs": [],
   "source": [
    "sampledict = dict(key1 = \"value1\", key2 = \"value2\")"
   ]
  },
  {
   "cell_type": "code",
   "execution_count": 5,
   "id": "092d8b87-a39e-42a4-bbe5-352f6ccfb6fb",
   "metadata": {
    "tags": []
   },
   "outputs": [],
   "source": [
    "del sampledict[\"key1\"]"
   ]
  },
  {
   "cell_type": "code",
   "execution_count": 6,
   "id": "50b885ce-79d9-449a-98a4-ada633b69cb4",
   "metadata": {
    "tags": []
   },
   "outputs": [
    {
     "ename": "KeyError",
     "evalue": "'key3'",
     "output_type": "error",
     "traceback": [
      "\u001b[0;31m---------------------------------------------------------------------------\u001b[0m",
      "\u001b[0;31mKeyError\u001b[0m                                  Traceback (most recent call last)",
      "Cell \u001b[0;32mIn[6], line 1\u001b[0m\n\u001b[0;32m----> 1\u001b[0m \u001b[38;5;28;01mdel\u001b[39;00m sampledict[\u001b[38;5;124m\"\u001b[39m\u001b[38;5;124mkey3\u001b[39m\u001b[38;5;124m\"\u001b[39m]\n",
      "\u001b[0;31mKeyError\u001b[0m: 'key3'"
     ]
    }
   ],
   "source": [
    "del sampledict[\"key3\"]"
   ]
  },
  {
   "cell_type": "code",
   "execution_count": 7,
   "id": "07ab7a96-b27c-4ab6-ab8d-05337502f9d0",
   "metadata": {
    "tags": []
   },
   "outputs": [
    {
     "data": {
      "text/plain": [
       "'value2'"
      ]
     },
     "execution_count": 7,
     "metadata": {},
     "output_type": "execute_result"
    }
   ],
   "source": [
    "sampledict.pop(\"key2\")"
   ]
  },
  {
   "cell_type": "code",
   "execution_count": 8,
   "id": "65a9be8e-73ac-4071-ae80-abbb7ed772b4",
   "metadata": {
    "tags": []
   },
   "outputs": [
    {
     "ename": "KeyError",
     "evalue": "'key4'",
     "output_type": "error",
     "traceback": [
      "\u001b[0;31m---------------------------------------------------------------------------\u001b[0m",
      "\u001b[0;31mKeyError\u001b[0m                                  Traceback (most recent call last)",
      "Cell \u001b[0;32mIn[8], line 1\u001b[0m\n\u001b[0;32m----> 1\u001b[0m \u001b[43msampledict\u001b[49m\u001b[38;5;241;43m.\u001b[39;49m\u001b[43mpop\u001b[49m\u001b[43m(\u001b[49m\u001b[38;5;124;43m\"\u001b[39;49m\u001b[38;5;124;43mkey4\u001b[39;49m\u001b[38;5;124;43m\"\u001b[39;49m\u001b[43m)\u001b[49m\n",
      "\u001b[0;31mKeyError\u001b[0m: 'key4'"
     ]
    }
   ],
   "source": [
    "sampledict.pop(\"key4\")"
   ]
  },
  {
   "cell_type": "code",
   "execution_count": 9,
   "id": "7db97115-9219-4742-84f5-48313ad01eb3",
   "metadata": {
    "tags": []
   },
   "outputs": [],
   "source": [
    "sampledict.pop(\"key5\", None)"
   ]
  },
  {
   "cell_type": "code",
   "execution_count": null,
   "id": "92c766c6-a793-4805-9bc8-0234c6c418f4",
   "metadata": {},
   "outputs": [],
   "source": []
  }
 ],
 "metadata": {
  "kernelspec": {
   "display_name": "Python 3 (ipykernel)",
   "language": "python",
   "name": "python3"
  },
  "language_info": {
   "codemirror_mode": {
    "name": "ipython",
    "version": 3
   },
   "file_extension": ".py",
   "mimetype": "text/x-python",
   "name": "python",
   "nbconvert_exporter": "python",
   "pygments_lexer": "ipython3",
   "version": "3.10.9"
  }
 },
 "nbformat": 4,
 "nbformat_minor": 5
}
