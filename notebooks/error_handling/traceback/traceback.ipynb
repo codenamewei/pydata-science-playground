{
 "cells": [
  {
   "attachments": {},
   "cell_type": "markdown",
   "id": "480b610a-8f7e-45a0-9fe6-5460ea727d00",
   "metadata": {},
   "source": [
    "### Overview\n",
    "- Python prints a traceback when an exception is raised in your code.\n",
    "- The final line of the traceback output tells you what type of exception was raised along with some relevant information about that exception. \n",
    "- The previous lines of the traceback point out the code that resulted in the exception being raised.\n",
    "(See example below)\n",
    "\n",
    "### How to read traceback\n",
    "<img src=\"../metadata/traceback.jpg\" width=\"500\">\n",
    "\n",
    "**Read the traceback from the bottom up:**\n",
    "\n",
    "- Blue box: The last line of the traceback is the error message line. It contains the exception name that was raised.\n",
    "\n",
    "- Green box: After the exception name is the error message. This message usually contains helpful information for understanding the reason for the exception being raised.\n",
    "\n",
    "- Yellow box: Further up the traceback are the various function calls moving from bottom to top, most recent to least recent. These calls are represented by two-line entries for each call. The first line of each call contains information like the file name, line number, and module name, all specifying where the code can be found.\n",
    "    - `<module>` means current file (the file that being executed)\n",
    "\n",
    "- Red underline: The second line for these calls contains the actual code that was executed.\n",
    "\n",
    "\n",
    "### Traceback References\n",
    "- https://realpython.com/python-traceback/\n",
    "- https://stackoverflow.com/questions/3702675/how-to-catch-and-print-the-full-exception-traceback-without-halting-exiting-the"
   ]
  },
  {
   "cell_type": "code",
   "execution_count": 11,
   "id": "4aec0d22-fcca-46cc-bd1b-b968e7ea8257",
   "metadata": {},
   "outputs": [
    {
     "ename": "NameError",
     "evalue": "name 'someon' is not defined",
     "output_type": "error",
     "traceback": [
      "\u001b[1;31m---------------------------------------------------------------------------\u001b[0m",
      "\u001b[1;31mNameError\u001b[0m                                 Traceback (most recent call last)",
      "Input \u001b[1;32mIn [11]\u001b[0m, in \u001b[0;36m<cell line: 4>\u001b[1;34m()\u001b[0m\n\u001b[0;32m      1\u001b[0m \u001b[38;5;28;01mdef\u001b[39;00m \u001b[38;5;21mgreet\u001b[39m(someone):\n\u001b[0;32m      2\u001b[0m     \u001b[38;5;28mprint\u001b[39m(\u001b[38;5;124m'\u001b[39m\u001b[38;5;124mHello, \u001b[39m\u001b[38;5;124m'\u001b[39m \u001b[38;5;241m+\u001b[39m someon)\n\u001b[1;32m----> 4\u001b[0m \u001b[43mgreet\u001b[49m\u001b[43m(\u001b[49m\u001b[38;5;124;43m'\u001b[39;49m\u001b[38;5;124;43mChad\u001b[39;49m\u001b[38;5;124;43m'\u001b[39;49m\u001b[43m)\u001b[49m\n",
      "Input \u001b[1;32mIn [11]\u001b[0m, in \u001b[0;36mgreet\u001b[1;34m(someone)\u001b[0m\n\u001b[0;32m      1\u001b[0m \u001b[38;5;28;01mdef\u001b[39;00m \u001b[38;5;21mgreet\u001b[39m(someone):\n\u001b[1;32m----> 2\u001b[0m     \u001b[38;5;28mprint\u001b[39m(\u001b[38;5;124m'\u001b[39m\u001b[38;5;124mHello, \u001b[39m\u001b[38;5;124m'\u001b[39m \u001b[38;5;241m+\u001b[39m \u001b[43msomeon\u001b[49m)\n",
      "\u001b[1;31mNameError\u001b[0m: name 'someon' is not defined"
     ]
    }
   ],
   "source": [
    "def greet(someone):\n",
    "    print('Hello, ' + someon)\n",
    "\n",
    "greet('Chad')"
   ]
  },
  {
   "cell_type": "code",
   "execution_count": 17,
   "id": "ae8be200-c0c2-4d02-8b84-ea3bd83748b8",
   "metadata": {},
   "outputs": [
    {
     "ename": "TypeError",
     "evalue": "greet() got an unexpected keyword argument 'greting'",
     "output_type": "error",
     "traceback": [
      "\u001b[1;31m---------------------------------------------------------------------------\u001b[0m",
      "\u001b[1;31mTypeError\u001b[0m                                 Traceback (most recent call last)",
      "Input \u001b[1;32mIn [17]\u001b[0m, in \u001b[0;36m<cell line: 15>\u001b[1;34m()\u001b[0m\n\u001b[0;32m     12\u001b[0m         \u001b[38;5;28;01mexcept\u001b[39;00m \u001b[38;5;167;01mException\u001b[39;00m:\n\u001b[0;32m     13\u001b[0m             \u001b[38;5;28mprint\u001b[39m(\u001b[38;5;124m'\u001b[39m\u001b[38;5;124mhi, \u001b[39m\u001b[38;5;124m'\u001b[39m \u001b[38;5;241m+\u001b[39m person)\n\u001b[1;32m---> 15\u001b[0m \u001b[43mgreet\u001b[49m\u001b[43m(\u001b[49m\u001b[38;5;124;43m'\u001b[39;49m\u001b[38;5;124;43mChad\u001b[39;49m\u001b[38;5;124;43m'\u001b[39;49m\u001b[43m,\u001b[49m\u001b[43m \u001b[49m\u001b[43mgreting\u001b[49m\u001b[38;5;241;43m=\u001b[39;49m\u001b[38;5;124;43m'\u001b[39;49m\u001b[38;5;124;43mYo\u001b[39;49m\u001b[38;5;124;43m'\u001b[39;49m\u001b[43m)\u001b[49m\n",
      "\u001b[1;31mTypeError\u001b[0m: greet() got an unexpected keyword argument 'greting'"
     ]
    }
   ],
   "source": [
    "# greetings.py\n",
    "def who_to_greet(person):\n",
    "    return person if person else input('Greet who? ')\n",
    "\n",
    "def greet(someone, greeting='Hello'):\n",
    "    print(greeting + ', ' + who_to_greet(someone))\n",
    "\n",
    "def greet_many(people):\n",
    "    for person in people:\n",
    "        try:\n",
    "            greet(person)\n",
    "        except Exception:\n",
    "            print('hi, ' + person)\n",
    "\n",
    "greet('Chad', greting='Yo')"
   ]
  },
  {
   "attachments": {},
   "cell_type": "markdown",
   "id": "aa629d2c",
   "metadata": {},
   "source": [
    "`traceback.format_exc()` will yield more info if that's what you want."
   ]
  },
  {
   "cell_type": "code",
   "execution_count": 1,
   "id": "a3e33afc-78f6-4254-957c-2072360da3e3",
   "metadata": {},
   "outputs": [
    {
     "name": "stdout",
     "output_type": "stream",
     "text": [
      "Traceback (most recent call last):\n",
      "  File \"C:\\Users\\codenamewei\\AppData\\Local\\Temp\\ipykernel_6276\\4169871567.py\", line 5, in <cell line: 4>\n",
      "    raise Exception(\"Exception invoked.\")\n",
      "Exception: Exception invoked.\n",
      "\n"
     ]
    }
   ],
   "source": [
    "# run in traceback1.py\n",
    "\n",
    "import traceback\n",
    "import sys\n",
    "\n",
    "try:\n",
    "    raise Exception(\"Exception invoked.\")\n",
    "except Exception:\n",
    "    print(traceback.format_exc())"
   ]
  },
  {
   "cell_type": "code",
   "execution_count": null,
   "id": "74326a9a-ef2d-4a56-ab3e-342353e1937d",
   "metadata": {},
   "outputs": [],
   "source": []
  }
 ],
 "metadata": {
  "kernelspec": {
   "display_name": "Python 3 (ipykernel)",
   "language": "python",
   "name": "python3"
  },
  "language_info": {
   "codemirror_mode": {
    "name": "ipython",
    "version": 3
   },
   "file_extension": ".py",
   "mimetype": "text/x-python",
   "name": "python",
   "nbconvert_exporter": "python",
   "pygments_lexer": "ipython3",
   "version": "3.8.5"
  }
 },
 "nbformat": 4,
 "nbformat_minor": 5
}
