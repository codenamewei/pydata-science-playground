{
 "cells": [
  {
   "cell_type": "markdown",
   "id": "d67e7f70-93d8-48bf-8027-16ad777c12bc",
   "metadata": {},
   "source": [
    "- The NameError is raised when you have referenced a variable, module, class, function, or some other name that hasn’t been defined.\n",
    "- The Python documentation defines when this exception is raised: [Source Code](https://docs.python.org/3/library/exceptions.html#NameError)\n",
    "  ```\n",
    "  Raised when a local or global name is not found.\n",
    "  ```\n"
   ]
  },
  {
   "cell_type": "code",
   "execution_count": 3,
   "id": "f3b42e7c-a749-409f-847f-fcb17e8a83ab",
   "metadata": {},
   "outputs": [
    {
     "ename": "NameError",
     "evalue": "name 'someon' is not defined",
     "output_type": "error",
     "traceback": [
      "\u001b[1;31m---------------------------------------------------------------------------\u001b[0m",
      "\u001b[1;31mNameError\u001b[0m                                 Traceback (most recent call last)",
      "Input \u001b[1;32mIn [3]\u001b[0m, in \u001b[0;36m<cell line: 4>\u001b[1;34m()\u001b[0m\n\u001b[0;32m      1\u001b[0m \u001b[38;5;28;01mdef\u001b[39;00m \u001b[38;5;21mgreet\u001b[39m(someone):\n\u001b[0;32m      2\u001b[0m     \u001b[38;5;28mprint\u001b[39m(\u001b[38;5;124m'\u001b[39m\u001b[38;5;124mHello, \u001b[39m\u001b[38;5;124m'\u001b[39m \u001b[38;5;241m+\u001b[39m someon)\n\u001b[1;32m----> 4\u001b[0m \u001b[43mgreet\u001b[49m\u001b[43m(\u001b[49m\u001b[38;5;124;43m'\u001b[39;49m\u001b[38;5;124;43mChad\u001b[39;49m\u001b[38;5;124;43m'\u001b[39;49m\u001b[43m)\u001b[49m\n",
      "Input \u001b[1;32mIn [3]\u001b[0m, in \u001b[0;36mgreet\u001b[1;34m(someone)\u001b[0m\n\u001b[0;32m      1\u001b[0m \u001b[38;5;28;01mdef\u001b[39;00m \u001b[38;5;21mgreet\u001b[39m(someone):\n\u001b[1;32m----> 2\u001b[0m     \u001b[38;5;28mprint\u001b[39m(\u001b[38;5;124m'\u001b[39m\u001b[38;5;124mHello, \u001b[39m\u001b[38;5;124m'\u001b[39m \u001b[38;5;241m+\u001b[39m \u001b[43msomeon\u001b[49m)\n",
      "\u001b[1;31mNameError\u001b[0m: name 'someon' is not defined"
     ]
    }
   ],
   "source": [
    "def greet(someone):\n",
    "    print('Hello, ' + someon)\n",
    "\n",
    "greet('Chad')"
   ]
  },
  {
   "cell_type": "code",
   "execution_count": null,
   "id": "d73af3be-fcbb-42a9-b75f-b0218c029065",
   "metadata": {},
   "outputs": [],
   "source": []
  }
 ],
 "metadata": {
  "kernelspec": {
   "display_name": "Python 3 (ipykernel)",
   "language": "python",
   "name": "python3"
  },
  "language_info": {
   "codemirror_mode": {
    "name": "ipython",
    "version": 3
   },
   "file_extension": ".py",
   "mimetype": "text/x-python",
   "name": "python",
   "nbconvert_exporter": "python",
   "pygments_lexer": "ipython3",
   "version": "3.8.5"
  }
 },
 "nbformat": 4,
 "nbformat_minor": 5
}
