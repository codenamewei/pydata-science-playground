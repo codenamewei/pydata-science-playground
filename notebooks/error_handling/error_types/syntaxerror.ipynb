{
 "cells": [
  {
   "cell_type": "markdown",
   "id": "cd1d11c9-16ce-4177-bf65-f4ee16d9d094",
   "metadata": {},
   "source": [
    "### Syntax Error\n",
    "- Raised when the parser encounters a syntax error\n",
    "- Example below: Missing colon. usually a ^ (caret) pointing to the problem spot. "
   ]
  },
  {
   "cell_type": "code",
   "execution_count": 1,
   "id": "4736907c-a888-473e-9639-63ef916c408c",
   "metadata": {},
   "outputs": [
    {
     "ename": "SyntaxError",
     "evalue": "invalid syntax (3582885146.py, line 1)",
     "output_type": "error",
     "traceback": [
      "\u001b[1;36m  Input \u001b[1;32mIn [1]\u001b[1;36m\u001b[0m\n\u001b[1;33m    def greet(person)\u001b[0m\n\u001b[1;37m                     ^\u001b[0m\n\u001b[1;31mSyntaxError\u001b[0m\u001b[1;31m:\u001b[0m invalid syntax\n"
     ]
    }
   ],
   "source": [
    "def greet(person)\n",
    "\n",
    "    print(person)"
   ]
  },
  {
   "cell_type": "code",
   "execution_count": null,
   "id": "160715ea-d68c-450b-bee2-42b30cc983a7",
   "metadata": {},
   "outputs": [],
   "source": []
  }
 ],
 "metadata": {
  "kernelspec": {
   "display_name": "Python 3 (ipykernel)",
   "language": "python",
   "name": "python3"
  },
  "language_info": {
   "codemirror_mode": {
    "name": "ipython",
    "version": 3
   },
   "file_extension": ".py",
   "mimetype": "text/x-python",
   "name": "python",
   "nbconvert_exporter": "python",
   "pygments_lexer": "ipython3",
   "version": "3.8.5"
  }
 },
 "nbformat": 4,
 "nbformat_minor": 5
}
