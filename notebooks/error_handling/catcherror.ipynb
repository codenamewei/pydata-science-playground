{
 "cells": [
  {
   "cell_type": "markdown",
   "metadata": {},
   "source": [
    "### Error Handling\n",
    "\n",
    "- Generic Exception Handling\n",
    "- Specific Exception Handling "
   ]
  },
  {
   "cell_type": "code",
   "execution_count": 2,
   "metadata": {},
   "outputs": [],
   "source": [
    "class CircleSet: \n",
    "    \n",
    "    \n",
    "    def __init__(self, inradius):\n",
    "        self.radius = inradius\n",
    "        \n",
    "    @property\n",
    "    def radius(self):\n",
    "        \n",
    "        print(\"Get Radius\")\n",
    "        \n",
    "        return self._radius\n",
    "    \n",
    "    \n",
    "    @radius.setter\n",
    "    def radius(self, inradius): \n",
    "        \n",
    "        print(\"Set Radius\")\n",
    "        \n",
    "        if isinstance(inradius, int) is False:\n",
    "            \n",
    "            raise TypeError(\"Input instance has to be of type int\")\n",
    "            \n",
    "        if inradius < 0:\n",
    "            \n",
    "            raise ValueError(\"Radius should not smaller than 0\")\n",
    "            \n",
    "        \n",
    "            \n",
    "        self._radius = inradius"
   ]
  },
  {
   "cell_type": "markdown",
   "metadata": {},
   "source": [
    "### Generic Exception Handling"
   ]
  },
  {
   "cell_type": "code",
   "execution_count": 12,
   "metadata": {},
   "outputs": [
    {
     "name": "stdout",
     "output_type": "stream",
     "text": [
      "Set Radius\n",
      "Radius should not smaller than 0\n"
     ]
    }
   ],
   "source": [
    "try:\n",
    "    \n",
    "    cs = CircleSet(-5)\n",
    "    \n",
    "except Exception as e:\n",
    "    \n",
    "    print(e)"
   ]
  },
  {
   "cell_type": "markdown",
   "metadata": {},
   "source": [
    "### Specific Exception Handling"
   ]
  },
  {
   "cell_type": "code",
   "execution_count": 5,
   "metadata": {},
   "outputs": [
    {
     "name": "stdout",
     "output_type": "stream",
     "text": [
      "Set Radius\n",
      "Radius should not smaller than 0\n"
     ]
    }
   ],
   "source": [
    "try:\n",
    "    \n",
    "    cs = CircleSet(-5)\n",
    "    \n",
    "except ValueError as e:\n",
    "    \n",
    "    print(e)\n",
    "    \n",
    "else:\n",
    "    print(\"CS has been set\")"
   ]
  },
  {
   "cell_type": "markdown",
   "metadata": {},
   "source": [
    "### Multiple exception handling "
   ]
  },
  {
   "cell_type": "code",
   "execution_count": null,
   "metadata": {},
   "outputs": [],
   "source": [
    "try:\n",
    "    \n",
    "    cs = CircleSet(\"Hi\")\n",
    "    \n",
    "except ValueError as e:\n",
    "    \n",
    "    print(e)\n",
    "    \n",
    "except TypeError as e:\n",
    "    \n",
    "    print(e)\n",
    "    \n",
    "except Exception as e:\n",
    "    \n",
    "    print(e)"
   ]
  }
 ],
 "metadata": {
  "kernelspec": {
   "display_name": "Python 3 (ipykernel)",
   "language": "python",
   "name": "python3"
  },
  "language_info": {
   "codemirror_mode": {
    "name": "ipython",
    "version": 3
   },
   "file_extension": ".py",
   "mimetype": "text/x-python",
   "name": "python",
   "nbconvert_exporter": "python",
   "pygments_lexer": "ipython3",
   "version": "3.8.5"
  }
 },
 "nbformat": 4,
 "nbformat_minor": 4
}
