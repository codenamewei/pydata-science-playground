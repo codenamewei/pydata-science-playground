{
 "cells": [
  {
   "cell_type": "code",
   "execution_count": 2,
   "metadata": {},
   "outputs": [
    {
     "name": "stdout",
     "output_type": "stream",
     "text": [
      "[20191401, 20191402]\n",
      "G:/codenamewei\n",
      "G:/codenamewei/input_py/fin_inputs\n",
      "G:/codenamewei/input_py/fin_inputs/preprocess.xlsx\n"
     ]
    }
   ],
   "source": [
    "from configparser import ConfigParser, ExtendedInterpolation\n",
    "import json \n",
    "config = ConfigParser(interpolation=ExtendedInterpolation())\n",
    "config.read('config.ini')\n",
    "\n",
    "print(json.loads(config.get('global', 'period')))\n",
    "\n",
    "print(config.get('global', 'root_dir'))\n",
    "print(config.get('global', 'input_dir'))\n",
    "\n",
    "print(config.get('preprocessing', 'preprocess_file_path'))"
   ]
  },
  {
   "cell_type": "code",
   "execution_count": null,
   "metadata": {},
   "outputs": [],
   "source": []
  }
 ],
 "metadata": {
  "interpreter": {
   "hash": "f10ad4cd0b091581b6fc1e503bf7eb6c625504e561e960215d8ca5f21be54b84"
  },
  "kernelspec": {
   "display_name": "Python 3.9.7 64-bit ('ko-ecom': conda)",
   "language": "python",
   "name": "python3"
  },
  "language_info": {
   "codemirror_mode": {
    "name": "ipython",
    "version": 3
   },
   "file_extension": ".py",
   "mimetype": "text/x-python",
   "name": "python",
   "nbconvert_exporter": "python",
   "pygments_lexer": "ipython3",
   "version": "3.9.7"
  },
  "orig_nbformat": 4
 },
 "nbformat": 4,
 "nbformat_minor": 2
}
