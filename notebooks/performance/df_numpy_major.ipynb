{
 "cells": [
  {
   "cell_type": "code",
   "execution_count": 1,
   "metadata": {},
   "outputs": [],
   "source": [
    "import pandas as pd\n",
    "import random\n",
    "import time"
   ]
  },
  {
   "cell_type": "code",
   "execution_count": 2,
   "metadata": {},
   "outputs": [],
   "source": [
    "df = pd.read_csv(\"winemag-data-130k-v2.csv\")\n",
    "\n",
    "columns = list(df.columns)\n",
    "rows = list(range(0,df.shape[0]))\n",
    "\n",
    "times = 50000"
   ]
  },
  {
   "cell_type": "markdown",
   "metadata": {},
   "source": [
    "### Dataframe is column-major"
   ]
  },
  {
   "cell_type": "code",
   "execution_count": 3,
   "metadata": {},
   "outputs": [
    {
     "name": "stdout",
     "output_type": "stream",
     "text": [
      "Time taken: 0.14203548431396484\n"
     ]
    }
   ],
   "source": [
    "start = time.time()\n",
    "for i in range(0, times):\n",
    "    column_name = random.choices(columns)\n",
    "    \n",
    "    df[column_name[0]]\n",
    "end = time.time()\n",
    "\n",
    "print(f\"Time taken: {end - start}\")"
   ]
  },
  {
   "cell_type": "code",
   "execution_count": 4,
   "metadata": {},
   "outputs": [
    {
     "name": "stdout",
     "output_type": "stream",
     "text": [
      "Time taken: 7.849633455276489\n"
     ]
    }
   ],
   "source": [
    "start = time.time()\n",
    "for i in range(0, times):\n",
    "    row_num = random.choices(rows)\n",
    "    \n",
    "    df.iloc[row_num]\n",
    "end = time.time()\n",
    "\n",
    "print(f\"Time taken: {end - start}\")"
   ]
  },
  {
   "cell_type": "markdown",
   "metadata": {},
   "source": [
    "### Numpy array is row-major"
   ]
  },
  {
   "cell_type": "code",
   "execution_count": 5,
   "metadata": {},
   "outputs": [],
   "source": [
    "npdf = df.to_numpy()\n",
    "\n",
    "np_rows = list(range(0, npdf.shape[0]))\n",
    "np_columns = list(range(0, npdf.shape[1]))"
   ]
  },
  {
   "cell_type": "code",
   "execution_count": 6,
   "metadata": {},
   "outputs": [
    {
     "name": "stdout",
     "output_type": "stream",
     "text": [
      "Time taken: 30.236613035202026\n"
     ]
    }
   ],
   "source": [
    "start = time.time()\n",
    "for i in range(0, times):\n",
    "    np_column = random.choices(np_columns)\n",
    "    npdf[:, np_column]\n",
    "end = time.time()\n",
    "\n",
    "print(f\"Time taken: {end - start}\")"
   ]
  },
  {
   "cell_type": "code",
   "execution_count": 7,
   "metadata": {},
   "outputs": [
    {
     "name": "stdout",
     "output_type": "stream",
     "text": [
      "Time taken: 0.24777674674987793\n"
     ]
    }
   ],
   "source": [
    "start = time.time()\n",
    "for i in range(0, times):\n",
    "    np_row = random.choices(np_rows)\n",
    "    npdf[np_row,:]\n",
    "end = time.time()\n",
    "\n",
    "print(f\"Time taken: {end - start}\")"
   ]
  }
 ],
 "metadata": {
  "kernelspec": {
   "display_name": "Python 3 (ipykernel)",
   "language": "python",
   "name": "python3"
  },
  "language_info": {
   "codemirror_mode": {
    "name": "ipython",
    "version": 3
   },
   "file_extension": ".py",
   "mimetype": "text/x-python",
   "name": "python",
   "nbconvert_exporter": "python",
   "pygments_lexer": "ipython3",
   "version": "3.9.7"
  }
 },
 "nbformat": 4,
 "nbformat_minor": 4
}
