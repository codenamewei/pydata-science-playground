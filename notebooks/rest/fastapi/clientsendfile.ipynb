{
 "cells": [
  {
   "cell_type": "code",
   "execution_count": 1,
   "id": "330cd9ea-878e-49c2-a19b-9a08fdeb91ea",
   "metadata": {},
   "outputs": [
    {
     "name": "stderr",
     "output_type": "stream",
     "text": [
      "C:\\Users\\codenamewei\\.conda\\envs\\face-meeting\\lib\\site-packages\\requests\\__init__.py:102: RequestsDependencyWarning: urllib3 (1.26.9) or chardet (5.1.0)/charset_normalizer (2.0.4) doesn't match a supported version!\n",
      "  warnings.warn(\"urllib3 ({}) or chardet ({})/charset_normalizer ({}) doesn't match a supported \"\n"
     ]
    }
   ],
   "source": [
    "import requests"
   ]
  },
  {
   "cell_type": "code",
   "execution_count": 7,
   "id": "e29b4204-2563-4514-9704-191b92b479c3",
   "metadata": {},
   "outputs": [],
   "source": [
    "endpoint = \"http://12.13.123.123/file\" #endpoint\n",
    "videofile = \"temp.mp4\""
   ]
  },
  {
   "cell_type": "code",
   "execution_count": 6,
   "id": "13bef057-78fc-4c71-868c-acebe76f8a84",
   "metadata": {},
   "outputs": [
    {
     "name": "stdout",
     "output_type": "stream",
     "text": [
      "Upload completed successfully!\n",
      "{\"issuccess\":true}\n"
     ]
    }
   ],
   "source": [
    "files = {'file': open(videofile, 'rb')}\n",
    "\n",
    "response = requests.put(endpoint, files=files)\n",
    "\n",
    "if response.ok:\n",
    "    print(\"Upload completed successfully!\")\n",
    "    print(response.text)\n",
    "else:\n",
    "    print(\"Something went wrong!\")"
   ]
  },
  {
   "cell_type": "code",
   "execution_count": null,
   "id": "1d1cd660-bf04-4593-a522-73a1748eea94",
   "metadata": {},
   "outputs": [],
   "source": []
  }
 ],
 "metadata": {
  "kernelspec": {
   "display_name": "Python 3 (ipykernel)",
   "language": "python",
   "name": "python3"
  },
  "language_info": {
   "codemirror_mode": {
    "name": "ipython",
    "version": 3
   },
   "file_extension": ".py",
   "mimetype": "text/x-python",
   "name": "python",
   "nbconvert_exporter": "python",
   "pygments_lexer": "ipython3",
   "version": "3.8.5"
  }
 },
 "nbformat": 4,
 "nbformat_minor": 5
}
