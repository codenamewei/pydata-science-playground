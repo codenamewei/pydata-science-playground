{
 "cells": [
  {
   "cell_type": "code",
   "execution_count": null,
   "metadata": {},
   "outputs": [],
   "source": [
    "import requests\n",
    "from requests.exceptions import HTTPError\n",
    "\n",
    "\n",
    "if __name__ == \"__main__\":\n",
    "    \n",
    "    sample_s3_url = \"https://face-guardian-emoji.s3.ap-northeast-2.amazonaws.com/smiling-face-with-sunglassess.1024x954.png\"\n",
    "    image = sample_s3_url.split(\"/\")[-1]\n",
    "    \n",
    "    response = requests.get(sample_s3_url)\n",
    "    \n",
    "    if response.ok:\n",
    "        \n",
    "        open(image, \"wb\").write(response.content)\n",
    "        \n",
    "    else:\n",
    "        \n",
    "        raise HTTPError(f\"Emoji url not valid: {sample_s3_url}\")"
   ]
  }
 ],
 "metadata": {
  "language_info": {
   "name": "python"
  },
  "orig_nbformat": 4
 },
 "nbformat": 4,
 "nbformat_minor": 2
}
