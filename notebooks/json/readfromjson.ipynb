{
 "cells": [
  {
   "cell_type": "code",
   "execution_count": 16,
   "metadata": {},
   "outputs": [
    {
     "data": {
      "text/plain": [
       "{'speech2text': {'model_name': 'speech2text',\n",
       "  'date': '20190124',\n",
       "  'language': 'english'},\n",
       " 'text2speech': {'model_name': 'text2speech',\n",
       "  'date': '20190124',\n",
       "  'language': 'english'},\n",
       " 'textclassification': {'model_name': 'textclassification',\n",
       "  'date': '20190124',\n",
       "  'language': 'english'}}"
      ]
     },
     "execution_count": 16,
     "metadata": {},
     "output_type": "execute_result"
    }
   ],
   "source": [
    "import json\n",
    " \n",
    "outfilename = \"model.json\"\n",
    "with open(outfilename, 'r') as openfile:\n",
    " \n",
    "    # Reading from json file\n",
    "    modelcollection = json.load(openfile)\n",
    "\n",
    "\n",
    "modelcollection"
   ]
  },
  {
   "cell_type": "code",
   "execution_count": null,
   "metadata": {},
   "outputs": [],
   "source": []
  }
 ],
 "metadata": {
  "kernelspec": {
   "display_name": "Python 3.8.5 ('data-science-playground')",
   "language": "python",
   "name": "python3"
  },
  "language_info": {
   "codemirror_mode": {
    "name": "ipython",
    "version": 3
   },
   "file_extension": ".py",
   "mimetype": "text/x-python",
   "name": "python",
   "nbconvert_exporter": "python",
   "pygments_lexer": "ipython3",
   "version": "3.8.5"
  },
  "orig_nbformat": 4,
  "vscode": {
   "interpreter": {
    "hash": "8556d705f1fb1a7a97a8cf1449d73bf9b743fda82251187d431e67d5172c9970"
   }
  }
 },
 "nbformat": 4,
 "nbformat_minor": 2
}
