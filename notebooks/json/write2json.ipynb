{
 "cells": [
  {
   "cell_type": "code",
   "execution_count": 3,
   "metadata": {},
   "outputs": [],
   "source": [
    "import json\n",
    "\n",
    "model_info = dict(model_name = \"speech2text\", date = \"20190124\", language = \"english\")\n",
    " \n",
    "# Serializing json\n",
    "json_object = json.dumps(model_info, indent=4)\n",
    " \n",
    "# Writing to sample.json\n",
    "with open(\"model_simple.json\", \"w\") as outfile:\n",
    "    outfile.write(json_object)"
   ]
  },
  {
   "cell_type": "code",
   "execution_count": 8,
   "metadata": {},
   "outputs": [
    {
     "name": "stdout",
     "output_type": "stream",
     "text": [
      "model.json\n"
     ]
    }
   ],
   "source": [
    "import json\n",
    "\n",
    "outfilename = \"model.json\"\n",
    "\n",
    "model_info1 = dict(model_name = \"speech2text\", date = \"20190124\", language = \"english\")\n",
    "model_info2 = dict(model_name = \"text2speech\", date = \"20190124\", language = \"english\")\n",
    "model_info3 = dict(model_name = \"textclassification\", date = \"20190124\", language = \"english\")\n",
    "\n",
    "model_total = dict()\n",
    "\n",
    "total_models = [model_info1, model_info2, model_info3]\n",
    "\n",
    "for model in total_models:\n",
    "    model_total[model[\"model_name\"]] = model\n",
    "\n",
    "\n",
    "# Serializing json\n",
    "json_object = json.dumps(model_total, indent=4)\n",
    " \n",
    "# Writing to sample.json\n",
    "with open(outfilename, \"w\") as outfile:\n",
    "    print(outfilename)\n",
    "    outfile.write(json_object)"
   ]
  }
 ],
 "metadata": {
  "kernelspec": {
   "display_name": "Python 3.8.5 ('data-science-playground')",
   "language": "python",
   "name": "python3"
  },
  "language_info": {
   "codemirror_mode": {
    "name": "ipython",
    "version": 3
   },
   "file_extension": ".py",
   "mimetype": "text/x-python",
   "name": "python",
   "nbconvert_exporter": "python",
   "pygments_lexer": "ipython3",
   "version": "3.8.5"
  },
  "orig_nbformat": 4,
  "vscode": {
   "interpreter": {
    "hash": "8556d705f1fb1a7a97a8cf1449d73bf9b743fda82251187d431e67d5172c9970"
   }
  }
 },
 "nbformat": 4,
 "nbformat_minor": 2
}
