{
 "cells": [
  {
   "cell_type": "markdown",
   "metadata": {},
   "source": [
    "### Build dict object by doing \n",
    "- `{\"name\": \"John Doe\", \"age\": 20}`|\n",
    "- `dict(name = \"John Doe\", age = 20)`"
   ]
  },
  {
   "cell_type": "code",
   "execution_count": 3,
   "metadata": {},
   "outputs": [
    {
     "name": "stdout",
     "output_type": "stream",
     "text": [
      "{'name': 'John Doe', 'age': 20}\n",
      "{'name': 'John Doe', 'age': 20}\n"
     ]
    }
   ],
   "source": [
    "dict1 = {\"name\": \"John Doe\", \"age\": 20}\n",
    "\n",
    "dict2 = dict(name = \"John Doe\", age = 20)\n",
    "\n",
    "print(dict1)\n",
    "print(dict2)"
   ]
  },
  {
   "cell_type": "markdown",
   "metadata": {},
   "source": [
    "- Method 2 cleaner than method 1 especially with key of string type\n",
    "- But method 2 doesnt work when key are variable"
   ]
  },
  {
   "cell_type": "code",
   "execution_count": 5,
   "metadata": {},
   "outputs": [
    {
     "data": {
      "text/plain": [
       "dict_keys(['namekey', 'agekey'])"
      ]
     },
     "execution_count": 5,
     "metadata": {},
     "output_type": "execute_result"
    }
   ],
   "source": [
    "namekey = \"name\"\n",
    "agekey = \"age\"\n",
    "\n",
    "\n",
    "dictnew = dict(namekey = \"JohnDoe\", agekey = 20)\n",
    "\n",
    "dictnew.keys()"
   ]
  },
  {
   "cell_type": "markdown",
   "metadata": {},
   "source": [
    "- notice how in dictnew the keys are not `name` and `age` but namekey and agekey"
   ]
  },
  {
   "cell_type": "markdown",
   "metadata": {},
   "source": []
  }
 ],
 "metadata": {
  "kernelspec": {
   "display_name": "Python 3.8.5 ('data-science-playground')",
   "language": "python",
   "name": "python3"
  },
  "language_info": {
   "codemirror_mode": {
    "name": "ipython",
    "version": 3
   },
   "file_extension": ".py",
   "mimetype": "text/x-python",
   "name": "python",
   "nbconvert_exporter": "python",
   "pygments_lexer": "ipython3",
   "version": "3.8.5"
  },
  "orig_nbformat": 4,
  "vscode": {
   "interpreter": {
    "hash": "8556d705f1fb1a7a97a8cf1449d73bf9b743fda82251187d431e67d5172c9970"
   }
  }
 },
 "nbformat": 4,
 "nbformat_minor": 2
}
