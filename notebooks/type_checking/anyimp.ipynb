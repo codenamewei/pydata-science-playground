{
 "cells": [
  {
   "cell_type": "markdown",
   "metadata": {},
   "source": [
    "### use Any if do not want to include an explicit type"
   ]
  },
  {
   "cell_type": "code",
   "execution_count": 1,
   "metadata": {},
   "outputs": [
    {
     "name": "stdout",
     "output_type": "stream",
     "text": [
      "Hello World\n",
      "123\n"
     ]
    }
   ],
   "source": [
    "from typing import Any\n",
    "\n",
    "placeholder : Any = None\n",
    "    \n",
    "placeholder : Any = \"Hello World\"\n",
    "print(placeholder)\n",
    "\n",
    "placeholder : Any = 123\n",
    "print(placeholder)"
   ]
  }
 ],
 "metadata": {
  "kernelspec": {
   "display_name": "Python 3.8.5 ('data-science-playground')",
   "language": "python",
   "name": "python3"
  },
  "language_info": {
   "codemirror_mode": {
    "name": "ipython",
    "version": 3
   },
   "file_extension": ".py",
   "mimetype": "text/x-python",
   "name": "python",
   "nbconvert_exporter": "python",
   "pygments_lexer": "ipython3",
   "version": "3.8.5"
  },
  "orig_nbformat": 4,
  "vscode": {
   "interpreter": {
    "hash": "8556d705f1fb1a7a97a8cf1449d73bf9b743fda82251187d431e67d5172c9970"
   }
  }
 },
 "nbformat": 4,
 "nbformat_minor": 2
}
