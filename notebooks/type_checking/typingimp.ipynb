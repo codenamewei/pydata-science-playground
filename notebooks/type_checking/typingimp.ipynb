{
 "cells": [
  {
   "cell_type": "markdown",
   "metadata": {},
   "source": [
    "### typing package for Type Checking/Hinting\n",
    "\n",
    "The Python runtime does not enforce function and variable type annotations. They can be used by third party tools such as type checkers, IDEs, linters, etc. Or using _typing_ module to provide runtime support for type hints \n",
    "\n",
    "- https://docs.python.org/3/library/typing.html\n",
    "- https://realpython.com/python-type-checking/"
   ]
  },
  {
   "cell_type": "markdown",
   "metadata": {},
   "source": [
    "### Before using typing \n",
    "- You'll see that this does not really tell the full story for the composite type where we wouldn't know \n",
    "```names[2], version[0], options[\"centered\"]```"
   ]
  },
  {
   "cell_type": "code",
   "execution_count": 1,
   "metadata": {},
   "outputs": [
    {
     "name": "stdout",
     "output_type": "stream",
     "text": [
      "<class 'list'>\n",
      "<class 'tuple'>\n",
      "<class 'dict'>\n"
     ]
    }
   ],
   "source": [
    "name: str = \"Guido\"\n",
    "pi: float = 3.142\n",
    "centered: bool = False\n",
    "\n",
    "# with composite type, can do the same with \n",
    "names: list = [\"Guido\", \"Jukka\", \"Ivan\"]\n",
    "version: tuple = (3, 7, 1)\n",
    "options: dict = {\"centered\": False, \"capitalize\": True}\n",
    "\n",
    "print(type(names))\n",
    "print(type(version))\n",
    "print(type(options))"
   ]
  },
  {
   "cell_type": "markdown",
   "metadata": {},
   "source": [
    "### By using typing\n",
    "- It add syntax for specifying the types of elements of composite types\n",
    "- List: array of collection\n",
    "- Tuple: array of collection with fixed number of data\n",
    "- Dict: key value pair\n",
    "- Set: unique array of collection "
   ]
  },
  {
   "cell_type": "code",
   "execution_count": 8,
   "metadata": {},
   "outputs": [
    {
     "name": "stdout",
     "output_type": "stream",
     "text": [
      "<class 'list'>\n",
      "<class 'tuple'>\n",
      "<class 'dict'>\n",
      "<class 'set'>\n"
     ]
    }
   ],
   "source": [
    "from typing import Dict, List, Tuple, Set\n",
    "\n",
    "names: List[str] = [\"Guido\", \"Jukka\", \"Ivan\"]\n",
    "version: Tuple[int, int, int] = (3, 7, 1)\n",
    "options: Dict[str, bool] = dict(centered = False, capitalize = \"op1\")\n",
    "unique: Set[int] = {1,2} \n",
    "\n",
    "print(type(names))\n",
    "print(type(version))\n",
    "print(type(options))\n",
    "print(type(unique))"
   ]
  }
 ],
 "metadata": {
  "kernelspec": {
   "display_name": "Python 3",
   "language": "python",
   "name": "python3"
  },
  "language_info": {
   "codemirror_mode": {
    "name": "ipython",
    "version": 3
   },
   "file_extension": ".py",
   "mimetype": "text/x-python",
   "name": "python",
   "nbconvert_exporter": "python",
   "pygments_lexer": "ipython3",
   "version": "3.8.5"
  },
  "vscode": {
   "interpreter": {
    "hash": "8556d705f1fb1a7a97a8cf1449d73bf9b743fda82251187d431e67d5172c9970"
   }
  }
 },
 "nbformat": 4,
 "nbformat_minor": 4
}
