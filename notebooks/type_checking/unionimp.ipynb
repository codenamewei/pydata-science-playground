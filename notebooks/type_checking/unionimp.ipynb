{
 "cells": [
  {
   "cell_type": "markdown",
   "id": "ae7c7ed7-fe99-4a40-b5d5-f9c47bbc683b",
   "metadata": {},
   "source": [
    "### Union\n",
    "\n",
    "special keyword to allow multiple data types"
   ]
  },
  {
   "cell_type": "code",
   "execution_count": 2,
   "id": "8c72ec6a-3d35-4160-b67e-7b9ebd0eff21",
   "metadata": {},
   "outputs": [
    {
     "data": {
      "text/plain": [
       "'20'"
      ]
     },
     "execution_count": 2,
     "metadata": {},
     "output_type": "execute_result"
    }
   ],
   "source": [
    "from typing import Union\n",
    "\n",
    "def toString(num: Union[int, float]) -> str:\n",
    "    return str(num)\n",
    "\n",
    "toString(20)"
   ]
  },
  {
   "cell_type": "markdown",
   "id": "3ba481d7-1986-4e14-9a7b-88a442cd120b",
   "metadata": {},
   "source": [
    "when you have a static type checker running, an error will be thrown if you attempt to assign to it, anything that is not an integer."
   ]
  }
 ],
 "metadata": {
  "kernelspec": {
   "display_name": "Python 3 (ipykernel)",
   "language": "python",
   "name": "python3"
  },
  "language_info": {
   "codemirror_mode": {
    "name": "ipython",
    "version": 3
   },
   "file_extension": ".py",
   "mimetype": "text/x-python",
   "name": "python",
   "nbconvert_exporter": "python",
   "pygments_lexer": "ipython3",
   "version": "3.10.6"
  }
 },
 "nbformat": 4,
 "nbformat_minor": 5
}
