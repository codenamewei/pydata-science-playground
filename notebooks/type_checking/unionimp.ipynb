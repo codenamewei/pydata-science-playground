{
 "cells": [
  {
   "cell_type": "markdown",
   "id": "ae7c7ed7-fe99-4a40-b5d5-f9c47bbc683b",
   "metadata": {},
   "source": [
    "### Union\n",
    "\n",
    "special keyword to allow multiple data types"
   ]
  },
  {
   "cell_type": "code",
   "execution_count": 3,
   "id": "8c72ec6a-3d35-4160-b67e-7b9ebd0eff21",
   "metadata": {},
   "outputs": [
    {
     "data": {
      "text/plain": [
       "'20'"
      ]
     },
     "execution_count": 3,
     "metadata": {},
     "output_type": "execute_result"
    }
   ],
   "source": [
    "from typing import Union\n",
    "import random\n",
    "\n",
    "def tostring(num: Union[int, float]) -> str:\n",
    "    return str(num)\n",
    "\n",
    "tostring(20)"
   ]
  },
  {
   "cell_type": "markdown",
   "id": "cc993051-e150-4e03-9b1a-ad821f7df368",
   "metadata": {},
   "source": [
    "### Work on return type as well "
   ]
  },
  {
   "cell_type": "code",
   "execution_count": 10,
   "id": "4b510e47-e8c8-419d-9e47-9427b460c701",
   "metadata": {},
   "outputs": [
    {
     "name": "stdout",
     "output_type": "stream",
     "text": [
      "Bigger than 50\n",
      "Bigger than 50\n",
      "None\n",
      "None\n",
      "None\n",
      "None\n",
      "None\n",
      "Bigger than 50\n",
      "None\n",
      "None\n"
     ]
    }
   ],
   "source": [
    "def getoutput() -> Union[str, None]:\n",
    "    \n",
    "    randomoutput = random.randint(0, 50)\n",
    "    \n",
    "    return \"Bigger than 50\" if (randomoutput > 25) else None\n",
    "    \n",
    "for _ in range(10):\n",
    "    print(getoutput())"
   ]
  },
  {
   "cell_type": "markdown",
   "id": "3ba481d7-1986-4e14-9a7b-88a442cd120b",
   "metadata": {},
   "source": [
    "when you have a static type checker running, an error will be thrown if you attempt to assign to it, anything that is not an integer."
   ]
  }
 ],
 "metadata": {
  "kernelspec": {
   "display_name": "Python 3",
   "language": "python",
   "name": "python3"
  },
  "language_info": {
   "codemirror_mode": {
    "name": "ipython",
    "version": 3
   },
   "file_extension": ".py",
   "mimetype": "text/x-python",
   "name": "python",
   "nbconvert_exporter": "python",
   "pygments_lexer": "ipython3",
   "version": "3.8.5"
  },
  "vscode": {
   "interpreter": {
    "hash": "8556d705f1fb1a7a97a8cf1449d73bf9b743fda82251187d431e67d5172c9970"
   }
  }
 },
 "nbformat": 4,
 "nbformat_minor": 5
}
