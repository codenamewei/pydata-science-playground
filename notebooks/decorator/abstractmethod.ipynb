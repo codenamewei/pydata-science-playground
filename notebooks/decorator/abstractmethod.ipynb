{
 "cells": [
  {
   "cell_type": "markdown",
   "metadata": {},
   "source": [
    "# !Error occurs only when method not instantiated, number of parameters does not matter\n",
    "\n",
    "### Create abstract(base) and actual(implemented) class with \n",
    "- ```from abs import ABCMeta; class Base(metaclass = ABCMeta)```\n",
    "- Decorator ```@abstractmethod```"
   ]
  },
  {
   "cell_type": "code",
   "execution_count": 1,
   "metadata": {},
   "outputs": [],
   "source": [
    "from abc import ABCMeta, abstractmethod"
   ]
  },
  {
   "cell_type": "markdown",
   "metadata": {},
   "source": [
    "### Base class can initiate when no abstract method without implementation"
   ]
  },
  {
   "cell_type": "code",
   "execution_count": 2,
   "metadata": {},
   "outputs": [
    {
     "name": "stdout",
     "output_type": "stream",
     "text": [
      "Base Class\n"
     ]
    },
    {
     "data": {
      "text/plain": [
       "<__main__.BaseCourse at 0x214231c7ac0>"
      ]
     },
     "execution_count": 2,
     "metadata": {},
     "output_type": "execute_result"
    }
   ],
   "source": [
    "class BaseCourse(metaclass  = ABCMeta):\n",
    "    \n",
    "    def __init__(self):\n",
    "        \n",
    "        print(\"Base Class\")\n",
    "        \n",
    "BaseCourse()"
   ]
  },
  {
   "cell_type": "markdown",
   "metadata": {},
   "source": [
    "### Base class cannot initiate when there's abstract method "
   ]
  },
  {
   "cell_type": "code",
   "execution_count": 3,
   "metadata": {},
   "outputs": [
    {
     "ename": "TypeError",
     "evalue": "Can't instantiate abstract class BaseCourse with abstract methods inscope",
     "output_type": "error",
     "traceback": [
      "\u001b[1;31m---------------------------------------------------------------------------\u001b[0m",
      "\u001b[1;31mTypeError\u001b[0m                                 Traceback (most recent call last)",
      "Input \u001b[1;32mIn [3]\u001b[0m, in \u001b[0;36m<cell line: 12>\u001b[1;34m()\u001b[0m\n\u001b[0;32m      7\u001b[0m     \u001b[38;5;129m@abstractmethod\u001b[39m\n\u001b[0;32m      8\u001b[0m     \u001b[38;5;28;01mdef\u001b[39;00m \u001b[38;5;21minscope\u001b[39m(\u001b[38;5;28mself\u001b[39m) \u001b[38;5;241m-\u001b[39m\u001b[38;5;241m>\u001b[39m \u001b[38;5;28mstr\u001b[39m:\n\u001b[0;32m      9\u001b[0m         \u001b[38;5;28;01mpass\u001b[39;00m\n\u001b[1;32m---> 12\u001b[0m \u001b[43mBaseCourse\u001b[49m\u001b[43m(\u001b[49m\u001b[43m)\u001b[49m\n",
      "\u001b[1;31mTypeError\u001b[0m: Can't instantiate abstract class BaseCourse with abstract methods inscope"
     ]
    }
   ],
   "source": [
    "class BaseCourse(metaclass  = ABCMeta):\n",
    "    \n",
    "    def __init__(self):\n",
    "        \n",
    "        print(\"Base Class\")\n",
    "        \n",
    "    @abstractmethod\n",
    "    def inscope(self) -> str:\n",
    "        pass\n",
    "    \n",
    "        \n",
    "BaseCourse()"
   ]
  },
  {
   "cell_type": "markdown",
   "metadata": {},
   "source": [
    "### Build and instantiate implemented course "
   ]
  },
  {
   "cell_type": "code",
   "execution_count": null,
   "metadata": {},
   "outputs": [],
   "source": [
    "class Course(BaseCourse):\n",
    "    \n",
    "    def __init__(self):\n",
    "        \n",
    "        print(\"Implemented Class\")\n",
    "        \n",
    "    def inscope(self) -> str:\n",
    "        \n",
    "        if self._course == \"History\":\n",
    "            \n",
    "            return \"Out of Scope\"\n",
    "        \n",
    "        else:\n",
    "            return \"In Scope\"\n",
    "        \n",
    "    @property\n",
    "    def course(self):\n",
    "        return self._course\n",
    "    \n",
    "    @course.setter\n",
    "    def course(self, coursename):\n",
    "        self._course = coursename\n",
    "    \n",
    "course = Course()\n",
    "course.course = \"History\"\n",
    "course.inscope()"
   ]
  }
 ],
 "metadata": {
  "kernelspec": {
   "display_name": "Python 3 (ipykernel)",
   "language": "python",
   "name": "python3"
  },
  "language_info": {
   "codemirror_mode": {
    "name": "ipython",
    "version": 3
   },
   "file_extension": ".py",
   "mimetype": "text/x-python",
   "name": "python",
   "nbconvert_exporter": "python",
   "pygments_lexer": "ipython3",
   "version": "3.8.5"
  }
 },
 "nbformat": 4,
 "nbformat_minor": 4
}
