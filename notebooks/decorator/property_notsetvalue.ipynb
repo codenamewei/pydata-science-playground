{
 "cells": [
  {
   "cell_type": "markdown",
   "id": "444946f7-46e1-40be-a7dd-4cb4a91cec7c",
   "metadata": {},
   "source": [
    "### variable with _ and @property can be used to imply no changing values to variable"
   ]
  },
  {
   "cell_type": "code",
   "execution_count": 15,
   "id": "33abcb66-2737-406f-a0c5-1d4627d73764",
   "metadata": {},
   "outputs": [],
   "source": [
    "# using property class\n",
    "class Celsius:\n",
    "    def __init__(self, temperature=0):\n",
    "        self._temperature = 200\n",
    "\n",
    "    @property\n",
    "    def temperature(self):\n",
    "        print(\"Getting value...\")\n",
    "        return self._temperature\n",
    "\n",
    "#     @temperature.setter\n",
    "#     def temperature(self, value):\n",
    "#         print(\"Setting value...\")\n",
    "#         if value < -273.15:\n",
    "#             raise ValueError(\"Temperature below -273.15 is not possible\")\n",
    "#         self._temperature = value"
   ]
  },
  {
   "cell_type": "code",
   "execution_count": 16,
   "id": "ea01f696-906f-40c4-adf7-c379ceb90ef7",
   "metadata": {},
   "outputs": [
    {
     "name": "stdout",
     "output_type": "stream",
     "text": [
      "Getting value...\n",
      "200\n"
     ]
    },
    {
     "ename": "AttributeError",
     "evalue": "can't set attribute",
     "output_type": "error",
     "traceback": [
      "\u001b[1;31m---------------------------------------------------------------------------\u001b[0m",
      "\u001b[1;31mAttributeError\u001b[0m                            Traceback (most recent call last)",
      "Input \u001b[1;32mIn [16]\u001b[0m, in \u001b[0;36m<cell line: 5>\u001b[1;34m()\u001b[0m\n\u001b[0;32m      1\u001b[0m temp \u001b[38;5;241m=\u001b[39m Celsius()\n\u001b[0;32m      3\u001b[0m \u001b[38;5;28mprint\u001b[39m(temp\u001b[38;5;241m.\u001b[39mtemperature)\n\u001b[1;32m----> 5\u001b[0m temp\u001b[38;5;241m.\u001b[39mtemperature \u001b[38;5;241m=\u001b[39m \u001b[38;5;241m-\u001b[39m\u001b[38;5;241m100\u001b[39m\n",
      "\u001b[1;31mAttributeError\u001b[0m: can't set attribute"
     ]
    }
   ],
   "source": [
    "temp = Celsius()\n",
    "\n",
    "print(temp.temperature)\n",
    "\n",
    "temp.temperature = -100"
   ]
  },
  {
   "cell_type": "markdown",
   "id": "53fd2630-f403-4262-94ad-616be9b51cbc",
   "metadata": {},
   "source": [
    "### While its not allowed, the internal variable still might be called to change value"
   ]
  },
  {
   "cell_type": "code",
   "execution_count": 17,
   "id": "328c61bc-6794-415b-bce6-8ee33c11e2cf",
   "metadata": {},
   "outputs": [
    {
     "name": "stdout",
     "output_type": "stream",
     "text": [
      "Getting value...\n",
      "-100\n"
     ]
    }
   ],
   "source": [
    "temp._temperature = -100\n",
    "\n",
    "print(temp.temperature)"
   ]
  }
 ],
 "metadata": {
  "kernelspec": {
   "display_name": "Python 3 (ipykernel)",
   "language": "python",
   "name": "python3"
  },
  "language_info": {
   "codemirror_mode": {
    "name": "ipython",
    "version": 3
   },
   "file_extension": ".py",
   "mimetype": "text/x-python",
   "name": "python",
   "nbconvert_exporter": "python",
   "pygments_lexer": "ipython3",
   "version": "3.8.5"
  }
 },
 "nbformat": 4,
 "nbformat_minor": 5
}
