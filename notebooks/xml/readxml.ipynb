{
 "cells": [
  {
   "cell_type": "code",
   "execution_count": 27,
   "id": "73258420-4f20-4160-9878-a4812cf88018",
   "metadata": {},
   "outputs": [
    {
     "data": {
      "text/plain": [
       "<filename>maksssksksss141.png</filename>"
      ]
     },
     "execution_count": 27,
     "metadata": {},
     "output_type": "execute_result"
    }
   ],
   "source": [
    "from bs4 import BeautifulSoup\n",
    " \n",
    " \n",
    "# Reading the data inside the xml\n",
    "# file to a variable under the name\n",
    "# data\n",
    "with open('dict.xml', 'r') as f:\n",
    "    data = f.read()\n",
    " \n",
    "# Passing the stored data inside\n",
    "# the beautifulsoup parser, storing\n",
    "# the returned object\n",
    "data = BeautifulSoup(data, \"xml\")\n",
    " \n",
    "data.filename"
   ]
  },
  {
   "cell_type": "code",
   "execution_count": 50,
   "id": "ea603342-d0af-421d-b4e6-55ae506d3756",
   "metadata": {},
   "outputs": [],
   "source": [
    "data.get('size')\n"
   ]
  },
  {
   "cell_type": "code",
   "execution_count": null,
   "id": "ecd01656-2c36-48d0-90b7-362454925fcd",
   "metadata": {},
   "outputs": [],
   "source": []
  }
 ],
 "metadata": {
  "kernelspec": {
   "display_name": "Python 3 (ipykernel)",
   "language": "python",
   "name": "python3"
  },
  "language_info": {
   "codemirror_mode": {
    "name": "ipython",
    "version": 3
   },
   "file_extension": ".py",
   "mimetype": "text/x-python",
   "name": "python",
   "nbconvert_exporter": "python",
   "pygments_lexer": "ipython3",
   "version": "3.8.5"
  }
 },
 "nbformat": 4,
 "nbformat_minor": 5
}
