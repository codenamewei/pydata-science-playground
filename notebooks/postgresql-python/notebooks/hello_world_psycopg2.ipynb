{
 "cells": [
  {
   "cell_type": "code",
   "execution_count": 10,
   "source": [
    "# coding: utf-8\r\n",
    "\r\n",
    "# # Using PostgreSQL in Python (with Psycopg2)\r\n",
    "# \r\n",
    "# ### Psycopg2\r\n",
    "# \r\n",
    "# A library that allows Python to connect to an existing PostgreSQL database to utilize SQL functionality.\r\n",
    "# \r\n",
    "# #### Documentation\r\n",
    "#  * http://initd.org/psycopg/docs/install.html\r\n",
    "# \r\n",
    "\r\n",
    "\r\n",
    "\r\n",
    "# After installing with pip install psycopg2\r\n",
    "import psycopg2 as pg2\r\n",
    "\r\n",
    "\r\n",
    "# Create a connection with PostgreSQL\r\n",
    "# 'password' is whatever password you set, we set password in the install video\r\n",
    "conn = pg2.connect(database='dvdrental', user='postgres', password='2222')\r\n",
    "\r\n",
    "# Establish connection and start cursor to be ready to query\r\n",
    "cur = conn.cursor()\r\n",
    "\r\n",
    "# Pass in a PostgreSQL query as a string\r\n",
    "cur.execute(\"SELECT * FROM hero\")\r\n",
    "\r\n",
    "# Return a tuple of the first row as Python objects\r\n",
    "# To save and index results, assign it to a variable\r\n",
    "data = cur.fetchone()\r\n",
    "\r\n",
    "# Return N number of rows\r\n",
    "cur.fetchmany(10)\r\n",
    "\r\n",
    "# Return All rows at once\r\n",
    "cur.fetchall()\r\n",
    "\r\n",
    "print(data)\r\n",
    "\r\n",
    "# commit the changes to the database\r\n",
    "conn.commit()\r\n",
    "\r\n",
    "# Don't forget to close the connection!\r\n",
    "# killing the kernel or shutting down juptyer will also close it\r\n",
    "conn.close()"
   ],
   "outputs": [
    {
     "output_type": "stream",
     "name": "stdout",
     "text": [
      "(1, 100, \"abc'def\")\n"
     ]
    }
   ],
   "metadata": {}
  },
  {
   "cell_type": "code",
   "execution_count": null,
   "source": [],
   "outputs": [],
   "metadata": {}
  }
 ],
 "metadata": {
  "kernelspec": {
   "name": "python3",
   "display_name": "Python 3.9.7 64-bit ('postgres2-playground': conda)"
  },
  "language_info": {
   "codemirror_mode": {
    "name": "ipython",
    "version": 3
   },
   "file_extension": ".py",
   "mimetype": "text/x-python",
   "name": "python",
   "nbconvert_exporter": "python",
   "pygments_lexer": "ipython3",
   "version": "3.9.7"
  },
  "interpreter": {
   "hash": "86c98f0625fff1e02c8ffd1a28bef86f43c6d2e684a49ae7ca0c79ac1090975e"
  }
 },
 "nbformat": 4,
 "nbformat_minor": 4
}