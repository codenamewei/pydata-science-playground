{
 "cells": [
  {
   "cell_type": "markdown",
   "metadata": {},
   "source": [
    "### Connect with psycopg2"
   ]
  },
  {
   "cell_type": "code",
   "execution_count": 2,
   "metadata": {},
   "outputs": [],
   "source": [
    "# Note: the module name is psycopg, not psycopg3\n",
    "import psycopg2 \n",
    "\n",
    "# connect to an existing database\n",
    "# https://www.psycopg.org/psycopg3/docs/api/connections.html#psycopg.Connection.execute\n",
    "conn = psycopg2.connect(\n",
    "    user=\"postgres\",\n",
    "    password=\"password\",\n",
    "    host=\"database.cosqamqjez6h.ap-northeast-2.rds.amazonaws.com\",\n",
    "    port='5432'\n",
    ")\n",
    "\n",
    "# open a cursor to perform database operations\n",
    "cur = conn.cursor()"
   ]
  },
  {
   "cell_type": "code",
   "execution_count": 2,
   "metadata": {},
   "outputs": [],
   "source": [
    "# execute a command: this creates a new table\n",
    "cur.execute(\"\"\"\n",
    "CREATE TABLE hero(\n",
    "    id serial PRIMARY KEY, \n",
    "    num integer, \n",
    "    data text\n",
    ")\n",
    "\"\"\")"
   ]
  },
  {
   "cell_type": "code",
   "execution_count": 3,
   "metadata": {},
   "outputs": [],
   "source": [
    "# pass data to fill a query placeholders and let psycopg perform the current conversion (no SQL injections)\n",
    "cur.execute(\"INSERT INTO hero (num, data) VALUES (%s, %s)\", (100, \"abc'def\"))\n",
    "cur.execute(\"INSERT INTO hero (num, data) VALUES (%s, %s)\", (200, \"abc'def\"))\n",
    "cur.execute(\"INSERT INTO hero (num, data) VALUES (%s, %s)\", (300, \"abc'def\"))"
   ]
  },
  {
   "cell_type": "code",
   "execution_count": 4,
   "metadata": {},
   "outputs": [],
   "source": [
    "# query the databaseand obtain data as python objects\n",
    "cur.execute(\"SELECT * FROM hero\")"
   ]
  },
  {
   "cell_type": "code",
   "execution_count": 5,
   "metadata": {},
   "outputs": [
    {
     "data": {
      "text/plain": [
       "[(1, 100, \"abc'def\"), (2, 200, \"abc'def\"), (3, 300, \"abc'def\")]"
      ]
     },
     "execution_count": 5,
     "metadata": {},
     "output_type": "execute_result"
    }
   ],
   "source": [
    "value = cur.fetchall()\n",
    "\n",
    "value"
   ]
  },
  {
   "cell_type": "code",
   "execution_count": null,
   "metadata": {},
   "outputs": [],
   "source": [
    "conn.commit()"
   ]
  },
  {
   "cell_type": "code",
   "execution_count": 6,
   "metadata": {},
   "outputs": [],
   "source": [
    "cur.close()"
   ]
  },
  {
   "cell_type": "code",
   "execution_count": null,
   "metadata": {},
   "outputs": [],
   "source": []
  }
 ],
 "metadata": {
  "kernelspec": {
   "display_name": "Python 3 (ipykernel)",
   "language": "python",
   "name": "python3"
  },
  "language_info": {
   "codemirror_mode": {
    "name": "ipython",
    "version": 3
   },
   "file_extension": ".py",
   "mimetype": "text/x-python",
   "name": "python",
   "nbconvert_exporter": "python",
   "pygments_lexer": "ipython3",
   "version": "3.9.7"
  }
 },
 "nbformat": 4,
 "nbformat_minor": 4
}
