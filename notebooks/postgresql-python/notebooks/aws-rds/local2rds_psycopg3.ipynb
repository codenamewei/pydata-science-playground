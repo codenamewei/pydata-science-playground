{
 "cells": [
  {
   "cell_type": "markdown",
   "metadata": {},
   "source": [
    "### Connect with psycopg3"
   ]
  },
  {
   "cell_type": "code",
   "execution_count": 1,
   "metadata": {},
   "outputs": [],
   "source": [
    "# Note: the module name is psycopg, not psycopg3\n",
    "import psycopg \n",
    "\n",
    "# connect to an existing database\n",
    "# https://www.psycopg.org/psycopg3/docs/api/connections.html#psycopg.Connection.execute\n",
    "conn = psycopg.connect(\n",
    "    user=\"postgres\",\n",
    "    password=\"password\",\n",
    "    host=\"database.cosqamqjez6h.ap-northeast-2.rds.amazonaws.com\",\n",
    "    port='5432',\n",
    "    autocommit = True\n",
    ")\n",
    "\n",
    "# open a cursor to perform database operations\n",
    "cur = conn.cursor()"
   ]
  },
  {
   "cell_type": "code",
   "execution_count": 2,
   "metadata": {},
   "outputs": [
    {
     "ename": "DuplicateTable",
     "evalue": "relation \"hero\" already exists",
     "output_type": "error",
     "traceback": [
      "\u001b[1;31m---------------------------------------------------------------------------\u001b[0m",
      "\u001b[1;31mDuplicateTable\u001b[0m                            Traceback (most recent call last)",
      "\u001b[1;32m~\\AppData\\Local\\Temp\\1/ipykernel_19268/137415731.py\u001b[0m in \u001b[0;36m<module>\u001b[1;34m\u001b[0m\n\u001b[0;32m      1\u001b[0m \u001b[1;31m# execute a command: this creates a new table\u001b[0m\u001b[1;33m\u001b[0m\u001b[1;33m\u001b[0m\u001b[0m\n\u001b[1;32m----> 2\u001b[1;33m cur.execute(\"\"\"\n\u001b[0m\u001b[0;32m      3\u001b[0m CREATE TABLE hero(\n\u001b[0;32m      4\u001b[0m     \u001b[0mid\u001b[0m \u001b[0mserial\u001b[0m \u001b[0mPRIMARY\u001b[0m \u001b[0mKEY\u001b[0m\u001b[1;33m,\u001b[0m\u001b[1;33m\u001b[0m\u001b[1;33m\u001b[0m\u001b[0m\n\u001b[0;32m      5\u001b[0m     \u001b[0mnum\u001b[0m \u001b[0minteger\u001b[0m\u001b[1;33m,\u001b[0m\u001b[1;33m\u001b[0m\u001b[1;33m\u001b[0m\u001b[0m\n",
      "\u001b[1;32m~\\.conda\\envs\\ko-ecom\\lib\\site-packages\\psycopg\\cursor.py\u001b[0m in \u001b[0;36mexecute\u001b[1;34m(self, query, params, prepare, binary)\u001b[0m\n\u001b[0;32m    726\u001b[0m                 )\n\u001b[0;32m    727\u001b[0m         \u001b[1;32mexcept\u001b[0m \u001b[0me\u001b[0m\u001b[1;33m.\u001b[0m\u001b[0mError\u001b[0m \u001b[1;32mas\u001b[0m \u001b[0mex\u001b[0m\u001b[1;33m:\u001b[0m\u001b[1;33m\u001b[0m\u001b[1;33m\u001b[0m\u001b[0m\n\u001b[1;32m--> 728\u001b[1;33m             \u001b[1;32mraise\u001b[0m \u001b[0mex\u001b[0m\u001b[1;33m.\u001b[0m\u001b[0mwith_traceback\u001b[0m\u001b[1;33m(\u001b[0m\u001b[1;32mNone\u001b[0m\u001b[1;33m)\u001b[0m\u001b[1;33m\u001b[0m\u001b[1;33m\u001b[0m\u001b[0m\n\u001b[0m\u001b[0;32m    729\u001b[0m         \u001b[1;32mreturn\u001b[0m \u001b[0mself\u001b[0m\u001b[1;33m\u001b[0m\u001b[1;33m\u001b[0m\u001b[0m\n\u001b[0;32m    730\u001b[0m \u001b[1;33m\u001b[0m\u001b[0m\n",
      "\u001b[1;31mDuplicateTable\u001b[0m: relation \"hero\" already exists"
     ]
    }
   ],
   "source": [
    "# execute a command: this creates a new table\n",
    "cur.execute(\"\"\"\n",
    "CREATE TABLE hero(\n",
    "    id serial PRIMARY KEY, \n",
    "    num integer, \n",
    "    data text\n",
    ")\n",
    "\"\"\")"
   ]
  },
  {
   "cell_type": "code",
   "execution_count": 3,
   "metadata": {},
   "outputs": [
    {
     "data": {
      "text/plain": [
       "<psycopg.Cursor [COMMAND_OK] [IDLE] (host=database.cosqamqjez6h.ap-northeast-2.rds.amazonaws.com database=postgres) at 0x1f71ea4d670>"
      ]
     },
     "execution_count": 3,
     "metadata": {},
     "output_type": "execute_result"
    }
   ],
   "source": [
    "# pass data to fill a query placeholders and let psycopg perform the current conversion (no SQL injections)\n",
    "cur.execute(\"INSERT INTO hero (num, data) VALUES (%s, %s)\", (1100, \"abc'def\"))\n",
    "cur.execute(\"INSERT INTO hero (num, data) VALUES (%s, %s)\", (1200, \"abc'def\"))\n",
    "cur.execute(\"INSERT INTO hero (num, data) VALUES (%s, %s)\", (1300, \"abc'def\"))"
   ]
  },
  {
   "cell_type": "code",
   "execution_count": 4,
   "metadata": {},
   "outputs": [
    {
     "data": {
      "text/plain": [
       "<psycopg.Cursor [TUPLES_OK] [IDLE] (host=database.cosqamqjez6h.ap-northeast-2.rds.amazonaws.com database=postgres) at 0x1f71ea4d670>"
      ]
     },
     "execution_count": 4,
     "metadata": {},
     "output_type": "execute_result"
    }
   ],
   "source": [
    "# query the databaseand obtain data as python objects\n",
    "cur.execute(\"SELECT * FROM hero\")"
   ]
  },
  {
   "cell_type": "code",
   "execution_count": 5,
   "metadata": {},
   "outputs": [
    {
     "data": {
      "text/plain": [
       "[(1, 400, \"abc'def\"),\n",
       " (2, 500, \"abc'def\"),\n",
       " (3, 600, \"abc'def\"),\n",
       " (4, 400, \"abc'def\"),\n",
       " (5, 500, \"abc'def\"),\n",
       " (6, 600, \"abc'def\"),\n",
       " (7, 700, \"abc'def\"),\n",
       " (8, 800, \"abc'def\"),\n",
       " (9, 900, \"abc'def\"),\n",
       " (10, 1100, \"abc'def\"),\n",
       " (11, 1200, \"abc'def\"),\n",
       " (12, 1300, \"abc'def\")]"
      ]
     },
     "execution_count": 5,
     "metadata": {},
     "output_type": "execute_result"
    }
   ],
   "source": [
    "value = cur.fetchall()\n",
    "\n",
    "value"
   ]
  },
  {
   "cell_type": "code",
   "execution_count": null,
   "metadata": {},
   "outputs": [],
   "source": [
    "conn.commit()"
   ]
  },
  {
   "cell_type": "code",
   "execution_count": null,
   "metadata": {},
   "outputs": [],
   "source": [
    "cur.close()"
   ]
  }
 ],
 "metadata": {
  "kernelspec": {
   "display_name": "Python 3 (ipykernel)",
   "language": "python",
   "name": "python3"
  },
  "language_info": {
   "codemirror_mode": {
    "name": "ipython",
    "version": 3
   },
   "file_extension": ".py",
   "mimetype": "text/x-python",
   "name": "python",
   "nbconvert_exporter": "python",
   "pygments_lexer": "ipython3",
   "version": "3.9.7"
  }
 },
 "nbformat": 4,
 "nbformat_minor": 4
}
