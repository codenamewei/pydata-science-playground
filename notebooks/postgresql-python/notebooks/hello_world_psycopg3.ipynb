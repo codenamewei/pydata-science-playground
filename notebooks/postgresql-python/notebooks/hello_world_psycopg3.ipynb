{
 "cells": [
  {
   "cell_type": "code",
   "execution_count": 1,
   "source": [
    "# Note: the module name is psycopg, not psycopg3\r\n",
    "import psycopg  "
   ],
   "outputs": [],
   "metadata": {}
  },
  {
   "cell_type": "code",
   "execution_count": 14,
   "source": [
    "# connect to an existing database\r\n",
    "\r\n",
    "conn = psycopg.connect(\"dbname=dvdrental user=postgres password=2222\")\r\n",
    "\r\n",
    "# open a cursor to perform database operations\r\n",
    "cur = conn.cursor()"
   ],
   "outputs": [],
   "metadata": {}
  },
  {
   "cell_type": "code",
   "execution_count": 11,
   "source": [
    "# execute a command: this creates a new table\r\n",
    "cur.execute(\"\"\"\r\n",
    "CREATE TABLE hero(\r\n",
    "    id serial PRIMARY KEY, \r\n",
    "    num integer, \r\n",
    "    data text\r\n",
    ")\r\n",
    "\"\"\")"
   ],
   "outputs": [
    {
     "output_type": "error",
     "ename": "DuplicateTable",
     "evalue": "relation \"hero\" already exists",
     "traceback": [
      "\u001b[1;31m---------------------------------------------------------------------------\u001b[0m",
      "\u001b[1;31mDuplicateTable\u001b[0m                            Traceback (most recent call last)",
      "\u001b[1;32mC:\\Users\\CODENA~1\\AppData\\Local\\Temp/ipykernel_23952/1020038918.py\u001b[0m in \u001b[0;36m<module>\u001b[1;34m\u001b[0m\n\u001b[0;32m      1\u001b[0m \u001b[1;31m# execute a command: this creates a new table\u001b[0m\u001b[1;33m\u001b[0m\u001b[1;33m\u001b[0m\u001b[0m\n\u001b[1;32m----> 2\u001b[1;33m cur.execute(\"\"\"\n\u001b[0m\u001b[0;32m      3\u001b[0m CREATE TABLE hero(\n\u001b[0;32m      4\u001b[0m     \u001b[0mid\u001b[0m \u001b[0mserial\u001b[0m \u001b[0mPRIMARY\u001b[0m \u001b[0mKEY\u001b[0m\u001b[1;33m,\u001b[0m\u001b[1;33m\u001b[0m\u001b[1;33m\u001b[0m\u001b[0m\n\u001b[0;32m      5\u001b[0m     \u001b[0mnum\u001b[0m \u001b[0minteger\u001b[0m\u001b[1;33m,\u001b[0m\u001b[1;33m\u001b[0m\u001b[1;33m\u001b[0m\u001b[0m\n",
      "\u001b[1;32m~\\.conda\\envs\\postgres-playground\\lib\\site-packages\\psycopg\\cursor.py\u001b[0m in \u001b[0;36mexecute\u001b[1;34m(self, query, params, prepare, binary)\u001b[0m\n\u001b[0;32m    553\u001b[0m                 )\n\u001b[0;32m    554\u001b[0m         \u001b[1;32mexcept\u001b[0m \u001b[0me\u001b[0m\u001b[1;33m.\u001b[0m\u001b[0mError\u001b[0m \u001b[1;32mas\u001b[0m \u001b[0mex\u001b[0m\u001b[1;33m:\u001b[0m\u001b[1;33m\u001b[0m\u001b[1;33m\u001b[0m\u001b[0m\n\u001b[1;32m--> 555\u001b[1;33m             \u001b[1;32mraise\u001b[0m \u001b[0mex\u001b[0m\u001b[1;33m.\u001b[0m\u001b[0mwith_traceback\u001b[0m\u001b[1;33m(\u001b[0m\u001b[1;32mNone\u001b[0m\u001b[1;33m)\u001b[0m\u001b[1;33m\u001b[0m\u001b[1;33m\u001b[0m\u001b[0m\n\u001b[0m\u001b[0;32m    556\u001b[0m         \u001b[1;32mreturn\u001b[0m \u001b[0mself\u001b[0m\u001b[1;33m\u001b[0m\u001b[1;33m\u001b[0m\u001b[0m\n\u001b[0;32m    557\u001b[0m \u001b[1;33m\u001b[0m\u001b[0m\n",
      "\u001b[1;31mDuplicateTable\u001b[0m: relation \"hero\" already exists"
     ]
    }
   ],
   "metadata": {}
  },
  {
   "cell_type": "code",
   "execution_count": 17,
   "source": [
    "# pass data to fill a query placeholders and let psycopg perform the current conversion (no SQL injections)\r\n",
    "cur.execute(\"INSERT INTO hero (num, data) VALUES (%s, %s)\", (100, \"abc'def\"))\r\n",
    "cur.execute(\"INSERT INTO hero (num, data) VALUES (%s, %s)\", (200, \"abc'def\"))\r\n",
    "cur.execute(\"INSERT INTO hero (num, data) VALUES (%s, %s)\", (300, \"abc'def\"))"
   ],
   "outputs": [
    {
     "output_type": "execute_result",
     "data": {
      "text/plain": [
       "<psycopg.Cursor [COMMAND_OK] [INTRANS] (host=localhost user=postgres database=dvdrental) at 0x1e1d6771400>"
      ]
     },
     "metadata": {},
     "execution_count": 17
    }
   ],
   "metadata": {}
  },
  {
   "cell_type": "code",
   "execution_count": 24,
   "source": [
    "# query the databaseand obtain data as python objects\r\n",
    "cur.execute(\"SELECT * FROM hero\")\r\n",
    "\r\n",
    "#cur.fetchone()\r\n",
    "#cur.fetchmany(n)\r\n",
    "#cur.fetchall()\r\n",
    "value = cur.fetchall()\r\n",
    "\r\n",
    "print(value)\r\n",
    "\r\n",
    "# possible to iterate on the cursor\r\n",
    "for record in value:\r\n",
    "    print(record)\r\n",
    "\r\n",
    "# commit the changes to the database, terminate transactions using the methods commit()\r\n",
    "conn.commit()"
   ],
   "outputs": [
    {
     "output_type": "stream",
     "name": "stdout",
     "text": [
      "[(1, 100, \"abc'def\"), (2, 100, \"abc'def\"), (3, 200, \"abc'def\"), (4, 300, \"abc'def\")]\n",
      "(1, 100, \"abc'def\")\n",
      "(2, 100, \"abc'def\")\n",
      "(3, 200, \"abc'def\")\n",
      "(4, 300, \"abc'def\")\n"
     ]
    }
   ],
   "metadata": {}
  },
  {
   "cell_type": "code",
   "execution_count": 13,
   "source": [
    "# Don't forget to close the connection!\r\n",
    "# killing the kernel or shutting down juptyer will also close it\r\n",
    "conn.close()"
   ],
   "outputs": [],
   "metadata": {}
  }
 ],
 "metadata": {
  "interpreter": {
   "hash": "d9c849a9acc0b67125e4c52c5ccdf37eee71d00b925fe5ba553e32c4b87a7c7e"
  },
  "kernelspec": {
   "name": "python3",
   "display_name": "Python 3.9.7 64-bit ('postgres-playground': conda)"
  },
  "language_info": {
   "codemirror_mode": {
    "name": "ipython",
    "version": 3
   },
   "file_extension": ".py",
   "mimetype": "text/x-python",
   "name": "python",
   "nbconvert_exporter": "python",
   "pygments_lexer": "ipython3",
   "version": "3.9.7"
  }
 },
 "nbformat": 4,
 "nbformat_minor": 4
}