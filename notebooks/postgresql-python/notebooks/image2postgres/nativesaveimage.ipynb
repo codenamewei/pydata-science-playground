{
 "cells": [
  {
   "cell_type": "code",
   "execution_count": 15,
   "id": "45d71be6-515f-4716-981c-42495cafcf63",
   "metadata": {},
   "outputs": [],
   "source": [
    "# Note: the module name is psycopg, not psycopg3\n",
    "import psycopg \n",
    "import os\n",
    "sampleimg = \"../../pytorch/metadata/mnist.jpg\"\n"
   ]
  },
  {
   "cell_type": "markdown",
   "id": "83fe3d8a-0880-4002-b075-0aa756369d66",
   "metadata": {},
   "source": [
    "### Load image to byte"
   ]
  },
  {
   "cell_type": "code",
   "execution_count": 16,
   "id": "ddd3a78b-63bb-4123-8f0b-a2e0c8e222e2",
   "metadata": {},
   "outputs": [
    {
     "name": "stdout",
     "output_type": "stream",
     "text": [
      "<class 'bytes'>\n"
     ]
    }
   ],
   "source": [
    "filename = \"mnist.jpg\"\n",
    "filepath = \"../../../pytorch/metadata\"\n",
    "\n",
    "absfilepath = os.path.join(filepath, filename)\n",
    "\n",
    "with open(absfilepath, \"rb\") as f:\n",
    "    imageasbytes = f.read()\n",
    "    #b = bytearray(f)\n",
    "    print(type(imageasbytes))"
   ]
  },
  {
   "cell_type": "markdown",
   "id": "f7b2f73c-c7f2-4d42-88d2-13e041d382a5",
   "metadata": {},
   "source": [
    "### Save to postgres"
   ]
  },
  {
   "cell_type": "code",
   "execution_count": 19,
   "id": "1607cbf7-909a-4530-a670-84bcea6ea55e",
   "metadata": {},
   "outputs": [],
   "source": [
    "import psycopg \n",
    "\n",
    "# connect to an existing database\n",
    "# https://www.psycopg.org/psycopg3/docs/api/connections.html#psycopg.Connection.execute\n",
    "conn = psycopg.connect(\n",
    "    user=\"postgres\",\n",
    "    password=\"password\",\n",
    "    host=\"database.cosqamqjez6h.ap-northeast-2.rds.amazonaws.com\",\n",
    "    port='5432',\n",
    "    autocommit = True\n",
    ")\n",
    "\n",
    "# open a cursor to perform database operations\n",
    "cur = conn.cursor()"
   ]
  },
  {
   "cell_type": "code",
   "execution_count": 20,
   "id": "ff2699a7-5315-4eae-9ea7-49cca3d205bb",
   "metadata": {},
   "outputs": [
    {
     "data": {
      "text/plain": [
       "<psycopg.Cursor [COMMAND_OK] [IDLE] (host=database.cosqamqjez6h.ap-northeast-2.rds.amazonaws.com database=postgres) at 0x216ff806510>"
      ]
     },
     "execution_count": 20,
     "metadata": {},
     "output_type": "execute_result"
    }
   ],
   "source": [
    "imagedict = dict(filename = filename, content = imageasbytes)\n",
    "\n",
    "cur.execute(\"\"\"INSERT INTO album (filename, content) VALUES (%(filename)s, %(content)b)\"\"\", imagedict)   "
   ]
  },
  {
   "cell_type": "code",
   "execution_count": 28,
   "id": "9d59d367-954c-4a10-9e26-fc078077dc67",
   "metadata": {},
   "outputs": [],
   "source": [
    "cur.execute(\"SELECT * FROM album\")\n",
    "\n",
    "value = cur.fetchall()\n",
    "\n",
    "returncontent = value[0][2] #string to bytes"
   ]
  },
  {
   "cell_type": "code",
   "execution_count": 29,
   "id": "2238639d-1264-41a5-9b4f-365c95dd7762",
   "metadata": {},
   "outputs": [
    {
     "name": "stdout",
     "output_type": "stream",
     "text": [
      "Done\n"
     ]
    }
   ],
   "source": [
    "writetoimg = \"mnist_out.jpg\"\n",
    "\n",
    "with open(writetoimg, \"wb\") as fileout:\n",
    "    fileout.write(returncontent)\n",
    "    print(\"Done\")"
   ]
  },
  {
   "cell_type": "code",
   "execution_count": null,
   "id": "48cb61f0-ce5b-4abc-b461-bdc298c3d478",
   "metadata": {},
   "outputs": [],
   "source": []
  }
 ],
 "metadata": {
  "kernelspec": {
   "display_name": "Python 3 (ipykernel)",
   "language": "python",
   "name": "python3"
  },
  "language_info": {
   "codemirror_mode": {
    "name": "ipython",
    "version": 3
   },
   "file_extension": ".py",
   "mimetype": "text/x-python",
   "name": "python",
   "nbconvert_exporter": "python",
   "pygments_lexer": "ipython3",
   "version": "3.8.5"
  }
 },
 "nbformat": 4,
 "nbformat_minor": 5
}
