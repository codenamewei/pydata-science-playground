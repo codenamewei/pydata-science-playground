{
 "cells": [
  {
   "cell_type": "code",
   "execution_count": null,
   "id": "45d71be6-515f-4716-981c-42495cafcf63",
   "metadata": {},
   "outputs": [],
   "source": [
    "# Note: the module name is psycopg, not psycopg3\n",
    "import psycopg \n",
    "\n",
    "sampleimg = \"../../pytorch/metadata/mnist.jpg\"\n"
   ]
  },
  {
   "cell_type": "markdown",
   "id": "83fe3d8a-0880-4002-b075-0aa756369d66",
   "metadata": {},
   "source": [
    "### Load image to byte"
   ]
  },
  {
   "cell_type": "code",
   "execution_count": null,
   "id": "ddd3a78b-63bb-4123-8f0b-a2e0c8e222e2",
   "metadata": {},
   "outputs": [],
   "source": []
  }
 ],
 "metadata": {
  "kernelspec": {
   "display_name": "Python 3 (ipykernel)",
   "language": "python",
   "name": "python3"
  },
  "language_info": {
   "codemirror_mode": {
    "name": "ipython",
    "version": 3
   },
   "file_extension": ".py",
   "mimetype": "text/x-python",
   "name": "python",
   "nbconvert_exporter": "python",
   "pygments_lexer": "ipython3",
   "version": "3.8.5"
  }
 },
 "nbformat": 4,
 "nbformat_minor": 5
}
