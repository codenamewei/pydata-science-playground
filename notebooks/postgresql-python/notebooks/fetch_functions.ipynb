{
 "cells": [
  {
   "cell_type": "code",
   "execution_count": 1,
   "id": "f2a5a366-6f37-4103-8ea4-0707ef4e0fa6",
   "metadata": {},
   "outputs": [],
   "source": [
    "import psycopg"
   ]
  },
  {
   "cell_type": "code",
   "execution_count": 2,
   "id": "21394351-7406-43cd-9493-496b2ef7fe90",
   "metadata": {},
   "outputs": [],
   "source": [
    "# connect to an existing database\n",
    "\n",
    "conn = psycopg.connect(\"dbname=dvdrental user=postgres password=2222\")\n",
    "\n",
    "# open a cursor to perform database operations\n",
    "cur = conn.cursor()"
   ]
  },
  {
   "cell_type": "code",
   "execution_count": 7,
   "id": "fdb6a3e9-c488-4308-964d-18eb4571f7e4",
   "metadata": {},
   "outputs": [
    {
     "data": {
      "text/plain": [
       "<psycopg.Cursor [TUPLES_OK] [INTRANS] (host=localhost user=postgres database=dvdrental) at 0x2299ded6250>"
      ]
     },
     "execution_count": 7,
     "metadata": {},
     "output_type": "execute_result"
    }
   ],
   "source": [
    "# execute a command: this creates a new table\n",
    "cur.execute(\"SELECT * FROM actor\")"
   ]
  },
  {
   "cell_type": "code",
   "execution_count": 8,
   "id": "cc034371-d716-449d-b86c-710c8db3d674",
   "metadata": {},
   "outputs": [
    {
     "name": "stdout",
     "output_type": "stream",
     "text": [
      "(1, 'Penelope', 'Guiness', datetime.datetime(2013, 5, 26, 14, 47, 57, 620000))\n",
      "1\n",
      "Penelope\n",
      "Guiness\n",
      "2013-05-26 14:47:57.620000\n"
     ]
    }
   ],
   "source": [
    "#cur.fetchone()\n",
    "#cur.fetchmany(n)\n",
    "#cur.fetchall()\n",
    "value = cur.fetchone()\n",
    "\n",
    "print(value)\n",
    "\n",
    "# possible to iterate on the cursor\n",
    "for record in value:\n",
    "    print(record)\n",
    "\n",
    "# commit the changes to the database, terminate transactions using the methods commit()\n",
    "conn.commit()"
   ]
  },
  {
   "cell_type": "code",
   "execution_count": null,
   "id": "7f6c0822-88a0-49ed-8424-acd7ac488798",
   "metadata": {},
   "outputs": [],
   "source": []
  }
 ],
 "metadata": {
  "kernelspec": {
   "display_name": "Python 3 (ipykernel)",
   "language": "python",
   "name": "python3"
  },
  "language_info": {
   "codemirror_mode": {
    "name": "ipython",
    "version": 3
   },
   "file_extension": ".py",
   "mimetype": "text/x-python",
   "name": "python",
   "nbconvert_exporter": "python",
   "pygments_lexer": "ipython3",
   "version": "3.8.5"
  }
 },
 "nbformat": 4,
 "nbformat_minor": 5
}
