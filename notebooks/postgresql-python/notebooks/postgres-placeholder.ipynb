{
 "cells": [
  {
   "cell_type": "code",
   "execution_count": null,
   "id": "d089e9d1-b643-4854-970b-264fdb034e2e",
   "metadata": {},
   "outputs": [],
   "source": [
    "### References\n",
    "\n",
    "- https://wiki.postgresql.org/wiki/Psycopg2_Tutorial"
   ]
  },
  {
   "cell_type": "code",
   "execution_count": 3,
   "id": "7939b10b-142b-4cc7-8439-5cd973400c12",
   "metadata": {},
   "outputs": [],
   "source": [
    "import psycopg\n",
    "\n",
    "# connect to an existing database\n",
    "\n",
    "try:\n",
    "    conn = psycopg.connect(\n",
    "        user=\"postgres\",\n",
    "        password=\"password\",\n",
    "        host=\"database.cosqamqjez6h.ap-northeast-2.rds.amazonaws.com\",\n",
    "        port='5432',\n",
    "        autocommit = True\n",
    "    )\n",
    "\n",
    "except:\n",
    "    \n",
    "    raise Exception(\"Failed to connect to database\")\n",
    "\n",
    "# open a cursor to perform database operations\n",
    "cur = conn.cursor()"
   ]
  },
  {
   "cell_type": "code",
   "execution_count": null,
   "id": "9ee82f55-2489-476c-9f7c-34b7cfe6aca6",
   "metadata": {},
   "outputs": [],
   "source": []
  }
 ],
 "metadata": {
  "kernelspec": {
   "display_name": "Python 3 (ipykernel)",
   "language": "python",
   "name": "python3"
  },
  "language_info": {
   "codemirror_mode": {
    "name": "ipython",
    "version": 3
   },
   "file_extension": ".py",
   "mimetype": "text/x-python",
   "name": "python",
   "nbconvert_exporter": "python",
   "pygments_lexer": "ipython3",
   "version": "3.8.5"
  }
 },
 "nbformat": 4,
 "nbformat_minor": 5
}
