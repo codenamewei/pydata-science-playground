{
 "cells": [
  {
   "cell_type": "code",
   "execution_count": 1,
   "id": "c0c4edf9-66a5-4f0d-b6f3-9afb1b83cafa",
   "metadata": {},
   "outputs": [],
   "source": [
    "# Note: the module name is psycopg, not psycopg3\n",
    "import psycopg \n",
    "\n",
    "# connect to an existing database\n",
    "# https://www.psycopg.org/psycopg3/docs/api/connections.html#psycopg.Connection.execute\n",
    "conn = psycopg.connect(\n",
    "    user=\"postgres\",\n",
    "    password=\"password\",\n",
    "    host=\"database.cosqamqjez6h.ap-northeast-2.rds.amazonaws.com\",\n",
    "    port='5432',\n",
    "    autocommit = True\n",
    ")\n",
    "\n",
    "# open a cursor to perform database operations\n",
    "cur = conn.cursor()"
   ]
  },
  {
   "cell_type": "markdown",
   "id": "e8c80ebb-9f5c-470c-8646-b6868528f33a",
   "metadata": {},
   "source": [
    "### Create table with 3 info\n",
    "- id : int(serial PRIMARY KEY)\n",
    "- filename : str(text)\n",
    "- content : bytea"
   ]
  },
  {
   "cell_type": "code",
   "execution_count": 2,
   "id": "a700ce24-6978-45b5-ae32-986bb1669270",
   "metadata": {},
   "outputs": [
    {
     "data": {
      "text/plain": [
       "<psycopg.Cursor [COMMAND_OK] [IDLE] (host=database.cosqamqjez6h.ap-northeast-2.rds.amazonaws.com database=postgres) at 0x229ba484930>"
      ]
     },
     "execution_count": 2,
     "metadata": {},
     "output_type": "execute_result"
    }
   ],
   "source": [
    "# execute a command: this creates a new table\n",
    "cur.execute(\"\"\"\n",
    "CREATE TABLE videostream(\n",
    "    id serial PRIMARY KEY, \n",
    "    filename text, \n",
    "    content bytea\n",
    ")\n",
    "\"\"\")"
   ]
  },
  {
   "cell_type": "code",
   "execution_count": 3,
   "id": "b3fc1c50-07fa-46ab-9065-ce50a832b7a1",
   "metadata": {},
   "outputs": [
    {
     "data": {
      "text/plain": [
       "[]"
      ]
     },
     "execution_count": 3,
     "metadata": {},
     "output_type": "execute_result"
    }
   ],
   "source": [
    "# query the databaseand obtain data as python objects\n",
    "cur.execute(\"SELECT * FROM videostream\")\n",
    "\n",
    "value = cur.fetchall()\n",
    "\n",
    "value"
   ]
  },
  {
   "cell_type": "code",
   "execution_count": 4,
   "id": "d09d81da-c00a-45b9-8968-29f1f95f4b31",
   "metadata": {},
   "outputs": [],
   "source": [
    "cur.close()"
   ]
  }
 ],
 "metadata": {
  "kernelspec": {
   "display_name": "Python 3 (ipykernel)",
   "language": "python",
   "name": "python3"
  },
  "language_info": {
   "codemirror_mode": {
    "name": "ipython",
    "version": 3
   },
   "file_extension": ".py",
   "mimetype": "text/x-python",
   "name": "python",
   "nbconvert_exporter": "python",
   "pygments_lexer": "ipython3",
   "version": "3.8.5"
  }
 },
 "nbformat": 4,
 "nbformat_minor": 5
}
