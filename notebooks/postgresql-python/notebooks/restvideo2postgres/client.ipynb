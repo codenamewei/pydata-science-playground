{
 "cells": [
  {
   "cell_type": "markdown",
   "id": "cf136c3f-1982-4af9-b19b-303fb3cc86c1",
   "metadata": {},
   "source": [
    "### Client to receive image via base64 and save it"
   ]
  },
  {
   "cell_type": "code",
   "execution_count": 3,
   "id": "1c7b7485-ef4f-48f9-b2b2-2aee736bcb5c",
   "metadata": {},
   "outputs": [
    {
     "name": "stderr",
     "output_type": "stream",
     "text": [
      "C:\\Users\\codenamewei\\.conda\\envs\\face-meeting\\lib\\site-packages\\requests\\__init__.py:102: RequestsDependencyWarning: urllib3 (1.26.9) or chardet (5.1.0)/charset_normalizer (2.0.4) doesn't match a supported version!\n",
      "  warnings.warn(\"urllib3 ({}) or chardet ({})/charset_normalizer ({}) doesn't match a supported \"\n"
     ]
    }
   ],
   "source": [
    "import requests\n",
    "import base64"
   ]
  },
  {
   "cell_type": "code",
   "execution_count": 4,
   "id": "414188a6-1b70-4009-8868-b0f5ffd06af7",
   "metadata": {},
   "outputs": [],
   "source": [
    "url = \"http://127.0.0.1:8000/video/chiawei_short2.mp4\"\n",
    "filenameout = \"temp_out.mp4\""
   ]
  },
  {
   "cell_type": "code",
   "execution_count": 5,
   "id": "2e19d368-5ae5-46f8-b731-7c37b1ff9220",
   "metadata": {},
   "outputs": [
    {
     "name": "stdout",
     "output_type": "stream",
     "text": [
      "Video sucessfully Downloaded:  temp_out.mp4\n"
     ]
    }
   ],
   "source": [
    "# stream: True: by adding this second argument in guarantees no interruptions will occur when the method is running.\n",
    "res = requests.get(url, stream = True)\n",
    "\n",
    "if res.status_code == 200:\n",
    "    \n",
    "    with open(filenameout, \"wb\") as fileout:\n",
    "        videoasbase64 = res.json()[\"contents\"]\n",
    "        fileout.write(base64.b64decode(videoasbase64))\n",
    "        print('Video sucessfully Downloaded: ',filenameout)\n",
    "else:\n",
    "    print('Video Couldn\\'t be retrieved')"
   ]
  },
  {
   "cell_type": "code",
   "execution_count": null,
   "id": "51499f64-7936-4c88-baba-56ea9873e917",
   "metadata": {},
   "outputs": [],
   "source": []
  }
 ],
 "metadata": {
  "kernelspec": {
   "display_name": "Python 3 (ipykernel)",
   "language": "python",
   "name": "python3"
  },
  "language_info": {
   "codemirror_mode": {
    "name": "ipython",
    "version": 3
   },
   "file_extension": ".py",
   "mimetype": "text/x-python",
   "name": "python",
   "nbconvert_exporter": "python",
   "pygments_lexer": "ipython3",
   "version": "3.8.5"
  }
 },
 "nbformat": 4,
 "nbformat_minor": 5
}
