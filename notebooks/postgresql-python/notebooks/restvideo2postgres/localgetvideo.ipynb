{
 "cells": [
  {
   "cell_type": "code",
   "execution_count": 1,
   "id": "fc2490ca-dcc5-4d77-94d3-72b25ea9fef8",
   "metadata": {},
   "outputs": [],
   "source": [
    "import psycopg \n",
    "\n",
    "# connect to an existing database\n",
    "# https://www.psycopg.org/psycopg3/docs/api/connections.html#psycopg.Connection.execute\n",
    "conn = psycopg.connect(\n",
    "    user=\"postgres\",\n",
    "    password=\"password\",\n",
    "    host=\"database.cosqamqjez6h.ap-northeast-2.rds.amazonaws.com\",\n",
    "    port='5432',\n",
    "    autocommit = True\n",
    ")\n",
    "\n",
    "# open a cursor to perform database operations\n",
    "cur = conn.cursor()"
   ]
  },
  {
   "cell_type": "markdown",
   "id": "78c872a9-187e-4982-8bd2-d116c2e385cd",
   "metadata": {},
   "source": [
    "### Fetch one video from db"
   ]
  },
  {
   "cell_type": "code",
   "execution_count": 7,
   "id": "1ae548b7-223c-459b-b6f2-ae2fc6ff1929",
   "metadata": {},
   "outputs": [],
   "source": [
    "cur.execute(\"SELECT * FROM videostream WHERE filename='chiawei_short2.mp4'\")\n",
    "\n",
    "value = cur.fetchone()\n",
    "\n",
    "returncontent = value[2] #string to bytes"
   ]
  },
  {
   "cell_type": "code",
   "execution_count": 8,
   "id": "df7ed9d9-7b41-4d51-b5e8-6640b2d02f23",
   "metadata": {},
   "outputs": [
    {
     "name": "stdout",
     "output_type": "stream",
     "text": [
      "Done\n"
     ]
    }
   ],
   "source": [
    "outvideofile = \"tempout.mp4\"\n",
    "\n",
    "with open(outvideofile, \"wb\") as fileout:\n",
    "    fileout.write(returncontent)\n",
    "    print(\"Done\")"
   ]
  },
  {
   "cell_type": "code",
   "execution_count": null,
   "id": "f157a601-3136-44f8-b17f-e371f1699116",
   "metadata": {},
   "outputs": [],
   "source": []
  }
 ],
 "metadata": {
  "kernelspec": {
   "display_name": "Python 3 (ipykernel)",
   "language": "python",
   "name": "python3"
  },
  "language_info": {
   "codemirror_mode": {
    "name": "ipython",
    "version": 3
   },
   "file_extension": ".py",
   "mimetype": "text/x-python",
   "name": "python",
   "nbconvert_exporter": "python",
   "pygments_lexer": "ipython3",
   "version": "3.8.5"
  }
 },
 "nbformat": 4,
 "nbformat_minor": 5
}
