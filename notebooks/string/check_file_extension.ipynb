{
 "cells": [
  {
   "cell_type": "code",
   "execution_count": 4,
   "metadata": {},
   "outputs": [
    {
     "name": "stdout",
     "output_type": "stream",
     "text": [
      "Does  ends with extension .csv? False\n",
      "Does file.csv ends with extension .csv? True\n",
      "Does temp ends with extension .csv? False\n",
      "Does [] ends with extension .csv? False\n"
     ]
    }
   ],
   "source": [
    "buffer = ['', \n",
    "         'file.csv',\n",
    "         'temp',\n",
    "         '[]']\n",
    "\n",
    "\n",
    "for item in buffer:\n",
    "    \n",
    "    is_valid = item.endswith(\".csv\")\n",
    "    print(f\"Does {item} ends with extension .csv? {is_valid}\")"
   ]
  }
 ],
 "metadata": {
  "kernelspec": {
   "display_name": "Python 3",
   "language": "python",
   "name": "python3"
  },
  "language_info": {
   "codemirror_mode": {
    "name": "ipython",
    "version": 3
   },
   "file_extension": ".py",
   "mimetype": "text/x-python",
   "name": "python",
   "nbconvert_exporter": "python",
   "pygments_lexer": "ipython3",
   "version": "3.8.5"
  }
 },
 "nbformat": 4,
 "nbformat_minor": 4
}
