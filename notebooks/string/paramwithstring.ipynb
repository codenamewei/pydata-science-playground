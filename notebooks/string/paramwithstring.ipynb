{
 "cells": [
  {
   "cell_type": "markdown",
   "metadata": {},
   "source": [
    "### Method 1: using string template\n",
    "- Refer to [stringtemplate.ipynb](stringtemplate.ipynb)"
   ]
  },
  {
   "cell_type": "markdown",
   "metadata": {},
   "source": [
    "### Method 2: using f-string expression\n",
    "- Caveat: doesnt work with quote in string\n",
    "    - Error  \n",
    "      ```\n",
    "      Input In [10]\n",
    "        print(f\"Completed part {dictparam.[\\\"key1\\\"]}\")\n",
    "              ^\n",
    "        SyntaxError: f-string expression part cannot include a backslash\n",
    "\n",
    "      ```"
   ]
  },
  {
   "cell_type": "code",
   "execution_count": 2,
   "metadata": {},
   "outputs": [
    {
     "name": "stdout",
     "output_type": "stream",
     "text": [
      "Completed part 20\n"
     ]
    }
   ],
   "source": [
    "param = 20\n",
    "print(f\"Completed part {param}\")"
   ]
  },
  {
   "cell_type": "code",
   "execution_count": 13,
   "metadata": {},
   "outputs": [
    {
     "name": "stdout",
     "output_type": "stream",
     "text": [
      "Completed part 20\n"
     ]
    }
   ],
   "source": [
    "dictparam = dict(key1 = 20)\n",
    "print(f'Completed part {dictparam[\"key1\"]}')\n",
    "# DOESNT WORK! print(f\"Completed part {dictparam.[\\\"key1\\\"]}\")"
   ]
  },
  {
   "cell_type": "markdown",
   "metadata": {},
   "source": [
    "### Method 3: using string format"
   ]
  },
  {
   "cell_type": "code",
   "execution_count": 16,
   "metadata": {},
   "outputs": [
    {
     "data": {
      "text/plain": [
       "'I am Monkey D. Luffy'"
      ]
     },
     "execution_count": 16,
     "metadata": {},
     "output_type": "execute_result"
    }
   ],
   "source": [
    "sample = 'I am {first_name} {middle_name}. {last_name}'.format(first_name='Monkey', middle_name='D', last_name='Luffy')\n",
    "sample"
   ]
  },
  {
   "cell_type": "code",
   "execution_count": null,
   "metadata": {},
   "outputs": [],
   "source": []
  }
 ],
 "metadata": {
  "kernelspec": {
   "display_name": "Python 3 (ipykernel)",
   "language": "python",
   "name": "python3"
  },
  "language_info": {
   "codemirror_mode": {
    "name": "ipython",
    "version": 3
   },
   "file_extension": ".py",
   "mimetype": "text/x-python",
   "name": "python",
   "nbconvert_exporter": "python",
   "pygments_lexer": "ipython3",
   "version": "3.8.5"
  }
 },
 "nbformat": 4,
 "nbformat_minor": 4
}
