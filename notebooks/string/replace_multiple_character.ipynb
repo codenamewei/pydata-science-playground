{
 "cells": [
  {
   "cell_type": "code",
   "execution_count": 27,
   "metadata": {},
   "outputs": [
    {
     "name": "stdout",
     "output_type": "stream",
     "text": [
      "['\\\\', '/', ':', '*', '?', '<', '>', '|', '\\\\', '\"']\n",
      "Input:  Hello:World/?But<Not>To\"day|.\n",
      "Output: Hello_World__But_Not_To_day_.\n"
     ]
    }
   ],
   "source": [
    "strin = \"Hello:World/?But<Not>To\\\"day|.\"\n",
    "\n",
    "#these character are forbidden in folder/file creation \n",
    "removal_list= [i for i in r\"\\/:*?<>|\\\"\"]\n",
    "\n",
    "print(removal_list)\n",
    "\n",
    "strout = strin\n",
    "\n",
    "for i in removal_list: \n",
    "    strout = strout.replace(i, \"_\")\n",
    "\n",
    "print(\"Input:  \" + strin)\n",
    "print(\"Output: \" + strout)"
   ]
  },
  {
   "cell_type": "code",
   "execution_count": 28,
   "metadata": {},
   "outputs": [
    {
     "name": "stdout",
     "output_type": "stream",
     "text": [
      "Input:  Hello:World/?But<Not>To\"day|.\n",
      "Output: Hello_World__But_Not_To_day_.\n"
     ]
    }
   ],
   "source": [
    "import re\n",
    "\n",
    "#these character are not forbidden in folder/file creation\n",
    "chars_to_ignore_regex = '[\\\\\\/\\:\\*\\?\\<\\>\\|\\\"]'\n",
    "\n",
    "def remove_special_characters(text):\n",
    "    text = re.sub(chars_to_ignore_regex, '_', text)\n",
    "    return text\n",
    "\n",
    "print(\"Input:  \" + strin)\n",
    "print(\"Output: \" + remove_special_characters(strin))"
   ]
  },
  {
   "cell_type": "code",
   "execution_count": null,
   "metadata": {},
   "outputs": [],
   "source": []
  }
 ],
 "metadata": {
  "interpreter": {
   "hash": "39853f62b8e4c2d3ee3838cfeadfd556e69cd9100de065179bf5857a68cd5520"
  },
  "kernelspec": {
   "display_name": "Python 3",
   "language": "python",
   "name": "python3"
  },
  "language_info": {
   "codemirror_mode": {
    "name": "ipython",
    "version": 3
   },
   "file_extension": ".py",
   "mimetype": "text/x-python",
   "name": "python",
   "nbconvert_exporter": "python",
   "pygments_lexer": "ipython3",
   "version": "3.8.5"
  }
 },
 "nbformat": 4,
 "nbformat_minor": 4
}
