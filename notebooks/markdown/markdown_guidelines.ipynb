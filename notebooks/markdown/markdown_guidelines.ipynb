{
 "cells": [
  {
   "cell_type": "markdown",
   "source": [
    "### NLP Model Training\r\n",
    "\r\n",
    "<div align=\"center\">\r\n",
    "  <img alt=\"workflow\" src=\"https://user-images.githubusercontent.com/33477318/133191687-3d7755d0-0a4b-495c-8a33-2feef7f399a8.png\"><br>\r\n",
    "  <sup>Review Analysis Model Training Workflow</sup>\r\n",
    "</div> \r\n"
   ],
   "metadata": {}
  },
  {
   "cell_type": "markdown",
   "source": [],
   "metadata": {}
  },
  {
   "cell_type": "markdown",
   "source": [
    "### Get the inference result with REST endpoint\r\n",
    "\r\n",
    "<div align=\"center\">\r\n",
    "  <img alt=\"postman\" src=\"https://user-images.githubusercontent.com/33477318/127261255-ab51be67-05d1-4e0c-8acf-f5cd779910e5.png\">\r\n",
    "</div> \r\n"
   ],
   "metadata": {}
  }
 ],
 "metadata": {
  "kernelspec": {
   "display_name": "Python 3",
   "language": "python",
   "name": "python3"
  },
  "language_info": {
   "codemirror_mode": {
    "name": "ipython",
    "version": 3
   },
   "file_extension": ".py",
   "mimetype": "text/x-python",
   "name": "python",
   "nbconvert_exporter": "python",
   "pygments_lexer": "ipython3",
   "version": "3.8.5"
  }
 },
 "nbformat": 4,
 "nbformat_minor": 4
}