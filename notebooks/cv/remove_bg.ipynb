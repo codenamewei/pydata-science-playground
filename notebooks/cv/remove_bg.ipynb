{
 "cells": [
  {
   "cell_type": "markdown",
   "id": "2d451c0a-ba34-48d3-b375-682923d4e700",
   "metadata": {
    "tags": []
   },
   "source": [
    "https://github.com/danielgatis/rembg"
   ]
  },
  {
   "cell_type": "markdown",
   "id": "93905666-0feb-4b3f-9755-915bf8dfd728",
   "metadata": {},
   "source": [
    "!pip install rembg[gpu]"
   ]
  },
  {
   "cell_type": "code",
   "execution_count": 8,
   "id": "db8f9835-a262-4e35-b169-6526c39d6a02",
   "metadata": {
    "tags": []
   },
   "outputs": [],
   "source": [
    "from imread_from_url import imread_from_url\n",
    "\n",
    "\n",
    "img_url = \"https://i.guim.co.uk/img/media/3f6d39f213b18361c95ad0d4672ebf5680d19e7d/0_19_3500_2100/master/3500.jpg?width=1200&height=1200&quality=85&auto=format&fit=crop&s=eb570dd786c1a370ca16a41696279c26\"\n",
    "input = imread_from_url(img_url)\n"
   ]
  },
  {
   "cell_type": "code",
   "execution_count": 9,
   "id": "ccb37b66-f758-42f9-8fbe-71a447872ca6",
   "metadata": {
    "tags": []
   },
   "outputs": [
    {
     "data": {
      "text/plain": [
       "True"
      ]
     },
     "execution_count": 9,
     "metadata": {},
     "output_type": "execute_result"
    }
   ],
   "source": [
    "from rembg import remove\n",
    "import cv2\n",
    "\n",
    "output_path = 'output.png'\n",
    "\n",
    "output = remove(input)\n",
    "cv2.imwrite(output_path, output)"
   ]
  },
  {
   "cell_type": "code",
   "execution_count": null,
   "id": "f48517c8-6ae4-4364-b22b-4855fb63ed94",
   "metadata": {},
   "outputs": [],
   "source": []
  },
  {
   "cell_type": "code",
   "execution_count": null,
   "id": "21e9067e-8342-465d-aade-c517804d0c62",
   "metadata": {},
   "outputs": [],
   "source": []
  }
 ],
 "metadata": {
  "kernelspec": {
   "display_name": "Python 3",
   "language": "python",
   "name": "python3"
  },
  "language_info": {
   "codemirror_mode": {
    "name": "ipython",
    "version": 3
   },
   "file_extension": ".py",
   "mimetype": "text/x-python",
   "name": "python",
   "nbconvert_exporter": "python",
   "pygments_lexer": "ipython3",
   "version": "3.8.5"
  }
 },
 "nbformat": 4,
 "nbformat_minor": 5
}
