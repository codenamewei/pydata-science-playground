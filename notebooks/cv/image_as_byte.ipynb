{
 "cells": [
  {
   "cell_type": "markdown",
   "id": "75f13f6a-0ec3-4bdd-abf1-7359d95daf04",
   "metadata": {},
   "source": [
    "### Native method: Image to bytes"
   ]
  },
  {
   "cell_type": "code",
   "execution_count": 3,
   "id": "fae31595-7454-4fdc-9436-bd107d1660c5",
   "metadata": {},
   "outputs": [
    {
     "name": "stdout",
     "output_type": "stream",
     "text": [
      "<class 'bytes'>\n"
     ]
    }
   ],
   "source": [
    "sampleimg = \"../pytorch/metadata/mnist.jpg\"\n",
    "\n",
    "with open(sampleimg, \"rb\") as f:\n",
    "    imageasbytes = f.read()\n",
    "    #b = bytearray(f)\n",
    "    print(type(imageasbytes))"
   ]
  },
  {
   "cell_type": "markdown",
   "id": "53980191-9ea9-4e59-bc7d-180a9a8e6d1e",
   "metadata": {},
   "source": [
    "### Native method: Bytes to output file"
   ]
  },
  {
   "cell_type": "code",
   "execution_count": 5,
   "id": "98f9faec-4e7f-4c44-b8b7-5afc393afbfb",
   "metadata": {},
   "outputs": [
    {
     "name": "stdout",
     "output_type": "stream",
     "text": [
      "Done\n"
     ]
    }
   ],
   "source": [
    "writetoimg = \"mnist_out.jpg\"\n",
    "\n",
    "with open(writetoimg, \"wb\") as fileout:\n",
    "    fileout.write(imageasbytes)\n",
    "    print(\"Done\")"
   ]
  },
  {
   "cell_type": "markdown",
   "id": "fcd2b11a-4a1b-439b-885e-b12136248a08",
   "metadata": {},
   "source": [
    "### OpenCV method: Image to Bytes"
   ]
  },
  {
   "cell_type": "code",
   "execution_count": 4,
   "id": "2cad0750-e2e5-4bfd-a722-5e6bf7ecfec3",
   "metadata": {},
   "outputs": [
    {
     "name": "stdout",
     "output_type": "stream",
     "text": [
      "<class 'bytes'>\n"
     ]
    }
   ],
   "source": [
    "import cv2\n",
    "# Load image (it is loaded as BGR by default)\n",
    "image = cv2.imread(sampleimg)\n",
    "# Conver array to RGB\n",
    "image = cv2.cvtColor(image, cv2.COLOR_BGR2RGB)\n",
    "# image encoding\n",
    "success, encoded_image = cv2.imencode('.jpeg', image)\n",
    "# convert encoded image to bytearray\n",
    "content_bytes = encoded_image.tobytes()\n",
    "print(type(content_bytes))"
   ]
  },
  {
   "cell_type": "code",
   "execution_count": null,
   "id": "8fc09207-a695-4825-9d2f-a3f1df21297f",
   "metadata": {},
   "outputs": [],
   "source": []
  }
 ],
 "metadata": {
  "kernelspec": {
   "display_name": "Python 3 (ipykernel)",
   "language": "python",
   "name": "python3"
  },
  "language_info": {
   "codemirror_mode": {
    "name": "ipython",
    "version": 3
   },
   "file_extension": ".py",
   "mimetype": "text/x-python",
   "name": "python",
   "nbconvert_exporter": "python",
   "pygments_lexer": "ipython3",
   "version": "3.8.5"
  }
 },
 "nbformat": 4,
 "nbformat_minor": 5
}
