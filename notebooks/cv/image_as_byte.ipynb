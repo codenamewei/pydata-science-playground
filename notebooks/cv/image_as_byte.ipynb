{
 "cells": [
  {
   "cell_type": "code",
   "execution_count": 17,
   "id": "fae31595-7454-4fdc-9436-bd107d1660c5",
   "metadata": {},
   "outputs": [
    {
     "name": "stdout",
     "output_type": "stream",
     "text": [
      "<class 'bytes'>\n"
     ]
    }
   ],
   "source": [
    "sampleimg = \"../pytorch/metadata/mnist.jpg\"\n",
    "\n",
    "with open(sampleimg, \"rb\") as f:\n",
    "    imageasbytes = f.read()\n",
    "    #b = bytearray(f)\n",
    "    print(type(imageasbytes))"
   ]
  },
  {
   "cell_type": "code",
   "execution_count": 20,
   "id": "98f9faec-4e7f-4c44-b8b7-5afc393afbfb",
   "metadata": {},
   "outputs": [
    {
     "name": "stdout",
     "output_type": "stream",
     "text": [
      "Done\n"
     ]
    }
   ],
   "source": [
    "writetoimg = \"mnist_out.jpg\"\n",
    "\n",
    "with open(writetoimg, \"wb\") as fileout:\n",
    "    fileout.write(imageasbytes)\n",
    "    print(\"Done\")\n",
    "    "
   ]
  },
  {
   "cell_type": "code",
   "execution_count": null,
   "id": "d33980c7-168f-4629-847a-dc2afc6b4c52",
   "metadata": {},
   "outputs": [],
   "source": []
  }
 ],
 "metadata": {
  "kernelspec": {
   "display_name": "Python 3 (ipykernel)",
   "language": "python",
   "name": "python3"
  },
  "language_info": {
   "codemirror_mode": {
    "name": "ipython",
    "version": 3
   },
   "file_extension": ".py",
   "mimetype": "text/x-python",
   "name": "python",
   "nbconvert_exporter": "python",
   "pygments_lexer": "ipython3",
   "version": "3.8.5"
  }
 },
 "nbformat": 4,
 "nbformat_minor": 5
}
