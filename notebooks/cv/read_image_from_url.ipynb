{
 "cells": [
  {
   "cell_type": "code",
   "execution_count": 1,
   "id": "a9a18687-0040-4a0f-a7bd-529f7ad2898d",
   "metadata": {
    "tags": []
   },
   "outputs": [
    {
     "name": "stdout",
     "output_type": "stream",
     "text": [
      "Collecting imread-from-url\n",
      "  Downloading imread_from_url-0.1.3.tar.gz (7.6 kB)\n",
      "  Preparing metadata (setup.py) ... \u001b[?25ldone\n",
      "\u001b[?25hRequirement already satisfied: opencv-python>=3.4.2 in /home/codenamewei/anaconda3/envs/nlp-meeting/lib/python3.8/site-packages (from imread-from-url) (4.7.0.68)\n",
      "Requirement already satisfied: Pillow>=6.1.0 in /home/codenamewei/anaconda3/envs/nlp-meeting/lib/python3.8/site-packages (from imread-from-url) (9.3.0)\n",
      "Requirement already satisfied: requests>=2.22.0 in /home/codenamewei/anaconda3/envs/nlp-meeting/lib/python3.8/site-packages (from imread-from-url) (2.28.2)\n",
      "Collecting fake-useragent>=0.1.11\n",
      "  Downloading fake_useragent-1.1.1-py3-none-any.whl (50 kB)\n",
      "\u001b[2K     \u001b[90m━━━━━━━━━━━━━━━━━━━━━━━━━━━━━━━━━━━━━━━━\u001b[0m \u001b[32m50.4/50.4 kB\u001b[0m \u001b[31m1.5 MB/s\u001b[0m eta \u001b[36m0:00:00\u001b[0m\n",
      "\u001b[?25hRequirement already satisfied: importlib-resources>=5.0 in /home/codenamewei/anaconda3/envs/nlp-meeting/lib/python3.8/site-packages (from fake-useragent>=0.1.11->imread-from-url) (5.12.0)\n",
      "Requirement already satisfied: numpy>=1.17.0 in /home/codenamewei/anaconda3/envs/nlp-meeting/lib/python3.8/site-packages (from opencv-python>=3.4.2->imread-from-url) (1.23.5)\n",
      "Requirement already satisfied: idna<4,>=2.5 in /home/codenamewei/anaconda3/envs/nlp-meeting/lib/python3.8/site-packages (from requests>=2.22.0->imread-from-url) (2.10)\n",
      "Requirement already satisfied: certifi>=2017.4.17 in /home/codenamewei/anaconda3/envs/nlp-meeting/lib/python3.8/site-packages (from requests>=2.22.0->imread-from-url) (2022.9.24)\n",
      "Requirement already satisfied: charset-normalizer<4,>=2 in /home/codenamewei/anaconda3/envs/nlp-meeting/lib/python3.8/site-packages (from requests>=2.22.0->imread-from-url) (2.0.12)\n",
      "Requirement already satisfied: urllib3<1.27,>=1.21.1 in /home/codenamewei/anaconda3/envs/nlp-meeting/lib/python3.8/site-packages (from requests>=2.22.0->imread-from-url) (1.25.11)\n",
      "Requirement already satisfied: zipp>=3.1.0 in /home/codenamewei/anaconda3/envs/nlp-meeting/lib/python3.8/site-packages (from importlib-resources>=5.0->fake-useragent>=0.1.11->imread-from-url) (3.3.1)\n",
      "Building wheels for collected packages: imread-from-url\n",
      "  Building wheel for imread-from-url (setup.py) ... \u001b[?25ldone\n",
      "\u001b[?25h  Created wheel for imread-from-url: filename=imread_from_url-0.1.3-py3-none-any.whl size=6641 sha256=a808c9e96d3aef1a0bd23d408e5b93cb61c944a0ed3f605d9aea39f13e627ed1\n",
      "  Stored in directory: /home/codenamewei/.cache/pip/wheels/71/41/3d/3aa650f3ff41087c512c1ff373a3afd3e998efc501f0aca034\n",
      "Successfully built imread-from-url\n",
      "Installing collected packages: fake-useragent, imread-from-url\n",
      "Successfully installed fake-useragent-1.1.1 imread-from-url-0.1.3\n"
     ]
    }
   ],
   "source": [
    "!pip install imread-from-url"
   ]
  },
  {
   "cell_type": "code",
   "execution_count": 2,
   "id": "59fe4614-63ae-4d6f-a6df-4c822d75049c",
   "metadata": {
    "tags": []
   },
   "outputs": [
    {
     "data": {
      "text/plain": [
       "numpy.ndarray"
      ]
     },
     "execution_count": 2,
     "metadata": {},
     "output_type": "execute_result"
    }
   ],
   "source": [
    "from imread_from_url import imread_from_url\n",
    "\n",
    "\n",
    "img_url = \"https://upload.wikimedia.org/wikipedia/commons/thumb/0/00/Paume_de_main.jpeg/800px-Paume_de_main.jpeg\"\n",
    "img = imread_from_url(img_url)\n",
    "type(img)"
   ]
  }
 ],
 "metadata": {
  "kernelspec": {
   "display_name": "Python 3",
   "language": "python",
   "name": "python3"
  },
  "language_info": {
   "codemirror_mode": {
    "name": "ipython",
    "version": 3
   },
   "file_extension": ".py",
   "mimetype": "text/x-python",
   "name": "python",
   "nbconvert_exporter": "python",
   "pygments_lexer": "ipython3",
   "version": "3.8.5"
  }
 },
 "nbformat": 4,
 "nbformat_minor": 5
}
