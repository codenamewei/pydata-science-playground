{
 "cells": [
  {
   "cell_type": "markdown",
   "id": "6610f69a-b2a8-4d2b-8a9c-96d3e8a8b78b",
   "metadata": {},
   "source": [
    "### References\n",
    "- https://codeigo.com/python/convert-image-into-byte-array"
   ]
  },
  {
   "cell_type": "markdown",
   "id": "67447b07-e5e2-4f19-b7b7-1aa5278a9c64",
   "metadata": {},
   "source": [
    "### (Native Method) Image to bytearray"
   ]
  },
  {
   "cell_type": "code",
   "execution_count": 18,
   "id": "30219fc2-21ee-46f9-b39a-8adbace13bb2",
   "metadata": {},
   "outputs": [
    {
     "name": "stdout",
     "output_type": "stream",
     "text": [
      "<class 'bytes'>\n",
      "<class 'bytearray'>\n"
     ]
    }
   ],
   "source": [
    "sampleimg = \"../pytorch/metadata/mnist.jpg\"\n",
    "\n",
    "with open(sampleimg, \"rb\") as image:\n",
    "    f = image.read()\n",
    "    b = bytearray(f)\n",
    "    \n",
    "print(type(f))\n",
    "print(type(b))"
   ]
  },
  {
   "cell_type": "code",
   "execution_count": null,
   "id": "e1b5d787-b29e-4bf7-9c9c-76feef89d7b9",
   "metadata": {},
   "outputs": [],
   "source": []
  }
 ],
 "metadata": {
  "kernelspec": {
   "display_name": "Python 3 (ipykernel)",
   "language": "python",
   "name": "python3"
  },
  "language_info": {
   "codemirror_mode": {
    "name": "ipython",
    "version": 3
   },
   "file_extension": ".py",
   "mimetype": "text/x-python",
   "name": "python",
   "nbconvert_exporter": "python",
   "pygments_lexer": "ipython3",
   "version": "3.8.5"
  }
 },
 "nbformat": 4,
 "nbformat_minor": 5
}
