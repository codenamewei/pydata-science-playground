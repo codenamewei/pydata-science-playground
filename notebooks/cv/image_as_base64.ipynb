{
 "cells": [
  {
   "cell_type": "markdown",
   "id": "0c9f89d3-dcf2-44d3-817f-16e2379c4fb6",
   "metadata": {
    "tags": []
   },
   "source": [
    "### Base64\n",
    "\n",
    "Base64 is used to encode binary data as printable text. This allows you to transport binary over protocols or mediums that cannot handle binary data formats and require simple text"
   ]
  },
  {
   "cell_type": "code",
   "execution_count": 7,
   "id": "0afaef21-f7f0-4bb6-b4cc-cfe00c69645e",
   "metadata": {},
   "outputs": [],
   "source": [
    "import base64\n",
    "\n",
    "sampleimg = \"../pytorch/metadata/mnist.jpg\"\n",
    "\n",
    "with open(sampleimg, \"rb\") as image_file:\n",
    "    imageasbytes = image_file.read()\n",
    "    encoded_string = base64.b64encode(imageasbytes)"
   ]
  },
  {
   "cell_type": "code",
   "execution_count": 8,
   "id": "168461d3-a04c-4b5a-a9f0-f148d43d74f3",
   "metadata": {},
   "outputs": [
    {
     "name": "stdout",
     "output_type": "stream",
     "text": [
      "<class 'bytes'>\n",
      "<class 'bytes'>\n"
     ]
    }
   ],
   "source": [
    "print(type(imageasbytes))\n",
    "print(type(encoded_string))"
   ]
  }
 ],
 "metadata": {
  "kernelspec": {
   "display_name": "Python 3 (ipykernel)",
   "language": "python",
   "name": "python3"
  },
  "language_info": {
   "codemirror_mode": {
    "name": "ipython",
    "version": 3
   },
   "file_extension": ".py",
   "mimetype": "text/x-python",
   "name": "python",
   "nbconvert_exporter": "python",
   "pygments_lexer": "ipython3",
   "version": "3.8.5"
  }
 },
 "nbformat": 4,
 "nbformat_minor": 5
}
