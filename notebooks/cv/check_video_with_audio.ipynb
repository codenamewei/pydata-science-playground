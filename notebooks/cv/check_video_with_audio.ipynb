{
 "cells": [
  {
   "cell_type": "code",
   "execution_count": 11,
   "id": "2a701e1e-db89-4b81-bc5c-047cf5f6e153",
   "metadata": {},
   "outputs": [],
   "source": [
    "from moviepy.editor import VideoFileClip\n",
    "\n",
    "def isaudioexist(videofile : VideoFileClip) -> bool:\n",
    "    \n",
    "    videoclip = VideoFileClip(pathtovideofile)\n",
    "    audioclip = videoclip.audio\n",
    "\n",
    "    return True if audioclip is not None else False"
   ]
  },
  {
   "cell_type": "code",
   "execution_count": 12,
   "id": "3f401a32-8fcd-49c3-897e-ec6cab223e2a",
   "metadata": {},
   "outputs": [
    {
     "data": {
      "text/plain": [
       "False"
      ]
     },
     "execution_count": 12,
     "metadata": {},
     "output_type": "execute_result"
    }
   ],
   "source": [
    "pathtovideofile = r\"C:\\Users\\codenamewei\\Documents\\xboxgamebar\\Captures\\insanefood.mp4\"\n",
    "\n",
    "isaudioexist(pathtovideofile)"
   ]
  },
  {
   "cell_type": "code",
   "execution_count": 13,
   "id": "98fea3d1-7c89-4d51-a886-7d483aa5b756",
   "metadata": {},
   "outputs": [
    {
     "data": {
      "text/plain": [
       "True"
      ]
     },
     "execution_count": 13,
     "metadata": {},
     "output_type": "execute_result"
    }
   ],
   "source": [
    "pathtovideofile = r\"C:\\Users\\codenamewei\\Documents\\xboxgamebar\\Captures\\badguy.mp4\"\n",
    "\n",
    "isaudioexist(pathtovideofile)"
   ]
  }
 ],
 "metadata": {
  "kernelspec": {
   "display_name": "Python 3 (ipykernel)",
   "language": "python",
   "name": "python3"
  },
  "language_info": {
   "codemirror_mode": {
    "name": "ipython",
    "version": 3
   },
   "file_extension": ".py",
   "mimetype": "text/x-python",
   "name": "python",
   "nbconvert_exporter": "python",
   "pygments_lexer": "ipython3",
   "version": "3.8.5"
  }
 },
 "nbformat": 4,
 "nbformat_minor": 5
}
