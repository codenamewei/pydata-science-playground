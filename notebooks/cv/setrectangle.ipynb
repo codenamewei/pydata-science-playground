{
 "cells": [
  {
   "cell_type": "code",
   "execution_count": 2,
   "metadata": {},
   "outputs": [],
   "source": [
    "import cv2 \n",
    "   \n",
    "input = \"data/lena.png\"\n",
    "\n",
    "image = cv2.imread(input)\n",
    "   \n",
    "# Start coordinate, here (5, 5)\n",
    "# represents the top left corner of rectangle\n",
    "start_point = (5, 5)\n",
    "  \n",
    "# Ending coordinate, here (220, 220)\n",
    "# represents the bottom right corner of rectangle\n",
    "end_point = (220, 220)\n",
    "  \n",
    "# Blue color in BGR\n",
    "color = (255, 0, 0)\n",
    "  \n",
    "# Line thickness of 2 px\n",
    "thickness = 2\n",
    "  \n",
    "# Using cv2.rectangle() method\n",
    "# Draw a rectangle with blue line borders of thickness of 2 px\n",
    "# cv2.rectangle(image, start_point, end_point, color, thickness)\n",
    "# thickness = -1 for no border\n",
    "outputimage = cv2.rectangle(image, start_point, end_point, color, thickness)\n",
    "\n",
    "\n",
    "  "
   ]
  },
  {
   "cell_type": "code",
   "execution_count": 3,
   "metadata": {},
   "outputs": [
    {
     "ename": "TypeError",
     "evalue": "expected str, bytes or os.PathLike object, not numpy.ndarray",
     "output_type": "error",
     "traceback": [
      "\u001b[1;31m---------------------------------------------------------------------------\u001b[0m",
      "\u001b[1;31mTypeError\u001b[0m                                 Traceback (most recent call last)",
      "\u001b[1;32mc:\\Users\\codenamewei\\Documents\\pydata-science-playground\\notebooks\\cv\\setrectangle.ipynb Cell 2\u001b[0m in \u001b[0;36m<cell line: 2>\u001b[1;34m()\u001b[0m\n\u001b[0;32m      <a href='vscode-notebook-cell:/c%3A/Users/codenamewei/Documents/pydata-science-playground/notebooks/cv/setrectangle.ipynb#W1sZmlsZQ%3D%3D?line=0'>1</a>\u001b[0m \u001b[39mfrom\u001b[39;00m \u001b[39mIPython\u001b[39;00m\u001b[39m.\u001b[39;00m\u001b[39mdisplay\u001b[39;00m \u001b[39mimport\u001b[39;00m Image\n\u001b[1;32m----> <a href='vscode-notebook-cell:/c%3A/Users/codenamewei/Documents/pydata-science-playground/notebooks/cv/setrectangle.ipynb#W1sZmlsZQ%3D%3D?line=1'>2</a>\u001b[0m Image(filename\u001b[39m=\u001b[39;49moutputimage)\n",
      "File \u001b[1;32mc:\\Users\\codenamewei\\.conda\\envs\\face-meeting\\lib\\site-packages\\IPython\\core\\display.py:908\u001b[0m, in \u001b[0;36mImage.__init__\u001b[1;34m(self, data, url, filename, format, embed, width, height, retina, unconfined, metadata, alt)\u001b[0m\n\u001b[0;32m    905\u001b[0m     data \u001b[39m=\u001b[39m \u001b[39mstr\u001b[39m(data)\n\u001b[0;32m    907\u001b[0m \u001b[39mif\u001b[39;00m filename \u001b[39mis\u001b[39;00m \u001b[39mnot\u001b[39;00m \u001b[39mNone\u001b[39;00m:\n\u001b[1;32m--> 908\u001b[0m     ext \u001b[39m=\u001b[39m \u001b[39mself\u001b[39;49m\u001b[39m.\u001b[39;49m_find_ext(filename)\n\u001b[0;32m    909\u001b[0m \u001b[39melif\u001b[39;00m url \u001b[39mis\u001b[39;00m \u001b[39mnot\u001b[39;00m \u001b[39mNone\u001b[39;00m:\n\u001b[0;32m    910\u001b[0m     ext \u001b[39m=\u001b[39m \u001b[39mself\u001b[39m\u001b[39m.\u001b[39m_find_ext(url)\n",
      "File \u001b[1;32mc:\\Users\\codenamewei\\.conda\\envs\\face-meeting\\lib\\site-packages\\IPython\\core\\display.py:1061\u001b[0m, in \u001b[0;36mImage._find_ext\u001b[1;34m(self, s)\u001b[0m\n\u001b[0;32m   1060\u001b[0m \u001b[39mdef\u001b[39;00m \u001b[39m_find_ext\u001b[39m(\u001b[39mself\u001b[39m, s):\n\u001b[1;32m-> 1061\u001b[0m     base, ext \u001b[39m=\u001b[39m splitext(s)\n\u001b[0;32m   1063\u001b[0m     \u001b[39mif\u001b[39;00m \u001b[39mnot\u001b[39;00m ext:\n\u001b[0;32m   1064\u001b[0m         \u001b[39mreturn\u001b[39;00m base\n",
      "File \u001b[1;32mc:\\Users\\codenamewei\\.conda\\envs\\face-meeting\\lib\\ntpath.py:204\u001b[0m, in \u001b[0;36msplitext\u001b[1;34m(p)\u001b[0m\n\u001b[0;32m    203\u001b[0m \u001b[39mdef\u001b[39;00m \u001b[39msplitext\u001b[39m(p):\n\u001b[1;32m--> 204\u001b[0m     p \u001b[39m=\u001b[39m os\u001b[39m.\u001b[39;49mfspath(p)\n\u001b[0;32m    205\u001b[0m     \u001b[39mif\u001b[39;00m \u001b[39misinstance\u001b[39m(p, \u001b[39mbytes\u001b[39m):\n\u001b[0;32m    206\u001b[0m         \u001b[39mreturn\u001b[39;00m genericpath\u001b[39m.\u001b[39m_splitext(p, \u001b[39mb\u001b[39m\u001b[39m'\u001b[39m\u001b[39m\\\\\u001b[39;00m\u001b[39m'\u001b[39m, \u001b[39mb\u001b[39m\u001b[39m'\u001b[39m\u001b[39m/\u001b[39m\u001b[39m'\u001b[39m, \u001b[39mb\u001b[39m\u001b[39m'\u001b[39m\u001b[39m.\u001b[39m\u001b[39m'\u001b[39m)\n",
      "\u001b[1;31mTypeError\u001b[0m: expected str, bytes or os.PathLike object, not numpy.ndarray"
     ]
    }
   ],
   "source": [
    "from IPython.display import Image\n",
    "Image(filename=outputimage) \n"
   ]
  },
  {
   "cell_type": "code",
   "execution_count": null,
   "metadata": {},
   "outputs": [],
   "source": []
  }
 ],
 "metadata": {
  "kernelspec": {
   "display_name": "Python 3.8.5 ('face-meeting')",
   "language": "python",
   "name": "python3"
  },
  "language_info": {
   "codemirror_mode": {
    "name": "ipython",
    "version": 3
   },
   "file_extension": ".py",
   "mimetype": "text/x-python",
   "name": "python",
   "nbconvert_exporter": "python",
   "pygments_lexer": "ipython3",
   "version": "3.8.5"
  },
  "orig_nbformat": 4,
  "vscode": {
   "interpreter": {
    "hash": "e6105001b04c05eb436d9950c70976cd4bc4eaeca561eda227f2274bcfc3f6eb"
   }
  }
 },
 "nbformat": 4,
 "nbformat_minor": 2
}
