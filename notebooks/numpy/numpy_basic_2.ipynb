{
 "cells": [
  {
   "cell_type": "code",
   "execution_count": 18,
   "metadata": {},
   "outputs": [],
   "source": [
    "import numpy as np"
   ]
  },
  {
   "cell_type": "code",
   "execution_count": 19,
   "metadata": {},
   "outputs": [
    {
     "data": {
      "text/plain": [
       "array([[0.38477312, 0.85970785, 0.94419964, 0.70282489, 0.6336341 ],\n",
       "       [0.60596128, 0.20012684, 0.38738789, 0.25898316, 0.07460728],\n",
       "       [0.28095697, 0.43843415, 0.48324904, 0.86848949, 0.52962938]])"
      ]
     },
     "execution_count": 19,
     "metadata": {},
     "output_type": "execute_result"
    }
   ],
   "source": [
    "np.random.seed(38)\n",
    "\n",
    "arr = np.random.rand(3,5)\n",
    "\n",
    "arr"
   ]
  },
  {
   "cell_type": "code",
   "execution_count": 20,
   "metadata": {},
   "outputs": [],
   "source": [
    "# flatten array method 1"
   ]
  },
  {
   "cell_type": "code",
   "execution_count": 21,
   "metadata": {},
   "outputs": [
    {
     "data": {
      "text/plain": [
       "array([0.38477312, 0.85970785, 0.94419964, 0.70282489, 0.6336341 ,\n",
       "       0.60596128, 0.20012684, 0.38738789, 0.25898316, 0.07460728,\n",
       "       0.28095697, 0.43843415, 0.48324904, 0.86848949, 0.52962938])"
      ]
     },
     "execution_count": 21,
     "metadata": {},
     "output_type": "execute_result"
    }
   ],
   "source": [
    "np.ravel(arr)"
   ]
  },
  {
   "cell_type": "code",
   "execution_count": 22,
   "metadata": {},
   "outputs": [
    {
     "data": {
      "text/plain": [
       "array([0.38477312, 0.85970785, 0.94419964, 0.70282489, 0.6336341 ,\n",
       "       0.60596128, 0.20012684, 0.38738789, 0.25898316, 0.07460728,\n",
       "       0.28095697, 0.43843415, 0.48324904, 0.86848949, 0.52962938])"
      ]
     },
     "execution_count": 22,
     "metadata": {},
     "output_type": "execute_result"
    }
   ],
   "source": [
    "arr.ravel()"
   ]
  },
  {
   "cell_type": "code",
   "execution_count": 31,
   "metadata": {},
   "outputs": [
    {
     "name": "stdout",
     "output_type": "stream",
     "text": [
      "[[ 0  1  2  3  4]\n",
      " [ 5  6  7  8  9]\n",
      " [10 11 12 13 14]]\n",
      "[[ 0  1  2]\n",
      " [ 3  4  5]\n",
      " [ 6  7  8]\n",
      " [ 9 10 11]\n",
      " [12 13 14]]\n"
     ]
    }
   ],
   "source": [
    "arr = np.arange(15).reshape(3,5)\n",
    "\n",
    "print(arr)\n",
    "\n",
    "arr_resize = np.resize(arr, (5,3))\n",
    "\n",
    "print(arr_resize)"
   ]
  },
  {
   "cell_type": "code",
   "execution_count": 34,
   "metadata": {},
   "outputs": [
    {
     "name": "stdout",
     "output_type": "stream",
     "text": [
      "[ 0  1  2  3  4  5  6  7  8  9 10 11 12 13 14 15 16 17 18 19]\n",
      "[[ 0  1]\n",
      " [ 2  3]\n",
      " [ 4  5]\n",
      " [ 6  7]\n",
      " [ 8  9]\n",
      " [10 11]\n",
      " [12 13]\n",
      " [14 15]\n",
      " [16 17]\n",
      " [18 19]]\n",
      "[ 0  1  2  3  4  5  6  7  8  9 10 11 12 13 14 15 16 17 18 19]\n",
      "[[ 0  1  2  3]\n",
      " [ 4  5  6  7]\n",
      " [ 8  9 10 11]\n",
      " [12 13 14 15]\n",
      " [16 17 18 19]]\n"
     ]
    }
   ],
   "source": [
    "arr_2 = np.arange(20)\n",
    "\n",
    "print(arr_2.reshape(-1, 2))\n",
    "\n",
    "print(arr_2.reshape(5, -1))"
   ]
  },
  {
   "cell_type": "markdown",
   "metadata": {},
   "source": [
    "### stack vertically"
   ]
  },
  {
   "cell_type": "code",
   "execution_count": 52,
   "metadata": {},
   "outputs": [
    {
     "name": "stdout",
     "output_type": "stream",
     "text": [
      "[[0 1 2]\n",
      " [3 4 5]]\n",
      "[[0 1 2]\n",
      " [3 4 5]\n",
      " [0 1 2]\n",
      " [3 4 5]]\n",
      "[[0 1 2]\n",
      " [3 4 5]\n",
      " [0 1 2]\n",
      " [3 4 5]]\n"
     ]
    }
   ],
   "source": [
    "arr = np.arange(6).reshape(2,3)\n",
    "\n",
    "print(arr)\n",
    "\n",
    "print(np.vstack((arr, arr)))\n",
    "\n",
    "print(np.concatenate((arr, arr), 0))"
   ]
  },
  {
   "cell_type": "code",
   "execution_count": 47,
   "metadata": {},
   "outputs": [
    {
     "name": "stdout",
     "output_type": "stream",
     "text": [
      "[[0.40765231 0.89281693 0.23628623 0.21067825 0.40765231 0.89281693\n",
      "  0.23628623 0.21067825]\n",
      " [0.35615192 0.52063632 0.58471016 0.61226111 0.35615192 0.52063632\n",
      "  0.58471016 0.61226111]\n",
      " [0.29532836 0.10326149 0.99897124 0.03698089 0.29532836 0.10326149\n",
      "  0.99897124 0.03698089]]\n",
      "[[0.40765231 0.89281693 0.23628623 0.21067825 0.40765231 0.89281693\n",
      "  0.23628623 0.21067825]\n",
      " [0.35615192 0.52063632 0.58471016 0.61226111 0.35615192 0.52063632\n",
      "  0.58471016 0.61226111]\n",
      " [0.29532836 0.10326149 0.99897124 0.03698089 0.29532836 0.10326149\n",
      "  0.99897124 0.03698089]]\n"
     ]
    }
   ],
   "source": [
    "print(np.hstack((arr, arr)))\n",
    "\n",
    "print(np.concatenate((arr, arr), 1))"
   ]
  },
  {
   "cell_type": "markdown",
   "metadata": {},
   "source": [
    "### Splitting"
   ]
  },
  {
   "cell_type": "code",
   "execution_count": 61,
   "metadata": {},
   "outputs": [
    {
     "name": "stdout",
     "output_type": "stream",
     "text": [
      "[[0.66672573 0.72851241]\n",
      " [0.48744125 0.41826915]]\n",
      "[[0.66672573]\n",
      " [0.48744125]]\n",
      "[[0.72851241]\n",
      " [0.41826915]]\n",
      "[]\n",
      "[[0.66672573 0.72851241]]\n",
      "[[0.48744125 0.41826915]]\n"
     ]
    }
   ],
   "source": [
    "arr = np.random.rand(2,2)\n",
    "\n",
    "print(arr)\n",
    "\n",
    "result_arr = np.hsplit(arr, 2)\n",
    "\n",
    "for row in result_arr:\n",
    "    print(row)\n",
    "    \n"
   ]
  },
  {
   "cell_type": "code",
   "execution_count": 75,
   "metadata": {},
   "outputs": [
    {
     "name": "stdout",
     "output_type": "stream",
     "text": [
      "[[0.7442066  0.70385925 0.07432136 0.01004888 0.09435092 0.3046244 ]\n",
      " [0.95488851 0.32407719 0.08642278 0.78118954 0.51857417 0.27045799]\n",
      " [0.40397913 0.24110543 0.77386654 0.48135556 0.59408226 0.24322064]\n",
      " [0.37815767 0.35188481 0.18577045 0.16087018 0.00878539 0.0667296 ]\n",
      " [0.50116921 0.08559099 0.65717487 0.19124128 0.0741819  0.42713702]\n",
      " [0.64992607 0.87638577 0.89055402 0.6715701  0.4777745  0.34038737]]\n",
      "<class 'list'>\n",
      "<class 'numpy.ndarray'>\n",
      "[[0.7442066  0.70385925 0.07432136 0.01004888 0.09435092 0.3046244 ]\n",
      " [0.95488851 0.32407719 0.08642278 0.78118954 0.51857417 0.27045799]]\n",
      "<class 'numpy.ndarray'>\n",
      "[[0.40397913 0.24110543 0.77386654 0.48135556 0.59408226 0.24322064]\n",
      " [0.37815767 0.35188481 0.18577045 0.16087018 0.00878539 0.0667296 ]]\n",
      "<class 'numpy.ndarray'>\n",
      "[[0.50116921 0.08559099 0.65717487 0.19124128 0.0741819  0.42713702]\n",
      " [0.64992607 0.87638577 0.89055402 0.6715701  0.4777745  0.34038737]]\n"
     ]
    }
   ],
   "source": [
    "\n",
    "arr = np.random.rand(6,6)\n",
    "\n",
    "print(arr)\n",
    "\n",
    "result_arr_2 = np.vsplit(arr, 2\n",
    "\n",
    "print(type(result_arr_2))\n",
    "\n",
    "for row in result_arr_2:\n",
    "    \n",
    "    print(type(row))\n",
    "    print(row)"
   ]
  }
 ],
 "metadata": {
  "kernelspec": {
   "display_name": "Python 3",
   "language": "python",
   "name": "python3"
  },
  "language_info": {
   "codemirror_mode": {
    "name": "ipython",
    "version": 3
   },
   "file_extension": ".py",
   "mimetype": "text/x-python",
   "name": "python",
   "nbconvert_exporter": "python",
   "pygments_lexer": "ipython3",
   "version": "3.8.5"
  }
 },
 "nbformat": 4,
 "nbformat_minor": 4
}
