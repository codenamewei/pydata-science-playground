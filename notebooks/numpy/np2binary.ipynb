{
 "cells": [
  {
   "cell_type": "code",
   "execution_count": 13,
   "id": "302d5e97-b009-437d-a408-b27e7f1c57e2",
   "metadata": {},
   "outputs": [
    {
     "name": "stdout",
     "output_type": "stream",
     "text": [
      "[[81.76636987  1.03874153 30.89903588  0.35457798 30.53632055 74.71571629\n",
      "  19.52024922 23.37353677 69.96548873  9.15737582]]\n"
     ]
    }
   ],
   "source": [
    "import numpy as np\n",
    "\n",
    "rows = 1\n",
    "columns = 10\n",
    "\n",
    "arr = np.random.uniform(0, 100,(rows,columns))\n",
    "\n",
    "print(arr)"
   ]
  },
  {
   "cell_type": "markdown",
   "id": "87b266c3-8350-4d05-921c-94acd8627eed",
   "metadata": {},
   "source": [
    "### Numpy to binary file"
   ]
  },
  {
   "cell_type": "code",
   "execution_count": 14,
   "id": "caf62c3e-5ac3-4ff1-8b0a-730b4c34210f",
   "metadata": {},
   "outputs": [],
   "source": [
    "file = 'temp.npy'\n",
    "np.save(file, arr)"
   ]
  },
  {
   "cell_type": "markdown",
   "id": "dd8ca924-0650-4506-9f2b-84fc7afa0fe8",
   "metadata": {},
   "source": [
    "### Binary file to numpy"
   ]
  },
  {
   "cell_type": "code",
   "execution_count": 15,
   "id": "95de2bf1-86cc-40b4-ae1f-740662a4c446",
   "metadata": {},
   "outputs": [
    {
     "data": {
      "text/plain": [
       "array([[81.76636987,  1.03874153, 30.89903588,  0.35457798, 30.53632055,\n",
       "        74.71571629, 19.52024922, 23.37353677, 69.96548873,  9.15737582]])"
      ]
     },
     "execution_count": 15,
     "metadata": {},
     "output_type": "execute_result"
    }
   ],
   "source": [
    "outarr = np.load(file)\n",
    "\n",
    "outarr"
   ]
  }
 ],
 "metadata": {
  "kernelspec": {
   "display_name": "Python 3 (ipykernel)",
   "language": "python",
   "name": "python3"
  },
  "language_info": {
   "codemirror_mode": {
    "name": "ipython",
    "version": 3
   },
   "file_extension": ".py",
   "mimetype": "text/x-python",
   "name": "python",
   "nbconvert_exporter": "python",
   "pygments_lexer": "ipython3",
   "version": "3.8.5"
  }
 },
 "nbformat": 4,
 "nbformat_minor": 5
}
