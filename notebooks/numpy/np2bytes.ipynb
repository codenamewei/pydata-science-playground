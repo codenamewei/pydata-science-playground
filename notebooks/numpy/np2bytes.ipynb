{
 "cells": [
  {
   "cell_type": "code",
   "execution_count": 21,
   "id": "302d5e97-b009-437d-a408-b27e7f1c57e2",
   "metadata": {},
   "outputs": [
    {
     "name": "stdout",
     "output_type": "stream",
     "text": [
      "[[47.67123363 11.37500841 77.00516186 18.33953764 69.33385854 93.92046541\n",
      "  94.38493873 11.69792167 83.3036578  40.62622723]]\n",
      "<class 'numpy.ndarray'>\n"
     ]
    }
   ],
   "source": [
    "import numpy as np\n",
    "import pandas as pd\n",
    "\n",
    "rows = 1\n",
    "columns = 10\n",
    "\n",
    "arr = np.random.uniform(0, 100,(rows,columns))\n",
    "\n",
    "print(arr)\n",
    "\n",
    "print(type(arr))\n",
    "\n",
    "arrbytes = arr.tobytes()"
   ]
  },
  {
   "cell_type": "markdown",
   "id": "dd8ca924-0650-4506-9f2b-84fc7afa0fe8",
   "metadata": {},
   "source": [
    "### Binary file to numpy"
   ]
  },
  {
   "cell_type": "code",
   "execution_count": 22,
   "id": "95de2bf1-86cc-40b4-ae1f-740662a4c446",
   "metadata": {},
   "outputs": [
    {
     "name": "stdout",
     "output_type": "stream",
     "text": [
      "[47.67123363 11.37500841 77.00516186 18.33953764 69.33385854 93.92046541\n",
      " 94.38493873 11.69792167 83.3036578  40.62622723]\n",
      "<class 'numpy.ndarray'>\n"
     ]
    }
   ],
   "source": [
    "outarr = np.frombuffer(arrbytes, dtype = np.float64)\n",
    "\n",
    "print(outarr)\n",
    "print(type(outarr))"
   ]
  },
  {
   "cell_type": "code",
   "execution_count": null,
   "id": "1128b251-8e7b-4bce-a193-a54e39d7bc1a",
   "metadata": {},
   "outputs": [],
   "source": []
  }
 ],
 "metadata": {
  "kernelspec": {
   "display_name": "Python 3 (ipykernel)",
   "language": "python",
   "name": "python3"
  },
  "language_info": {
   "codemirror_mode": {
    "name": "ipython",
    "version": 3
   },
   "file_extension": ".py",
   "mimetype": "text/x-python",
   "name": "python",
   "nbconvert_exporter": "python",
   "pygments_lexer": "ipython3",
   "version": "3.8.5"
  }
 },
 "nbformat": 4,
 "nbformat_minor": 5
}
