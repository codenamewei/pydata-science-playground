{
 "cells": [
  {
   "cell_type": "markdown",
   "id": "fd43c285-8bac-47df-9ac4-038383c0e09f",
   "metadata": {},
   "source": [
    "Python's standard out is buffered (meaning that it collects some of the data \"written\" to standard out before it writes it to the terminal). Calling sys.stdout.flush() forces it to \"flush\" the buffer, meaning that it will write everything in the buffer to the terminal, even if normally it would wait before doing so. \n",
    "\n",
    "- Normally use after `sys.stdout.write` or `print(..., end=\"\")`\n",
    "\n",
    "- References\n",
    "    - https://stackoverflow.com/questions/10019456/usage-of-sys-stdout-flush-method"
   ]
  },
  {
   "cell_type": "markdown",
   "id": "a776648a-bf76-4e03-9ba9-f277cc52100d",
   "metadata": {
    "tags": []
   },
   "source": [
    "### Run src\\filesystem\\stdoutflush.py\n",
    "**Note that adding new line in sys.stdout.write doesnt work too**\n",
    "```\n",
    "import sys\n",
    "import time\n",
    "\n",
    "for i in range(1,10 ):\n",
    "    sys.stdout.write(str(i))\n",
    "    #the line above\n",
    "    #print(str(i), end=\"\")\n",
    "\n",
    "time.sleep(10)\n",
    "sys.stdout.flush()\n",
    "print(\"\\nEnd...\")\n",
    "\n",
    "```\n",
    "\n",
    "This is use in callback cause it prevent to print out multiple lines\n",
    "Check out `notebooks/cloud\\aws\\uploadvideo2bucketwithprogress.ipynb`\n",
    "### Run src\\filesystem\\plainprintoutwithnewlines.py\n",
    "```\n",
    "import sys\n",
    "import time\n",
    "\n",
    "for i in range(1,10 ):\n",
    "    print(str(i))\n",
    "\n",
    "time.sleep(10)\n",
    "print(\"End...\")\n",
    "\n",
    "```"
   ]
  },
  {
   "cell_type": "code",
   "execution_count": null,
   "id": "c28ec500-9fbb-4bf9-92e2-53cbd308da7e",
   "metadata": {},
   "outputs": [],
   "source": []
  }
 ],
 "metadata": {
  "kernelspec": {
   "display_name": "Python 3 (ipykernel)",
   "language": "python",
   "name": "python3"
  },
  "language_info": {
   "codemirror_mode": {
    "name": "ipython",
    "version": 3
   },
   "file_extension": ".py",
   "mimetype": "text/x-python",
   "name": "python",
   "nbconvert_exporter": "python",
   "pygments_lexer": "ipython3",
   "version": "3.8.5"
  }
 },
 "nbformat": 4,
 "nbformat_minor": 5
}
