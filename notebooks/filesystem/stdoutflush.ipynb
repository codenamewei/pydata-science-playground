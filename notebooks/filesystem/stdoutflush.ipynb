{
 "cells": [
  {
   "cell_type": "markdown",
   "id": "fd43c285-8bac-47df-9ac4-038383c0e09f",
   "metadata": {},
   "source": [
    "Python's standard out is buffered (meaning that it collects some of the data \"written\" to standard out before it writes it to the terminal). Calling sys.stdout.flush() forces it to \"flush\" the buffer, meaning that it will write everything in the buffer to the terminal, even if normally it would wait before doing so. \n",
    "\n",
    "- Normally use with `sys.stdout.write`\n",
    "\n",
    "- References\n",
    "    - https://stackoverflow.com/questions/10019456/usage-of-sys-stdout-flush-method"
   ]
  },
  {
   "cell_type": "code",
   "execution_count": 6,
   "id": "ab74caa7-324c-477b-b834-ff2fd4cc944f",
   "metadata": {},
   "outputs": [
    {
     "name": "stdout",
     "output_type": "stream",
     "text": [
      "123456789"
     ]
    }
   ],
   "source": [
    "import sys\n",
    "import time\n",
    "\n",
    "for i in range(1,10 ):\n",
    "    sys.stdout.write(str(i))\n",
    "    sys.stdout.flush()"
   ]
  },
  {
   "cell_type": "code",
   "execution_count": null,
   "id": "144e9ac1-8e46-48be-8571-d4ed6c9f3bd7",
   "metadata": {},
   "outputs": [],
   "source": []
  }
 ],
 "metadata": {
  "kernelspec": {
   "display_name": "Python 3 (ipykernel)",
   "language": "python",
   "name": "python3"
  },
  "language_info": {
   "codemirror_mode": {
    "name": "ipython",
    "version": 3
   },
   "file_extension": ".py",
   "mimetype": "text/x-python",
   "name": "python",
   "nbconvert_exporter": "python",
   "pygments_lexer": "ipython3",
   "version": "3.8.5"
  }
 },
 "nbformat": 4,
 "nbformat_minor": 5
}
