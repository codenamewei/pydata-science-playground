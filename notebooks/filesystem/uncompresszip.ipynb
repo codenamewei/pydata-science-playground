{
 "cells": [
  {
   "cell_type": "code",
   "execution_count": 1,
   "metadata": {},
   "outputs": [],
   "source": [
    "import zipfile\n",
    "import os"
   ]
  },
  {
   "cell_type": "code",
   "execution_count": 2,
   "metadata": {},
   "outputs": [],
   "source": [
    "zippath = r\"C:\\Users\\codenamewei\\Documents\\nlp-meeting-data\\audio-chunks\"\n",
    "outpath = r\"C:\\Users\\codenamewei\\Downloads\\unzip_sample\""
   ]
  },
  {
   "cell_type": "code",
   "execution_count": 3,
   "metadata": {},
   "outputs": [],
   "source": [
    "def unzip(zippath, outfolder, outpath):\n",
    "    \n",
    "    outabspath = os.path.join(outpath, outfolder)\n",
    "    \n",
    "    if(os.path.exists(outabspath)):\n",
    "        print(f\"{outabspath} exist. Unzipping skipped\")\n",
    "        return\n",
    "    else:\n",
    "        print(f\"Unzip to {outabspath}\")\n",
    "    \n",
    "    with zipfile.ZipFile(zippath, 'r') as zipref:\n",
    "        zipref.extractall(outpath)"
   ]
  },
  {
   "cell_type": "markdown",
   "metadata": {},
   "source": [
    "### find all zip file in the designated path"
   ]
  },
  {
   "cell_type": "code",
   "execution_count": 4,
   "metadata": {},
   "outputs": [
    {
     "name": "stdout",
     "output_type": "stream",
     "text": [
      "C:\\Users\\codenamewei\\Downloads\\unzip_sample\\Yann_LeCun_Self-Supervised_Learning exist. Unzipping skipped\n"
     ]
    }
   ],
   "source": [
    "tuple_files = os.walk(zippath)\n",
    "\n",
    "# [0]: current_directory\n",
    "# [1]: folder in current_directory\n",
    "# [2]: files in current_directory\n",
    "for item in tuple_files:\n",
    "\n",
    "    for file in item[2]:\n",
    "        \n",
    "        if(file.endswith(\".zip\")):\n",
    "            zippath = os.path.join(item[0], file)\n",
    "            foldername = file.split(\".\")[0]\n",
    "            \n",
    "            unzip(zippath, foldername, outpath)"
   ]
  }
 ],
 "metadata": {
  "kernelspec": {
   "display_name": "Python 3",
   "language": "python",
   "name": "python3"
  },
  "language_info": {
   "codemirror_mode": {
    "name": "ipython",
    "version": 3
   },
   "file_extension": ".py",
   "mimetype": "text/x-python",
   "name": "python",
   "nbconvert_exporter": "python",
   "pygments_lexer": "ipython3",
   "version": "3.8.5"
  }
 },
 "nbformat": 4,
 "nbformat_minor": 4
}
