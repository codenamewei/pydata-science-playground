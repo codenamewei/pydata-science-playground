{
 "cells": [
  {
   "cell_type": "code",
   "execution_count": 46,
   "metadata": {},
   "outputs": [
    {
     "data": {
      "text/plain": [
       "'C:\\\\Users\\\\lich1003\\\\Documents\\\\configparser\\\\temp\\\\config_2021Dec21_1617.ini'"
      ]
     },
     "execution_count": 46,
     "metadata": {},
     "output_type": "execute_result"
    }
   ],
   "source": [
    "from shutil import copy2\n",
    "from datetime import datetime\n",
    "import os\n",
    "now = datetime.now()\n",
    "date_in_str = now.strftime(\"%Y%h%d_%H%M\")\n",
    "\n",
    "configfile = 'config.ini'\n",
    "inputfile = configfile.split(\".\")\n",
    "\n",
    "file = inputfile[0] + \"_\" + date_in_str + \".\" + inputfile[1]\n",
    "dst = os.path.join(r\"C:\\Users\\lich1003\\Documents\\configparser\\temp\", file)\n",
    "copy2('config.ini', dst)\n"
   ]
  },
  {
   "cell_type": "code",
   "execution_count": null,
   "metadata": {},
   "outputs": [],
   "source": []
  }
 ],
 "metadata": {
  "interpreter": {
   "hash": "f10ad4cd0b091581b6fc1e503bf7eb6c625504e561e960215d8ca5f21be54b84"
  },
  "kernelspec": {
   "display_name": "Python 3.9.7 64-bit ('ko-ecom': conda)",
   "language": "python",
   "name": "python3"
  },
  "language_info": {
   "codemirror_mode": {
    "name": "ipython",
    "version": 3
   },
   "file_extension": ".py",
   "mimetype": "text/x-python",
   "name": "python",
   "nbconvert_exporter": "python",
   "pygments_lexer": "ipython3",
   "version": "3.9.7"
  },
  "orig_nbformat": 4
 },
 "nbformat": 4,
 "nbformat_minor": 2
}
