{
 "cells": [
  {
   "cell_type": "code",
   "execution_count": 28,
   "source": [
    "import os\r\n",
    "\r\n",
    "folder = \"../pandas/data\"\r\n",
    "\r\n",
    "tuple_files = os.walk(folder)\r\n",
    "\r\n"
   ],
   "outputs": [],
   "metadata": {}
  },
  {
   "cell_type": "markdown",
   "source": [
    "# get files from the output"
   ],
   "metadata": {}
  },
  {
   "cell_type": "code",
   "execution_count": 29,
   "source": [
    "files_list = []\r\n",
    "for item in tuple_files:\r\n",
    "\r\n",
    "    root_path = item[0]\r\n",
    "\r\n",
    "    for file in item[2]:\r\n",
    "\r\n",
    "        if file.endswith(\".csv\"):\r\n",
    "\r\n",
    "            absolute_file_path = os.path.join(root_path, file)\r\n",
    "            files_list.append(absolute_file_path)\r\n",
    "\r\n",
    "print(files_list)"
   ],
   "outputs": [
    {
     "output_type": "stream",
     "name": "stdout",
     "text": [
      "['../pandas/data\\\\bad_lines.csv', '../pandas/data\\\\processed_test_outscope.csv', '../pandas/data\\\\processed_test_outscope_re.csv', '../pandas/data\\\\sample.csv', '../pandas/data\\\\temp.csv', '../pandas/data\\\\test_outscope.csv', '../pandas/data\\\\winemag-data-130k-v2.csv', '../pandas/data\\\\.ipynb_checkpoints\\\\bad_lines-checkpoint.csv', '../pandas/data\\\\.ipynb_checkpoints\\\\processed_test_outscope_re-checkpoint.csv', '../pandas/data\\\\.ipynb_checkpoints\\\\sample-checkpoint.csv', '../pandas/data\\\\.ipynb_checkpoints\\\\temp-checkpoint.csv', '../pandas/data\\\\.ipynb_checkpoints\\\\winemag-data-130k-v2-checkpoint.csv']\n"
     ]
    }
   ],
   "metadata": {}
  }
 ],
 "metadata": {
  "language_info": {
   "name": "python",
   "version": "3.8.5",
   "mimetype": "text/x-python",
   "codemirror_mode": {
    "name": "ipython",
    "version": 3
   },
   "pygments_lexer": "ipython3",
   "nbconvert_exporter": "python",
   "file_extension": ".py"
  },
  "kernelspec": {
   "name": "python3",
   "display_name": "Python 3.8.5 64-bit ('data-science-playground': conda)"
  },
  "interpreter": {
   "hash": "566fc2406c534f779744276e0ad6e818e0f4a899b0fcebb34d8f31acd47d8f89"
  }
 },
 "nbformat": 4,
 "nbformat_minor": 4
}