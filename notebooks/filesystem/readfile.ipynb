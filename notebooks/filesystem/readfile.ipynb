{
 "cells": [
  {
   "cell_type": "markdown",
   "metadata": {},
   "source": [
    "Open file has 3 parameters\n",
    "```\n",
    "open(<path-to-file>, mode)\n",
    "```\n",
    "- `r`: Open for text file for reading text\n",
    "- `w`: Open a text file for writing text\n",
    "- `a`: Open a text file for appending text\n",
    "\n",
    "Read file has 3 functions\n",
    "- `read()` or `read(size)`: read some contents of a file based on the optional size and return the contents as a string. If you omit the size, the read() method reads from where it left off till the end of the file. If the end of a file has been reached, the read() method returns an empty string.\n",
    "- `readline()`: read a single line from a text file and return the line as a string. If the end of a file has been reached, the readline() returns an empty string.\n",
    "- `readlines()`: read all the lines of the text file into a list of strings. This method is useful if you have a small file and you want to manipulate the whole text of that file.\n",
    "\n",
    "### Good resources \n",
    "- https://www.freecodecamp.org/news/how-to-read-files-in-python/"
   ]
  },
  {
   "cell_type": "markdown",
   "metadata": {},
   "source": [
    "### read"
   ]
  },
  {
   "cell_type": "code",
   "execution_count": 16,
   "metadata": {},
   "outputs": [
    {
     "name": "stdout",
     "output_type": "stream",
     "text": [
      "<class 'str'>\n",
      "Hello World\n",
      "a direct translation would be House of Unagi.\n",
      "The menu here revolves around Unagi- be it grilled Unagi or Unagi bowl;\n",
      "along with a mix of popular Japanese grills and delicacies.\n",
      "Items are reasonably priced here- those w\n",
      "\n",
      "['Hello World', 'a direct translation would be House of Unagi.', 'The menu here revolves around Unagi- be it grilled Unagi or Unagi bowl;', 'along with a mix of popular Japanese grills and delicacies.', 'Items are reasonably priced here- those w', '']\n"
     ]
    }
   ],
   "source": [
    "inputfile = \"sample.txt\"\n",
    "\n",
    "with open(inputfile, \"r\") as f:\n",
    "    \n",
    "    inputs = f.read()\n",
    "    \n",
    "    print(type(inputs))\n",
    "\n",
    "    print(inputs)\n",
    "    \n",
    "print(inputs.split(\"\\n\"))\n",
    "\n",
    "f.close()"
   ]
  },
  {
   "cell_type": "markdown",
   "metadata": {},
   "source": [
    "### readline "
   ]
  },
  {
   "cell_type": "code",
   "execution_count": 17,
   "metadata": {},
   "outputs": [
    {
     "name": "stdout",
     "output_type": "stream",
     "text": [
      "Hello World\n",
      "\n",
      "a direct translation would be House of Unagi.\n",
      "\n",
      "The menu here revolves around Unagi- be it grilled Unagi or Unagi bowl;\n",
      "\n",
      "along with a mix of popular Japanese grills and delicacies.\n",
      "\n",
      "Items are reasonably priced here- those w\n",
      "\n"
     ]
    }
   ],
   "source": [
    "inputfile = \"sample.txt\"\n",
    "\n",
    "with open(inputfile, \"r\") as f:\n",
    "    \n",
    "    while True:\n",
    "        inputline = f.readline()\n",
    "\n",
    "        if not inputline:\n",
    "            break #inputline is False when file reached the end \n",
    "        \n",
    "        print(inputline)\n",
    "        \n",
    "f.close()"
   ]
  },
  {
   "cell_type": "markdown",
   "metadata": {},
   "source": [
    "### readlines"
   ]
  },
  {
   "cell_type": "code",
   "execution_count": 18,
   "metadata": {},
   "outputs": [
    {
     "name": "stdout",
     "output_type": "stream",
     "text": [
      "['Hello World\\n', 'a direct translation would be House of Unagi.\\n', 'The menu here revolves around Unagi- be it grilled Unagi or Unagi bowl;\\n', 'along with a mix of popular Japanese grills and delicacies.\\n', 'Items are reasonably priced here- those w\\n']\n"
     ]
    }
   ],
   "source": [
    "with open(inputfile, \"r\") as f:\n",
    "    \n",
    "    inputlines = f.readlines()\n",
    "    \n",
    "    if not inputlines:\n",
    "        print(\"File is empty\")\n",
    "        \n",
    "    else:\n",
    "        \n",
    "        print([i for i in inputlines])\n",
    "        #print([i.replace(\"\\n\", \"\") for i in inputlines])\n",
    "f.close()"
   ]
  }
 ],
 "metadata": {
  "kernelspec": {
   "display_name": "Python 3 (ipykernel)",
   "language": "python",
   "name": "python3"
  },
  "language_info": {
   "codemirror_mode": {
    "name": "ipython",
    "version": 3
   },
   "file_extension": ".py",
   "mimetype": "text/x-python",
   "name": "python",
   "nbconvert_exporter": "python",
   "pygments_lexer": "ipython3",
   "version": "3.8.5"
  }
 },
 "nbformat": 4,
 "nbformat_minor": 4
}
