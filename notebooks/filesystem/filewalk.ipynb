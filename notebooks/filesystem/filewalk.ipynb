{
 "cells": [
  {
   "cell_type": "code",
   "execution_count": 12,
   "metadata": {},
   "outputs": [
    {
     "name": "stdout",
     "output_type": "stream",
     "text": [
      "c:\\Users\\lich1003\\Documents\\configparser\\config.ini\n",
      "c:\\Users\\lich1003\\Documents\\configparser\\copyfile.ipynb\n",
      "c:\\Users\\lich1003\\Documents\\configparser\\datetime.ipynb\n",
      "c:\\Users\\lich1003\\Documents\\configparser\\filewalk.ipynb\n",
      "c:\\Users\\lich1003\\Documents\\configparser\\testconfig.ipynb\n",
      "c:\\Users\\lich1003\\Documents\\configparser\\testperiod.ipynb\n",
      "c:\\Users\\lich1003\\Documents\\configparser\\walk.ipynb\n",
      "c:\\Users\\lich1003\\Documents\\configparser\\temp\\config_2021Dec21_1616.ini\n",
      "c:\\Users\\lich1003\\Documents\\configparser\\temp\\config_2021Dec21_1617.ini\n"
     ]
    }
   ],
   "source": [
    "import os\n",
    "\n",
    "folder = os.getcwd()\n",
    "\n",
    "tuple_files = os.walk(folder)\n",
    "\n",
    "# [0]: current_directory\n",
    "# [1]: folder in current_directory\n",
    "# [2]: files in current_directory\n",
    "for item in tuple_files:\n",
    "\n",
    "    for file in item[2]:\n",
    "\n",
    "        print(os.path.join(item[0], file))"
   ]
  },
  {
   "cell_type": "code",
   "execution_count": null,
   "metadata": {},
   "outputs": [],
   "source": []
  }
 ],
 "metadata": {
  "interpreter": {
   "hash": "f10ad4cd0b091581b6fc1e503bf7eb6c625504e561e960215d8ca5f21be54b84"
  },
  "kernelspec": {
   "display_name": "Python 3.9.7 64-bit ('ko-ecom': conda)",
   "language": "python",
   "name": "python3"
  },
  "language_info": {
   "codemirror_mode": {
    "name": "ipython",
    "version": 3
   },
   "file_extension": ".py",
   "mimetype": "text/x-python",
   "name": "python",
   "nbconvert_exporter": "python",
   "pygments_lexer": "ipython3",
   "version": "3.9.7"
  },
  "orig_nbformat": 4
 },
 "nbformat": 4,
 "nbformat_minor": 2
}
