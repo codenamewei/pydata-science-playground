{
 "cells": [
  {
   "cell_type": "code",
   "execution_count": 1,
   "id": "17951da1-a2b3-4d6f-b793-4f032774fabe",
   "metadata": {},
   "outputs": [],
   "source": [
    "from pathlib import Path\n",
    "from string import Template"
   ]
  },
  {
   "cell_type": "code",
   "execution_count": 2,
   "id": "204c754e-64a9-4690-be70-225a57aa5411",
   "metadata": {},
   "outputs": [],
   "source": [
    "inputfilepath = r\"C:\\Users\\codenamewei\\Downloads\\ngrok-stable-windows-amd64\\ngrok.exe\"\n",
    "inputfolderpath = r\"C:\\Users\\codenamewei\\Downloads\\temp\"\n",
    "conversion = 100000 \n",
    "templatestring = Template(\"Path: ${path} ${size}MB\")\n",
    "byte2MB = lambda x : int(x / conversion)"
   ]
  },
  {
   "cell_type": "markdown",
   "id": "b501cfe0-84e8-4cb2-ae42-0b75039e228f",
   "metadata": {},
   "source": [
    "### Get file size in MB\n",
    "- 1 Megabyte(MB) = 1000000 byte"
   ]
  },
  {
   "cell_type": "markdown",
   "id": "05012e6e-fb0a-4472-ae24-1eaa77e6df56",
   "metadata": {},
   "source": [
    "### Method 1: using `from pathlib import Path`"
   ]
  },
  {
   "cell_type": "code",
   "execution_count": 7,
   "id": "f0126e99-3ac1-4d8b-b034-0883a0c50d71",
   "metadata": {},
   "outputs": [
    {
     "name": "stdout",
     "output_type": "stream",
     "text": [
      "<class 'int'>\n"
     ]
    },
    {
     "data": {
      "text/plain": [
       "'Path: C:\\\\Users\\\\codenamewei\\\\Downloads\\\\ngrok-stable-windows-amd64\\\\ngrok.exe 307MB'"
      ]
     },
     "execution_count": 7,
     "metadata": {},
     "output_type": "execute_result"
    }
   ],
   "source": [
    "outsize = Path(inputfilepath).stat().st_size \n",
    "\n",
    "fileinfo = dict(path = inputfilepath, size = byte2MB(outsize))\n",
    "\n",
    "templatestring.substitute(fileinfo)"
   ]
  },
  {
   "cell_type": "markdown",
   "id": "8d327809-ae62-47db-b5b8-a24eac45b64a",
   "metadata": {},
   "source": [
    "### !!! Doesn't work on folder"
   ]
  },
  {
   "cell_type": "code",
   "execution_count": 4,
   "id": "341a8e77-6d34-4cca-aa8e-0c4d30631915",
   "metadata": {},
   "outputs": [
    {
     "data": {
      "text/plain": [
       "'Path: C:\\\\Users\\\\codenamewei\\\\Downloads\\\\temp 0MB'"
      ]
     },
     "execution_count": 4,
     "metadata": {},
     "output_type": "execute_result"
    }
   ],
   "source": [
    "outsize = Path(inputfolderpath).stat().st_size \n",
    "\n",
    "fileinfo = dict(path = inputfolderpath, size = byte2MB(outsize))\n",
    "\n",
    "templatestring.substitute(fileinfo)"
   ]
  },
  {
   "cell_type": "markdown",
   "id": "700d1ca6-c0f3-48b5-83f9-e1f952300433",
   "metadata": {},
   "source": [
    "### Method 2: using `import os`"
   ]
  },
  {
   "cell_type": "code",
   "execution_count": 5,
   "id": "4a7f5fd9-47aa-4bc3-a03c-d0de7f39b012",
   "metadata": {},
   "outputs": [
    {
     "data": {
      "text/plain": [
       "'Path: C:\\\\Users\\\\codenamewei\\\\Downloads\\\\ngrok-stable-windows-amd64\\\\ngrok.exe 307MB'"
      ]
     },
     "execution_count": 5,
     "metadata": {},
     "output_type": "execute_result"
    }
   ],
   "source": [
    "import os\n",
    "outsize2 = os.path.getsize(inputfilepath)\n",
    "\n",
    "fileinfo2 = dict(path = inputfilepath, size = byte2MB(outsize2))\n",
    "\n",
    "templatestring.substitute(fileinfo2)"
   ]
  },
  {
   "cell_type": "markdown",
   "id": "50ce011a-c1cc-4027-9952-990e1dcd883b",
   "metadata": {},
   "source": [
    "### !!! Doesn't work on folder"
   ]
  },
  {
   "cell_type": "code",
   "execution_count": 6,
   "id": "acca5f4c-341a-4d47-a375-5de7e3721ea6",
   "metadata": {},
   "outputs": [
    {
     "data": {
      "text/plain": [
       "'Path: C:\\\\Users\\\\codenamewei\\\\Downloads\\\\temp 0MB'"
      ]
     },
     "execution_count": 6,
     "metadata": {},
     "output_type": "execute_result"
    }
   ],
   "source": [
    "outsize = os.path.getsize(inputfolderpath)\n",
    "\n",
    "fileinfo = dict(path = inputfolderpath, size = byte2MB(outsize))\n",
    "\n",
    "templatestring.substitute(fileinfo)"
   ]
  }
 ],
 "metadata": {
  "kernelspec": {
   "display_name": "Python 3 (ipykernel)",
   "language": "python",
   "name": "python3"
  },
  "language_info": {
   "codemirror_mode": {
    "name": "ipython",
    "version": 3
   },
   "file_extension": ".py",
   "mimetype": "text/x-python",
   "name": "python",
   "nbconvert_exporter": "python",
   "pygments_lexer": "ipython3",
   "version": "3.8.5"
  }
 },
 "nbformat": 4,
 "nbformat_minor": 5
}
