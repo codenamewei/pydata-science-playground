{
 "cells": [
  {
   "cell_type": "code",
   "execution_count": 36,
   "id": "17951da1-a2b3-4d6f-b793-4f032774fabe",
   "metadata": {},
   "outputs": [],
   "source": [
    "from pathlib import Path\n",
    "from string import Template"
   ]
  },
  {
   "cell_type": "code",
   "execution_count": 37,
   "id": "204c754e-64a9-4690-be70-225a57aa5411",
   "metadata": {},
   "outputs": [],
   "source": [
    "inputfilepath = r\"C:\\Users\\codenamewei\\Downloads\\ngrok-stable-windows-amd64\\ngrok.exe\"\n",
    "inputfolderpath = r\"C:\\Users\\codenamewei\\Downloads\\temp\"\n",
    "conversion = 100000 \n",
    "templatestring = Template(\"Path: ${path} ${size}MB\")\n",
    "byte2MB = lambda x : int(x / conversion)"
   ]
  },
  {
   "cell_type": "markdown",
   "id": "b501cfe0-84e8-4cb2-ae42-0b75039e228f",
   "metadata": {},
   "source": [
    "### Get file size in MB\n",
    "- 1 Megabyte(MB) = 1000000 byte"
   ]
  },
  {
   "cell_type": "code",
   "execution_count": 38,
   "id": "f0126e99-3ac1-4d8b-b034-0883a0c50d71",
   "metadata": {},
   "outputs": [
    {
     "data": {
      "text/plain": [
       "'Path: C:\\\\Users\\\\codenamewei\\\\Downloads\\\\ngrok-stable-windows-amd64\\\\ngrok.exe 307MB'"
      ]
     },
     "execution_count": 38,
     "metadata": {},
     "output_type": "execute_result"
    }
   ],
   "source": [
    "outsize = Path(inputfilepath).stat().st_size \n",
    "\n",
    "fileinfo = dict(path = inputfilepath, size = byte2MB(outsize))\n",
    "\n",
    "templatestring.substitute(fileinfo)"
   ]
  },
  {
   "cell_type": "markdown",
   "id": "8d327809-ae62-47db-b5b8-a24eac45b64a",
   "metadata": {},
   "source": [
    "### !!! Doesn't work on folder"
   ]
  },
  {
   "cell_type": "code",
   "execution_count": 39,
   "id": "341a8e77-6d34-4cca-aa8e-0c4d30631915",
   "metadata": {},
   "outputs": [
    {
     "data": {
      "text/plain": [
       "'Path: C:\\\\Users\\\\codenamewei\\\\Downloads\\\\temp 0MB'"
      ]
     },
     "execution_count": 39,
     "metadata": {},
     "output_type": "execute_result"
    }
   ],
   "source": [
    "outsize = Path(inputfolderpath).stat().st_size \n",
    "\n",
    "fileinfo = dict(path = inputfolderpath, size = byte2MB(outsize))\n",
    "\n",
    "templatestring.substitute(fileinfo)"
   ]
  },
  {
   "cell_type": "code",
   "execution_count": null,
   "id": "b053242f-b6e0-47c0-99bc-60cc13c8c6a1",
   "metadata": {},
   "outputs": [],
   "source": []
  }
 ],
 "metadata": {
  "kernelspec": {
   "display_name": "Python 3 (ipykernel)",
   "language": "python",
   "name": "python3"
  },
  "language_info": {
   "codemirror_mode": {
    "name": "ipython",
    "version": 3
   },
   "file_extension": ".py",
   "mimetype": "text/x-python",
   "name": "python",
   "nbconvert_exporter": "python",
   "pygments_lexer": "ipython3",
   "version": "3.10.6"
  }
 },
 "nbformat": 4,
 "nbformat_minor": 5
}
