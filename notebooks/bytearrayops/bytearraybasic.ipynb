{
 "cells": [
  {
   "cell_type": "markdown",
   "id": "9568d84e-1d2b-442e-935a-a9e59c12bf9b",
   "metadata": {},
   "source": [
    "### What is byte array\n",
    "- The bytearray class is a mutable sequence of integers from 0 to 255.\n",
    "\n",
    "### Built-in Bytearray function\n",
    "\n",
    "Built-in bytearray method returns a Python bytearray object, an array of the given bytes\n",
    "\n",
    "The general syntax for the bytearray method is given below:\n",
    "\n",
    "`bytearray([source[, encoding[, errors]]])`\n",
    "\n",
    "The bytearray method takes three optional parameters- source, encoding, and errors where\n",
    "\n",
    "    source is provided as initialization to the array. This parameter can take different data types – strings, integers, or an iterable,\n",
    "    encoding – encoding to be used if the source is a string,\n",
    "    errors – action to be taken whenever encoding fails for a given character.\n",
    "\n",
    "### Reference\n",
    "- https://codeigo.com/python/convert-image-into-byte-array"
   ]
  },
  {
   "cell_type": "markdown",
   "id": "a194d279-e222-4753-be7e-271f11c7e0df",
   "metadata": {},
   "source": [
    "### Integer to Bytearray\n",
    "\n",
    "- One integer is one byte"
   ]
  },
  {
   "cell_type": "code",
   "execution_count": 7,
   "id": "de08625d-c315-40bf-a1cc-b99dd123073e",
   "metadata": {},
   "outputs": [
    {
     "name": "stdout",
     "output_type": "stream",
     "text": [
      "bytearray(b'\\x00\\x00')\n"
     ]
    }
   ],
   "source": [
    "print(bytearray(2))"
   ]
  },
  {
   "cell_type": "code",
   "execution_count": 9,
   "id": "1a6384b8-466e-47cf-8698-69d03cf63be2",
   "metadata": {},
   "outputs": [
    {
     "name": "stdout",
     "output_type": "stream",
     "text": [
      "bytearray(b'\\x00\\x00\\x00\\x00')\n"
     ]
    }
   ],
   "source": [
    "print(bytearray(4))"
   ]
  },
  {
   "cell_type": "markdown",
   "id": "53ecdb8a-514f-40f5-8a77-c1e2db20b171",
   "metadata": {},
   "source": [
    "### Native Array to Bytearray"
   ]
  },
  {
   "cell_type": "code",
   "execution_count": 3,
   "id": "cd3ff8fb-e1b3-4bc4-aeaf-26ccfb844244",
   "metadata": {},
   "outputs": [
    {
     "name": "stdout",
     "output_type": "stream",
     "text": [
      "bytearray(b'\\xc7-\\xfd')\n"
     ]
    }
   ],
   "source": [
    "print(bytearray([199, 45, 253]))"
   ]
  },
  {
   "cell_type": "markdown",
   "id": "de7becf2-7d1d-4d4f-a8a2-8fb00cd20699",
   "metadata": {},
   "source": [
    "### Numpy array to Bytearray"
   ]
  },
  {
   "cell_type": "code",
   "execution_count": 2,
   "id": "aadc8ce4-cc4a-4f9a-996f-2e9370cdd4d9",
   "metadata": {},
   "outputs": [
    {
     "name": "stdout",
     "output_type": "stream",
     "text": [
      "bytearray(b'\\xc7\\x00\\x00\\x00-\\x00\\x00\\x00\\xfd\\x00\\x00\\x00')\n"
     ]
    }
   ],
   "source": [
    "import numpy as np\n",
    "print(bytearray(np.array([199, 45, 253])))"
   ]
  }
 ],
 "metadata": {
  "kernelspec": {
   "display_name": "Python 3 (ipykernel)",
   "language": "python",
   "name": "python3"
  },
  "language_info": {
   "codemirror_mode": {
    "name": "ipython",
    "version": 3
   },
   "file_extension": ".py",
   "mimetype": "text/x-python",
   "name": "python",
   "nbconvert_exporter": "python",
   "pygments_lexer": "ipython3",
   "version": "3.8.5"
  }
 },
 "nbformat": 4,
 "nbformat_minor": 5
}
