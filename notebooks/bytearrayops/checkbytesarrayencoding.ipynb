{
 "cells": [
  {
   "cell_type": "markdown",
   "id": "0d3e97d7-5915-4c62-8d24-b7b47522a265",
   "metadata": {},
   "source": [
    "### Check bytes array encoding"
   ]
  },
  {
   "cell_type": "code",
   "execution_count": 5,
   "id": "08847d0b-40d3-4891-8112-07f9a1c36915",
   "metadata": {},
   "outputs": [
    {
     "name": "stdout",
     "output_type": "stream",
     "text": [
      "ISO-8859-1\n"
     ]
    }
   ],
   "source": [
    "import chardet\n",
    "\n",
    "value = bytearray([199, 45, 253])\n",
    "the_encoding = chardet.detect(value)['encoding']\n",
    "\n",
    "print(the_encoding)"
   ]
  },
  {
   "cell_type": "markdown",
   "id": "2570f7f7-10b7-444e-bfd9-58eed09fb7d5",
   "metadata": {},
   "source": [
    "### Check bytes encoding"
   ]
  },
  {
   "cell_type": "code",
   "execution_count": 4,
   "id": "2c1ffaa9-4d18-441f-962d-d04a879739a6",
   "metadata": {},
   "outputs": [
    {
     "name": "stdout",
     "output_type": "stream",
     "text": [
      "ISO-8859-1\n"
     ]
    }
   ],
   "source": [
    "import chardet\n",
    "\n",
    "value = bytearray([199, 45, 253])\n",
    "the_encoding = chardet.detect(bytes(value))['encoding']\n",
    "\n",
    "print(the_encoding)"
   ]
  },
  {
   "cell_type": "code",
   "execution_count": null,
   "id": "7eed900b-4269-49c0-98ac-8ede2a5d25f1",
   "metadata": {},
   "outputs": [],
   "source": []
  }
 ],
 "metadata": {
  "kernelspec": {
   "display_name": "Python 3 (ipykernel)",
   "language": "python",
   "name": "python3"
  },
  "language_info": {
   "codemirror_mode": {
    "name": "ipython",
    "version": 3
   },
   "file_extension": ".py",
   "mimetype": "text/x-python",
   "name": "python",
   "nbconvert_exporter": "python",
   "pygments_lexer": "ipython3",
   "version": "3.8.5"
  }
 },
 "nbformat": 4,
 "nbformat_minor": 5
}
