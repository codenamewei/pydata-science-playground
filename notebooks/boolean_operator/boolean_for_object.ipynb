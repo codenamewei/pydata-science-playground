{
 "cells": [
  {
   "cell_type": "markdown",
   "metadata": {},
   "source": [
    "### What is false\n",
    "- None\n",
    "- 0 (Decimal or Fraction)"
   ]
  },
  {
   "cell_type": "code",
   "execution_count": 6,
   "metadata": {},
   "outputs": [
    {
     "name": "stdout",
     "output_type": "stream",
     "text": [
      "None is True\n",
      "0 is False\n",
      "0.0 is False\n",
      "[] is True\n",
      "set() is True\n"
     ]
    }
   ],
   "source": [
    "content = [None, 0, 0.0, list(), set()]\n",
    "\n",
    "for i in content:\n",
    "\n",
    "    if i == False:\n",
    "\n",
    "        print(f\"{i} is False\")\n",
    "    else:\n",
    "        print(f\"{i} is True\") "
   ]
  },
  {
   "cell_type": "markdown",
   "metadata": {},
   "source": [
    "### Custom Object\n",
    "- Any object can be tested for Boolean truth value"
   ]
  },
  {
   "cell_type": "code",
   "execution_count": 12,
   "metadata": {},
   "outputs": [
    {
     "name": "stdout",
     "output_type": "stream",
     "text": [
      "A B C\n",
      "myClass is False\n"
     ]
    }
   ],
   "source": [
    "class myClass:\n",
    "    \n",
    "    def __init__(self):\n",
    "        \n",
    "        print(\"A B C\")\n",
    "\n",
    "    def __str__(self):\n",
    "        \n",
    "        return \"myClass\"\n",
    "    \n",
    "myClassImp = myClass()\n",
    "\n",
    "if myClassImp == True:\n",
    "    \n",
    "    print(f\"{myClassImp} is True\")\n",
    "else:\n",
    "    print(f\"{myClassImp} is False\")"
   ]
  },
  {
   "cell_type": "code",
   "execution_count": null,
   "metadata": {},
   "outputs": [],
   "source": []
  }
 ],
 "metadata": {
  "kernelspec": {
   "display_name": "Python 3",
   "language": "python",
   "name": "python3"
  },
  "language_info": {
   "codemirror_mode": {
    "name": "ipython",
    "version": 3
   },
   "file_extension": ".py",
   "mimetype": "text/x-python",
   "name": "python",
   "nbconvert_exporter": "python",
   "pygments_lexer": "ipython3",
   "version": "3.8.5"
  }
 },
 "nbformat": 4,
 "nbformat_minor": 4
}
