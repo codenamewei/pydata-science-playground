{
 "cells": [
  {
   "cell_type": "markdown",
   "id": "1465e3b3-1e24-4f83-9474-fad92205aa65",
   "metadata": {},
   "source": [
    "- [x] create table\n",
    "- [x] count number of rows in table\n",
    "- [x] insert new data point\n",
    "- [x] insert data point but failed\n",
    "- [x] select data point, and count number of returns, get dict"
   ]
  },
  {
   "cell_type": "markdown",
   "id": "5692739a-dae5-4f8c-a30b-8fba49a94000",
   "metadata": {},
   "source": [
    "#### Use Session Begin to do commit() automatically"
   ]
  },
  {
   "cell_type": "code",
   "execution_count": 1,
   "id": "5c73598c-6c54-4e57-944f-189d9211d618",
   "metadata": {
    "tags": []
   },
   "outputs": [],
   "source": [
    "from sqlalchemy import create_engine\n",
    "\n",
    "template_engine = \"postgresql+psycopg://{db_username}:{db_password}@{db_host}:{db_port}\"\n",
    "\n",
    "engine_config = template_engine.format(\n",
    "        db_username=\"postgres\",\n",
    "        db_password=\"jHDSJEgp8W3rVf5\",\n",
    "        db_host=\"face-guardian-db.cosqamqjez6h.ap-northeast-2.rds.amazonaws.com\",\n",
    "        db_port=\"5432\",\n",
    "        db_name=\"postgres\")\n",
    "\n",
    "\n",
    "engine = create_engine(engine_config,\n",
    "    echo=True\n",
    ") "
   ]
  },
  {
   "cell_type": "code",
   "execution_count": 5,
   "id": "40735f2e-ae5b-44b9-bc42-6d55820e030b",
   "metadata": {
    "tags": []
   },
   "outputs": [],
   "source": [
    "from typing import List\n",
    "from typing import Optional\n",
    "from sqlalchemy.orm import Mapped\n",
    "from sqlalchemy.orm import mapped_column\n",
    "from sqlalchemy.orm import relationship\n",
    "from sqlalchemy import Table, Column, Integer, String\n",
    "from sqlalchemy import ForeignKey\n",
    "\n",
    "from sqlalchemy.orm import DeclarativeBase\n",
    "\n",
    "class Base(DeclarativeBase):\n",
    "    pass\n",
    "\n",
    "class User(Base):\n",
    "    \n",
    "    __tablename__ = \"user_account\"\n",
    "    \n",
    "    id: Mapped[int] = mapped_column(primary_key=True)\n",
    "    name: Mapped[str] = mapped_column(String(30), primary_key=True)\n",
    "    fullname: Mapped[Optional[str]]\n",
    "    \n",
    "    def __repr__(self) -> str:\n",
    "        return f\"User(id={self.id!r}, name={self.name!r}, fullname={self.fullname!r})\"\n",
    "    \n",
    "\n"
   ]
  },
  {
   "cell_type": "markdown",
   "id": "8aef9158-43be-4351-bb6e-c4a1f3978b15",
   "metadata": {},
   "source": [
    "## create table"
   ]
  },
  {
   "cell_type": "code",
   "execution_count": 6,
   "id": "fd83f810-4473-432a-95b6-ccf2f8801364",
   "metadata": {
    "tags": []
   },
   "outputs": [
    {
     "name": "stdout",
     "output_type": "stream",
     "text": [
      "2023-03-17 13:48:44,929 INFO sqlalchemy.engine.Engine BEGIN (implicit)\n",
      "2023-03-17 13:48:44,932 INFO sqlalchemy.engine.Engine \n",
      "CREATE TABLE user_account (\n",
      "\tid INTEGER NOT NULL, \n",
      "\tname VARCHAR(30) NOT NULL, \n",
      "\tfullname VARCHAR, \n",
      "\tPRIMARY KEY (id, name)\n",
      ")\n",
      "\n",
      "\n",
      "2023-03-17 13:48:44,933 INFO sqlalchemy.engine.Engine [no key 0.00150s] {}\n",
      "2023-03-17 13:48:44,947 INFO sqlalchemy.engine.Engine ROLLBACK\n",
      "!!!Failed to create table\n",
      "(psycopg.errors.DuplicateTable) relation \"user_account\" already exists\n",
      "[SQL: \n",
      "CREATE TABLE user_account (\n",
      "\tid INTEGER NOT NULL, \n",
      "\tname VARCHAR(30) NOT NULL, \n",
      "\tfullname VARCHAR, \n",
      "\tPRIMARY KEY (id, name)\n",
      ")\n",
      "\n",
      "]\n",
      "(Background on this error at: https://sqlalche.me/e/20/f405)\n"
     ]
    }
   ],
   "source": [
    "import sqlalchemy\n",
    "try:\n",
    "    \n",
    "    #checkfirst is optional, implicitly set to True so it wont contribute to error\n",
    "    Base.metadata.create_all(engine, checkfirst = False) \n",
    "    \n",
    "except sqlalchemy.exc.ProgrammingError as e:\n",
    "    \n",
    "    print(\"!!!Failed to create table\")\n",
    "    print(e)\n",
    "    "
   ]
  },
  {
   "cell_type": "markdown",
   "id": "ebec13e4-c6ce-4c31-a9d9-8ce18751bc58",
   "metadata": {
    "tags": []
   },
   "source": [
    "## insert new data point"
   ]
  },
  {
   "cell_type": "code",
   "execution_count": 7,
   "id": "0912e6ad-543d-44e7-9293-fbe138ad5cbd",
   "metadata": {
    "tags": []
   },
   "outputs": [
    {
     "name": "stdout",
     "output_type": "stream",
     "text": [
      "IdentitySet([User(id=0, name='squidward', fullname='Squidward Tentacles'), User(id=1, name='ehkrabs', fullname='Eugene H. Krabs')])\n",
      "Before flushing\n",
      "0\n",
      "1\n",
      "2023-03-17 13:48:46,293 INFO sqlalchemy.engine.Engine BEGIN (implicit)\n",
      "2023-03-17 13:48:46,296 INFO sqlalchemy.engine.Engine INSERT INTO user_account (id, name, fullname) VALUES (%(id)s::INTEGER, %(name)s::VARCHAR(30), %(fullname)s::VARCHAR)\n",
      "2023-03-17 13:48:46,297 INFO sqlalchemy.engine.Engine [generated in 0.00134s] [{'id': 0, 'name': 'squidward', 'fullname': 'Squidward Tentacles'}, {'id': 1, 'name': 'ehkrabs', 'fullname': 'Eugene H. Krabs'}]\n",
      "After flushing\n",
      "0\n",
      "1\n",
      "2023-03-17 13:48:46,385 INFO sqlalchemy.engine.Engine COMMIT\n"
     ]
    }
   ],
   "source": [
    "from sqlalchemy.orm import sessionmaker\n",
    "from sqlalchemy.exc import IntegrityError\n",
    "\n",
    "\n",
    "Session = sessionmaker(engine)\n",
    "\n",
    "with Session.begin() as session:\n",
    "    \n",
    "    try:\n",
    "        \n",
    "        squidward = User(id = 0, name=\"squidward\", fullname=\"Squidward Tentacles\")\n",
    "        krabs = User(id = 1, name=\"ehkrabs\", fullname=\"Eugene H. Krabs\")\n",
    "        session.add(squidward)\n",
    "        session.add(krabs)\n",
    "\n",
    "        ### check the state of Session using `Session.new`\n",
    "        print(session.new)\n",
    "\n",
    "        print(\"Before flushing\")\n",
    "        print(squidward.id)\n",
    "        print(krabs.id)\n",
    "\n",
    "\n",
    "        ###flushing (create sql queries)\n",
    "        session.flush()\n",
    "\n",
    "        ### autogenerated id attributes\n",
    "        print(\"After flushing\")\n",
    "        print(squidward.id)\n",
    "        print(krabs.id)\n",
    "    \n",
    "    except IntegrityError as e:\n",
    "        \n",
    "        print(\"!!!Found error!!!\")\n",
    "        print(e)\n",
    "    \n",
    "    ### commit is not necessary with Session begin \n",
    "    #session.commit()\n",
    "    \n",
    "    ### session close is also called implicitly\n",
    "    #session.close()"
   ]
  },
  {
   "cell_type": "markdown",
   "id": "bc5f2f0b-a5a2-4e9d-a405-01b8c2afd117",
   "metadata": {
    "tags": []
   },
   "source": [
    "## insert data point, but failed"
   ]
  },
  {
   "cell_type": "code",
   "execution_count": 8,
   "id": "74845b7c-1599-4aa2-8a81-07ceaa9e82dc",
   "metadata": {
    "tags": []
   },
   "outputs": [
    {
     "name": "stdout",
     "output_type": "stream",
     "text": [
      "!!!Key Error!!!\n",
      "'ngme' is an invalid keyword argument for User\n"
     ]
    }
   ],
   "source": [
    "from sqlalchemy.orm import sessionmaker\n",
    "from sqlalchemy.exc import IntegrityError\n",
    "\n",
    "\n",
    "Session = sessionmaker(engine)\n",
    "\n",
    "with Session.begin() as session:\n",
    "    \n",
    "    try:\n",
    "        \n",
    "        squidward = User(id = 3, ngme=\"squidward\", fullname=\"Squidward Tentacles\")\n",
    "        session.add(squidward)\n",
    "\n",
    "        ### check the state of Session using `Session.new`\n",
    "        print(session.new)\n",
    "\n",
    "        print(\"Before flushing\")\n",
    "        print(squidward.id)\n",
    "\n",
    "\n",
    "        ###flushing (create sql queries)\n",
    "        session.flush()\n",
    "\n",
    "        ### autogenerated id attributes\n",
    "        print(\"After flushing\")\n",
    "        print(squidward.id)\n",
    "    \n",
    "    except TypeError as e:\n",
    "        \n",
    "        print(\"!!!Key Error!!!\")\n",
    "        print(e)\n",
    "    "
   ]
  },
  {
   "cell_type": "markdown",
   "id": "828a1c32-6257-4ce6-9ab3-6797376ce6da",
   "metadata": {},
   "source": [
    "## select data point"
   ]
  },
  {
   "cell_type": "code",
   "execution_count": 55,
   "id": "794fe681-9c11-4dc2-b5f6-da785adb7455",
   "metadata": {
    "tags": []
   },
   "outputs": [
    {
     "name": "stdout",
     "output_type": "stream",
     "text": [
      "2023-03-17 14:04:02,073 INFO sqlalchemy.engine.Engine BEGIN (implicit)\n",
      "2023-03-17 14:04:02,075 INFO sqlalchemy.engine.Engine SELECT user_account.id, user_account.name, user_account.fullname \n",
      "FROM user_account\n",
      "2023-03-17 14:04:02,077 INFO sqlalchemy.engine.Engine [cached since 907.8s ago] {}\n",
      "-----------\n",
      "[{'User': User(id=0, name='squidward', fullname='Squidward Tentacles')}, {'User': User(id=1, name='ehkrabs', fullname='Eugene H. Krabs')}]\n",
      "-----------\n",
      "User(id=0, name='squidward', fullname='Squidward Tentacles')\n",
      "User(id=1, name='ehkrabs', fullname='Eugene H. Krabs')\n",
      "2023-03-17 14:04:02,091 INFO sqlalchemy.engine.Engine COMMIT\n"
     ]
    }
   ],
   "source": [
    "from sqlalchemy import select\n",
    "\n",
    "with Session.begin() as session:\n",
    "\n",
    "    #select with filter\n",
    "    users = session.execute(select(User))\n",
    "    output = users.mappings().all()\n",
    "    \n",
    "    print(\"-----------\")\n",
    "    print(output)\n",
    "    print(\"-----------\")\n",
    "    for o in output:\n",
    "        print(o.get(\"User\").name)"
   ]
  },
  {
   "cell_type": "markdown",
   "id": "f8c77528-8217-4e04-8b7a-9206a60ba820",
   "metadata": {},
   "source": [
    "### select key but not found "
   ]
  },
  {
   "cell_type": "code",
   "execution_count": 56,
   "id": "b6d9141f-3e04-4ffd-964c-dadae59f39f5",
   "metadata": {
    "tags": []
   },
   "outputs": [
    {
     "name": "stdout",
     "output_type": "stream",
     "text": [
      "2023-03-17 14:04:13,849 INFO sqlalchemy.engine.Engine BEGIN (implicit)\n",
      "2023-03-17 14:04:13,851 INFO sqlalchemy.engine.Engine SELECT user_account.id, user_account.name, user_account.fullname \n",
      "FROM user_account \n",
      "WHERE user_account.id = %(id_1)s::INTEGER\n",
      "2023-03-17 14:04:13,853 INFO sqlalchemy.engine.Engine [cached since 771.5s ago] {'id_1': 3}\n",
      "2023-03-17 14:04:13,902 INFO sqlalchemy.engine.Engine COMMIT\n",
      "not found\n"
     ]
    }
   ],
   "source": [
    "with Session.begin() as session:\n",
    "\n",
    "    #select with filter\n",
    "    ehkrabsclone = session.execute(select(User).filter_by(id=3))\n",
    "    \n",
    "    output = users.mappings().all()\n",
    "    \n",
    "if not outputs:\n",
    "    \n",
    "    print(\"not found\")"
   ]
  },
  {
   "cell_type": "markdown",
   "id": "a242b1a4-7792-4f41-af76-f46571848d30",
   "metadata": {},
   "source": [
    "### count number of rows in table"
   ]
  },
  {
   "cell_type": "code",
   "execution_count": 22,
   "id": "6648b63f-902b-456c-8d41-eef319782609",
   "metadata": {
    "tags": []
   },
   "outputs": [
    {
     "name": "stdout",
     "output_type": "stream",
     "text": [
      "2023-03-17 13:52:44,578 INFO sqlalchemy.engine.Engine BEGIN (implicit)\n",
      "2023-03-17 13:52:44,588 INFO sqlalchemy.engine.Engine SELECT count(*) AS count_1 \n",
      "FROM (SELECT user_account.id AS user_account_id, user_account.name AS user_account_name, user_account.fullname AS user_account_fullname \n",
      "FROM user_account) AS anon_1\n",
      "2023-03-17 13:52:44,589 INFO sqlalchemy.engine.Engine [generated in 0.00134s] {}\n",
      "2\n"
     ]
    }
   ],
   "source": [
    "# CREATE A SESSION OBJECT TO INITIATE QUERY IN DATABASE\n",
    "from sqlalchemy.orm import sessionmaker\n",
    "Session = sessionmaker(bind = engine)\n",
    "session = Session()\n",
    " \n",
    "# SELECT COUNT(*) FROM Actor\n",
    "result = session.query(User).count()\n",
    "\n",
    "print(result)"
   ]
  },
  {
   "cell_type": "code",
   "execution_count": null,
   "id": "414218c1-738a-4543-8c20-aca8369a3cde",
   "metadata": {},
   "outputs": [],
   "source": []
  }
 ],
 "metadata": {
  "kernelspec": {
   "display_name": "Python 3",
   "language": "python",
   "name": "python3"
  },
  "language_info": {
   "codemirror_mode": {
    "name": "ipython",
    "version": 3
   },
   "file_extension": ".py",
   "mimetype": "text/x-python",
   "name": "python",
   "nbconvert_exporter": "python",
   "pygments_lexer": "ipython3",
   "version": "3.8.5"
  }
 },
 "nbformat": 4,
 "nbformat_minor": 5
}
