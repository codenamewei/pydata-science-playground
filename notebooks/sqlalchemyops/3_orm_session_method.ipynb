{
 "cells": [
  {
   "cell_type": "code",
   "execution_count": null,
   "id": "467235b7-d5b1-471f-ada4-a95fbf491d2b",
   "metadata": {},
   "outputs": [],
   "source": [
    "from sqlalchemy import create_engine\n",
    "\n",
    "template_engine = \"postgresql+psycopg://{db_username}:{db_password}@{db_host}:{db_port}\"\n",
    "\n",
    "engine_config = template_engine.format(\n",
    "        db_username=\"a\",\n",
    "        db_password=\"b\",\n",
    "        db_host=\"c.cosqamqjez6h.ap-northeast-2.rds.amazonaws.com\",\n",
    "        db_port=\"5432\",\n",
    "        db_name=\"d\")\n",
    "\n",
    "engine = create_engine(engine_config,\n",
    "    echo=True\n",
    ") "
   ]
  },
  {
   "cell_type": "markdown",
   "id": "38b2c54e-8632-49ac-b595-649b0e2808f9",
   "metadata": {
    "tags": []
   },
   "source": [
    "#### The fundamental transactional / database interactive object when using the ORM is called the Session.\n",
    "\n",
    "- Under the hood, Session is used, it refers to a Connection internally which it uses to emit SQL.\n",
    "- What if Session is used with non-ORM constructs,\n",
    "    - When the Session is used with non-ORM constructs, it passes through the SQL statements we give it and does not generally do things much differently from how the Connection does directly, so we can illustrate it here in terms of the simple textual SQL operations we’ve already learned.\n",
    "- The Session doesn’t actually hold onto the Connection object after it ends the transaction. It gets a new Connection from the Engine the next time it needs to execute SQL against the database."
   ]
  },
  {
   "cell_type": "markdown",
   "id": "9e1d847c-a17c-44d3-8209-9f1afa492ed4",
   "metadata": {},
   "source": [
    "### Method 1: Create Session"
   ]
  },
  {
   "cell_type": "code",
   "execution_count": null,
   "id": "ee76f974-c1d5-40db-bcf2-c28971c64ca9",
   "metadata": {},
   "outputs": [],
   "source": [
    "from sqlalchemy.orm import Session\n",
    "\n",
    "stmt = text(\"SELECT x, y FROM some_table WHERE y > :y ORDER BY x, y\")\n",
    "with Session(engine) as session:\n",
    "    result = session.execute(stmt, {\"y\": 6})\n",
    "    for row in result:\n",
    "        print(f\"x: {row.x}  y: {row.y}\")"
   ]
  },
  {
   "cell_type": "markdown",
   "id": "6bbed5b2-1e81-429a-8066-c76c90f9e283",
   "metadata": {},
   "source": [
    "1.1 Like Connection, Session also support \"commit-as-you-go\" feature"
   ]
  },
  {
   "cell_type": "code",
   "execution_count": null,
   "id": "dd16a004-6ae7-4b1c-b794-5662d44c2a5d",
   "metadata": {},
   "outputs": [],
   "source": [
    "with Session(engine) as session:\n",
    "    result = session.execute(\n",
    "        text(\"UPDATE some_table SET y=:y WHERE x=:x\"),\n",
    "        [{\"x\": 9, \"y\": 11}, {\"x\": 13, \"y\": 15}],\n",
    "    )\n",
    "    session.commit()"
   ]
  }
 ],
 "metadata": {
  "kernelspec": {
   "display_name": "Python 3",
   "language": "python",
   "name": "python3"
  },
  "language_info": {
   "codemirror_mode": {
    "name": "ipython",
    "version": 3
   },
   "file_extension": ".py",
   "mimetype": "text/x-python",
   "name": "python",
   "nbconvert_exporter": "python",
   "pygments_lexer": "ipython3",
   "version": "3.8.5"
  }
 },
 "nbformat": 4,
 "nbformat_minor": 5
}
