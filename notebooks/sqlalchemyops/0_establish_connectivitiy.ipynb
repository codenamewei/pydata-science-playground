{
 "cells": [
  {
   "cell_type": "markdown",
   "id": "89ec5c3d-0606-479b-ad8c-037ac2fcd44a",
   "metadata": {
    "tags": []
   },
   "source": [
    "### Establishing Connectivity - the Engine\n",
    "- The start of any SQLAlchemy application is an object called the Engine.\n",
    "- This object acts as a central source of connections to a particular database, \n",
    "  providing both a factory as well as a holding space called a connection pool for these database connections.\n",
    "- **The engine is typically a global object created just once for a particular database server**, \n",
    "  and is configured using a URL string which will describe how it should connect to the database host or backend."
   ]
  },
  {
   "cell_type": "code",
   "execution_count": 3,
   "id": "0cd1c6f7-1e27-45bd-b30d-f9aa39990c98",
   "metadata": {
    "tags": []
   },
   "outputs": [],
   "source": [
    "from sqlalchemy import create_engine\n",
    "\n",
    "template_engine = \"postgresql+psycopg://{db_username}:{db_password}@{db_host}:{db_port}\"\n",
    "\n",
    "engine_config = template_engine.format(\n",
    "        db_username=\"a\",\n",
    "        db_password=\"b\",\n",
    "        db_host=\"c.rds.amazonaws.com\",\n",
    "        db_port=\"5432\",\n",
    "        db_name=\"db-name\")\n",
    "\n",
    "\n",
    "# create database engine\n",
    "# The Engine, when first returned by create_engine(), has not actually tried to connect to the database yet; that happens only the first time it is asked to perform a task against the database. \n",
    "# This is a software design pattern known as lazy initialization.\n",
    "\n",
    "#echo = True makes Python logger to write to standard out \n",
    "engine = create_engine(engine_config,\n",
    "    echo=True\n",
    ")"
   ]
  }
 ],
 "metadata": {
  "kernelspec": {
   "display_name": "Python 3",
   "language": "python",
   "name": "python3"
  },
  "language_info": {
   "codemirror_mode": {
    "name": "ipython",
    "version": 3
   },
   "file_extension": ".py",
   "mimetype": "text/x-python",
   "name": "python",
   "nbconvert_exporter": "python",
   "pygments_lexer": "ipython3",
   "version": "3.8.5"
  }
 },
 "nbformat": 4,
 "nbformat_minor": 5
}
