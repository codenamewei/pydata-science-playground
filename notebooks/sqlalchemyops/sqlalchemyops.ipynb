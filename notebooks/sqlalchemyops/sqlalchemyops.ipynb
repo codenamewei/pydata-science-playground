{
 "cells": [
  {
   "cell_type": "code",
   "execution_count": 4,
   "id": "fb8e4362-2313-4c0e-9e03-4ab506a6664d",
   "metadata": {},
   "outputs": [],
   "source": [
    "from sqlalchemy import create_engine"
   ]
  },
  {
   "cell_type": "markdown",
   "id": "697cf258-7ca2-4d49-95db-86cab34f5ab5",
   "metadata": {},
   "source": [
    "- Engine class controls connectivity and behavior\n",
    "  ```\n",
    "  dialect[+driver]://user:password@host/dbname\n",
    "  example\n",
    "  mysql+pymysql://<username>:<password>@<host>/<dbname>\n",
    "  ```\n",
    "- `echo=True` for logging, otherwise silent it by doing `echo=None`"
   ]
  },
  {
   "cell_type": "code",
   "execution_count": 5,
   "id": "5a3a6dd2-03ef-4946-a214-263e47948fb4",
   "metadata": {},
   "outputs": [
    {
     "name": "stdout",
     "output_type": "stream",
     "text": [
      "2023-02-22 23:43:07,126 INFO sqlalchemy.engine.Engine select pg_catalog.version()\n",
      "2023-02-22 23:43:07,129 INFO sqlalchemy.engine.Engine [raw sql] {}\n",
      "2023-02-22 23:43:07,156 INFO sqlalchemy.engine.Engine select current_schema()\n",
      "2023-02-22 23:43:07,156 INFO sqlalchemy.engine.Engine [raw sql] {}\n",
      "2023-02-22 23:43:07,173 INFO sqlalchemy.engine.Engine show standard_conforming_strings\n",
      "2023-02-22 23:43:07,173 INFO sqlalchemy.engine.Engine [raw sql] {}\n"
     ]
    }
   ],
   "source": [
    "template_engine = \"postgresql+psycopg://{db_username}:{db_password}@{db_host}:{db_port}\"\n",
    "\n",
    "engine_config = template_engine.format(\n",
    "        db_username=\"postgres\",\n",
    "        db_password=\"jHDSJEgp8W3rVf5\",\n",
    "        db_host=\"face-guardian-db.cosqamqjez6h.ap-northeast-2.rds.amazonaws.com\",\n",
    "        db_port=\"5432\")\n",
    "\n",
    "\n",
    "# create database engine\n",
    "engine = create_engine(engine_config,\n",
    "    echo=True\n",
    ")\n",
    "\n",
    "connection = engine.connect()"
   ]
  },
  {
   "cell_type": "markdown",
   "id": "d29501c3-e7a1-475d-8931-f15aa4c7ae3d",
   "metadata": {},
   "source": [
    "## Create table\n",
    "- `MetaData` contains definitions of tables and associated objects such as index, view, triggers, etc."
   ]
  },
  {
   "cell_type": "code",
   "execution_count": 6,
   "id": "57adf12f-b8a9-42c7-bb42-19c6652b0dbd",
   "metadata": {},
   "outputs": [],
   "source": [
    "from sqlalchemy import Table, Column, Integer, String, MetaData\n",
    "meta = MetaData()\n",
    "\n",
    "students = Table(\n",
    "   'students', meta, \n",
    "   Column('id', Integer, primary_key = True), \n",
    "   Column('name', String), \n",
    "   Column('lastname', String), \n",
    ")"
   ]
  },
  {
   "cell_type": "markdown",
   "id": "a389a306-4e90-40ff-b8dd-fa044be6c67c",
   "metadata": {},
   "source": [
    "### The create_all() function uses the engine object to create all the defined table objects and stores the information in metadata.\n",
    "```\n",
    "CREATE TABLE students (\n",
    "   id INTEGER NOT NULL,\n",
    "   name VARCHAR,\n",
    "   lastname VARCHAR,\n",
    "   PRIMARY KEY (id)\n",
    ")\n",
    "```"
   ]
  },
  {
   "cell_type": "code",
   "execution_count": 7,
   "id": "1a7c5d41-1dcb-481b-96e5-fc1fae05290d",
   "metadata": {},
   "outputs": [
    {
     "name": "stdout",
     "output_type": "stream",
     "text": [
      "2023-02-22 23:43:12,492 INFO sqlalchemy.engine.Engine BEGIN (implicit)\n",
      "2023-02-22 23:43:12,496 INFO sqlalchemy.engine.Engine SELECT pg_catalog.pg_class.relname \n",
      "FROM pg_catalog.pg_class JOIN pg_catalog.pg_namespace ON pg_catalog.pg_namespace.oid = pg_catalog.pg_class.relnamespace \n",
      "WHERE pg_catalog.pg_class.relname = %(table_name)s::VARCHAR(64) COLLATE \"C\" AND pg_catalog.pg_class.relkind = ANY (ARRAY[%(param_1)s::VARCHAR, %(param_2)s::VARCHAR, %(param_3)s::VARCHAR, %(param_4)s::VARCHAR, %(param_5)s::VARCHAR]) AND pg_catalog.pg_table_is_visible(pg_catalog.pg_class.oid) AND pg_catalog.pg_namespace.nspname != %(nspname_1)s::VARCHAR(64) COLLATE \"C\"\n",
      "2023-02-22 23:43:12,496 INFO sqlalchemy.engine.Engine [generated in 0.00064s] {'table_name': 'students', 'param_1': 'r', 'param_2': 'p', 'param_3': 'f', 'param_4': 'v', 'param_5': 'm', 'nspname_1': 'pg_catalog'}\n",
      "2023-02-22 23:43:12,534 INFO sqlalchemy.engine.Engine \n",
      "CREATE TABLE students (\n",
      "\tid SERIAL NOT NULL, \n",
      "\tname VARCHAR, \n",
      "\tlastname VARCHAR, \n",
      "\tPRIMARY KEY (id)\n",
      ")\n",
      "\n",
      "\n",
      "2023-02-22 23:43:12,535 INFO sqlalchemy.engine.Engine [no key 0.00054s] {}\n",
      "2023-02-22 23:43:12,566 INFO sqlalchemy.engine.Engine COMMIT\n"
     ]
    }
   ],
   "source": [
    "meta.create_all(engine)"
   ]
  },
  {
   "cell_type": "markdown",
   "id": "e14a10ac-41a1-4568-9038-50bc296496b0",
   "metadata": {},
   "source": [
    "### insert\n",
    "```\n",
    "'INSERT INTO students (id, name, lastname) VALUES (:id, :name, :lastname)'\n",
    "```"
   ]
  },
  {
   "cell_type": "code",
   "execution_count": 10,
   "id": "a833937e-7a62-4825-830c-336f9f8b7afe",
   "metadata": {},
   "outputs": [
    {
     "data": {
      "text/plain": [
       "{'name': 'Karan'}"
      ]
     },
     "execution_count": 10,
     "metadata": {},
     "output_type": "execute_result"
    }
   ],
   "source": [
    "ins = students.insert().values(name = 'Karan')\n",
    "ins.compile().params\n"
   ]
  },
  {
   "cell_type": "code",
   "execution_count": null,
   "id": "be89aa33-d68d-464b-b077-cd8bb429ece0",
   "metadata": {},
   "outputs": [],
   "source": []
  }
 ],
 "metadata": {
  "kernelspec": {
   "display_name": "Python 3 (ipykernel)",
   "language": "python",
   "name": "python3"
  },
  "language_info": {
   "codemirror_mode": {
    "name": "ipython",
    "version": 3
   },
   "file_extension": ".py",
   "mimetype": "text/x-python",
   "name": "python",
   "nbconvert_exporter": "python",
   "pygments_lexer": "ipython3",
   "version": "3.8.5"
  }
 },
 "nbformat": 4,
 "nbformat_minor": 5
}
