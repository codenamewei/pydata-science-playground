{
 "cells": [
  {
   "cell_type": "code",
   "execution_count": 1,
   "id": "63b4931c",
   "metadata": {
    "tags": []
   },
   "outputs": [],
   "source": [
    "from sqlalchemy import create_engine"
   ]
  },
  {
   "cell_type": "markdown",
   "id": "80596b94",
   "metadata": {},
   "source": [
    "- Engine class controls connectivity and behavior\n",
    "  ```\n",
    "  dialect[+driver]://user:password@host/dbname\n",
    "  example\n",
    "  mysql+pymysql://<username>:<password>@<host>/<dbname>\n",
    "  ```\n",
    "- `echo=True` for logging, otherwise silent it by doing `echo=None`"
   ]
  },
  {
   "cell_type": "code",
   "execution_count": 2,
   "id": "2386d38b",
   "metadata": {
    "tags": []
   },
   "outputs": [
    {
     "name": "stdout",
     "output_type": "stream",
     "text": [
      "2023-02-23 08:39:29,502 INFO sqlalchemy.engine.Engine select pg_catalog.version()\n",
      "2023-02-23 08:39:29,503 INFO sqlalchemy.engine.Engine [raw sql] {}\n",
      "2023-02-23 08:39:29,519 INFO sqlalchemy.engine.Engine select current_schema()\n",
      "2023-02-23 08:39:29,520 INFO sqlalchemy.engine.Engine [raw sql] {}\n",
      "2023-02-23 08:39:29,543 INFO sqlalchemy.engine.Engine show standard_conforming_strings\n",
      "2023-02-23 08:39:29,544 INFO sqlalchemy.engine.Engine [raw sql] {}\n"
     ]
    }
   ],
   "source": [
    "template_engine = \"postgresql+psycopg://{db_username}:{db_password}@{db_host}:{db_port}\"\n",
    "\n",
    "engine_config = template_engine.format(\n",
    "        db_username=\"123\",\n",
    "        db_password=\"123\",\n",
    "        db_host=\"dummy.cosqamqjez6h.ap-northeast-2.rds.amazonaws.com\",\n",
    "        db_port=\"5432\",\n",
    "        db_name=\"students\")\n",
    "\n",
    "# create database engine\n",
    "engine = create_engine(engine_config,\n",
    "    echo=True\n",
    ")\n",
    "\n",
    "connection = engine.connect()"
   ]
  },
  {
   "cell_type": "markdown",
   "id": "3ef2c11d",
   "metadata": {},
   "source": [
    "## Create table\n",
    "- `MetaData` contains definitions of tables and associated objects such as index, view, triggers, etc."
   ]
  },
  {
   "cell_type": "code",
   "execution_count": 3,
   "id": "7129ecc9",
   "metadata": {
    "tags": []
   },
   "outputs": [],
   "source": [
    "from sqlalchemy import Table, Column, Integer, String, MetaData\n",
    "meta = MetaData()\n",
    "\n",
    "students = Table(\n",
    "   'students', meta, \n",
    "   Column('id', Integer, primary_key = True), \n",
    "   Column('name', String), \n",
    "   Column('lastname', String), \n",
    ")"
   ]
  },
  {
   "cell_type": "markdown",
   "id": "86fc8233",
   "metadata": {},
   "source": [
    "### The create_all() function uses the engine object to create all the defined table objects and stores the information in metadata.\n",
    "```\n",
    "CREATE TABLE students (\n",
    "   id INTEGER NOT NULL,\n",
    "   name VARCHAR,\n",
    "   lastname VARCHAR,\n",
    "   PRIMARY KEY (id)\n",
    ")\n",
    "```\n",
    "\n",
    "### when create successfully\n",
    "\n",
    "    <details>\n",
    "        ```\n",
    "        2023-02-23 08:46:00,951 INFO sqlalchemy.engine.Engine BEGIN (implicit)\n",
    "        2023-02-23 08:46:00,954 INFO sqlalchemy.engine.Engine SELECT pg_catalog.pg_class.relname \n",
    "        FROM pg_catalog.pg_class JOIN pg_catalog.pg_namespace ON pg_catalog.pg_namespace.oid = pg_catalog.pg_class.relnamespace \n",
    "        WHERE pg_catalog.pg_class.relname = %(table_name)s::VARCHAR(64) COLLATE \"C\" AND pg_catalog.pg_class.relkind = ANY (ARRAY[%(param_1)s::VARCHAR, %(param_2)s::VARCHAR, %(param_3)s::VARCHAR, %(param_4)s::VARCHAR, %(param_5)s::VARCHAR]) AND pg_catalog.pg_table_is_visible(pg_catalog.pg_class.oid) AND pg_catalog.pg_namespace.nspname != %(nspname_1)s::VARCHAR(64) COLLATE \"C\"\n",
    "        2023-02-23 08:46:00,956 INFO sqlalchemy.engine.Engine [cached since 391.3s ago] {'table_name': 'students', 'param_1': 'r', 'param_2': 'p', 'param_3': 'f', 'param_4': 'v', 'param_5': 'm', 'nspname_1': 'pg_catalog'}\n",
    "        2023-02-23 08:46:00,975 INFO sqlalchemy.engine.Engine \n",
    "        CREATE TABLE students (\n",
    "            id SERIAL NOT NULL, \n",
    "            name VARCHAR, \n",
    "            lastname VARCHAR, \n",
    "            PRIMARY KEY (id)\n",
    "        )\n",
    "\n",
    "\n",
    "        2023-02-23 08:46:00,976 INFO sqlalchemy.engine.Engine [no key 0.00117s] {}\n",
    "        2023-02-23 08:46:00,993 INFO sqlalchemy.engine.Engine COMMIT\n",
    "        ```\n",
    "    </details>\n",
    "\n",
    "### when already created (FIXME: How to identify if table already created)\n",
    "\n",
    "   <details>\n",
    "        ```\n",
    "        2023-02-23 08:46:32,362 INFO sqlalchemy.engine.Engine BEGIN (implicit)\n",
    "        2023-02-23 08:46:32,364 INFO sqlalchemy.engine.Engine SELECT pg_catalog.pg_class.relname \n",
    "        FROM pg_catalog.pg_class JOIN pg_catalog.pg_namespace ON pg_catalog.pg_namespace.oid = pg_catalog.pg_class.relnamespace \n",
    "        WHERE pg_catalog.pg_class.relname = %(table_name)s::VARCHAR(64) COLLATE \"C\" AND pg_catalog.pg_class.relkind = ANY (ARRAY[%(param_1)s::VARCHAR, %(param_2)s::VARCHAR, %(param_3)s::VARCHAR, %(param_4)s::VARCHAR, %(param_5)s::VARCHAR]) AND pg_catalog.pg_table_is_visible(pg_catalog.pg_class.oid) AND pg_catalog.pg_namespace.nspname != %(nspname_1)s::VARCHAR(64) COLLATE \"C\"\n",
    "        2023-02-23 08:46:32,366 INFO sqlalchemy.engine.Engine [cached since 422.7s ago] {'table_name': 'students', 'param_1': 'r', 'param_2': 'p', 'param_3': 'f', 'param_4': 'v', 'param_5': 'm', 'nspname_1': 'pg_catalog'}\n",
    "        2023-02-23 08:46:32,383 INFO sqlalchemy.engine.Engine COMMIT\n",
    "        ```\n",
    "    </details>"
   ]
  },
  {
   "cell_type": "code",
   "execution_count": 7,
   "id": "fd1d71c4",
   "metadata": {
    "tags": []
   },
   "outputs": [
    {
     "name": "stdout",
     "output_type": "stream",
     "text": [
      "2023-02-23 08:46:32,362 INFO sqlalchemy.engine.Engine BEGIN (implicit)\n",
      "2023-02-23 08:46:32,364 INFO sqlalchemy.engine.Engine SELECT pg_catalog.pg_class.relname \n",
      "FROM pg_catalog.pg_class JOIN pg_catalog.pg_namespace ON pg_catalog.pg_namespace.oid = pg_catalog.pg_class.relnamespace \n",
      "WHERE pg_catalog.pg_class.relname = %(table_name)s::VARCHAR(64) COLLATE \"C\" AND pg_catalog.pg_class.relkind = ANY (ARRAY[%(param_1)s::VARCHAR, %(param_2)s::VARCHAR, %(param_3)s::VARCHAR, %(param_4)s::VARCHAR, %(param_5)s::VARCHAR]) AND pg_catalog.pg_table_is_visible(pg_catalog.pg_class.oid) AND pg_catalog.pg_namespace.nspname != %(nspname_1)s::VARCHAR(64) COLLATE \"C\"\n",
      "2023-02-23 08:46:32,366 INFO sqlalchemy.engine.Engine [cached since 422.7s ago] {'table_name': 'students', 'param_1': 'r', 'param_2': 'p', 'param_3': 'f', 'param_4': 'v', 'param_5': 'm', 'nspname_1': 'pg_catalog'}\n",
      "2023-02-23 08:46:32,383 INFO sqlalchemy.engine.Engine COMMIT\n"
     ]
    }
   ],
   "source": [
    "meta.create_all(engine)"
   ]
  }
 ],
 "metadata": {
  "kernelspec": {
   "display_name": "Python 3",
   "language": "python",
   "name": "python3"
  },
  "language_info": {
   "codemirror_mode": {
    "name": "ipython",
    "version": 3
   },
   "file_extension": ".py",
   "mimetype": "text/x-python",
   "name": "python",
   "nbconvert_exporter": "python",
   "pygments_lexer": "ipython3",
   "version": "3.8.5"
  }
 },
 "nbformat": 4,
 "nbformat_minor": 5
}
