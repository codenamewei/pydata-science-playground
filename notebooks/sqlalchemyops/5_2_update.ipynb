{
 "cells": [
  {
   "cell_type": "markdown",
   "id": "5692739a-dae5-4f8c-a30b-8fba49a94000",
   "metadata": {},
   "source": [
    "#### As usual, there are two method\n",
    "- [Core method](https://docs.sqlalchemy.org/en/20/tutorial/data_insert.html#tutorial-core-insert)\n",
    "- [ORM method](https://docs.sqlalchemy.org/en/20/tutorial/orm_data_manipulation.html#tutorial-orm-data-manipulation)\n",
    "\n",
    "#### here illustrated orm method\n",
    "\n",
    "#### refresher/prerequisite to the orm method\n",
    "- [Executing with an ORM Session - introduces how to make an ORM Session object](https://docs.sqlalchemy.org/en/20/tutorial/orm_data_manipulation.html#tutorial-orm-data-manipulation)\n",
    "- [Using ORM Declarative Forms to Define Table Metadata - where we set up our ORM mappings of the User and Address entities](https://docs.sqlalchemy.org/en/20/tutorial/metadata.html#tutorial-orm-table-metadata)\n",
    "- [Selecting ORM Entities and Columns - a few examples on how to run SELECT statements for entities like User](https://docs.sqlalchemy.org/en/20/tutorial/data_select.html#tutorial-selecting-orm-entities)"
   ]
  },
  {
   "cell_type": "code",
   "execution_count": 4,
   "id": "40735f2e-ae5b-44b9-bc42-6d55820e030b",
   "metadata": {
    "tags": []
   },
   "outputs": [],
   "source": [
    "from typing import List\n",
    "from typing import Optional\n",
    "from sqlalchemy.orm import Mapped\n",
    "from sqlalchemy.orm import mapped_column\n",
    "from sqlalchemy.orm import relationship\n",
    "from sqlalchemy import Table, Column, Integer, String\n",
    "from sqlalchemy import ForeignKey\n",
    "from sqlalchemy.orm import Session\n",
    "from sqlalchemy.orm import DeclarativeBase\n",
    "\n",
    "class Base(DeclarativeBase):\n",
    "    pass\n",
    "\n",
    "class User(Base):\n",
    "    \n",
    "    __tablename__ = \"user_account\"\n",
    "    \n",
    "    id: Mapped[int] = mapped_column(primary_key=True)\n",
    "    name: Mapped[str] = mapped_column(String(30))\n",
    "    fullname: Mapped[Optional[str]]\n",
    "    addresses: Mapped[List[\"Address\"]] = relationship(back_populates=\"user\")\n",
    "    \n",
    "    def __repr__(self) -> str:\n",
    "        return f\"User(id={self.id!r}, name={self.name!r}, fullname={self.fullname!r})\"\n",
    "\n",
    "class Address(Base):\n",
    "    \n",
    "    __tablename__ = \"address\"\n",
    "    \n",
    "    id: Mapped[int] = mapped_column(primary_key=True)\n",
    "    email_address: Mapped[str]\n",
    "    user_id = mapped_column(ForeignKey(\"user_account.id\"))\n",
    "    user: Mapped[User] = relationship(back_populates=\"addresses\")\n",
    "    \n",
    "    def __repr__(self) -> str:\n",
    "        return f\"Address(id={self.id!r}, email_address={self.email_address!r})\"\n",
    "    \n",
    "from sqlalchemy import create_engine\n",
    "\n",
    "template_engine = \"postgresql+psycopg://{db_username}:{db_password}@{db_host}:{db_port}\"\n",
    "\n",
    "\n",
    "engine_config = template_engine.format(\n",
    "        db_username=\"a\",\n",
    "        db_password=\"v\",\n",
    "        db_host=\"c.cosqamqjez6h.ap-northeast-2.rds.amazonaws.com\",\n",
    "        db_port=\"5432\",\n",
    "        db_name=\"\")\n",
    "\n",
    "\n",
    "\n",
    "engine = create_engine(engine_config,\n",
    "    echo=True\n",
    ") \n"
   ]
  },
  {
   "cell_type": "markdown",
   "id": "ebec13e4-c6ce-4c31-a9d9-8ce18751bc58",
   "metadata": {
    "tags": []
   },
   "source": [
    "## select"
   ]
  },
  {
   "cell_type": "code",
   "execution_count": 7,
   "id": "f61a1b83-368e-474c-9ece-839cf8c9b428",
   "metadata": {
    "tags": []
   },
   "outputs": [
    {
     "name": "stdout",
     "output_type": "stream",
     "text": [
      "2023-03-06 21:45:01,260 INFO sqlalchemy.engine.Engine BEGIN (implicit)\n",
      "2023-03-06 21:45:01,263 INFO sqlalchemy.engine.Engine SELECT user_account.id AS user_account_id, user_account.name AS user_account_name, user_account.fullname AS user_account_fullname \n",
      "FROM user_account \n",
      "WHERE user_account.id = %(pk_1)s::INTEGER\n",
      "2023-03-06 21:45:01,264 INFO sqlalchemy.engine.Engine [cached since 445.8s ago] {'pk_1': 10}\n",
      "None\n",
      "2023-03-06 21:45:01,330 INFO sqlalchemy.engine.Engine SELECT user_account.id, user_account.name, user_account.fullname \n",
      "FROM user_account \n",
      "WHERE user_account.name = %(name_1)s::VARCHAR(30)\n",
      "2023-03-06 21:45:01,331 INFO sqlalchemy.engine.Engine [cached since 445.9s ago] {'name_1': 'ehkrabs'}\n",
      "(User(id=15, name='ehkrabs', fullname='Eugene H. Krabs'),)\n",
      "(User(id=17, name='ehkrabs', fullname='Eugene H. Krabs'),)\n",
      "2023-03-06 21:45:01,339 INFO sqlalchemy.engine.Engine ROLLBACK\n"
     ]
    }
   ],
   "source": [
    "from sqlalchemy import select\n",
    "\n",
    "with Session(engine) as session:\n",
    "\n",
    "    squidwardclone = session.get(User, 10)\n",
    "    \n",
    "    print(squidwardclone)\n",
    "\n",
    "    #select with filter\n",
    "    ehkrabsclone = session.execute(select(User).filter_by(name=\"ehkrabs\"))\n",
    "    \n",
    "    for item in ehkrabsclone:\n",
    "        print(item)"
   ]
  },
  {
   "cell_type": "markdown",
   "id": "1038ed1b-ea9d-45e5-97d1-50e1b63f1ac9",
   "metadata": {},
   "source": [
    "### Update"
   ]
  },
  {
   "cell_type": "code",
   "execution_count": 11,
   "id": "f12803db-c67a-419b-adbc-f7a87f3c0b06",
   "metadata": {
    "tags": []
   },
   "outputs": [
    {
     "name": "stdout",
     "output_type": "stream",
     "text": [
      "2023-03-06 21:46:00,758 INFO sqlalchemy.engine.Engine BEGIN (implicit)\n",
      "2023-03-06 21:46:00,760 INFO sqlalchemy.engine.Engine UPDATE user_account SET fullname=%(fullname)s::VARCHAR WHERE user_account.id = %(id_1)s::INTEGER\n",
      "2023-03-06 21:46:00,761 INFO sqlalchemy.engine.Engine [cached since 26.83s ago] {'fullname': 'Pegasus Extraordinaire', 'id_1': 15}\n",
      "2023-03-06 21:46:00,779 INFO sqlalchemy.engine.Engine COMMIT\n",
      "2023-03-06 21:46:00,790 INFO sqlalchemy.engine.Engine BEGIN (implicit)\n",
      "2023-03-06 21:46:00,791 INFO sqlalchemy.engine.Engine SELECT user_account.id, user_account.name, user_account.fullname \n",
      "FROM user_account \n",
      "WHERE user_account.id = %(id_1)s::INTEGER\n",
      "2023-03-06 21:46:00,792 INFO sqlalchemy.engine.Engine [cached since 26.67s ago] {'id_1': 15}\n",
      "(User(id=15, name='ehkrabs', fullname='Pegasus Extraordinaire'),)\n",
      "2023-03-06 21:46:00,819 INFO sqlalchemy.engine.Engine ROLLBACK\n"
     ]
    }
   ],
   "source": [
    "from sqlalchemy import update\n",
    "from sqlalchemy.orm import Session\n",
    "\n",
    "with Session(engine) as session:\n",
    "\n",
    "    session.execute(update(User)\n",
    "        .where(User.id == 15)\n",
    "        .values(fullname=\"Pegasus Extraordinaire\")\n",
    "    )\n",
    "    \n",
    "    session.flush()\n",
    "    \n",
    "    session.commit()\n",
    "\n",
    "    updateddata = session.execute(select(User).filter_by(id=15)).first()\n",
    "    print(updateddata)\n",
    "    "
   ]
  }
 ],
 "metadata": {
  "kernelspec": {
   "display_name": "Python 3",
   "language": "python",
   "name": "python3"
  },
  "language_info": {
   "codemirror_mode": {
    "name": "ipython",
    "version": 3
   },
   "file_extension": ".py",
   "mimetype": "text/x-python",
   "name": "python",
   "nbconvert_exporter": "python",
   "pygments_lexer": "ipython3",
   "version": "3.8.5"
  }
 },
 "nbformat": 4,
 "nbformat_minor": 5
}
