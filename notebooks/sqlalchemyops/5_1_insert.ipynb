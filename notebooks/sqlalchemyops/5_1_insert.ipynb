{
 "cells": [
  {
   "cell_type": "markdown",
   "id": "5692739a-dae5-4f8c-a30b-8fba49a94000",
   "metadata": {},
   "source": [
    "#### As usual, there are two method\n",
    "- [Core method](https://docs.sqlalchemy.org/en/20/tutorial/data_insert.html#tutorial-core-insert)\n",
    "- [ORM method](https://docs.sqlalchemy.org/en/20/tutorial/orm_data_manipulation.html#tutorial-orm-data-manipulation)\n",
    "\n",
    "#### here illustrated orm method\n",
    "\n",
    "#### refresher/prerequisite to the orm method\n",
    "- [Executing with an ORM Session - introduces how to make an ORM Session object](https://docs.sqlalchemy.org/en/20/tutorial/orm_data_manipulation.html#tutorial-orm-data-manipulation)\n",
    "- [Using ORM Declarative Forms to Define Table Metadata - where we set up our ORM mappings of the User and Address entities](https://docs.sqlalchemy.org/en/20/tutorial/metadata.html#tutorial-orm-table-metadata)\n",
    "- [Selecting ORM Entities and Columns - a few examples on how to run SELECT statements for entities like User](https://docs.sqlalchemy.org/en/20/tutorial/data_select.html#tutorial-selecting-orm-entities)"
   ]
  },
  {
   "cell_type": "code",
   "execution_count": 1,
   "id": "40735f2e-ae5b-44b9-bc42-6d55820e030b",
   "metadata": {
    "tags": []
   },
   "outputs": [],
   "source": [
    "from typing import List\n",
    "from typing import Optional\n",
    "from sqlalchemy.orm import Mapped\n",
    "from sqlalchemy.orm import mapped_column\n",
    "from sqlalchemy.orm import relationship\n",
    "from sqlalchemy import Table, Column, Integer, String\n",
    "from sqlalchemy import ForeignKey\n",
    "\n",
    "from sqlalchemy.orm import DeclarativeBase\n",
    "\n",
    "class Base(DeclarativeBase):\n",
    "    pass\n",
    "\n",
    "class User(Base):\n",
    "    \n",
    "    __tablename__ = \"user_account\"\n",
    "    \n",
    "    id: Mapped[int] = mapped_column(primary_key=True)\n",
    "    name: Mapped[str] = mapped_column(String(30))\n",
    "    fullname: Mapped[Optional[str]]\n",
    "    addresses: Mapped[List[\"Address\"]] = relationship(back_populates=\"user\")\n",
    "    \n",
    "    def __repr__(self) -> str:\n",
    "        return f\"User(id={self.id!r}, name={self.name!r}, fullname={self.fullname!r})\"\n",
    "\n",
    "class Address(Base):\n",
    "    \n",
    "    __tablename__ = \"address\"\n",
    "    \n",
    "    id: Mapped[int] = mapped_column(primary_key=True)\n",
    "    email_address: Mapped[str]\n",
    "    user_id = mapped_column(ForeignKey(\"user_account.id\"))\n",
    "    user: Mapped[User] = relationship(back_populates=\"addresses\")\n",
    "    \n",
    "    def __repr__(self) -> str:\n",
    "        return f\"Address(id={self.id!r}, email_address={self.email_address!r})\"\n",
    "    \n",
    "from sqlalchemy import create_engine\n",
    "\n",
    "template_engine = \"postgresql+psycopg://{db_username}:{db_password}@{db_host}:{db_port}\"\n",
    "\n",
    "engine_config = template_engine.format(\n",
    "        db_username=\"a\",\n",
    "        db_password=\"b\",\n",
    "        db_host=\"c-db.cosqamqjez6h.ap-northeast-2.rds.amazonaws.com\",\n",
    "        db_port=\"5432\",\n",
    "        db_name=\"\")\n",
    "\n",
    "engine = create_engine(engine_config,\n",
    "    echo=True\n",
    ") \n"
   ]
  },
  {
   "cell_type": "markdown",
   "id": "c51de306-7a71-4300-9762-90844daf0088",
   "metadata": {},
   "source": [
    "### Adding objects to a session"
   ]
  },
  {
   "cell_type": "code",
   "execution_count": null,
   "id": "e439a8e8-eae5-4943-b28b-661677c95fbe",
   "metadata": {
    "tags": []
   },
   "outputs": [
    {
     "name": "stdout",
     "output_type": "stream",
     "text": [
      "IdentitySet([User(id=None, name='squidward', fullname='Squidward Tentacles'), User(id=None, name='ehkrabs', fullname='Eugene H. Krabs')])\n",
      "Before flushing\n",
      "None\n",
      "None\n",
      "2023-03-06 10:29:19,445 INFO sqlalchemy.engine.Engine select pg_catalog.version()\n",
      "2023-03-06 10:29:19,446 INFO sqlalchemy.engine.Engine [raw sql] {}\n",
      "2023-03-06 10:29:19,470 INFO sqlalchemy.engine.Engine select current_schema()\n",
      "2023-03-06 10:29:19,471 INFO sqlalchemy.engine.Engine [raw sql] {}\n",
      "2023-03-06 10:29:19,484 INFO sqlalchemy.engine.Engine show standard_conforming_strings\n",
      "2023-03-06 10:29:19,485 INFO sqlalchemy.engine.Engine [raw sql] {}\n",
      "2023-03-06 10:29:19,526 INFO sqlalchemy.engine.Engine BEGIN (implicit)\n",
      "2023-03-06 10:29:19,531 INFO sqlalchemy.engine.Engine INSERT INTO user_account (name, fullname) VALUES (%(name__0)s::VARCHAR(30), %(fullname__0)s::VARCHAR), (%(name__1)s::VARCHAR(30), %(fullname__1)s::VARCHAR) RETURNING user_account.id\n",
      "2023-03-06 10:29:19,532 INFO sqlalchemy.engine.Engine [generated in 0.00024s (insertmanyvalues)] {'fullname__0': 'Squidward Tentacles', 'name__0': 'squidward', 'fullname__1': 'Eugene H. Krabs', 'name__1': 'ehkrabs'}\n",
      "After flushing\n",
      "16\n",
      "17\n",
      "2023-03-06 10:29:19,552 INFO sqlalchemy.engine.Engine COMMIT\n"
     ]
    }
   ],
   "source": [
    "from sqlalchemy.orm import Session\n",
    "\n",
    "with Session(engine) as session:\n",
    "    \n",
    "    squidward = User(name=\"squidward\", fullname=\"Squidward Tentacles\")\n",
    "    krabs = User(name=\"ehkrabs\", fullname=\"Eugene H. Krabs\")\n",
    "    session.add(squidward)\n",
    "    session.add(krabs)\n",
    "    #session.commit()\n",
    "    \n",
    "    ### check the state of Session using `Session.new`\n",
    "    print(session.new)\n",
    "    \n",
    "    print(\"Before flushing\")\n",
    "    print(squidward.id)\n",
    "    print(krabs.id)\n",
    "    \n",
    "    \n",
    "    ###flushing (create sql queries)\n",
    "    session.flush()\n",
    "    \n",
    "    ### autogenerated id attributes\n",
    "    print(\"After flushing\")\n",
    "    print(squidward.id)\n",
    "    print(krabs.id)\n",
    "    \n",
    "    ### transaction from above remain open until Session.commit() or Session.rollback() or Session.close() being calle    \n",
    "    session.commit()"
   ]
  },
  {
   "cell_type": "markdown",
   "id": "1038ed1b-ea9d-45e5-97d1-50e1b63f1ac9",
   "metadata": {},
   "source": [
    "### SELECT "
   ]
  },
  {
   "cell_type": "code",
   "execution_count": 9,
   "id": "f12803db-c67a-419b-adbc-f7a87f3c0b06",
   "metadata": {
    "tags": []
   },
   "outputs": [
    {
     "name": "stdout",
     "output_type": "stream",
     "text": [
      "2023-03-06 10:30:27,542 INFO sqlalchemy.engine.Engine BEGIN (implicit)\n",
      "2023-03-06 10:30:27,545 INFO sqlalchemy.engine.Engine SELECT user_account.id AS user_account_id, user_account.name AS user_account_name, user_account.fullname AS user_account_fullname \n",
      "FROM user_account \n",
      "WHERE user_account.id = %(pk_1)s::INTEGER\n",
      "2023-03-06 10:30:27,547 INFO sqlalchemy.engine.Engine [cached since 67.97s ago] {'pk_1': 10}\n",
      "None\n",
      "2023-03-06 10:30:27,570 INFO sqlalchemy.engine.Engine SELECT user_account.id, user_account.name, user_account.fullname \n",
      "FROM user_account \n",
      "WHERE user_account.name = %(name_1)s::VARCHAR(30)\n",
      "2023-03-06 10:30:27,571 INFO sqlalchemy.engine.Engine [cached since 67.98s ago] {'name_1': 'ehkrabs'}\n",
      "(User(id=15, name='ehkrabs', fullname='Eugene H. Krabs'),)\n",
      "(User(id=17, name='ehkrabs', fullname='Eugene H. Krabs'),)\n",
      "2023-03-06 10:30:27,579 INFO sqlalchemy.engine.Engine ROLLBACK\n"
     ]
    }
   ],
   "source": [
    "from sqlalchemy import select\n",
    "\n",
    "with Session(engine) as session:\n",
    "\n",
    "    squidwardclone = session.get(User, 10)\n",
    "    \n",
    "    print(squidwardclone)\n",
    "\n",
    "    #select with filter\n",
    "    ehkrabsclone = session.execute(select(User).filter_by(name=\"ehkrabs\"))\n",
    "    \n",
    "    for item in ehkrabsclone:\n",
    "        print(item)"
   ]
  },
  {
   "cell_type": "markdown",
   "id": "3df20539-83ba-4507-b763-ed6af6cf5f89",
   "metadata": {},
   "source": [
    "if not used within `with`\n",
    "it's best to explicitly close the Session when we are done with it.\n",
    "\n",
    "`session.close()`"
   ]
  },
  {
   "cell_type": "code",
   "execution_count": null,
   "id": "fb98e590-0571-49d2-b4d7-df202859bf57",
   "metadata": {},
   "outputs": [],
   "source": []
  }
 ],
 "metadata": {
  "kernelspec": {
   "display_name": "Python 3",
   "language": "python",
   "name": "python3"
  },
  "language_info": {
   "codemirror_mode": {
    "name": "ipython",
    "version": 3
   },
   "file_extension": ".py",
   "mimetype": "text/x-python",
   "name": "python",
   "nbconvert_exporter": "python",
   "pygments_lexer": "ipython3",
   "version": "3.8.5"
  }
 },
 "nbformat": 4,
 "nbformat_minor": 5
}
