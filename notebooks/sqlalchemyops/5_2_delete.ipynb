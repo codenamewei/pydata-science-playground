{
 "cells": [
  {
   "cell_type": "markdown",
   "id": "5692739a-dae5-4f8c-a30b-8fba49a94000",
   "metadata": {},
   "source": [
    "#### As usual, there are two method\n",
    "- [Core method](https://docs.sqlalchemy.org/en/20/tutorial/data_insert.html#tutorial-core-insert)\n",
    "- [ORM method](https://docs.sqlalchemy.org/en/20/tutorial/orm_data_manipulation.html#tutorial-orm-data-manipulation)\n",
    "\n",
    "#### here illustrated orm method\n",
    "\n",
    "#### refresher/prerequisite to the orm method\n",
    "- [Executing with an ORM Session - introduces how to make an ORM Session object](https://docs.sqlalchemy.org/en/20/tutorial/orm_data_manipulation.html#tutorial-orm-data-manipulation)\n",
    "- [Using ORM Declarative Forms to Define Table Metadata - where we set up our ORM mappings of the User and Address entities](https://docs.sqlalchemy.org/en/20/tutorial/metadata.html#tutorial-orm-table-metadata)\n",
    "- [Selecting ORM Entities and Columns - a few examples on how to run SELECT statements for entities like User](https://docs.sqlalchemy.org/en/20/tutorial/data_select.html#tutorial-selecting-orm-entities)"
   ]
  },
  {
   "cell_type": "code",
   "execution_count": null,
   "id": "40735f2e-ae5b-44b9-bc42-6d55820e030b",
   "metadata": {
    "tags": []
   },
   "outputs": [],
   "source": [
    "from typing import List\n",
    "from typing import Optional\n",
    "from sqlalchemy.orm import Mapped\n",
    "from sqlalchemy.orm import mapped_column\n",
    "from sqlalchemy.orm import relationship\n",
    "from sqlalchemy import Table, Column, Integer, String\n",
    "from sqlalchemy import ForeignKey\n",
    "\n",
    "from sqlalchemy.orm import DeclarativeBase\n",
    "\n",
    "class Base(DeclarativeBase):\n",
    "    pass\n",
    "\n",
    "class User(Base):\n",
    "    \n",
    "    __tablename__ = \"user_account\"\n",
    "    \n",
    "    id: Mapped[int] = mapped_column(primary_key=True)\n",
    "    name: Mapped[str] = mapped_column(String(30))\n",
    "    fullname: Mapped[Optional[str]]\n",
    "    addresses: Mapped[List[\"Address\"]] = relationship(back_populates=\"user\")\n",
    "    \n",
    "    def __repr__(self) -> str:\n",
    "        return f\"User(id={self.id!r}, name={self.name!r}, fullname={self.fullname!r})\"\n",
    "\n",
    "class Address(Base):\n",
    "    \n",
    "    __tablename__ = \"address\"\n",
    "    \n",
    "    id: Mapped[int] = mapped_column(primary_key=True)\n",
    "    email_address: Mapped[str]\n",
    "    user_id = mapped_column(ForeignKey(\"user_account.id\"))\n",
    "    user: Mapped[User] = relationship(back_populates=\"addresses\")\n",
    "    \n",
    "    def __repr__(self) -> str:\n",
    "        return f\"Address(id={self.id!r}, email_address={self.email_address!r})\"\n",
    "    \n",
    "from sqlalchemy import create_engine\n",
    "\n",
    "template_engine = \"postgresql+psycopg://{db_username}:{db_password}@{db_host}:{db_port}\"\n",
    "\n",
    "engine_config = template_engine.format(\n",
    "        db_username=\"a\",\n",
    "        db_password=\"b\",\n",
    "        db_host=\"c.cosqamqjez6h.ap-northeast-2.rds.amazonaws.com\",\n",
    "        db_port=\"5432\",\n",
    "        db_name=\"d\")\n",
    "\n",
    "\n",
    "engine = create_engine(engine_config,\n",
    "    echo=True\n",
    ") \n"
   ]
  },
  {
   "cell_type": "markdown",
   "id": "1038ed1b-ea9d-45e5-97d1-50e1b63f1ac9",
   "metadata": {},
   "source": [
    "### DELETE "
   ]
  },
  {
   "cell_type": "code",
   "execution_count": null,
   "id": "f12803db-c67a-419b-adbc-f7a87f3c0b06",
   "metadata": {
    "tags": []
   },
   "outputs": [],
   "source": [
    "from sqlalchemy import delete, select\n",
    "from sqlalchemy.orm import Session\n",
    "\n",
    "with Session(engine) as session:\n",
    "\n",
    "    squidward = session.execute(select(User).filter_by(name=\"squidward\")).scalar_one()\n",
    "    \n",
    "    # NOTHING ACTUALLY HAPPENS YET UNTIL A FLUSH PROCEEDS\n",
    "    session.delete(squidward)\n",
    "    \n",
    "    session.flush()\n",
    "    \n",
    "    session.commit()\n",
    "\n"
   ]
  },
  {
   "cell_type": "code",
   "execution_count": null,
   "id": "4981c8f5-fd79-44a4-8b46-4e751b9aef41",
   "metadata": {
    "tags": []
   },
   "outputs": [],
   "source": [
    "squidward.__dict__"
   ]
  },
  {
   "cell_type": "code",
   "execution_count": null,
   "id": "764181a7-638e-4352-ae4e-0f091c90861a",
   "metadata": {},
   "outputs": [],
   "source": []
  }
 ],
 "metadata": {
  "kernelspec": {
   "display_name": "Python 3",
   "language": "python",
   "name": "python3"
  },
  "language_info": {
   "codemirror_mode": {
    "name": "ipython",
    "version": 3
   },
   "file_extension": ".py",
   "mimetype": "text/x-python",
   "name": "python",
   "nbconvert_exporter": "python",
   "pygments_lexer": "ipython3",
   "version": "3.8.5"
  }
 },
 "nbformat": 4,
 "nbformat_minor": 5
}
