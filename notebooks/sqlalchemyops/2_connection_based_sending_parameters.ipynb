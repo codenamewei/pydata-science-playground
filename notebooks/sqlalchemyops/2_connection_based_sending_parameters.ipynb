{
 "cells": [
  {
   "cell_type": "code",
   "execution_count": null,
   "id": "4808f98e-def6-425e-b2e9-63ce56a5d8c4",
   "metadata": {},
   "outputs": [],
   "source": [
    "from sqlalchemy import create_engine\n",
    "\n",
    "template_engine = \"postgresql+psycopg://{db_username}:{db_password}@{db_host}:{db_port}\"\n",
    "\n",
    "engine_config = template_engine.format(\n",
    "        db_username=\"a\",\n",
    "        db_password=\"b\",\n",
    "        db_host=\"c.cosqamqjez6h.ap-northeast-2.rds.amazonaws.com\",\n",
    "        db_port=\"5432\",\n",
    "        db_name=\"d\")\n",
    "\n",
    "engine = create_engine(engine_config,\n",
    "    echo=True\n",
    ")"
   ]
  },
  {
   "cell_type": "code",
   "execution_count": null,
   "id": "20140a92-e1a6-4895-a696-3f648135a75d",
   "metadata": {},
   "outputs": [],
   "source": [
    "### Sending single parameter"
   ]
  },
  {
   "cell_type": "code",
   "execution_count": null,
   "id": "f74fec60-e84e-44c2-8f9d-6af15a40568e",
   "metadata": {},
   "outputs": [],
   "source": [
    "with engine.connect() as conn:\n",
    "    result = conn.execute(text(\"SELECT x, y FROM some_table WHERE y > :y\"), {\"y\": 2})\n",
    "    for row in result:\n",
    "        print(f\"x: {row.x}  y: {row.y}\")"
   ]
  },
  {
   "cell_type": "code",
   "execution_count": null,
   "id": "92eba48d-d65b-47cd-b301-8526560c08f7",
   "metadata": {},
   "outputs": [],
   "source": [
    "### Sending multiple parameter \n",
    "- multiple dictionary set can send to `Connection.execute()` which works as executemany\n",
    "- A key behavioral difference between “execute” and “executemany” is that the latter doesn’t support returning of result rows,\n",
    "  even if the statement includes the RETURNING clause. \n",
    "    - For INSERT statement, theres an excpetion that it can be inovked for many rows but still support RETURNING"
   ]
  },
  {
   "cell_type": "code",
   "execution_count": null,
   "id": "f61bbc0f-07ff-4bb0-b92d-f9c5e742745c",
   "metadata": {},
   "outputs": [],
   "source": [
    "with engine.connect() as conn:\n",
    "    conn.execute(\n",
    "        text(\"INSERT INTO some_table (x, y) VALUES (:x, :y)\"),\n",
    "        [{\"x\": 11, \"y\": 12}, {\"x\": 13, \"y\": 14}],\n",
    "    )\n",
    "    conn.commit()"
   ]
  }
 ],
 "metadata": {
  "kernelspec": {
   "display_name": "Python 3",
   "language": "python",
   "name": "python3"
  },
  "language_info": {
   "codemirror_mode": {
    "name": "ipython",
    "version": 3
   },
   "file_extension": ".py",
   "mimetype": "text/x-python",
   "name": "python",
   "nbconvert_exporter": "python",
   "pygments_lexer": "ipython3",
   "version": "3.8.5"
  }
 },
 "nbformat": 4,
 "nbformat_minor": 5
}
