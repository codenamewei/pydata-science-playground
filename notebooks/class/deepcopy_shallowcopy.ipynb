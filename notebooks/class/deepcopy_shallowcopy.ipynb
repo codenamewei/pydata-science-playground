{
 "cells": [
  {
   "cell_type": "markdown",
   "id": "0187a1fa-34c8-4054-b87c-be3460097879",
   "metadata": {},
   "source": [
    "# Deep Copy and Shallow Copy"
   ]
  },
  {
   "cell_type": "code",
   "execution_count": 1,
   "id": "2565655c-f7d4-4323-a67e-9e9030d63cf5",
   "metadata": {},
   "outputs": [],
   "source": [
    "class Smurf:\n",
    "    def __init__(self):\n",
    "        pass\n",
    "    \n",
    "    @property\n",
    "    def beardcolor(self):\n",
    "        return self._beardcolor\n",
    "    \n",
    "    @beardcolor.setter\n",
    "    def beardcolor(self, color):\n",
    "        self._beardcolor = color\n",
    "        \n",
    "    def __str__(self):\n",
    "        \n",
    "        return f\"I'm smurf with {self._beardcolor} beard\\n\""
   ]
  },
  {
   "cell_type": "code",
   "execution_count": 2,
   "id": "f0acc2fd-cba4-4b78-be2b-f79b3a5e07a8",
   "metadata": {},
   "outputs": [
    {
     "data": {
      "text/plain": [
       "'blue'"
      ]
     },
     "execution_count": 2,
     "metadata": {},
     "output_type": "execute_result"
    }
   ],
   "source": [
    "smurf = Smurf()\n",
    "smurf.beardcolor = \"blue\"\n",
    "smurf.beardcolor"
   ]
  },
  {
   "cell_type": "markdown",
   "id": "deb6d584-83b2-4087-ab96-2bd445f7258d",
   "metadata": {},
   "source": [
    "# Copy using = operator "
   ]
  },
  {
   "cell_type": "code",
   "execution_count": 3,
   "id": "a615aade-00c7-4bc0-8f0b-22a04e6305f6",
   "metadata": {},
   "outputs": [
    {
     "name": "stdout",
     "output_type": "stream",
     "text": [
      "I'm smurf with orange beard\n",
      "\n",
      "I'm smurf with orange beard\n",
      "\n"
     ]
    }
   ],
   "source": [
    "same_smurf = smurf\n",
    "\n",
    "same_smurf.beardcolor\n",
    "\n",
    "same_smurf.beardcolor = 'orange'\n",
    "\n",
    "smurf.beardcolor\n",
    "\n",
    "# Both smurf have the same id, they are the same \n",
    "print(smurf)\n",
    "print(same_smurf)"
   ]
  },
  {
   "cell_type": "markdown",
   "id": "7e82e42c-60b4-4346-8fd2-7eeedc6547ae",
   "metadata": {},
   "source": [
    "### have the original values unchanged and only modify the new values or vice versa\n",
    "- Shallow copy (Affect nested object)\n",
    "- Deep copy (Independent new nested object)"
   ]
  },
  {
   "cell_type": "markdown",
   "id": "33437c28-45da-4971-bbab-cebec663da8b",
   "metadata": {},
   "source": [
    "### Shallow Copy"
   ]
  },
  {
   "cell_type": "code",
   "execution_count": 4,
   "id": "6e3a90be-643d-4554-9cbd-871bb3b09ceb",
   "metadata": {},
   "outputs": [
    {
     "data": {
      "text/plain": [
       "'orange'"
      ]
     },
     "execution_count": 4,
     "metadata": {},
     "output_type": "execute_result"
    }
   ],
   "source": [
    "import copy\n",
    "\n",
    "second_smurf = copy.copy(smurf)\n",
    "\n",
    "second_smurf.beardcolor\n",
    "\n",
    "second_smurf.beardcolor = 'pink'\n",
    "\n",
    "smurf.beardcolor\n"
   ]
  },
  {
   "cell_type": "code",
   "execution_count": 5,
   "id": "8cf7f634-0cbc-469a-899a-461d54d1fada",
   "metadata": {},
   "outputs": [],
   "source": [
    "## Adding nested object in child_list does not impact parent list"
   ]
  },
  {
   "cell_type": "code",
   "execution_count": 6,
   "id": "fb68ac02-775c-4801-bcbc-5a0fa4f7d158",
   "metadata": {},
   "outputs": [
    {
     "name": "stdout",
     "output_type": "stream",
     "text": [
      "I'm smurf with orange beard\n",
      "\n",
      "I'm smurf with pink beard\n",
      "\n",
      "-------------------------\n",
      "I'm smurf with orange beard\n",
      "\n",
      "I'm smurf with pink beard\n",
      "\n",
      "I'm smurf with green beard\n",
      "\n"
     ]
    },
    {
     "data": {
      "text/plain": [
       "[None, None, None]"
      ]
     },
     "execution_count": 6,
     "metadata": {},
     "output_type": "execute_result"
    }
   ],
   "source": [
    "parent_list = [smurf, second_smurf]\n",
    "child_list = copy.copy(parent_list)\n",
    "\n",
    "third_smurf = Smurf()\n",
    "third_smurf.beardcolor = \"green\"\n",
    "child_list.append(third_smurf)\n",
    "\n",
    "[print(i) for i in parent_list]\n",
    "print(\"-------------------------\")\n",
    "[print(i) for i in child_list]"
   ]
  },
  {
   "cell_type": "markdown",
   "id": "665c5aac-562a-4f5c-9bf7-97511687c190",
   "metadata": {},
   "source": [
    "### See how the address of the nested object is the same"
   ]
  },
  {
   "cell_type": "code",
   "execution_count": 7,
   "id": "b23bc94e-8e72-4ecc-b9ec-a1292ef064e6",
   "metadata": {},
   "outputs": [
    {
     "name": "stdout",
     "output_type": "stream",
     "text": [
      "[<__main__.Smurf object at 0x0000019D76DBC100>, <__main__.Smurf object at 0x0000019D76E6D8E0>]\n",
      "-------------------------\n",
      "[<__main__.Smurf object at 0x0000019D76DBC100>, <__main__.Smurf object at 0x0000019D76E6D8E0>, <__main__.Smurf object at 0x0000019D76EAC3A0>]\n"
     ]
    }
   ],
   "source": [
    "print([i for i in parent_list])\n",
    "print(\"-------------------------\")\n",
    "print([i for i in child_list])"
   ]
  },
  {
   "cell_type": "markdown",
   "id": "081d61a1-2dfb-40a6-b1c9-05bf6ee2a9f2",
   "metadata": {},
   "source": [
    "### Any changes to the nested object will impact both parent and child"
   ]
  },
  {
   "cell_type": "code",
   "execution_count": 11,
   "id": "f3043ce7-5c5d-447d-989d-bf5af9f34660",
   "metadata": {},
   "outputs": [
    {
     "name": "stdout",
     "output_type": "stream",
     "text": [
      "I'm smurf with unicorn beard\n",
      "\n",
      "I'm smurf with pink beard\n",
      "\n",
      "-------------------------\n",
      "I'm smurf with unicorn beard\n",
      "\n",
      "I'm smurf with pink beard\n",
      "\n"
     ]
    },
    {
     "data": {
      "text/plain": [
       "[None, None]"
      ]
     },
     "execution_count": 11,
     "metadata": {},
     "output_type": "execute_result"
    }
   ],
   "source": [
    "parent_list[0].beardcolor = \"unicorn\"\n",
    "\n",
    "[print(i) for i in parent_list]\n",
    "print(\"-------------------------\")\n",
    "[print(i) for i in child_list]"
   ]
  },
  {
   "cell_type": "markdown",
   "id": "e9206454-ee68-4007-a4ee-1df1ad978d21",
   "metadata": {},
   "source": [
    "## Deep Copy"
   ]
  },
  {
   "cell_type": "code",
   "execution_count": 10,
   "id": "43f6bc5e-ccaf-41bc-9b6b-522d5c318f79",
   "metadata": {},
   "outputs": [
    {
     "name": "stdout",
     "output_type": "stream",
     "text": [
      "I'm smurf with unicorn beard\n",
      "\n",
      "I'm smurf with pink beard\n",
      "\n",
      "-------------------------\n",
      "I'm smurf with unicorn beard\n",
      "\n",
      "I'm smurf with pink beard\n",
      "\n"
     ]
    },
    {
     "data": {
      "text/plain": [
       "[None, None]"
      ]
     },
     "execution_count": 10,
     "metadata": {},
     "output_type": "execute_result"
    }
   ],
   "source": [
    "parent_list = [smurf, second_smurf]\n",
    "child_list = copy.deepcopy(parent_list)\n",
    "\n",
    "[print(i) for i in parent_list]\n",
    "print(\"-------------------------\")\n",
    "[print(i) for i in child_list]"
   ]
  },
  {
   "cell_type": "markdown",
   "id": "dff34c7b-ef66-430b-ade8-2eeec0ed5135",
   "metadata": {},
   "source": [
    "### Different Addresses"
   ]
  },
  {
   "cell_type": "code",
   "execution_count": 12,
   "id": "278f0a6d-6867-412f-a333-e7b4b53e693f",
   "metadata": {},
   "outputs": [
    {
     "name": "stdout",
     "output_type": "stream",
     "text": [
      "[<__main__.Smurf object at 0x0000019D76DBC100>, <__main__.Smurf object at 0x0000019D76E6D8E0>]\n",
      "-------------------------\n",
      "[<__main__.Smurf object at 0x0000019D76EAC0D0>, <__main__.Smurf object at 0x0000019D76EAC7C0>]\n"
     ]
    }
   ],
   "source": [
    "print([i for i in parent_list])\n",
    "print(\"-------------------------\")\n",
    "print([i for i in child_list])"
   ]
  },
  {
   "cell_type": "code",
   "execution_count": 13,
   "id": "d61d9677-f577-4b37-a03f-34d239f71ec4",
   "metadata": {},
   "outputs": [
    {
     "name": "stdout",
     "output_type": "stream",
     "text": [
      "I'm smurf with dark dull black beard\n",
      "\n",
      "I'm smurf with pink beard\n",
      "\n",
      "-------------------------\n",
      "I'm smurf with unicorn beard\n",
      "\n",
      "I'm smurf with pink beard\n",
      "\n"
     ]
    },
    {
     "data": {
      "text/plain": [
       "[None, None]"
      ]
     },
     "execution_count": 13,
     "metadata": {},
     "output_type": "execute_result"
    }
   ],
   "source": [
    "parent_list[0].beardcolor = \"dark dull black\"\n",
    "\n",
    "[print(i) for i in parent_list]\n",
    "print(\"-------------------------\")\n",
    "[print(i) for i in child_list]"
   ]
  },
  {
   "cell_type": "code",
   "execution_count": 14,
   "id": "fa1c9689-9804-4f63-a916-ae4ee2796ba1",
   "metadata": {},
   "outputs": [
    {
     "name": "stdout",
     "output_type": "stream",
     "text": [
      "I'm smurf with dark dull black beard\n",
      "\n",
      "I'm smurf with pink beard\n",
      "\n",
      "-------------------------\n",
      "I'm smurf with neon_green beard\n",
      "\n",
      "I'm smurf with pink beard\n",
      "\n"
     ]
    },
    {
     "data": {
      "text/plain": [
       "[None, None]"
      ]
     },
     "execution_count": 14,
     "metadata": {},
     "output_type": "execute_result"
    }
   ],
   "source": [
    "child_list[0].beardcolor = \"neon_green\"\n",
    "\n",
    "[print(i) for i in parent_list]\n",
    "print(\"-------------------------\")\n",
    "[print(i) for i in child_list]"
   ]
  },
  {
   "cell_type": "markdown",
   "id": "57667789-379c-4eb0-bb46-5d504e27a376",
   "metadata": {},
   "source": [
    "### Shallow copy / deep copy doesnt impact single object (cause it's not nested object)"
   ]
  },
  {
   "cell_type": "code",
   "execution_count": 22,
   "id": "a6a201f6-7837-4ae0-a1c9-f7a1253e29da",
   "metadata": {},
   "outputs": [
    {
     "name": "stdout",
     "output_type": "stream",
     "text": [
      "I'm smurf with dark dull black beard\n",
      "\n",
      "I'm smurf with dark dull black beard\n",
      "\n"
     ]
    }
   ],
   "source": [
    "test_smurf = copy.copy(smurf)"
   ]
  },
  {
   "cell_type": "code",
   "execution_count": 23,
   "id": "b208354f-a045-45be-ab50-4f9559040e28",
   "metadata": {},
   "outputs": [
    {
     "data": {
      "text/plain": [
       "<__main__.Smurf at 0x19d76dbc100>"
      ]
     },
     "execution_count": 23,
     "metadata": {},
     "output_type": "execute_result"
    }
   ],
   "source": [
    "smurf"
   ]
  },
  {
   "cell_type": "code",
   "execution_count": 24,
   "id": "2eac85db-87c5-40b0-b051-a2e33fb1dce7",
   "metadata": {},
   "outputs": [
    {
     "data": {
      "text/plain": [
       "<__main__.Smurf at 0x19d76e4bf70>"
      ]
     },
     "execution_count": 24,
     "metadata": {},
     "output_type": "execute_result"
    }
   ],
   "source": [
    "test_smurf"
   ]
  },
  {
   "cell_type": "markdown",
   "id": "bdaa5fba-0007-428e-9b3c-91a5f0c6179f",
   "metadata": {},
   "source": [
    "### Naturally, the changes to the parent object wont impact the child object"
   ]
  },
  {
   "cell_type": "code",
   "execution_count": 26,
   "id": "ef457b7f-af9f-479e-b37b-34f6711edf37",
   "metadata": {},
   "outputs": [
    {
     "name": "stdout",
     "output_type": "stream",
     "text": [
      "I'm smurf with white beard\n",
      "\n",
      "I'm smurf with dark dull black beard\n",
      "\n"
     ]
    }
   ],
   "source": [
    "smurf.beardcolor = \"white\"\n",
    "print(smurf)\n",
    "print(test_smurf)"
   ]
  },
  {
   "cell_type": "code",
   "execution_count": null,
   "id": "691ed592-6e83-4285-bc83-d9331e3ecc3b",
   "metadata": {},
   "outputs": [],
   "source": []
  }
 ],
 "metadata": {
  "kernelspec": {
   "display_name": "Python 3 (ipykernel)",
   "language": "python",
   "name": "python3"
  },
  "language_info": {
   "codemirror_mode": {
    "name": "ipython",
    "version": 3
   },
   "file_extension": ".py",
   "mimetype": "text/x-python",
   "name": "python",
   "nbconvert_exporter": "python",
   "pygments_lexer": "ipython3",
   "version": "3.8.5"
  }
 },
 "nbformat": 4,
 "nbformat_minor": 5
}
