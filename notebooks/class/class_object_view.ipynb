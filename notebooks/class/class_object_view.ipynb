{
 "cells": [
  {
   "cell_type": "markdown",
   "id": "613e0ae2-ed3b-4ee3-b246-73873ded8512",
   "metadata": {},
   "source": [
    "# Print object address "
   ]
  },
  {
   "cell_type": "code",
   "execution_count": 2,
   "id": "1600f6af-fb53-4439-a6eb-64edf82b274c",
   "metadata": {},
   "outputs": [],
   "source": [
    "class Smurf:\n",
    "    def __init__(self):\n",
    "        pass\n",
    "    \n",
    "    @property\n",
    "    def beardcolor(self):\n",
    "        return self._beardcolor\n",
    "    \n",
    "    @beardcolor.setter\n",
    "    def beardcolor(self, color):\n",
    "        self._beardcolor = color\n",
    "        \n",
    "    def __str__(self):\n",
    "        \n",
    "        return f\"I'm smurf with {self._beardcolor} beard\\n\""
   ]
  },
  {
   "cell_type": "code",
   "execution_count": 6,
   "id": "c0de3ab4-41eb-405a-98f8-7a5eeb704758",
   "metadata": {},
   "outputs": [
    {
     "data": {
      "text/plain": [
       "<__main__.Smurf at 0x1bbd65ba340>"
      ]
     },
     "execution_count": 14,
     "metadata": {},
     "output_type": "execute_result"
    }
   ],
   "source": [
    "a = Smurf()\n",
    "smurf.beardcolor = \"black\"\n",
    "\n",
    "a"
   ]
  },
  {
   "cell_type": "code",
   "execution_count": null,
   "id": "02ab894a-8b0b-4b64-8139-3cc7f61981ca",
   "metadata": {},
   "outputs": [
    {
     "data": {
      "text/plain": [
       "<__main__.Smurf at 0x1bbd7b94fd0>"
      ]
     },
     "execution_count": 15,
     "metadata": {},
     "output_type": "execute_result"
    }
   ],
   "source": [
    "import copy\n",
    "b = copy.copy(a)\n",
    "\n",
    "b"
   ]
  },
  {
   "cell_type": "markdown",
   "id": "64d9794b-4f8c-4406-beba-f568195ce146",
   "metadata": {},
   "source": [
    "### ```print object.__str__()```"
   ]
  },
  {
   "cell_type": "code",
   "execution_count": 17,
   "id": "1b303008-ba7d-4644-9f74-d59cf6fe2382",
   "metadata": {},
   "outputs": [
    {
     "name": "stdout",
     "output_type": "stream",
     "text": [
      "I'm smurf with black beard\n",
      "\n"
     ]
    }
   ],
   "source": [
    "print(a)"
   ]
  },
  {
   "cell_type": "code",
   "execution_count": null,
   "id": "46671065-66bf-4a67-9ada-1d1a4a6e52f0",
   "metadata": {},
   "outputs": [],
   "source": []
  }
 ],
 "metadata": {
  "kernelspec": {
   "display_name": "Python 3 (ipykernel)",
   "language": "python",
   "name": "python3"
  },
  "language_info": {
   "codemirror_mode": {
    "name": "ipython",
    "version": 3
   },
   "file_extension": ".py",
   "mimetype": "text/x-python",
   "name": "python",
   "nbconvert_exporter": "python",
   "pygments_lexer": "ipython3",
   "version": "3.8.5"
  }
 },
 "nbformat": 4,
 "nbformat_minor": 5
}
