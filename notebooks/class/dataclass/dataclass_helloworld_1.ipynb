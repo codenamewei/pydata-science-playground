{
 "cells": [
  {
   "cell_type": "code",
   "execution_count": 13,
   "metadata": {},
   "outputs": [
    {
     "name": "stdout",
     "output_type": "stream",
     "text": [
      "Cafe(name='Coffee Bean', location='Seoul', drinks_type=20)\n"
     ]
    }
   ],
   "source": [
    "from dataclasses import dataclass\n",
    "# https://realpython.com/python-data-classes/\n",
    "\n",
    "@dataclass\n",
    "class Cafe:\n",
    "    name : str\n",
    "    location: str\n",
    "    drinks_type: int\n",
    "        \n",
    "\n",
    "cafe = Cafe(name = \"Coffee Bean\", location = \"Seoul\", drinks_type = 20)\n",
    "print(cafe)"
   ]
  },
  {
   "cell_type": "markdown",
   "metadata": {},
   "source": [
    "### Does dataclass works on normal class formation with methods \n",
    "\n",
    "Answer: \n",
    "    - Data class is just a regular class\n",
    "    - A data class is a class typically containing mainly data, although there aren’t really any restrictions"
   ]
  },
  {
   "cell_type": "markdown",
   "metadata": {},
   "source": [
    "---------------------------------\n",
    "By default, \n",
    "data classes implement a .__repr__() method to provide a nice string representation and an .__eq__() method that can do basic object comparisons."
   ]
  },
  {
   "cell_type": "code",
   "execution_count": 14,
   "metadata": {},
   "outputs": [
    {
     "name": "stdout",
     "output_type": "stream",
     "text": [
      "Both cafe are alike\n",
      "something different in this two cafe\n",
      "something different in this two cafe\n"
     ]
    }
   ],
   "source": [
    "cafe1 = Cafe(name = \"Coffee Bean\", location = \"Seoul\", drinks_type = 20)\n",
    "cafe2 = Cafe(name = \"Coffee Bean\", location = \"Seoul\", drinks_type = 20)\n",
    "cafe3 = Cafe(name = \"Coffee Bean\", location = \"Busan\", drinks_type = 20)\n",
    "\n",
    "def istwocafealike(cafefirst, cafesecond):\n",
    "    \n",
    "    if cafefirst == cafesecond:\n",
    "        print(\"Both cafe are alike\")\n",
    "    else:\n",
    "        print(\"something different in this two cafe\")\n",
    "        \n",
    "istwocafealike(cafe1, cafe2)\n",
    "istwocafealike(cafe1, cafe3)\n",
    "istwocafealike(cafe2, cafe3)"
   ]
  },
  {
   "cell_type": "markdown",
   "metadata": {},
   "source": [
    "- without dataclass the equality does not formed naturally\n",
    "- notice how the comparison resulted in false even though the variable value is same"
   ]
  },
  {
   "cell_type": "code",
   "execution_count": 15,
   "metadata": {},
   "outputs": [
    {
     "name": "stdout",
     "output_type": "stream",
     "text": [
      "something different in this two cafe\n",
      "something different in this two cafe\n",
      "something different in this two cafe\n"
     ]
    }
   ],
   "source": [
    "class VanillaCafe:\n",
    "    name : str\n",
    "    location: str\n",
    "    drinks_type: int\n",
    "    \n",
    "    def __init__(self, in_name, in_location, in_drinks_type):\n",
    "        \n",
    "        self.name = in_name\n",
    "        self.location = in_location\n",
    "        self.drinks_type = in_drinks_type\n",
    "\n",
    "cafe1 = VanillaCafe(\"Coffee Bean\", \"Seoul\", 20)\n",
    "cafe2 = VanillaCafe(\"Coffee Bean\", \"Seoul\", 20)\n",
    "cafe3 = VanillaCafe(\"Coffee Bean\", \"Busan\", 20)\n",
    "\n",
    "def istwovanillacafealike(cafefirst, cafesecond):\n",
    "    \n",
    "    if cafefirst == cafesecond:\n",
    "        print(\"Both cafe are alike\")\n",
    "    else:\n",
    "        print(\"something different in this two cafe\")\n",
    "        \n",
    "istwovanillacafealike(cafe1, cafe2)\n",
    "istwovanillacafealike(cafe1, cafe3)\n",
    "istwovanillacafealike(cafe2, cafe3)\n"
   ]
  },
  {
   "cell_type": "markdown",
   "metadata": {},
   "source": [
    "## __eq__ function have to explicitly declare to result in the same outcome "
   ]
  },
  {
   "cell_type": "code",
   "execution_count": 16,
   "metadata": {},
   "outputs": [
    {
     "name": "stdout",
     "output_type": "stream",
     "text": [
      "Both cafe are alike\n",
      "something different in this two cafe\n",
      "something different in this two cafe\n",
      "Not ManualCafe class\n",
      "something different in this two cafe\n"
     ]
    }
   ],
   "source": [
    "class ManualCafe:\n",
    "    name : str\n",
    "    location: str\n",
    "    drinks_type: int\n",
    "    \n",
    "    def __init__(self, in_name, in_location, in_drinks_type):\n",
    "        \n",
    "        self.name = in_name\n",
    "        self.location = in_location\n",
    "        self.drinks_type = in_drinks_type\n",
    "        \n",
    "    def __eq__(self, other):\n",
    "        \n",
    "        if not isinstance(other, ManualCafe):\n",
    "            \n",
    "            print(f\"Not {self.__str__()} class\")\n",
    "            return False\n",
    "        \n",
    "        elif self.name == other.name and self.location == other.location and self.drinks_type == other.drinks_type:\n",
    "            \n",
    "            return True\n",
    "        else:\n",
    "            return False\n",
    "        \n",
    "    def __str__(self):\n",
    "        return \"ManualCafe\"\n",
    "\n",
    "cafe1 = ManualCafe(\"Coffee Bean\", \"Seoul\", 20)\n",
    "cafe2 = ManualCafe(\"Coffee Bean\", \"Seoul\", 20)\n",
    "cafe3 = ManualCafe(\"Coffee Bean\", \"Busan\", 20)\n",
    "\n",
    "def istwomanualcafealike(cafefirst, cafesecond):\n",
    "    \n",
    "    if cafefirst == cafesecond:\n",
    "        print(\"Both cafe are alike\")\n",
    "    else:\n",
    "        print(\"something different in this two cafe\")\n",
    "        \n",
    "istwomanualcafealike(cafe1, cafe2)\n",
    "istwomanualcafealike(cafe1, cafe3)\n",
    "istwomanualcafealike(cafe2, cafe3)\n",
    "istwomanualcafealike(cafe2, 5)"
   ]
  },
  {
   "cell_type": "markdown",
   "metadata": {},
   "source": [
    "### Adding some kind of type hint is mandatory when defining the fields in your data class. \n",
    "\n",
    "- Without a type hint, the field will not be a part of the data class. \n",
    "- However, if you do not want to add explicit types to your data class, use typing.Any"
   ]
  },
  {
   "cell_type": "code",
   "execution_count": 17,
   "metadata": {},
   "outputs": [],
   "source": [
    "from dataclasses import dataclass\n",
    "from typing import Any\n",
    "\n",
    "@dataclass\n",
    "class WithoutExplicitTypes:\n",
    "    name: Any\n",
    "    value: Any = 42"
   ]
  }
 ],
 "metadata": {
  "kernelspec": {
   "display_name": "Python 3 (ipykernel)",
   "language": "python",
   "name": "python3"
  },
  "language_info": {
   "codemirror_mode": {
    "name": "ipython",
    "version": 3
   },
   "file_extension": ".py",
   "mimetype": "text/x-python",
   "name": "python",
   "nbconvert_exporter": "python",
   "pygments_lexer": "ipython3",
   "version": "3.9.7"
  }
 },
 "nbformat": 4,
 "nbformat_minor": 4
}
