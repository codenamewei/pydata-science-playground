{
 "cells": [
  {
   "cell_type": "code",
   "execution_count": 16,
   "metadata": {},
   "outputs": [],
   "source": [
    "from abc import *"
   ]
  },
  {
   "cell_type": "code",
   "execution_count": 17,
   "metadata": {},
   "outputs": [],
   "source": [
    "class BaseCourse(metaclass = ABCMeta):\n",
    "    \n",
    "    def __init__(self):\n",
    "        \n",
    "        print(\"BaseCourse\")\n",
    "    \n",
    "    @abstractmethod\n",
    "    def definecourse(self, course):\n",
    "        pass\n",
    "    \n",
    "    @abstractmethod\n",
    "    def getcourse(self):\n",
    "        pass\n",
    "        \n",
    "class Course(BaseCourse):\n",
    "    \n",
    "    def __init__(self):\n",
    "        print(\"Course\")\n",
    "        \n",
    "    def definecourse(self, course):\n",
    "        self.course = course\n",
    "        \n",
    "    def getcourse(self):\n",
    "        return self.course"
   ]
  },
  {
   "cell_type": "code",
   "execution_count": 18,
   "metadata": {},
   "outputs": [
    {
     "name": "stdout",
     "output_type": "stream",
     "text": [
      "Course\n",
      "History\n"
     ]
    }
   ],
   "source": [
    "course = Course()\n",
    "course.definecourse(\"History\")\n",
    "print(course.getcourse())"
   ]
  },
  {
   "cell_type": "code",
   "execution_count": null,
   "metadata": {},
   "outputs": [],
   "source": []
  }
 ],
 "metadata": {
  "kernelspec": {
   "display_name": "Python 3 (ipykernel)",
   "language": "python",
   "name": "python3"
  },
  "language_info": {
   "codemirror_mode": {
    "name": "ipython",
    "version": 3
   },
   "file_extension": ".py",
   "mimetype": "text/x-python",
   "name": "python",
   "nbconvert_exporter": "python",
   "pygments_lexer": "ipython3",
   "version": "3.9.7"
  }
 },
 "nbformat": 4,
 "nbformat_minor": 4
}
