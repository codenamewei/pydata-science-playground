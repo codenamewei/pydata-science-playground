{
 "cells": [
  {
   "cell_type": "markdown",
   "metadata": {},
   "source": [
    "### __eq__ method to define the equality logic for comparing two objects using the equal operator (==)"
   ]
  },
  {
   "cell_type": "markdown",
   "metadata": {},
   "source": [
    "Notice how without defining it, the equal sign is false"
   ]
  },
  {
   "cell_type": "code",
   "execution_count": 3,
   "metadata": {},
   "outputs": [
    {
     "name": "stdout",
     "output_type": "stream",
     "text": [
      "False\n",
      "False\n"
     ]
    }
   ],
   "source": [
    "class NativePerson:\n",
    "    def __init__(self, first_name, last_name, age):\n",
    "        self.first_name = first_name\n",
    "        self.last_name = last_name\n",
    "        self.age = age\n",
    "        \n",
    "john = NativePerson('John', 'Doe', 25)\n",
    "jane = NativePerson('Jane', 'Doe', 25)\n",
    "mary = NativePerson('Mary', 'Doe', 27)\n",
    "\n",
    "print(john == jane)  # True\n",
    "print(john == mary)  # False\n"
   ]
  },
  {
   "cell_type": "markdown",
   "metadata": {},
   "source": [
    "### To say that both object are same if their age alike, define the __eq__function for the logic"
   ]
  },
  {
   "cell_type": "code",
   "execution_count": 4,
   "metadata": {},
   "outputs": [
    {
     "name": "stdout",
     "output_type": "stream",
     "text": [
      "True\n",
      "False\n"
     ]
    }
   ],
   "source": [
    "class ManualPerson:\n",
    "    def __init__(self, first_name, last_name, age):\n",
    "        self.first_name = first_name\n",
    "        self.last_name = last_name\n",
    "        self.age = age\n",
    "\n",
    "    def __eq__(self, other):\n",
    "        if isinstance(other, ManualPerson):\n",
    "            return self.age == other.age\n",
    "\n",
    "        return False\n",
    "\n",
    "\n",
    "john = ManualPerson('John', 'Doe', 25)\n",
    "jane = ManualPerson('Jane', 'Doe', 25)\n",
    "mary = ManualPerson('Mary', 'Doe', 27)\n",
    "\n",
    "print(john == jane)  # True\n",
    "print(john == mary)  # False"
   ]
  }
 ],
 "metadata": {
  "kernelspec": {
   "display_name": "Python 3 (ipykernel)",
   "language": "python",
   "name": "python3"
  },
  "language_info": {
   "codemirror_mode": {
    "name": "ipython",
    "version": 3
   },
   "file_extension": ".py",
   "mimetype": "text/x-python",
   "name": "python",
   "nbconvert_exporter": "python",
   "pygments_lexer": "ipython3",
   "version": "3.9.7"
  }
 },
 "nbformat": 4,
 "nbformat_minor": 4
}
