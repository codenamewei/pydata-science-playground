{
 "cells": [
  {
   "cell_type": "code",
   "execution_count": 1,
   "metadata": {},
   "outputs": [],
   "source": [
    "from enum import Enum\n",
    "\n",
    "\n",
    "class Status(Enum):\n",
    "    \n",
    "    NOTDEFINED: int = -1\n",
    "    NEW : int = 0\n",
    "    PROCESSING : int = 1\n",
    "    DONE: int   = 2\n",
    "    ERROR: int = 3\n"
   ]
  },
  {
   "cell_type": "markdown",
   "metadata": {},
   "source": [
    "### Get the name and value"
   ]
  },
  {
   "cell_type": "code",
   "execution_count": 2,
   "metadata": {},
   "outputs": [
    {
     "name": "stdout",
     "output_type": "stream",
     "text": [
      "Status.NEW\n",
      "NEW\n",
      "0\n"
     ]
    }
   ],
   "source": [
    "print(Status.NEW) #print enum member as string\n",
    "print(Status.NEW.name) #print the name of enum member using \"name\" keyword\n",
    "print(Status.NEW.value) #print the value of enum member"
   ]
  },
  {
   "cell_type": "markdown",
   "metadata": {},
   "source": [
    "### Get the type of enum and list"
   ]
  },
  {
   "cell_type": "code",
   "execution_count": 3,
   "metadata": {},
   "outputs": [
    {
     "name": "stdout",
     "output_type": "stream",
     "text": [
      "<enum 'Status'>\n"
     ]
    },
    {
     "data": {
      "text/plain": [
       "[<Status.NEW: 0>, <Status.PROCESSING: 1>, <Status.DONE: 2>, <Status.ERROR: 3>]"
      ]
     },
     "execution_count": 3,
     "metadata": {},
     "output_type": "execute_result"
    }
   ],
   "source": [
    "print(type(Status.NEW))\n",
    "\n",
    "list(Status)"
   ]
  },
  {
   "cell_type": "markdown",
   "metadata": {},
   "source": [
    "### Compare two value with `is` and `is not`"
   ]
  },
  {
   "cell_type": "code",
   "execution_count": 4,
   "metadata": {},
   "outputs": [
    {
     "name": "stdout",
     "output_type": "stream",
     "text": [
      "Not same\n",
      "Both is same\n"
     ]
    }
   ],
   "source": [
    "printfunc = lambda x, y : \"Both is same\" if x is y else \"Not same\"\n",
    "\n",
    "print(printfunc(Status.NEW, Status.PROCESSING))\n",
    "print(printfunc(Status.NEW, Status.NEW))"
   ]
  },
  {
   "cell_type": "code",
   "execution_count": 5,
   "metadata": {},
   "outputs": [
    {
     "name": "stdout",
     "output_type": "stream",
     "text": [
      "Not same\n"
     ]
    }
   ],
   "source": [
    "if Status.NEW is not Status.PROCESSING:\n",
    "    print(\"Not same\")"
   ]
  },
  {
   "cell_type": "markdown",
   "metadata": {},
   "source": [
    "### Create enum from value "
   ]
  },
  {
   "cell_type": "code",
   "execution_count": 10,
   "metadata": {},
   "outputs": [
    {
     "name": "stdout",
     "output_type": "stream",
     "text": [
      "PROCESSING\n",
      "1\n"
     ]
    }
   ],
   "source": [
    "status = Status(1)\n",
    "\n",
    "print(status.name)\n",
    "print(status.value)"
   ]
  },
  {
   "cell_type": "markdown",
   "metadata": {},
   "source": [
    "### Error when the integer does not translate to an existing enum"
   ]
  },
  {
   "cell_type": "code",
   "execution_count": null,
   "metadata": {},
   "outputs": [],
   "source": [
    "Status(-2)"
   ]
  }
 ],
 "metadata": {
  "kernelspec": {
   "display_name": "Python 3",
   "language": "python",
   "name": "python3"
  },
  "language_info": {
   "codemirror_mode": {
    "name": "ipython",
    "version": 3
   },
   "file_extension": ".py",
   "mimetype": "text/x-python",
   "name": "python",
   "nbconvert_exporter": "python",
   "pygments_lexer": "ipython3",
   "version": "3.8.5"
  }
 },
 "nbformat": 4,
 "nbformat_minor": 4
}
