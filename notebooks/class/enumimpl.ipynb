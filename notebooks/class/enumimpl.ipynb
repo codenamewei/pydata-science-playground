{
 "cells": [
  {
   "cell_type": "code",
   "execution_count": 2,
   "metadata": {},
   "outputs": [],
   "source": [
    "from enum import Enum\n",
    "\n",
    "\n",
    "class Status(Enum):\n",
    "    \n",
    "    NEW : int = 0\n",
    "    PROCESSING : int = 1\n",
    "    DONE: int   = 2\n",
    "    ERROR: int = 3\n"
   ]
  },
  {
   "cell_type": "markdown",
   "metadata": {},
   "source": [
    "### Get the name and value"
   ]
  },
  {
   "cell_type": "code",
   "execution_count": 3,
   "metadata": {},
   "outputs": [
    {
     "name": "stdout",
     "output_type": "stream",
     "text": [
      "Status.NEW\n",
      "NEW\n",
      "0\n"
     ]
    }
   ],
   "source": [
    "print(Status.NEW) #print enum member as string\n",
    "print(Status.NEW.name) #print the name of enum member using \"name\" keyword\n",
    "print(Status.NEW.value) #print the value of enum member"
   ]
  },
  {
   "cell_type": "markdown",
   "metadata": {},
   "source": [
    "### Get the type of enum and list"
   ]
  },
  {
   "cell_type": "code",
   "execution_count": 6,
   "metadata": {},
   "outputs": [
    {
     "name": "stdout",
     "output_type": "stream",
     "text": [
      "<enum 'Status'>\n"
     ]
    },
    {
     "data": {
      "text/plain": [
       "[<Status.NEW: 0>, <Status.PROCESSING: 1>, <Status.DONE: 2>, <Status.ERROR: 3>]"
      ]
     },
     "execution_count": 6,
     "metadata": {},
     "output_type": "execute_result"
    }
   ],
   "source": [
    "print(type(Status.NEW))\n",
    "\n",
    "list(Status)"
   ]
  },
  {
   "cell_type": "markdown",
   "metadata": {},
   "source": [
    "### Compare two value "
   ]
  },
  {
   "cell_type": "code",
   "execution_count": 14,
   "metadata": {},
   "outputs": [
    {
     "name": "stdout",
     "output_type": "stream",
     "text": [
      "Not same\n",
      "Both is same\n"
     ]
    }
   ],
   "source": [
    "printfunc = lambda x, y : \"Both is same\" if x is y else \"Not same\"\n",
    "\n",
    "print(printfunc(Status.NEW, Status.PROCESSING))\n",
    "print(printfunc(Status.NEW, Status.NEW))"
   ]
  },
  {
   "cell_type": "code",
   "execution_count": null,
   "metadata": {},
   "outputs": [],
   "source": []
  }
 ],
 "metadata": {
  "kernelspec": {
   "display_name": "Python 3 (ipykernel)",
   "language": "python",
   "name": "python3"
  },
  "language_info": {
   "codemirror_mode": {
    "name": "ipython",
    "version": 3
   },
   "file_extension": ".py",
   "mimetype": "text/x-python",
   "name": "python",
   "nbconvert_exporter": "python",
   "pygments_lexer": "ipython3",
   "version": "3.9.7"
  }
 },
 "nbformat": 4,
 "nbformat_minor": 4
}
