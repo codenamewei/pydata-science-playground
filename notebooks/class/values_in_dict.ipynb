{
 "cells": [
  {
   "cell_type": "markdown",
   "id": "f8c50c07-f997-48fa-b74a-feec661768da",
   "metadata": {
    "tags": []
   },
   "source": [
    "### To identify which object to be included in variables of class"
   ]
  },
  {
   "cell_type": "markdown",
   "id": "3558c605-a772-4cf7-b9f2-7edfeb33100c",
   "metadata": {
    "tags": []
   },
   "source": [
    "### !!! when a variable is not declared in initialization, its not in dict (as shown below)"
   ]
  },
  {
   "cell_type": "code",
   "execution_count": 5,
   "id": "348d04c0-8419-48d7-97c6-025c5c057c79",
   "metadata": {
    "tags": []
   },
   "outputs": [
    {
     "name": "stdout",
     "output_type": "stream",
     "text": [
      "{'a': 20}\n",
      "hello\n",
      "{'a': 20}\n"
     ]
    }
   ],
   "source": [
    "class Sample:\n",
    "    \n",
    "    \n",
    "    a : int\n",
    "    b : str = \"hello\"\n",
    "    c : float = 2.0\n",
    "    \n",
    "    def __init__(self, input_a):\n",
    "        \n",
    "        self.a = input_a\n",
    "        \n",
    "        \n",
    "sample = Sample(20)\n",
    "\n",
    "print(sample.__dict__)\n",
    "\n",
    "print(sample.b)\n",
    "\n",
    "print(sample.__dict__)"
   ]
  },
  {
   "cell_type": "code",
   "execution_count": 13,
   "id": "0081910d-5bd3-4156-bbf5-ce0d842d948c",
   "metadata": {
    "tags": []
   },
   "outputs": [
    {
     "data": {
      "text/plain": [
       "{'higher_a': 200}"
      ]
     },
     "execution_count": 13,
     "metadata": {},
     "output_type": "execute_result"
    }
   ],
   "source": [
    "class OtherSample:\n",
    "    \n",
    "    \n",
    "    a : int\n",
    "    b : str = \"hello\"\n",
    "    c : float = 2.0\n",
    "    \n",
    "    def __init__(self):\n",
    "        \n",
    "        a = 100\n",
    "\n",
    "class HigherSample(OtherSample):\n",
    "    \n",
    "    higher_a : int\n",
    "    \n",
    "    def __init__(self):\n",
    "        \n",
    "        self.higher_a = 200\n",
    "    \n",
    "higher_sample = HigherSample()\n",
    "\n",
    "higher_sample.__dict__"
   ]
  },
  {
   "cell_type": "code",
   "execution_count": null,
   "id": "860748c2-63c9-4c67-b1d1-c5b0d205f3c2",
   "metadata": {},
   "outputs": [],
   "source": []
  }
 ],
 "metadata": {
  "kernelspec": {
   "display_name": "Python 3 (ipykernel)",
   "language": "python",
   "name": "python3"
  },
  "language_info": {
   "codemirror_mode": {
    "name": "ipython",
    "version": 3
   },
   "file_extension": ".py",
   "mimetype": "text/x-python",
   "name": "python",
   "nbconvert_exporter": "python",
   "pygments_lexer": "ipython3",
   "version": "3.10.9"
  }
 },
 "nbformat": 4,
 "nbformat_minor": 5
}
