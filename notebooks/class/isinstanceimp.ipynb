{
 "cells": [
  {
   "cell_type": "code",
   "execution_count": 10,
   "id": "fa97e3e6-ca3b-44fb-bde8-ccd1fb645c7c",
   "metadata": {},
   "outputs": [
    {
     "name": "stdout",
     "output_type": "stream",
     "text": [
      "Processing is performed\n",
      "Processing is performed\n",
      "Processing 2 is performed\n"
     ]
    }
   ],
   "source": [
    "import numpy as np\n",
    "\n",
    "array = [[1,2,3], (2,4), np.ones((2,3))]\n",
    "\n",
    "\n",
    "for i in array:\n",
    "\n",
    "    if isinstance(i, (list, tuple)):\n",
    "        \n",
    "        print(\"Processing is performed\")\n",
    "    \n",
    "    elif isinstance(i, np.ndarray):\n",
    "    \n",
    "        print(\"Processing 2 is performed\")\n",
    "        "
   ]
  },
  {
   "cell_type": "code",
   "execution_count": null,
   "id": "c8362b6a-5d28-40f8-b753-7f597a8c7b4e",
   "metadata": {},
   "outputs": [],
   "source": []
  }
 ],
 "metadata": {
  "kernelspec": {
   "display_name": "Python 3 (ipykernel)",
   "language": "python",
   "name": "python3"
  },
  "language_info": {
   "codemirror_mode": {
    "name": "ipython",
    "version": 3
   },
   "file_extension": ".py",
   "mimetype": "text/x-python",
   "name": "python",
   "nbconvert_exporter": "python",
   "pygments_lexer": "ipython3",
   "version": "3.8.5"
  }
 },
 "nbformat": 4,
 "nbformat_minor": 5
}
