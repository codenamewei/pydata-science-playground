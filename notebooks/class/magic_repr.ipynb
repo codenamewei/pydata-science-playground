{
 "cells": [
  {
   "cell_type": "markdown",
   "id": "25a042c8-a6c6-4850-9b6f-ce5606225709",
   "metadata": {
    "tags": []
   },
   "source": [
    "### __repr__ is a special method used to represent a class's objects as a string. "
   ]
  },
  {
   "cell_type": "code",
   "execution_count": 21,
   "id": "c5462432-1a32-4210-ba93-326faaa3c096",
   "metadata": {},
   "outputs": [
    {
     "data": {
      "text/plain": [
       "\"Test(id=20, name='John Doe', possession=False)\""
      ]
     },
     "execution_count": 21,
     "metadata": {},
     "output_type": "execute_result"
    }
   ],
   "source": [
    "from dataclasses import dataclass\n",
    "\n",
    "@dataclass\n",
    "class Test:\n",
    "    \n",
    "    id : int\n",
    "    name : str\n",
    "    possession : bool\n",
    "    \n",
    "    \n",
    "test = Test(**dict(id = 20, name = \"John Doe\", possession = False))\n",
    "\n",
    "test.__repr__()"
   ]
  },
  {
   "cell_type": "code",
   "execution_count": null,
   "id": "ad4860ee-9694-48f1-a262-6698def72d76",
   "metadata": {},
   "outputs": [],
   "source": []
  }
 ],
 "metadata": {
  "kernelspec": {
   "display_name": "Python 3 (ipykernel)",
   "language": "python",
   "name": "python3"
  },
  "language_info": {
   "codemirror_mode": {
    "name": "ipython",
    "version": 3
   },
   "file_extension": ".py",
   "mimetype": "text/x-python",
   "name": "python",
   "nbconvert_exporter": "python",
   "pygments_lexer": "ipython3",
   "version": "3.8.5"
  }
 },
 "nbformat": 4,
 "nbformat_minor": 5
}
