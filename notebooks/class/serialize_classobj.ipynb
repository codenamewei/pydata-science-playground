{
 "cells": [
  {
   "cell_type": "code",
   "execution_count": 13,
   "id": "e73ea81e-cd25-482b-b896-deee51fad1bf",
   "metadata": {
    "tags": []
   },
   "outputs": [],
   "source": [
    "from dataclasses import dataclass\n",
    "\n",
    "@dataclass\n",
    "class Person:\n",
    "    id : int\n",
    "    name : str\n",
    "    status : int = -1\n",
    "    \n",
    "    \n",
    "    def serialize(self):\n",
    "        return dict(id = self.id, name = self.name)"
   ]
  },
  {
   "cell_type": "markdown",
   "id": "384c6bb8-a295-4076-814f-d80ca1e3f139",
   "metadata": {},
   "source": [
    "### Native __dict__ returns all attributes of a object"
   ]
  },
  {
   "cell_type": "code",
   "execution_count": 15,
   "id": "2acf3587-a96b-425a-92fd-a5513ba32cbc",
   "metadata": {
    "tags": []
   },
   "outputs": [
    {
     "data": {
      "text/plain": [
       "{'id': 1000, 'name': 'John Doe', 'status': -1}"
      ]
     },
     "execution_count": 15,
     "metadata": {},
     "output_type": "execute_result"
    }
   ],
   "source": [
    "person.__dict__"
   ]
  },
  {
   "cell_type": "markdown",
   "id": "4753b964-b3af-4b60-beb8-b0b42742d9fb",
   "metadata": {
    "tags": []
   },
   "source": [
    "### alternatively, create function to serialize portion of data"
   ]
  },
  {
   "cell_type": "code",
   "execution_count": 14,
   "id": "c8d0969b-fb58-45eb-965d-be76a5652ef0",
   "metadata": {
    "tags": []
   },
   "outputs": [
    {
     "data": {
      "text/plain": [
       "{'id': 1000, 'name': 'John Doe'}"
      ]
     },
     "execution_count": 14,
     "metadata": {},
     "output_type": "execute_result"
    }
   ],
   "source": [
    "person = Person(1000, \"John Doe\")\n",
    "\n",
    "person.serialize()"
   ]
  },
  {
   "cell_type": "code",
   "execution_count": null,
   "id": "5625a0ab-368f-46e6-996b-a97e994d8049",
   "metadata": {},
   "outputs": [],
   "source": []
  }
 ],
 "metadata": {
  "kernelspec": {
   "display_name": "Python 3 (ipykernel)",
   "language": "python",
   "name": "python3"
  },
  "language_info": {
   "codemirror_mode": {
    "name": "ipython",
    "version": 3
   },
   "file_extension": ".py",
   "mimetype": "text/x-python",
   "name": "python",
   "nbconvert_exporter": "python",
   "pygments_lexer": "ipython3",
   "version": "3.10.9"
  }
 },
 "nbformat": 4,
 "nbformat_minor": 5
}
