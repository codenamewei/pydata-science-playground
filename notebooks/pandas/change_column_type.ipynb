{
 "cells": [
  {
   "cell_type": "markdown",
   "metadata": {},
   "source": [
    "Change data types can follows\n",
    "- [Numpy Data Types](https://www.w3schools.com/python/numpy/numpy_data_types.asp)\n",
    "- [Python Data Types](https://www.w3schools.com/python/python_datatypes.asp)\n",
    "```\n",
    "Python has the following data types built-in by default, in these categories:\n",
    "Text Type: str\n",
    "Numeric Types: int, float, complex\n",
    "Sequence Types: list, tuple, range\n",
    "Mapping Type: dict\n",
    "Set Types: set, frozenset\n",
    "Boolean Type: bool\n",
    "Binary Types: bytes, bytearray, memoryview\n",
    "```\n",
    "\n",
    "- df = df.astype({\"A\": float, \"C\": str, 'G': bool}, errors = 'raise') #errors = 'ignore'\n",
    "- df.H = df.H.astype(float)\n"
   ]
  },
  {
   "cell_type": "code",
   "execution_count": 55,
   "metadata": {},
   "outputs": [
    {
     "data": {
      "text/html": [
       "<div>\n",
       "<style scoped>\n",
       "    .dataframe tbody tr th:only-of-type {\n",
       "        vertical-align: middle;\n",
       "    }\n",
       "\n",
       "    .dataframe tbody tr th {\n",
       "        vertical-align: top;\n",
       "    }\n",
       "\n",
       "    .dataframe thead th {\n",
       "        text-align: right;\n",
       "    }\n",
       "</style>\n",
       "<table border=\"1\" class=\"dataframe\">\n",
       "  <thead>\n",
       "    <tr style=\"text-align: right;\">\n",
       "      <th></th>\n",
       "      <th>A</th>\n",
       "      <th>B</th>\n",
       "      <th>C</th>\n",
       "      <th>D</th>\n",
       "      <th>E</th>\n",
       "      <th>F</th>\n",
       "      <th>G</th>\n",
       "    </tr>\n",
       "  </thead>\n",
       "  <tbody>\n",
       "    <tr>\n",
       "      <th>0</th>\n",
       "      <td>2</td>\n",
       "      <td>2</td>\n",
       "      <td>1</td>\n",
       "      <td>1</td>\n",
       "      <td>2</td>\n",
       "      <td>1</td>\n",
       "      <td>0.0</td>\n",
       "    </tr>\n",
       "    <tr>\n",
       "      <th>1</th>\n",
       "      <td>2</td>\n",
       "      <td>2</td>\n",
       "      <td>0</td>\n",
       "      <td>1</td>\n",
       "      <td>2</td>\n",
       "      <td>1</td>\n",
       "      <td>0.0</td>\n",
       "    </tr>\n",
       "    <tr>\n",
       "      <th>2</th>\n",
       "      <td>0</td>\n",
       "      <td>0</td>\n",
       "      <td>1</td>\n",
       "      <td>1</td>\n",
       "      <td>1</td>\n",
       "      <td>0</td>\n",
       "      <td>0.0</td>\n",
       "    </tr>\n",
       "  </tbody>\n",
       "</table>\n",
       "</div>"
      ],
      "text/plain": [
       "   A  B  C  D  E  F    G\n",
       "0  2  2  1  1  2  1  0.0\n",
       "1  2  2  0  1  2  1  0.0\n",
       "2  0  0  1  1  1  0  0.0"
      ]
     },
     "execution_count": 55,
     "metadata": {},
     "output_type": "execute_result"
    }
   ],
   "source": [
    "import pandas as pd \n",
    "import numpy as np\n",
    "\n",
    "rows = 3\n",
    "df = pd.DataFrame(np.random.randint(0,rows,size=(rows, 6)), columns=list('ABCDEF'))\n",
    "\n",
    "df['G'] = np.zeros(3)\n",
    "df.head(3)"
   ]
  },
  {
   "cell_type": "markdown",
   "metadata": {},
   "source": [
    "### Change multiple columns"
   ]
  },
  {
   "cell_type": "code",
   "execution_count": 56,
   "metadata": {},
   "outputs": [
    {
     "data": {
      "text/plain": [
       "A    float64\n",
       "B      int32\n",
       "C     object\n",
       "D      int32\n",
       "E      int32\n",
       "F      int32\n",
       "G       bool\n",
       "dtype: object"
      ]
     },
     "execution_count": 56,
     "metadata": {},
     "output_type": "execute_result"
    }
   ],
   "source": [
    "df = df.astype({\"A\": float, \"C\": str, 'G': bool}, errors = 'raise')\n",
    "\n",
    "\n",
    "### Notice how all columns is bring over\n",
    "df.dtypes"
   ]
  },
  {
   "cell_type": "markdown",
   "metadata": {},
   "source": [
    "# Dealing with errors in conversion"
   ]
  },
  {
   "cell_type": "code",
   "execution_count": 57,
   "metadata": {},
   "outputs": [],
   "source": [
    "def convert(df):\n",
    "    try:\n",
    "\n",
    "        df.H = df.H.astype(int)\n",
    "\n",
    "        print(df)\n",
    "\n",
    "    except ValueError as error:\n",
    "        \n",
    "        print(\"Failed to convert to Int when have nan value\")\n",
    "\n",
    "    finally:\n",
    "        print(df.H.dtypes)"
   ]
  },
  {
   "cell_type": "code",
   "execution_count": 58,
   "metadata": {},
   "outputs": [
    {
     "name": "stdout",
     "output_type": "stream",
     "text": [
      "Failed to convert to Int when have nan value\n",
      "float64\n"
     ]
    }
   ],
   "source": [
    "df1 = df.copy()\n",
    "df1[\"H\"] = np.NaN\n",
    "\n",
    "convert(df1)\n"
   ]
  },
  {
   "cell_type": "markdown",
   "metadata": {},
   "source": [
    "# Solution 1\n",
    "Replace nan values with valid values"
   ]
  },
  {
   "cell_type": "code",
   "execution_count": 59,
   "metadata": {},
   "outputs": [
    {
     "name": "stdout",
     "output_type": "stream",
     "text": [
      "     A  B  C  D  E  F      G  H\n",
      "0  2.0  2  1  1  2  1  False -1\n",
      "1  2.0  2  0  1  2  1  False -1\n",
      "2  0.0  0  1  1  1  0  False -1\n",
      "int32\n"
     ]
    }
   ],
   "source": [
    "df2 = df.copy()\n",
    "df2['H'] = np.NaN\n",
    "df2.H = df2.H.fillna(-1)\n",
    "\n",
    "convert(df2)\n"
   ]
  },
  {
   "cell_type": "markdown",
   "metadata": {},
   "source": [
    "# Solution 2\n",
    "Suppress error with flag errors=`ignore`. Opposite errors=`raise`"
   ]
  },
  {
   "cell_type": "code",
   "execution_count": 60,
   "metadata": {},
   "outputs": [
    {
     "name": "stdout",
     "output_type": "stream",
     "text": [
      "     A  B  C  D  E  F      G   H\n",
      "0  2.0  2  1  1  2  1  False NaN\n",
      "1  2.0  2  0  1  2  1  False NaN\n",
      "2  0.0  0  1  1  1  0  False NaN\n"
     ]
    },
    {
     "data": {
      "text/plain": [
       "dtype('float64')"
      ]
     },
     "execution_count": 60,
     "metadata": {},
     "output_type": "execute_result"
    }
   ],
   "source": [
    "df3 = df.copy()\n",
    "\n",
    "df3['H'] = np.NaN\n",
    "\n",
    "try:\n",
    "\n",
    "    df3.H = df3.H.astype(int, errors = 'ignore')\n",
    "\n",
    "    print(df3)\n",
    "\n",
    "except ValueError as error:\n",
    "    \n",
    "    print(\"Failed when have nan value\")\n",
    "\n",
    "df3.H.dtypes"
   ]
  },
  {
   "cell_type": "markdown",
   "metadata": {},
   "source": [
    "# Solution 3 \n",
    "INT64 can handle Nan Value"
   ]
  },
  {
   "cell_type": "code",
   "execution_count": 61,
   "metadata": {},
   "outputs": [
    {
     "name": "stdout",
     "output_type": "stream",
     "text": [
      "     A  B  C  D  E  F      G\n",
      "0  2.0  2  1  1  2  1  False\n",
      "1  2.0  2  0  1  2  1  False\n",
      "2  0.0  0  1  1  1  0  False\n"
     ]
    }
   ],
   "source": [
    "df4 = df.copy()\n",
    "\n",
    "df4['H'] = np.NaN\n",
    "df4.H = df4.H.astype(pd.Int64Dtype())\n",
    "\n",
    "print(df)"
   ]
  },
  {
   "cell_type": "code",
   "execution_count": null,
   "metadata": {},
   "outputs": [],
   "source": []
  }
 ],
 "metadata": {
  "interpreter": {
   "hash": "566fc2406c534f779744276e0ad6e818e0f4a899b0fcebb34d8f31acd47d8f89"
  },
  "kernelspec": {
   "display_name": "Python 3.8.5 64-bit ('data-science-playground': conda)",
   "name": "python3"
  },
  "language_info": {
   "codemirror_mode": {
    "name": "ipython",
    "version": 3
   },
   "file_extension": ".py",
   "mimetype": "text/x-python",
   "name": "python",
   "nbconvert_exporter": "python",
   "pygments_lexer": "ipython3",
   "version": "3.8.5"
  },
  "orig_nbformat": 4
 },
 "nbformat": 4,
 "nbformat_minor": 2
}
