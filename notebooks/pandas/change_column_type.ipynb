{
 "cells": [
  {
   "cell_type": "markdown",
   "source": [
    "Change data types can follows\n",
    "- [Numpy Data Types](https://www.w3schools.com/python/numpy/numpy_data_types.asp)\n",
    "- [Python Data Types](https://www.w3schools.com/python/python_datatypes.asp)\n",
    "```\n",
    "Python has the following data types built-in by default, in these categories:\n",
    "Text Type: str\n",
    "Numeric Types: int, float, complex\n",
    "Sequence Types: list, tuple, range\n",
    "Mapping Type: dict\n",
    "Set Types: set, frozenset\n",
    "Boolean Type: bool\n",
    "Binary Types: bytes, bytearray, memoryview\n",
    "```\n",
    "\n",
    "- df = df.astype({\"A\": float, \"C\": str, 'G': bool}, errors = 'raise') #errors = 'ignore'\n",
    "- df.H = df.H.astype(float)\n"
   ],
   "metadata": {}
  },
  {
   "cell_type": "code",
   "execution_count": 2,
   "source": [
    "import pandas as pd \n",
    "import numpy as np\n",
    "\n",
    "rows = 3\n",
    "df = pd.DataFrame(np.random.randint(0,rows,size=(rows, 6)), columns=list('ABCDEF'))\n",
    "\n",
    "df['G'] = np.zeros(3)\n",
    "df.head(3)"
   ],
   "outputs": [
    {
     "output_type": "execute_result",
     "data": {
      "text/html": [
       "<div>\n",
       "<style scoped>\n",
       "    .dataframe tbody tr th:only-of-type {\n",
       "        vertical-align: middle;\n",
       "    }\n",
       "\n",
       "    .dataframe tbody tr th {\n",
       "        vertical-align: top;\n",
       "    }\n",
       "\n",
       "    .dataframe thead th {\n",
       "        text-align: right;\n",
       "    }\n",
       "</style>\n",
       "<table border=\"1\" class=\"dataframe\">\n",
       "  <thead>\n",
       "    <tr style=\"text-align: right;\">\n",
       "      <th></th>\n",
       "      <th>A</th>\n",
       "      <th>B</th>\n",
       "      <th>C</th>\n",
       "      <th>D</th>\n",
       "      <th>E</th>\n",
       "      <th>F</th>\n",
       "      <th>G</th>\n",
       "    </tr>\n",
       "  </thead>\n",
       "  <tbody>\n",
       "    <tr>\n",
       "      <th>0</th>\n",
       "      <td>2</td>\n",
       "      <td>1</td>\n",
       "      <td>0</td>\n",
       "      <td>2</td>\n",
       "      <td>0</td>\n",
       "      <td>0</td>\n",
       "      <td>0.0</td>\n",
       "    </tr>\n",
       "    <tr>\n",
       "      <th>1</th>\n",
       "      <td>2</td>\n",
       "      <td>2</td>\n",
       "      <td>1</td>\n",
       "      <td>0</td>\n",
       "      <td>2</td>\n",
       "      <td>1</td>\n",
       "      <td>0.0</td>\n",
       "    </tr>\n",
       "    <tr>\n",
       "      <th>2</th>\n",
       "      <td>1</td>\n",
       "      <td>0</td>\n",
       "      <td>1</td>\n",
       "      <td>1</td>\n",
       "      <td>2</td>\n",
       "      <td>1</td>\n",
       "      <td>0.0</td>\n",
       "    </tr>\n",
       "  </tbody>\n",
       "</table>\n",
       "</div>"
      ],
      "text/plain": [
       "   A  B  C  D  E  F    G\n",
       "0  2  1  0  2  0  0  0.0\n",
       "1  2  2  1  0  2  1  0.0\n",
       "2  1  0  1  1  2  1  0.0"
      ]
     },
     "metadata": {},
     "execution_count": 2
    }
   ],
   "metadata": {}
  },
  {
   "cell_type": "markdown",
   "source": [
    "### Change multiple columns"
   ],
   "metadata": {}
  },
  {
   "cell_type": "code",
   "execution_count": 3,
   "source": [
    "df = df.astype({\"A\": float, \"C\": str, 'G': bool})\n",
    "\n",
    "\n",
    "### Notice how all columns is bring over\n",
    "df.dtypes\n"
   ],
   "outputs": [
    {
     "output_type": "execute_result",
     "data": {
      "text/html": [
       "<div>\n",
       "<style scoped>\n",
       "    .dataframe tbody tr th:only-of-type {\n",
       "        vertical-align: middle;\n",
       "    }\n",
       "\n",
       "    .dataframe tbody tr th {\n",
       "        vertical-align: top;\n",
       "    }\n",
       "\n",
       "    .dataframe thead th {\n",
       "        text-align: right;\n",
       "    }\n",
       "</style>\n",
       "<table border=\"1\" class=\"dataframe\">\n",
       "  <thead>\n",
       "    <tr style=\"text-align: right;\">\n",
       "      <th></th>\n",
       "      <th>A</th>\n",
       "      <th>B</th>\n",
       "      <th>C</th>\n",
       "      <th>D</th>\n",
       "      <th>E</th>\n",
       "      <th>F</th>\n",
       "      <th>G</th>\n",
       "    </tr>\n",
       "  </thead>\n",
       "  <tbody>\n",
       "    <tr>\n",
       "      <th>0</th>\n",
       "      <td>2.0</td>\n",
       "      <td>1</td>\n",
       "      <td>0</td>\n",
       "      <td>2</td>\n",
       "      <td>0</td>\n",
       "      <td>0</td>\n",
       "      <td>False</td>\n",
       "    </tr>\n",
       "    <tr>\n",
       "      <th>1</th>\n",
       "      <td>2.0</td>\n",
       "      <td>2</td>\n",
       "      <td>1</td>\n",
       "      <td>0</td>\n",
       "      <td>2</td>\n",
       "      <td>1</td>\n",
       "      <td>False</td>\n",
       "    </tr>\n",
       "    <tr>\n",
       "      <th>2</th>\n",
       "      <td>1.0</td>\n",
       "      <td>0</td>\n",
       "      <td>1</td>\n",
       "      <td>1</td>\n",
       "      <td>2</td>\n",
       "      <td>1</td>\n",
       "      <td>False</td>\n",
       "    </tr>\n",
       "  </tbody>\n",
       "</table>\n",
       "</div>"
      ],
      "text/plain": [
       "     A  B  C  D  E  F      G\n",
       "0  2.0  1  0  2  0  0  False\n",
       "1  2.0  2  1  0  2  1  False\n",
       "2  1.0  0  1  1  2  1  False"
      ]
     },
     "metadata": {},
     "execution_count": 3
    }
   ],
   "metadata": {}
  },
  {
   "cell_type": "markdown",
   "source": [
    "# Dealing with errors in conversion"
   ],
   "metadata": {}
  },
  {
   "cell_type": "code",
   "execution_count": 57,
   "source": [
    "def convert(df):\n",
    "    try:\n",
    "\n",
    "        df.H = df.H.astype(int)\n",
    "\n",
    "        print(df)\n",
    "\n",
    "    except ValueError as error:\n",
    "        \n",
    "        print(\"Failed to convert to Int when have nan value\")\n",
    "\n",
    "    finally:\n",
    "        print(df.H.dtypes)"
   ],
   "outputs": [],
   "metadata": {}
  },
  {
   "cell_type": "code",
   "execution_count": 58,
   "source": [
    "df1 = df.copy()\n",
    "df1[\"H\"] = np.NaN\n",
    "\n",
    "convert(df1)\n"
   ],
   "outputs": [
    {
     "output_type": "stream",
     "name": "stdout",
     "text": [
      "Failed to convert to Int when have nan value\n",
      "float64\n"
     ]
    }
   ],
   "metadata": {}
  },
  {
   "cell_type": "markdown",
   "source": [
    "# Solution 1\n",
    "Replace nan values with valid values"
   ],
   "metadata": {}
  },
  {
   "cell_type": "code",
   "execution_count": 59,
   "source": [
    "df2 = df.copy()\n",
    "df2['H'] = np.NaN\n",
    "df2.H = df2.H.fillna(-1)\n",
    "\n",
    "convert(df2)\n"
   ],
   "outputs": [
    {
     "output_type": "stream",
     "name": "stdout",
     "text": [
      "     A  B  C  D  E  F      G  H\n",
      "0  2.0  2  1  1  2  1  False -1\n",
      "1  2.0  2  0  1  2  1  False -1\n",
      "2  0.0  0  1  1  1  0  False -1\n",
      "int32\n"
     ]
    }
   ],
   "metadata": {}
  },
  {
   "cell_type": "markdown",
   "source": [
    "# Solution 2\n",
    "Suppress error with flag errors=`ignore`. Opposite errors=`raise`"
   ],
   "metadata": {}
  },
  {
   "cell_type": "code",
   "execution_count": 60,
   "source": [
    "df3 = df.copy()\n",
    "\n",
    "df3['H'] = np.NaN\n",
    "\n",
    "try:\n",
    "\n",
    "    df3.H = df3.H.astype(int, errors = 'ignore')\n",
    "\n",
    "    print(df3)\n",
    "\n",
    "except ValueError as error:\n",
    "    \n",
    "    print(\"Failed when have nan value\")\n",
    "\n",
    "df3.H.dtypes"
   ],
   "outputs": [
    {
     "output_type": "stream",
     "name": "stdout",
     "text": [
      "     A  B  C  D  E  F      G   H\n",
      "0  2.0  2  1  1  2  1  False NaN\n",
      "1  2.0  2  0  1  2  1  False NaN\n",
      "2  0.0  0  1  1  1  0  False NaN\n"
     ]
    },
    {
     "output_type": "execute_result",
     "data": {
      "text/plain": [
       "dtype('float64')"
      ]
     },
     "metadata": {},
     "execution_count": 60
    }
   ],
   "metadata": {}
  },
  {
   "cell_type": "markdown",
   "source": [
    "# Solution 3 \n",
    "INT64 can handle Nan Value"
   ],
   "metadata": {}
  },
  {
   "cell_type": "code",
   "execution_count": 61,
   "source": [
    "df4 = df.copy()\n",
    "\n",
    "df4['H'] = np.NaN\n",
    "df4.H = df4.H.astype(pd.Int64Dtype())\n",
    "\n",
    "print(df)"
   ],
   "outputs": [
    {
     "output_type": "stream",
     "name": "stdout",
     "text": [
      "     A  B  C  D  E  F      G\n",
      "0  2.0  2  1  1  2  1  False\n",
      "1  2.0  2  0  1  2  1  False\n",
      "2  0.0  0  1  1  1  0  False\n"
     ]
    }
   ],
   "metadata": {}
  },
  {
   "cell_type": "code",
   "execution_count": null,
   "source": [],
   "outputs": [],
   "metadata": {}
  }
 ],
 "metadata": {
  "interpreter": {
   "hash": "91fb72c7a446091b2dc084c9ac9a96bd5353db6214c910505374dc3b00d834ee"
  },
  "kernelspec": {
   "name": "python3",
   "display_name": "Python 3.7.0 64-bit ('ko-auto-coding': conda)"
  },
  "language_info": {
   "codemirror_mode": {
    "name": "ipython",
    "version": 3
   },
   "file_extension": ".py",
   "mimetype": "text/x-python",
   "name": "python",
   "nbconvert_exporter": "python",
   "pygments_lexer": "ipython3",
   "version": "3.7.0"
  },
  "orig_nbformat": 4
 },
 "nbformat": 4,
 "nbformat_minor": 2
}