{
 "cells": [
  {
   "cell_type": "code",
   "execution_count": 10,
   "metadata": {},
   "outputs": [],
   "source": [
    "import pandas as pd \n",
    "\n",
    "value = list(range(5, 0, -1))\n",
    "material = [\"cotton\", \"funnel\", \"plastic\", \"vinyl\", \"silk\"]\n",
    "\n",
    "df = pd.DataFrame({\"value\": value, \"material\": material})\n"
   ]
  },
  {
   "cell_type": "code",
   "execution_count": 11,
   "metadata": {},
   "outputs": [],
   "source": [
    "def checktype(column1, column2):\n",
    "\n",
    "    if column1.dtypes is column2.dtypes:\n",
    "\n",
    "        print(f\"same type: {column1.dtypes}\")\n",
    "    else:\n",
    "        print(f\"different type: {column1.dtypes} <> {column2.dtypes}\")"
   ]
  },
  {
   "cell_type": "code",
   "execution_count": 12,
   "metadata": {},
   "outputs": [
    {
     "name": "stdout",
     "output_type": "stream",
     "text": [
      "different type: int64 <> object\n"
     ]
    }
   ],
   "source": [
    "checktype(df.value, df.material)"
   ]
  },
  {
   "cell_type": "code",
   "execution_count": 13,
   "metadata": {},
   "outputs": [],
   "source": [
    "df.value = df.value.astype(str)"
   ]
  },
  {
   "cell_type": "code",
   "execution_count": 14,
   "metadata": {},
   "outputs": [
    {
     "name": "stdout",
     "output_type": "stream",
     "text": [
      "same type: object\n"
     ]
    }
   ],
   "source": [
    "checktype(df.value, df.material)"
   ]
  }
 ],
 "metadata": {
  "interpreter": {
   "hash": "36618adacc0c0654d29059fc1878dc7c9d73d0e7eebbf22d340032173419ac28"
  },
  "kernelspec": {
   "display_name": "Python 3.9.7 ('nlp-meeting')",
   "language": "python",
   "name": "python3"
  },
  "language_info": {
   "codemirror_mode": {
    "name": "ipython",
    "version": 3
   },
   "file_extension": ".py",
   "mimetype": "text/x-python",
   "name": "python",
   "nbconvert_exporter": "python",
   "pygments_lexer": "ipython3",
   "version": "3.9.7"
  },
  "orig_nbformat": 4
 },
 "nbformat": 4,
 "nbformat_minor": 2
}
