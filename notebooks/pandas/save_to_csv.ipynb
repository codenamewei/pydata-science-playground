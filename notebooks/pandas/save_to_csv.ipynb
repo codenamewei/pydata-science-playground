{
 "cells": [
  {
   "cell_type": "code",
   "execution_count": 2,
   "metadata": {},
   "outputs": [],
   "source": [
    "import pandas as pd\n",
    "\n",
    "# assign data of lists.  \n",
    "data = {'date': ['20110201', '20110202', '20110203', '20110204', '20110205'], 'weather': [20, 21, 19, 18, 20]}  \n",
    "\n",
    "# Create DataFrame  \n",
    "df = pd.DataFrame(data)"
   ]
  },
  {
   "cell_type": "code",
   "execution_count": null,
   "metadata": {},
   "outputs": [],
   "source": [
    "df.to_csv(\"output/default_save.csv\")"
   ]
  },
  {
   "cell_type": "markdown",
   "metadata": {},
   "source": [
    "### Note that how the former cell will resulted in index being saved as a column\n",
    "\n",
    "```\n",
    ",date,weather\n",
    "0,20110201,20\n",
    "1,20110202,21\n",
    "2,20110203,19\n",
    "3,20110204,18\n",
    "4,20110205,20\n",
    "\n",
    "```\n",
    "\n",
    "To prevent that, add a flag (index = False)"
   ]
  },
  {
   "cell_type": "code",
   "execution_count": 3,
   "metadata": {},
   "outputs": [],
   "source": [
    "df.to_csv(\"output/save.csv\", index = False)"
   ]
  },
  {
   "cell_type": "markdown",
   "metadata": {},
   "source": [
    "### Result in \n",
    "\n",
    "```\n",
    "date,weather\n",
    "20110201,20\n",
    "20110202,21\n",
    "20110203,19\n",
    "20110204,18\n",
    "20110205,20\n",
    "```"
   ]
  },
  {
   "cell_type": "markdown",
   "metadata": {},
   "source": []
  }
 ],
 "metadata": {
  "interpreter": {
   "hash": "566fc2406c534f779744276e0ad6e818e0f4a899b0fcebb34d8f31acd47d8f89"
  },
  "kernelspec": {
   "display_name": "Python 3.8.5 64-bit ('data-science-playground': conda)",
   "language": "python",
   "name": "python3"
  },
  "language_info": {
   "codemirror_mode": {
    "name": "ipython",
    "version": 3
   },
   "file_extension": ".py",
   "mimetype": "text/x-python",
   "name": "python",
   "nbconvert_exporter": "python",
   "pygments_lexer": "ipython3",
   "version": "3.8.5"
  },
  "orig_nbformat": 4
 },
 "nbformat": 4,
 "nbformat_minor": 2
}
