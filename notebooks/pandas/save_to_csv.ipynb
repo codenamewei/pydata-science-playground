{
 "cells": [
  {
   "cell_type": "code",
   "execution_count": null,
   "source": [
    "import pandas as pd\r\n",
    "\r\n",
    "# assign data of lists.  \r\n",
    "data = {'date': ['20110201', '20110202', '20110203', '20110204', '20110205'], 'weather': [20, 21, 19, 18, 20]}  \r\n",
    "\r\n",
    "# Create DataFrame  \r\n",
    "df = pd.DataFrame(data)"
   ],
   "outputs": [],
   "metadata": {}
  },
  {
   "cell_type": "code",
   "execution_count": null,
   "source": [
    "df.to_csv(\"output/default_save.csv\")"
   ],
   "outputs": [],
   "metadata": {}
  }
 ],
 "metadata": {
  "orig_nbformat": 4,
  "language_info": {
   "name": "python"
  }
 },
 "nbformat": 4,
 "nbformat_minor": 2
}