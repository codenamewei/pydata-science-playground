{
 "cells": [
  {
   "cell_type": "markdown",
   "id": "69d4ed73-f4bb-44b3-88f5-d1653982d7b7",
   "metadata": {},
   "source": [
    "### To write to separate sheets in a single file"
   ]
  },
  {
   "cell_type": "code",
   "execution_count": 8,
   "id": "bcf7591b-d28a-469a-9cf1-fe79269f1038",
   "metadata": {},
   "outputs": [],
   "source": [
    "import pandas as pd\n",
    "import os"
   ]
  },
  {
   "cell_type": "code",
   "execution_count": 10,
   "id": "bff642de-4ae9-4067-8f08-4751080cbc26",
   "metadata": {},
   "outputs": [],
   "source": [
    "df1 = pd.DataFrame([[\"AAA\", \"BBB\"]], columns=[\"Spam\", \"Egg\"])  \n",
    "\n",
    "df2 = pd.DataFrame([[\"ABC\", \"XYZ\"]], columns=[\"Foo\", \"Bar\"])  \n",
    "\n",
    "# mode = 'a' to append \n",
    "# remove to start a new file (exist / not exist)\n",
    "filepath = \"path_to_file.xlsx\"\n",
    "if os.path.exists(filepath) is True:\n",
    "    mode = 'a'\n",
    "else:\n",
    "    mode = 'w'\n",
    "\n",
    "\n",
    "with pd.ExcelWriter(filepath, mode = mode) as writer:\n",
    "\n",
    "    df1.to_excel(writer, sheet_name=\"Sheet1\", index = False)  \n",
    "\n",
    "    df2.to_excel(writer, sheet_name=\"Sheet2\", index = False)  "
   ]
  },
  {
   "cell_type": "code",
   "execution_count": null,
   "id": "131a2c93-ce3b-49f2-a766-28aa6fb54b26",
   "metadata": {},
   "outputs": [],
   "source": []
  }
 ],
 "metadata": {
  "kernelspec": {
   "display_name": "Python 3 (ipykernel)",
   "language": "python",
   "name": "python3"
  },
  "language_info": {
   "codemirror_mode": {
    "name": "ipython",
    "version": 3
   },
   "file_extension": ".py",
   "mimetype": "text/x-python",
   "name": "python",
   "nbconvert_exporter": "python",
   "pygments_lexer": "ipython3",
   "version": "3.9.7"
  }
 },
 "nbformat": 4,
 "nbformat_minor": 5
}
