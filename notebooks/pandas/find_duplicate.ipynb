{
 "cells": [
  {
   "cell_type": "code",
   "execution_count": 125,
   "id": "e88d4f1d-e667-456a-a67a-60200f2029fd",
   "metadata": {},
   "outputs": [
    {
     "data": {
      "text/html": [
       "<div>\n",
       "<style scoped>\n",
       "    .dataframe tbody tr th:only-of-type {\n",
       "        vertical-align: middle;\n",
       "    }\n",
       "\n",
       "    .dataframe tbody tr th {\n",
       "        vertical-align: top;\n",
       "    }\n",
       "\n",
       "    .dataframe thead th {\n",
       "        text-align: right;\n",
       "    }\n",
       "</style>\n",
       "<table border=\"1\" class=\"dataframe\">\n",
       "  <thead>\n",
       "    <tr style=\"text-align: right;\">\n",
       "      <th></th>\n",
       "      <th>first</th>\n",
       "      <th>second</th>\n",
       "      <th>third</th>\n",
       "    </tr>\n",
       "  </thead>\n",
       "  <tbody>\n",
       "    <tr>\n",
       "      <th>1</th>\n",
       "      <td>1</td>\n",
       "      <td>test</td>\n",
       "      <td>0.2</td>\n",
       "    </tr>\n",
       "    <tr>\n",
       "      <th>3</th>\n",
       "      <td>2</td>\n",
       "      <td>hello</td>\n",
       "      <td>0.4</td>\n",
       "    </tr>\n",
       "    <tr>\n",
       "      <th>2</th>\n",
       "      <td>2</td>\n",
       "      <td>hello</td>\n",
       "      <td>0.3</td>\n",
       "    </tr>\n",
       "    <tr>\n",
       "      <th>5</th>\n",
       "      <td>3</td>\n",
       "      <td>world</td>\n",
       "      <td>0.5</td>\n",
       "    </tr>\n",
       "    <tr>\n",
       "      <th>0</th>\n",
       "      <td>1</td>\n",
       "      <td>test</td>\n",
       "      <td>0.1</td>\n",
       "    </tr>\n",
       "    <tr>\n",
       "      <th>4</th>\n",
       "      <td>2</td>\n",
       "      <td>hello</td>\n",
       "      <td>0.1</td>\n",
       "    </tr>\n",
       "  </tbody>\n",
       "</table>\n",
       "</div>"
      ],
      "text/plain": [
       "   first second  third\n",
       "1      1   test    0.2\n",
       "3      2  hello    0.4\n",
       "2      2  hello    0.3\n",
       "5      3  world    0.5\n",
       "0      1   test    0.1\n",
       "4      2  hello    0.1"
      ]
     },
     "execution_count": 125,
     "metadata": {},
     "output_type": "execute_result"
    }
   ],
   "source": [
    "import pandas as pd\n",
    "import math\n",
    "\n",
    "\n",
    "input = {\"first\": [1,1, 2, 2, 2, 3], \"second\": [\"test\", \"test\", \"hello\", \"hello\", \"hello\", \"world\"], \"third\": [0.1, 0.2, 0.3, 0.4, 0.1, 0.5]}\n",
    "\n",
    "df = pd.DataFrame(input)\n",
    "\n",
    "\n",
    "df = df.sample(frac=1)\n",
    "\n",
    "df"
   ]
  },
  {
   "cell_type": "markdown",
   "id": "db77804f-b11e-4809-8325-71849ff0e411",
   "metadata": {},
   "source": [
    "# Get a subset of df with columns in interest"
   ]
  },
  {
   "cell_type": "code",
   "execution_count": 126,
   "id": "17f4b610-445b-4586-9448-a78c6422709a",
   "metadata": {},
   "outputs": [],
   "source": [
    "\n",
    "column_in_interest = [\"first\", \"second\"]\n",
    "\n",
    "\n",
    "df_compare = df[column_in_interest]\n",
    "\n"
   ]
  },
  {
   "cell_type": "markdown",
   "id": "6b1d8ab5-3840-4f07-a679-6f7ec38dbf42",
   "metadata": {},
   "source": [
    "# Get index of duplicates"
   ]
  },
  {
   "cell_type": "code",
   "execution_count": 127,
   "id": "c05bad2b-7672-4023-9cd5-596e2982b61f",
   "metadata": {},
   "outputs": [
    {
     "name": "stdout",
     "output_type": "stream",
     "text": [
      "((0, 1), (2, 3, 4), (2, 3, 4), (0, 1), (2, 3, 4))\n"
     ]
    }
   ],
   "source": [
    "#df.loc[(df['column_name'] >= A) & (df['column_name'] <= B)]\n",
    "\n",
    "list_matched_index = list()\n",
    "\n",
    "for idx in range(df_compare.shape[0]):\n",
    "    \n",
    "    output = df.loc[(df_compare['first']  == df_compare.iloc[idx]['first']) \n",
    "          & (df_compare['second'] == df_compare.iloc[idx]['second'])].index\n",
    "    \n",
    "    \n",
    "    if output.shape[0] > 1:\n",
    "        \n",
    "        # import to sort the order\n",
    "    \n",
    "        list_matched_index.append(tuple(sorted(output)))\n",
    "        \n",
    "\n",
    "print(tuple(list_matched_index))"
   ]
  },
  {
   "cell_type": "code",
   "execution_count": 128,
   "id": "9af42d66-70e2-42b9-9256-44a7b416542e",
   "metadata": {},
   "outputs": [
    {
     "name": "stdout",
     "output_type": "stream",
     "text": [
      "{(0, 1): 2, (2, 3, 4): 3}\n"
     ]
    }
   ],
   "source": [
    "keyvalue = dict()\n",
    "\n",
    "for matched_list in list_matched_index:\n",
    "    \n",
    "    if matched_list in keyvalue.keys():\n",
    "        keyvalue[matched_list] += 1\n",
    "    else:\n",
    "        keyvalue[matched_list] = 1\n",
    "        \n",
    "print(keyvalue)\n",
    "        "
   ]
  }
 ],
 "metadata": {
  "kernelspec": {
   "display_name": "Python 3 (ipykernel)",
   "language": "python",
   "name": "python3"
  },
  "language_info": {
   "codemirror_mode": {
    "name": "ipython",
    "version": 3
   },
   "file_extension": ".py",
   "mimetype": "text/x-python",
   "name": "python",
   "nbconvert_exporter": "python",
   "pygments_lexer": "ipython3",
   "version": "3.7.11"
  }
 },
 "nbformat": 4,
 "nbformat_minor": 5
}
