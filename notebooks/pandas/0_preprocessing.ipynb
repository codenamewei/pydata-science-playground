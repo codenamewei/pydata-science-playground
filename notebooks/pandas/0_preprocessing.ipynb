{
 "cells": [
  {
   "cell_type": "code",
   "execution_count": 1,
   "source": [
    "import pandas as pd \r\n",
    "import re"
   ],
   "outputs": [],
   "metadata": {}
  },
  {
   "cell_type": "code",
   "execution_count": 2,
   "source": [
    "data = pd.read_csv(\"data/test_outscope.csv\", encoding = \"UTF-16\", delimiter = '\\x01',  error_bad_lines = False)"
   ],
   "outputs": [
    {
     "output_type": "error",
     "ename": "TypeError",
     "evalue": "read_csv() got an unexpected keyword argument 'fileEncoding'",
     "traceback": [
      "\u001b[1;31m---------------------------------------------------------------------------\u001b[0m",
      "\u001b[1;31mTypeError\u001b[0m                                 Traceback (most recent call last)",
      "\u001b[1;32m<ipython-input-2-d792da0ce96d>\u001b[0m in \u001b[0;36m<module>\u001b[1;34m\u001b[0m\n\u001b[1;32m----> 1\u001b[1;33m \u001b[0mdata\u001b[0m \u001b[1;33m=\u001b[0m \u001b[0mpd\u001b[0m\u001b[1;33m.\u001b[0m\u001b[0mread_csv\u001b[0m\u001b[1;33m(\u001b[0m\u001b[1;34m\"data/test_outscope.csv\"\u001b[0m\u001b[1;33m,\u001b[0m \u001b[0mfileEncoding\u001b[0m \u001b[1;33m=\u001b[0m \u001b[1;34m\"UTF-16\"\u001b[0m\u001b[1;33m,\u001b[0m \u001b[0mdelimiter\u001b[0m \u001b[1;33m=\u001b[0m \u001b[1;34m'\\x01'\u001b[0m\u001b[1;33m,\u001b[0m  \u001b[0merror_bad_lines\u001b[0m \u001b[1;33m=\u001b[0m \u001b[1;32mFalse\u001b[0m\u001b[1;33m)\u001b[0m\u001b[1;33m\u001b[0m\u001b[1;33m\u001b[0m\u001b[0m\n\u001b[0m",
      "\u001b[1;31mTypeError\u001b[0m: read_csv() got an unexpected keyword argument 'fileEncoding'"
     ]
    }
   ],
   "metadata": {}
  },
  {
   "cell_type": "code",
   "execution_count": null,
   "source": [
    "data.head(n = 5)"
   ],
   "outputs": [
    {
     "output_type": "execute_result",
     "data": {
      "text/html": [
       "<div>\n",
       "<style scoped>\n",
       "    .dataframe tbody tr th:only-of-type {\n",
       "        vertical-align: middle;\n",
       "    }\n",
       "\n",
       "    .dataframe tbody tr th {\n",
       "        vertical-align: top;\n",
       "    }\n",
       "\n",
       "    .dataframe thead th {\n",
       "        text-align: right;\n",
       "    }\n",
       "</style>\n",
       "<table border=\"1\" class=\"dataframe\">\n",
       "  <thead>\n",
       "    <tr style=\"text-align: right;\">\n",
       "      <th></th>\n",
       "      <th>SOURCEID</th>\n",
       "      <th>PROD_ID</th>\n",
       "      <th>PROD_DESC_RAW</th>\n",
       "      <th>RAW_CATEGORY</th>\n",
       "      <th>RAW_MBRAND</th>\n",
       "      <th>NANKEY</th>\n",
       "      <th>LOCAL_PC_CODE</th>\n",
       "      <th>LOCAL_PC</th>\n",
       "      <th>MANUFACTURER_CODE</th>\n",
       "      <th>MANUFACTURER</th>\n",
       "      <th>BRAND_CODE</th>\n",
       "      <th>BRAND</th>\n",
       "    </tr>\n",
       "  </thead>\n",
       "  <tbody>\n",
       "    <tr>\n",
       "      <th>0</th>\n",
       "      <td>KR265</td>\n",
       "      <td>5048927366</td>\n",
       "      <td>접이식 홈사우나 욕조세트 반신욕조 가정용욕조 미니욕조\u0001\u0001\u000159372780\u000116098...</td>\n",
       "      <td>59372780</td>\n",
       "      <td>160987996</td>\n",
       "      <td>TSR OUTMARKET</td>\n",
       "      <td>NaN</td>\n",
       "      <td>NaN</td>\n",
       "      <td>NaN</td>\n",
       "      <td>NaN</td>\n",
       "      <td>NaN</td>\n",
       "      <td>NaN</td>\n",
       "    </tr>\n",
       "    <tr>\n",
       "      <th>1</th>\n",
       "      <td>KR205</td>\n",
       "      <td>6381290507</td>\n",
       "      <td>Vaccum Tube Plain (367815)진공채혈관 6ml (100ea)</td>\n",
       "      <td>건강/의료|병원/의료용품|병원/의료용품 기타|</td>\n",
       "      <td>Becton Dickinson and|</td>\n",
       "      <td>59484592</td>\n",
       "      <td>160987996.0</td>\n",
       "      <td>TSR OUTMARKET</td>\n",
       "      <td>NaN</td>\n",
       "      <td>NaN</td>\n",
       "      <td>NaN</td>\n",
       "      <td>NaN</td>\n",
       "    </tr>\n",
       "    <tr>\n",
       "      <th>2</th>\n",
       "      <td>KR205</td>\n",
       "      <td>8190154648</td>\n",
       "      <td>오리엔탈 블랙 사각형 도자기재떨이 2개 가정용재털이</td>\n",
       "      <td>생활/수납/청소/욕실|생활잡화|라이터/재떨이|</td>\n",
       "      <td>YNK협력업체|</td>\n",
       "      <td>59484614</td>\n",
       "      <td>160987996.0</td>\n",
       "      <td>TSR OUTMARKET</td>\n",
       "      <td>NaN</td>\n",
       "      <td>NaN</td>\n",
       "      <td>NaN</td>\n",
       "      <td>NaN</td>\n",
       "    </tr>\n",
       "    <tr>\n",
       "      <th>3</th>\n",
       "      <td>KR204</td>\n",
       "      <td>29759583</td>\n",
       "      <td>헤스티지 린넨블랜딩 티블라우스 5종</td>\n",
       "      <td>패션|여성의류|여성캐주얼|티셔츠</td>\n",
       "      <td>Aiyina Export &amp; Import Trading Co.| Ltd.\"|헤스티지</td>\n",
       "      <td>59484593</td>\n",
       "      <td>160987996.0</td>\n",
       "      <td>TSR OUTMARKET</td>\n",
       "      <td>NaN</td>\n",
       "      <td>NaN</td>\n",
       "      <td>NaN</td>\n",
       "      <td>NaN</td>\n",
       "    </tr>\n",
       "    <tr>\n",
       "      <th>4</th>\n",
       "      <td>KR205</td>\n",
       "      <td>7918976766</td>\n",
       "      <td>(하프클럽)[에스콰이아] 에스콰이아 21SS신상 여성 리본장식 펌프스 ES534_P...</td>\n",
       "      <td>슈즈|(브랜드) 제화/캐주얼|여성제화|펌프스/힐</td>\n",
       "      <td>에스콰이아|에스콰이아</td>\n",
       "      <td>59484593</td>\n",
       "      <td>160987996.0</td>\n",
       "      <td>TSR OUTMARKET</td>\n",
       "      <td>NaN</td>\n",
       "      <td>NaN</td>\n",
       "      <td>NaN</td>\n",
       "      <td>NaN</td>\n",
       "    </tr>\n",
       "  </tbody>\n",
       "</table>\n",
       "</div>"
      ],
      "text/plain": [
       "  SOURCEID     PROD_ID                                      PROD_DESC_RAW  \\\n",
       "0    KR265  5048927366  접이식 홈사우나 욕조세트 반신욕조 가정용욕조 미니욕조\u0001\u0001\u000159372780\u000116098...   \n",
       "1    KR205  6381290507        Vaccum Tube Plain (367815)진공채혈관 6ml (100ea)   \n",
       "2    KR205  8190154648                       오리엔탈 블랙 사각형 도자기재떨이 2개 가정용재털이   \n",
       "3    KR204    29759583                                헤스티지 린넨블랜딩 티블라우스 5종   \n",
       "4    KR205  7918976766  (하프클럽)[에스콰이아] 에스콰이아 21SS신상 여성 리본장식 펌프스 ES534_P...   \n",
       "\n",
       "                 RAW_CATEGORY                                      RAW_MBRAND  \\\n",
       "0                    59372780                                       160987996   \n",
       "1   건강/의료|병원/의료용품|병원/의료용품 기타|                           Becton Dickinson and|   \n",
       "2   생활/수납/청소/욕실|생활잡화|라이터/재떨이|                                        YNK협력업체|   \n",
       "3           패션|여성의류|여성캐주얼|티셔츠  Aiyina Export & Import Trading Co.| Ltd.\"|헤스티지   \n",
       "4  슈즈|(브랜드) 제화/캐주얼|여성제화|펌프스/힐                                     에스콰이아|에스콰이아   \n",
       "\n",
       "          NANKEY  LOCAL_PC_CODE       LOCAL_PC  MANUFACTURER_CODE  \\\n",
       "0  TSR OUTMARKET            NaN            NaN                NaN   \n",
       "1       59484592    160987996.0  TSR OUTMARKET                NaN   \n",
       "2       59484614    160987996.0  TSR OUTMARKET                NaN   \n",
       "3       59484593    160987996.0  TSR OUTMARKET                NaN   \n",
       "4       59484593    160987996.0  TSR OUTMARKET                NaN   \n",
       "\n",
       "   MANUFACTURER  BRAND_CODE  BRAND  \n",
       "0           NaN         NaN    NaN  \n",
       "1           NaN         NaN    NaN  \n",
       "2           NaN         NaN    NaN  \n",
       "3           NaN         NaN    NaN  \n",
       "4           NaN         NaN    NaN  "
      ]
     },
     "metadata": {},
     "execution_count": 3
    }
   ],
   "metadata": {}
  },
  {
   "cell_type": "code",
   "execution_count": null,
   "source": [
    "data.dtypes"
   ],
   "outputs": [
    {
     "output_type": "execute_result",
     "data": {
      "text/plain": [
       "SOURCEID              object\n",
       "PROD_ID                int64\n",
       "PROD_DESC_RAW         object\n",
       "RAW_CATEGORY          object\n",
       "RAW_MBRAND            object\n",
       "NANKEY                object\n",
       "LOCAL_PC_CODE        float64\n",
       "LOCAL_PC              object\n",
       "MANUFACTURER_CODE    float64\n",
       "MANUFACTURER         float64\n",
       "BRAND_CODE           float64\n",
       "BRAND                float64\n",
       "dtype: object"
      ]
     },
     "metadata": {},
     "execution_count": 4
    }
   ],
   "metadata": {}
  },
  {
   "cell_type": "code",
   "execution_count": null,
   "source": [
    "removal_list = [\"\\'\", \"\\\"\"]\r\n",
    "for idx in data.columns:\r\n",
    "    for char in removal_list:\r\n",
    "        \r\n",
    "        try:\r\n",
    "            data[idx] = data[idx].map(lambda x:str(x).replace(char, \"\").rstrip(char))\r\n",
    "        except: \r\n",
    "            pass#do nothing"
   ],
   "outputs": [],
   "metadata": {}
  },
  {
   "cell_type": "code",
   "execution_count": null,
   "source": [
    "data.to_csv(\"data/processed_test_outscope.csv\", sep = '\\x01', line_terminator = \"\\n\", header = True, index = False)"
   ],
   "outputs": [],
   "metadata": {}
  }
 ],
 "metadata": {
  "kernelspec": {
   "name": "python3",
   "display_name": "Python 3.8.5 64-bit ('data-science-playground': conda)"
  },
  "language_info": {
   "codemirror_mode": {
    "name": "ipython",
    "version": 3
   },
   "file_extension": ".py",
   "mimetype": "text/x-python",
   "name": "python",
   "nbconvert_exporter": "python",
   "pygments_lexer": "ipython3",
   "version": "3.8.5"
  },
  "interpreter": {
   "hash": "566fc2406c534f779744276e0ad6e818e0f4a899b0fcebb34d8f31acd47d8f89"
  }
 },
 "nbformat": 4,
 "nbformat_minor": 4
}