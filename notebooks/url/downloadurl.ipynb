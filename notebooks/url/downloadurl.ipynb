{
 "cells": [
  {
   "cell_type": "code",
   "execution_count": 44,
   "metadata": {},
   "outputs": [
    {
     "name": "stdout",
     "output_type": "stream",
     "text": [
      "e5f72c0f4d7ea31778796ff8f0312bfe\n"
     ]
    }
   ],
   "source": [
    "import urllib\n",
    "\n",
    "url = \"https://s3.ap-northeast-2.wasabisys.com/asr/sample.zip\" #403 error\n",
    "url = 'https://docs.python.org/3/library/urllib.request.html'\n",
    "\n",
    "filename = \"test.html\"\n",
    "\n",
    "try:\n",
    "    local_filename, headers = urllib.request.urlretrieve(url, filename)\n",
    "\n",
    "    print(checksum(local_filename))\n",
    "    \n",
    "except urllib.error.HTTPError as err:\n",
    "    \n",
    "    print(err)\n",
    "    "
   ]
  },
  {
   "cell_type": "code",
   "execution_count": 41,
   "metadata": {},
   "outputs": [],
   "source": [
    "import hashlib\n",
    "\n",
    "def checksum(path): \n",
    "    f = open(path, 'rb')\n",
    "    data = f.read()\n",
    "    hash = hashlib.md5(data).hexdigest()\n",
    "    return hash"
   ]
  },
  {
   "cell_type": "code",
   "execution_count": null,
   "metadata": {},
   "outputs": [],
   "source": []
  }
 ],
 "metadata": {
  "kernelspec": {
   "display_name": "Python 3 (ipykernel)",
   "language": "python",
   "name": "python3"
  },
  "language_info": {
   "codemirror_mode": {
    "name": "ipython",
    "version": 3
   },
   "file_extension": ".py",
   "mimetype": "text/x-python",
   "name": "python",
   "nbconvert_exporter": "python",
   "pygments_lexer": "ipython3",
   "version": "3.9.7"
  }
 },
 "nbformat": 4,
 "nbformat_minor": 4
}
