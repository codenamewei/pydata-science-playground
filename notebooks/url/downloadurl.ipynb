{
 "cells": [
  {
   "cell_type": "code",
   "execution_count": 34,
   "metadata": {},
   "outputs": [
    {
     "name": "stdout",
     "output_type": "stream",
     "text": [
      "test.html\n",
      "Date: Mon, 28 Feb 2022 23:33:31 GMT\n",
      "Expires: -1\n",
      "Cache-Control: private, max-age=0\n",
      "Content-Type: text/html; charset=ISO-8859-1\n",
      "P3P: CP=\"This is not a P3P policy! See g.co/p3phelp for more info.\"\n",
      "Server: gws\n",
      "X-XSS-Protection: 0\n",
      "X-Frame-Options: SAMEORIGIN\n",
      "Set-Cookie: 1P_JAR=2022-02-28-23; expires=Wed, 30-Mar-2022 23:33:31 GMT; path=/; domain=.google.com; Secure\n",
      "Set-Cookie: NID=511=rB8Ks3IH7a-7gc4LwjXQhZQ3Tnyo2v-Z-tWzKm_yg8MX-59yC8LyoOsTBzcgFTbDsweUKSqC9oKMnaJtyRvCF5jCoqULarB6ktp3m2r-EmgvQuX-ZYDaFP5ZGA3WwVCM1BnhQCKbDm3rTgke9W3pm8oK3bE8ABhMyuFjJ9sbxe0; expires=Tue, 30-Aug-2022 23:33:31 GMT; path=/; domain=.google.com; HttpOnly\n",
      "Alt-Svc: h3=\":443\"; ma=2592000,h3-29=\":443\"; ma=2592000,h3-Q050=\":443\"; ma=2592000,h3-Q046=\":443\"; ma=2592000,h3-Q043=\":443\"; ma=2592000,quic=\":443\"; ma=2592000; v=\"46,43\"\n",
      "Accept-Ranges: none\n",
      "Vary: Accept-Encoding\n",
      "Connection: close\n",
      "Transfer-Encoding: chunked\n",
      "\n",
      "\n"
     ]
    }
   ],
   "source": [
    "import urllib\n",
    "\n",
    "url = \"https://s3.ap-northeast-2.wasabisys.com/asr/sample.zip\" #403 error\n",
    "url = 'https://docs.python.org/3/library/urllib.request.html'\n",
    "\n",
    "filename = \"test.html\"\n",
    "\n",
    "try:\n",
    "    local_filename, headers = urllib.request.urlretrieve(url, filename)\n",
    "\n",
    "    print(local_filename)\n",
    "    print(headers)\n",
    "    \n",
    "except urllib.error.HTTPError as err:\n",
    "    \n",
    "    print(err)\n",
    "    "
   ]
  }
 ],
 "metadata": {
  "kernelspec": {
   "display_name": "Python 3 (ipykernel)",
   "language": "python",
   "name": "python3"
  },
  "language_info": {
   "codemirror_mode": {
    "name": "ipython",
    "version": 3
   },
   "file_extension": ".py",
   "mimetype": "text/x-python",
   "name": "python",
   "nbconvert_exporter": "python",
   "pygments_lexer": "ipython3",
   "version": "3.9.7"
  }
 },
 "nbformat": 4,
 "nbformat_minor": 4
}
