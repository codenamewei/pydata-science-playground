{
 "cells": [
  {
   "cell_type": "markdown",
   "metadata": {},
   "source": [
    "### typing package for Type Checking/Hinting\n",
    "\n",
    "The Python runtime does not enforce function and variable type annotations. They can be used by third party tools such as type checkers, IDEs, linters, etc. Or using _typing_ module to provide runtime support for type hints \n",
    "\n",
    "- https://docs.python.org/3/library/typing.html\n",
    "- https://realpython.com/python-type-checking/"
   ]
  },
  {
   "cell_type": "markdown",
   "metadata": {},
   "source": [
    "### Before using typing \n",
    "- You'll see that this does not really tell the full story for the composite type where we wouldn't know \n",
    "```names[2], version[0], options[\"centered\"]```"
   ]
  },
  {
   "cell_type": "code",
   "execution_count": 2,
   "metadata": {},
   "outputs": [
    {
     "name": "stdout",
     "output_type": "stream",
     "text": [
      "<class 'list'>\n",
      "<class 'tuple'>\n",
      "<class 'dict'>\n"
     ]
    }
   ],
   "source": [
    "name: str = \"Guido\"\n",
    "pi: float = 3.142\n",
    "centered: bool = False\n",
    "\n",
    "# with composite type, can do the same with \n",
    "names: list = [\"Guido\", \"Jukka\", \"Ivan\"]\n",
    "version: tuple = (3, 7, 1)\n",
    "options: dict = {\"centered\": False, \"capitalize\": True}\n",
    "\n",
    "print(type(names))\n",
    "print(type(version))\n",
    "print(type(options))"
   ]
  },
  {
   "cell_type": "markdown",
   "metadata": {},
   "source": [
    "### By using typing\n",
    "- It add syntax for specifying the types of elements of composite types "
   ]
  },
  {
   "cell_type": "code",
   "execution_count": 3,
   "metadata": {},
   "outputs": [
    {
     "name": "stdout",
     "output_type": "stream",
     "text": [
      "<class 'list'>\n",
      "<class 'tuple'>\n",
      "<class 'dict'>\n"
     ]
    }
   ],
   "source": [
    "from typing import Dict, List, Tuple\n",
    "\n",
    "names: List[str] = [\"Guido\", \"Jukka\", \"Ivan\"]\n",
    "version: Tuple[int, int, int] = (3, 7, 1)\n",
    "options: Dict[str, bool] = {\"centered\": False, \"capitalize\": True}\n",
    "\n",
    "print(type(names))\n",
    "print(type(version))\n",
    "print(type(options))"
   ]
  }
 ],
 "metadata": {
  "kernelspec": {
   "display_name": "Python 3 (ipykernel)",
   "language": "python",
   "name": "python3"
  },
  "language_info": {
   "codemirror_mode": {
    "name": "ipython",
    "version": 3
   },
   "file_extension": ".py",
   "mimetype": "text/x-python",
   "name": "python",
   "nbconvert_exporter": "python",
   "pygments_lexer": "ipython3",
   "version": "3.9.7"
  }
 },
 "nbformat": 4,
 "nbformat_minor": 4
}
