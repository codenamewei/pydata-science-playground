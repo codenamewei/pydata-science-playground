{
 "cells": [
  {
   "cell_type": "code",
   "execution_count": 5,
   "id": "a588776a-8850-4aed-bae8-c015219ed1e5",
   "metadata": {},
   "outputs": [
    {
     "name": "stdout",
     "output_type": "stream",
     "text": [
      "(1, 'a', 100)\n",
      "(2, 'b', 200)\n"
     ]
    }
   ],
   "source": [
    "a = [1,2]\n",
    "b = [\"a\", \"b\"]\n",
    "c = [100, 200]\n",
    "\n",
    "out = zip(a, b, c)\n",
    "\n",
    "for i in out:\n",
    "    print(i)"
   ]
  },
  {
   "cell_type": "code",
   "execution_count": null,
   "id": "41f608ef-a59a-41fe-9bb8-83f399ca16d0",
   "metadata": {},
   "outputs": [],
   "source": []
  }
 ],
 "metadata": {
  "kernelspec": {
   "display_name": "Python 3 (ipykernel)",
   "language": "python",
   "name": "python3"
  },
  "language_info": {
   "codemirror_mode": {
    "name": "ipython",
    "version": 3
   },
   "file_extension": ".py",
   "mimetype": "text/x-python",
   "name": "python",
   "nbconvert_exporter": "python",
   "pygments_lexer": "ipython3",
   "version": "3.8.5"
  }
 },
 "nbformat": 4,
 "nbformat_minor": 5
}
