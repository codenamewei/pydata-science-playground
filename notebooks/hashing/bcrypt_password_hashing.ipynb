{
 "cells": [
  {
   "cell_type": "markdown",
   "id": "f2079ab4-83fd-4e9f-8002-d79ef1b9dec1",
   "metadata": {
    "tags": []
   },
   "source": [
    "### References\n",
    "- https://zetcode.com/python/bcrypt/"
   ]
  },
  {
   "cell_type": "markdown",
   "id": "56896fc3-e5aa-4816-8679-5e958fd65e75",
   "metadata": {
    "tags": []
   },
   "source": [
    "!pip install bcrypt"
   ]
  },
  {
   "cell_type": "markdown",
   "id": "ff89702a-5287-48e6-becb-cb06e546aabf",
   "metadata": {},
   "source": [
    "### salt\n",
    "- Salt is a fixed-length cryptographically-strong random value that is added to the input of hash functions to create unique hashes for every input. A salt is added to make a password hash output unique even for users adopting common passwords.\n",
    "\n",
    "- The hashed password change on every run"
   ]
  },
  {
   "cell_type": "code",
   "execution_count": 31,
   "id": "4ecce219-4bca-4638-b6b7-135a83521915",
   "metadata": {
    "tags": []
   },
   "outputs": [
    {
     "name": "stdout",
     "output_type": "stream",
     "text": [
      "0.1438760757446289\n",
      "b'$2b$11$szzYABMGi0q0k2BUHWf8x.NPRLvPfyotPhsVDQk90wIxirM1abyHO'\n",
      "match\n"
     ]
    }
   ],
   "source": [
    "import bcrypt\n",
    "import time\n",
    "\n",
    "passwd = b'helloworld123'\n",
    "saltround = 11\n",
    "\n",
    "start = time.time()\n",
    "##A salt is generated with the gensalt function.\n",
    "salt = bcrypt.gensalt(rounds=saltround)\n",
    "\n",
    "hashed = bcrypt.hashpw(passwd, salt)\n",
    "end = time.time()\n",
    "\n",
    "print(end - start)\n",
    "\n",
    "print(hashed)\n",
    "\n",
    "\n",
    "if bcrypt.checkpw(passwd, hashed):\n",
    "    print(\"match\")\n",
    "else:\n",
    "    print(\"does not match\")"
   ]
  },
  {
   "cell_type": "code",
   "execution_count": 30,
   "id": "6005cbfb-85af-4ceb-bf8c-2152ff9bedc9",
   "metadata": {
    "tags": []
   },
   "outputs": [
    {
     "name": "stdout",
     "output_type": "stream",
     "text": [
      "does not match\n"
     ]
    }
   ],
   "source": [
    "other_hashed_password = \"$2b$11$lbwMrXCpvcf8hSQwlRZjKO15dVpI2YSNud/aOeCX38Au9n6cz.nPf\"\n",
    "\n",
    "if bcrypt.checkpw(passwd, other_hashed_password.encode(\"utf-8\")):\n",
    "    print(\"match\")\n",
    "else:\n",
    "    print(\"does not match\")"
   ]
  },
  {
   "cell_type": "code",
   "execution_count": null,
   "id": "e9909da5-2002-45d0-a7be-d832fcef46d9",
   "metadata": {},
   "outputs": [],
   "source": []
  }
 ],
 "metadata": {
  "kernelspec": {
   "display_name": "Python 3 (ipykernel)",
   "language": "python",
   "name": "python3"
  },
  "language_info": {
   "codemirror_mode": {
    "name": "ipython",
    "version": 3
   },
   "file_extension": ".py",
   "mimetype": "text/x-python",
   "name": "python",
   "nbconvert_exporter": "python",
   "pygments_lexer": "ipython3",
   "version": "3.10.9"
  }
 },
 "nbformat": 4,
 "nbformat_minor": 5
}
