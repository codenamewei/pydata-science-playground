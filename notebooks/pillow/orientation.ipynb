{
 "cells": [
  {
   "cell_type": "code",
   "execution_count": 37,
   "metadata": {},
   "outputs": [],
   "source": [
    "from PIL import Image, ExifTags\n",
    "\n",
    "filepath = \"/home/wei/Downloads/saved_whole.jpg\"#\"/mnt/4TB_HDD/dataset_codenamewei/mrz/temp/MY_PASSPORT_056.jpg\"\n",
    "\n",
    "try:\n",
    "    image=Image.open(filepath)\n",
    "\n",
    "    for orientation in ExifTags.TAGS.keys():\n",
    "        if ExifTags.TAGS[orientation]=='Orientation':\n",
    "            break\n",
    "    \n",
    "    exif = image._getexif()\n",
    "\n",
    "    if exif != None:\n",
    "        if exif[orientation] == 3:\n",
    "            image=image.rotate(180, expand=True)\n",
    "        elif exif[orientation] == 6:\n",
    "            image=image.rotate(270, expand=True)\n",
    "        elif exif[orientation] == 8:\n",
    "            image=image.rotate(90, expand=True)\n",
    "\n",
    "    image.show()\n",
    "    #image.save(filepath)\n",
    "    image.close()\n",
    "except (AttributeError, KeyError, IndexError):\n",
    "    print(\"# cases: image don't have getexif\")\n",
    "    pass\n"
   ]
  }
 ],
 "metadata": {
  "kernelspec": {
   "display_name": "Python 3",
   "language": "python",
   "name": "python3"
  },
  "language_info": {
   "codemirror_mode": {
    "name": "ipython",
    "version": 3
   },
   "file_extension": ".py",
   "mimetype": "text/x-python",
   "name": "python",
   "nbconvert_exporter": "python",
   "pygments_lexer": "ipython3",
   "version": "3.8.5"
  }
 },
 "nbformat": 4,
 "nbformat_minor": 4
}
