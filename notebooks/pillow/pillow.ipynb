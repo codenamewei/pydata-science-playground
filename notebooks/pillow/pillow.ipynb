{
 "cells": [
  {
   "cell_type": "code",
   "execution_count": 6,
   "metadata": {},
   "outputs": [
    {
     "name": "stdout",
     "output_type": "stream",
     "text": [
      "600\n",
      "1200\n"
     ]
    }
   ],
   "source": [
    "from PIL import Image, ImageDraw, ImageFont\n",
    "\n",
    "img_path = \"../../metadata/pytorch.jpeg\"\n",
    "\n",
    "img = Image.open(img_path)\n",
    "\n",
    "canvas = ImageDraw.Draw(img)  \n",
    "\n",
    "print(img.height)\n",
    "print(img.width)\n",
    "\n",
    "#canvas.rectangle(((row[0], row[1]), (row[2], row[3])), fill = None, outline = (0, 255, 0) )\n",
    "canvas.rectangle(((0, 0), (100, 100)), outline = (0, 0, 0))\n",
    "#\n",
    "#canvas.text((20, 70), \"something123\", font=ImageFont.truetype(\"/usr/share/fonts/truetype/freefont/FreeMono.ttf\", 28, encoding=\"unic\"))\n",
    "            \n",
    "img.show()"
   ]
  },
  {
   "cell_type": "code",
   "execution_count": null,
   "metadata": {},
   "outputs": [],
   "source": []
  }
 ],
 "metadata": {
  "kernelspec": {
   "display_name": "Python 3",
   "language": "python",
   "name": "python3"
  },
  "language_info": {
   "codemirror_mode": {
    "name": "ipython",
    "version": 3
   },
   "file_extension": ".py",
   "mimetype": "text/x-python",
   "name": "python",
   "nbconvert_exporter": "python",
   "pygments_lexer": "ipython3",
   "version": "3.7.9"
  }
 },
 "nbformat": 4,
 "nbformat_minor": 4
}
