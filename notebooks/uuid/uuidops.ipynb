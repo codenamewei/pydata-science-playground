{
 "cells": [
  {
   "cell_type": "code",
   "execution_count": 7,
   "metadata": {},
   "outputs": [
    {
     "data": {
      "text/plain": [
       "UUID('8fb3af54-4e4e-45e2-8a57-28aefa77b8a6')"
      ]
     },
     "execution_count": 7,
     "metadata": {},
     "output_type": "execute_result"
    }
   ],
   "source": [
    "import uuid     \n",
    "\n",
    "uuid.uuid4()"
   ]
  },
  {
   "cell_type": "markdown",
   "metadata": {},
   "source": [
    "### Returns as string"
   ]
  },
  {
   "cell_type": "code",
   "execution_count": 4,
   "metadata": {},
   "outputs": [
    {
     "data": {
      "text/plain": [
       "'fd654abe-3088-4166-845a-35becac033b9'"
      ]
     },
     "execution_count": 4,
     "metadata": {},
     "output_type": "execute_result"
    }
   ],
   "source": [
    "str(uuid.uuid4())"
   ]
  },
  {
   "cell_type": "markdown",
   "metadata": {},
   "source": [
    "### Validate if a string is uuid"
   ]
  },
  {
   "cell_type": "code",
   "execution_count": 1,
   "metadata": {},
   "outputs": [],
   "source": [
    "from uuid import UUID\n",
    "from string import Template\n",
    "\n",
    "def is_valid_uuid(uuid_to_test, version=4):\n",
    "    \"\"\"\n",
    "    Check if uuid_to_test is a valid UUID.\n",
    "    \n",
    "     Parameters\n",
    "    ----------\n",
    "    uuid_to_test : str\n",
    "    version : {1, 2, 3, 4}\n",
    "    \n",
    "     Returns\n",
    "    -------\n",
    "    `True` if uuid_to_test is a valid UUID, otherwise `False`.\n",
    "    \n",
    "     Examples\n",
    "    --------\n",
    "    >>> is_valid_uuid('c9bf9e57-1685-4c89-bafb-ff5af830be8a')\n",
    "    True\n",
    "    >>> is_valid_uuid('c9bf9e58')\n",
    "    False\n",
    "    \"\"\"\n",
    "    \n",
    "    try:\n",
    "        uuid_obj = UUID(uuid_to_test, version=version)\n",
    "    except ValueError:\n",
    "        return False\n",
    "    return str(uuid_obj) == uuid_to_test\n",
    "\n"
   ]
  },
  {
   "cell_type": "code",
   "execution_count": 5,
   "metadata": {},
   "outputs": [
    {
     "name": "stdout",
     "output_type": "stream",
     "text": [
      "123 == UUID?:\n",
      "False\n",
      "efb92859-bfcf-408f-a367-c934b0267b70 == UUID?:\n",
      "True\n"
     ]
    }
   ],
   "source": [
    "strtemplate = Template(\"Is ${input} UUID?:\\n${validator}\")\n",
    "inputlist = [\"123\", \"efb92859-bfcf-408f-a367-c934b0267b70\"]\n",
    "\n",
    "\n",
    "for input in inputlist:\n",
    "\n",
    "    param = dict(input = input, validator = is_valid_uuid(input))\n",
    "\n",
    "    outstr = strtemplate.substitute(param)\n",
    "\n",
    "    print(outstr)"
   ]
  },
  {
   "cell_type": "markdown",
   "metadata": {},
   "source": [
    "### Compare if two uuid is the same\n",
    "From the [code](https://github.com/python/cpython/blob/3.10/Lib/uuid.py#L239-L242), it's comparing integer"
   ]
  },
  {
   "cell_type": "code",
   "execution_count": 10,
   "metadata": {},
   "outputs": [
    {
     "name": "stdout",
     "output_type": "stream",
     "text": [
      "False\n",
      "True\n"
     ]
    }
   ],
   "source": [
    "uuid1 = uuid.uuid4()\n",
    "uuid2 = uuid.uuid4()\n",
    "\n",
    "print(uuid1 == uuid2)\n",
    "print(uuid1 == uuid1)"
   ]
  }
 ],
 "metadata": {
  "kernelspec": {
   "display_name": "Python 3.8.5 ('data-science-playground')",
   "language": "python",
   "name": "python3"
  },
  "language_info": {
   "codemirror_mode": {
    "name": "ipython",
    "version": 3
   },
   "file_extension": ".py",
   "mimetype": "text/x-python",
   "name": "python",
   "nbconvert_exporter": "python",
   "pygments_lexer": "ipython3",
   "version": "3.8.5"
  },
  "orig_nbformat": 4,
  "vscode": {
   "interpreter": {
    "hash": "8556d705f1fb1a7a97a8cf1449d73bf9b743fda82251187d431e67d5172c9970"
   }
  }
 },
 "nbformat": 4,
 "nbformat_minor": 2
}
