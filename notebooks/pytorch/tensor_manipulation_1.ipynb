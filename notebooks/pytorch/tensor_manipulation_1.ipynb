{
 "cells": [
  {
   "cell_type": "code",
   "execution_count": 6,
   "metadata": {},
   "outputs": [
    {
     "name": "stdout",
     "output_type": "stream",
     "text": [
      "tensor([[1, 2, 3, 4],\n",
      "        [5, 6, 7, 8]])\n",
      "tensor([[-1,  0,  5,  6],\n",
      "        [ 3,  4,  9, 10]])\n",
      "tensor([[ 0,  0,  5,  6],\n",
      "        [ 3,  4,  9, 10]])\n"
     ]
    }
   ],
   "source": [
    "import torch\n",
    "tensor = torch.tensor([[1,2,3,4], [5,6,7,8]])\n",
    "\n",
    "print(tensor)\n",
    "\n",
    "tensor[:, :2] -= 2\n",
    "tensor[:, 2:4] += 2\n",
    "\n",
    "print(tensor)\n",
    "\n",
    "tensor[tensor < 0] = 0\n",
    "\n",
    "print(tensor)"
   ]
  }
 ],
 "metadata": {
  "kernelspec": {
   "display_name": "Python 3",
   "language": "python",
   "name": "python3"
  },
  "language_info": {
   "codemirror_mode": {
    "name": "ipython",
    "version": 3
   },
   "file_extension": ".py",
   "mimetype": "text/x-python",
   "name": "python",
   "nbconvert_exporter": "python",
   "pygments_lexer": "ipython3",
   "version": "3.8.5"
  }
 },
 "nbformat": 4,
 "nbformat_minor": 4
}
