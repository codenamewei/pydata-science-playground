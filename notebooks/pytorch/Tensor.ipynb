{
 "cells": [
  {
   "cell_type": "code",
   "execution_count": 2,
   "metadata": {},
   "outputs": [],
   "source": [
    "import torch\n",
    "import numpy as np"
   ]
  },
  {
   "cell_type": "code",
   "execution_count": 3,
   "metadata": {},
   "outputs": [],
   "source": [
    "#1. 데이터로부터 직접(directly) 생성하기\n",
    "\n",
    "data = [[1, 2], [3, 4]]\n",
    "\n",
    "x_data = torch.tensor(data)"
   ]
  },
  {
   "cell_type": "code",
   "execution_count": 6,
   "metadata": {},
   "outputs": [
    {
     "name": "stdout",
     "output_type": "stream",
     "text": [
      "tensor([[1, 2],\n",
      "        [3, 4]])\n",
      "torch.int64\n"
     ]
    }
   ],
   "source": [
    "#2. Numpy 배열로부터 생성하다\n",
    "# array -> numpy array -> tensor array\n",
    "\n",
    "np_data = np.array(data)\n",
    "\n",
    "tensor_data = torch.from_numpy(np_data)"
   ]
  },
  {
   "cell_type": "code",
   "execution_count": 8,
   "metadata": {},
   "outputs": [
    {
     "name": "stdout",
     "output_type": "stream",
     "text": [
      "Ones Tensor: \n",
      " tensor([[1, 1],\n",
      "        [1, 1]]) \n",
      "\n",
      "Random Tensor: \n",
      " tensor([[0.2599, 0.1433],\n",
      "        [0.0598, 0.2329]]) \n",
      "\n"
     ]
    }
   ],
   "source": [
    "#3. 다른 텐서로부터 생성하기\n",
    "x_ones = torch.ones_like(x_data)\n",
    "\n",
    "print(f\"Ones Tensor: \\n {x_ones} \\n\")\n",
    "\n",
    "x_rand = torch.rand_like(x_data, dtype=torch.float)\n",
    "\n",
    "print(f\"Random Tensor: \\n {x_rand} \\n\")"
   ]
  },
  {
   "cell_type": "code",
   "execution_count": 13,
   "metadata": {},
   "outputs": [
    {
     "name": "stdout",
     "output_type": "stream",
     "text": [
      "Random Tensor: \n",
      " tensor([[0.0236, 0.6955, 0.5831],\n",
      "        [0.2195, 0.3149, 0.3523]]) \n",
      "\n",
      "Ones Tensor: \n",
      " tensor([[1., 1., 1.],\n",
      "        [1., 1., 1.]]) \n",
      "\n",
      "Zeros Tensor: \n",
      " tensor([[0., 0., 0.],\n",
      "        [0., 0., 0.]]) \n",
      "\n"
     ]
    }
   ],
   "source": [
    "#4. 무작위(random) 또는 상수(constant) 값을 사용하기\n",
    "\n",
    "#Define shape by tuple - ordered and unchanged array\n",
    "shape = (2, 3,) #(2,3) and (2, 3,) is the same thing\n",
    "\n",
    "rand_tensor = torch.rand(shape)\n",
    "ones_tensor = torch.ones(shape)\n",
    "zeros_tensor = torch.zeros(shape)\n",
    "\n",
    "\n",
    "print(f\"Random Tensor: \\n {rand_tensor} \\n\")\n",
    "print(f\"Ones Tensor: \\n {ones_tensor} \\n\")\n",
    "print(f\"Zeros Tensor: \\n {zeros_tensor} \\n\")\n",
    "\n"
   ]
  },
  {
   "cell_type": "code",
   "execution_count": 14,
   "metadata": {},
   "outputs": [
    {
     "name": "stdout",
     "output_type": "stream",
     "text": [
      "Shape: torch.Size([2, 3])\n",
      "Type: torch.float32\n",
      "Device: cpu\n"
     ]
    }
   ],
   "source": [
    "#Get shape, type, device\n",
    "\n",
    "print(f\"Shape: {rand_tensor.shape}\")\n",
    "print(f\"Type: {rand_tensor.dtype}\")\n",
    "print(f\"Device: {rand_tensor.device}\")\n"
   ]
  },
  {
   "cell_type": "code",
   "execution_count": 15,
   "metadata": {},
   "outputs": [
    {
     "name": "stdout",
     "output_type": "stream",
     "text": [
      "GPU not exist\n"
     ]
    }
   ],
   "source": [
    "# move tensor to gpu if exist\n",
    "if torch.cuda.is_available():\n",
    "    \n",
    "    rand_tensor = rand_tensor.to(\"cuda\")\n",
    "    \n",
    "else:\n",
    "    \n",
    "    print(\"GPU not exist\")"
   ]
  },
  {
   "cell_type": "code",
   "execution_count": 21,
   "metadata": {},
   "outputs": [
    {
     "name": "stdout",
     "output_type": "stream",
     "text": [
      "tensor([[0.7598, 0.0644, 0.5755, 0.9508],\n",
      "        [0.3565, 0.3936, 0.3436, 0.4032],\n",
      "        [0.1633, 0.0621, 0.4909, 0.2786],\n",
      "        [0.7402, 0.1851, 0.7988, 0.9122]])\n",
      "first row: tensor([0.7598, 0.0644, 0.5755, 0.9508])\n",
      "first column: tensor([0.7598, 0.3565, 0.1633, 0.7402])\n",
      "last column: tensor([0.9508, 0.4032, 0.2786, 0.9122])\n"
     ]
    }
   ],
   "source": [
    "# indexing, slicing\n",
    "new_shape = (4, 4)\n",
    "new_tensor = torch.rand(new_shape)\n",
    "\n",
    "\n",
    "print(new_tensor)\n",
    "\n",
    "#first row\n",
    "print(f\"first row: {new_tensor[0, :]}\")\n",
    "\n",
    "#first column\\\n",
    "print(f\"first column: {new_tensor[:, 0]}\")\n",
    "\n",
    "#last column\n",
    "print(f\"last column: {new_tensor[..., -1]}\")\n",
    "#print(f\"last column: {new_tensor[:, -1]}\")\n"
   ]
  },
  {
   "cell_type": "code",
   "execution_count": 24,
   "metadata": {},
   "outputs": [
    {
     "name": "stdout",
     "output_type": "stream",
     "text": [
      "tensor([[0.7598, 0.0644, 0.5755, 0.9508],\n",
      "        [0.3565, 0.3936, 0.3436, 0.4032],\n",
      "        [0.1633, 0.0621, 0.4909, 0.2786],\n",
      "        [0.7402, 0.1851, 0.7988, 0.9122],\n",
      "        [0.7598, 0.0644, 0.5755, 0.9508],\n",
      "        [0.3565, 0.3936, 0.3436, 0.4032],\n",
      "        [0.1633, 0.0621, 0.4909, 0.2786],\n",
      "        [0.7402, 0.1851, 0.7988, 0.9122],\n",
      "        [0.7598, 0.0644, 0.5755, 0.9508],\n",
      "        [0.3565, 0.3936, 0.3436, 0.4032],\n",
      "        [0.1633, 0.0621, 0.4909, 0.2786],\n",
      "        [0.7402, 0.1851, 0.7988, 0.9122]])\n"
     ]
    }
   ],
   "source": [
    "# concatenation\n",
    "# dim = 0 for concat on row\n",
    "# dim = 1 for concat on column\n",
    "t1 = torch.cat([new_tensor, new_tensor, new_tensor], dim=0)\n",
    "\n",
    "print(t1)"
   ]
  },
  {
   "cell_type": "code",
   "execution_count": 26,
   "metadata": {},
   "outputs": [
    {
     "data": {
      "text/plain": [
       "tensor([[0.0006, 0.4837, 0.3400],\n",
       "        [0.0482, 0.0992, 0.1241]])"
      ]
     },
     "execution_count": 26,
     "metadata": {},
     "output_type": "execute_result"
    }
   ],
   "source": [
    "tensor = rand_tensor\n",
    "\n",
    "# 두 텐서 간의 행렬 곱(matrix multiplication)을 계산합니다. y1, y2, y3은 모두 같은 값을 갖습니다.\n",
    "y1 = tensor @ tensor.T\n",
    "y2 = tensor.matmul(tensor.T)\n",
    "\n",
    "y3 = torch.rand_like(tensor)\n",
    "torch.matmul(tensor, tensor.T, out=y3)\n",
    "\n",
    "\n",
    "# 요소별 곱(element-wise product)을 계산합니다. z1, z2, z3는 모두 같은 값을 갖습니다.\n",
    "z1 = tensor * tensor\n",
    "z2 = tensor.mul(tensor)\n",
    "\n",
    "z3 = torch.rand_like(tensor)\n",
    "torch.mul(tensor, tensor, out=z3)"
   ]
  },
  {
   "cell_type": "code",
   "execution_count": 27,
   "metadata": {},
   "outputs": [
    {
     "name": "stdout",
     "output_type": "stream",
     "text": [
      "2.1889402866363525 <class 'float'>\n"
     ]
    }
   ],
   "source": [
    "agg = tensor.sum()\n",
    "agg_item = agg.item()\n",
    "print(agg_item, type(agg_item))"
   ]
  },
  {
   "cell_type": "code",
   "execution_count": 33,
   "metadata": {},
   "outputs": [
    {
     "name": "stdout",
     "output_type": "stream",
     "text": [
      "tensor([[6., 6.],\n",
      "        [6., 6.]])\n"
     ]
    }
   ],
   "source": [
    "# in place operation \n",
    "\n",
    "one_tensor = torch.ones(2,2)\n",
    "\n",
    "\n",
    "one_tensor.add_(5)\n",
    "\n",
    "print(one_tensor)"
   ]
  },
  {
   "cell_type": "code",
   "execution_count": 35,
   "metadata": {},
   "outputs": [
    {
     "name": "stdout",
     "output_type": "stream",
     "text": [
      "[[-1  2]\n",
      " [ 3  4]]\n",
      "tensor([[-1,  2],\n",
      "        [ 3,  4]])\n"
     ]
    }
   ],
   "source": [
    "# In CPU, tensor array and numpy array shares the same memory, \n",
    "# One changes will reflect in the other one too\n",
    "\n",
    "array = np.array([[1,2], [3,4]])\n",
    "\n",
    "tensor_array = torch.from_numpy(array)\n",
    "\n",
    "tensor_array[0, 0] = -1\n",
    "\n",
    "\n",
    "print(array)\n",
    "\n",
    "print(tensor_array)"
   ]
  },
  {
   "cell_type": "code",
   "execution_count": 37,
   "metadata": {},
   "outputs": [
    {
     "name": "stdout",
     "output_type": "stream",
     "text": [
      "tensor([[1., 1., 1.],\n",
      "        [1., 1., 1.],\n",
      "        [1., 1., 1.]])\n"
     ]
    }
   ],
   "source": [
    "# tensor to numpy\n",
    "\n",
    "another_tensor = torch.ones((3,3))\n",
    "\n",
    "another_numpy = another_tensor.numpy()\n",
    "\n",
    "# numpy to tensor \n",
    "\n",
    "yet_another_tensor = torch.from_numpy(another_numpy)\n",
    "\n",
    "\n",
    "print(yet_another_tensor)"
   ]
  },
  {
   "cell_type": "code",
   "execution_count": null,
   "metadata": {},
   "outputs": [],
   "source": []
  }
 ],
 "metadata": {
  "kernelspec": {
   "display_name": "Python 3",
   "language": "python",
   "name": "python3"
  },
  "language_info": {
   "codemirror_mode": {
    "name": "ipython",
    "version": 3
   },
   "file_extension": ".py",
   "mimetype": "text/x-python",
   "name": "python",
   "nbconvert_exporter": "python",
   "pygments_lexer": "ipython3",
   "version": "3.8.5"
  }
 },
 "nbformat": 4,
 "nbformat_minor": 4
}
