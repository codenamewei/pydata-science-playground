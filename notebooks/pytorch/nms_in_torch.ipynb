{
 "cells": [
  {
   "cell_type": "code",
   "execution_count": 2,
   "metadata": {},
   "outputs": [],
   "source": [
    "import torch\n",
    "from torchvision.ops import nms"
   ]
  },
  {
   "cell_type": "code",
   "execution_count": 8,
   "metadata": {},
   "outputs": [
    {
     "name": "stdout",
     "output_type": "stream",
     "text": [
      "tensor(1)\n"
     ]
    }
   ],
   "source": [
    "boxes = torch.tensor([[190,380,(190+300),(380+150)],\n",
    "                      [300,420,(300+150),(420+210)],\n",
    "                      [320,360,(320+200),(360+230)],\n",
    "\n",
    "                      [390,50,(390+300),(50+330)],\n",
    "                      [490,45,(490+200),(45+500)],\n",
    "                      [480,130,(480+150),(130+400)]], dtype=torch.float32)\n",
    "\n",
    "#scores = torch.tensor([[0.90],[0.98],[0.82], [0.87],[0.98],[0.82]], dtype=torch.float32)\n",
    "scores = torch.tensor([0.90,0.98,0.82, 0.87,0.98,0.82], dtype=torch.float32)\n",
    "\n",
    "#https://pytorch.org/vision/stable/ops.html   \n",
    "\n",
    "output = nms(boxes = boxes, scores = scores, iou_threshold=0.2)\n",
    "\n",
    "#return index of bounding boxes kept, in description\n",
    "print(output[1])"
   ]
  }
 ],
 "metadata": {
  "kernelspec": {
   "display_name": "Python 3",
   "language": "python",
   "name": "python3"
  },
  "language_info": {
   "codemirror_mode": {
    "name": "ipython",
    "version": 3
   },
   "file_extension": ".py",
   "mimetype": "text/x-python",
   "name": "python",
   "nbconvert_exporter": "python",
   "pygments_lexer": "ipython3",
   "version": "3.8.5"
  }
 },
 "nbformat": 4,
 "nbformat_minor": 4
}
