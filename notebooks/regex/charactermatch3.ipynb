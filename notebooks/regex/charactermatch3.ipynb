{
 "cells": [
  {
   "cell_type": "markdown",
   "metadata": {},
   "source": [
    "- ```\\s``` matches any whitespace character [ \\r\\n\\t\\f ].\n",
    "- ```\\S``` matches any non-white space character."
   ]
  },
  {
   "cell_type": "code",
   "execution_count": 22,
   "metadata": {},
   "outputs": [
    {
     "name": "stdout",
     "output_type": "stream",
     "text": [
      "Found\n",
      "<re.Match object; span=(7, 8), match=' '>\n",
      " \n",
      "7\n"
     ]
    }
   ],
   "source": [
    "import re \n",
    "\n",
    "matchstring = \"\\s+\"\n",
    "\n",
    "out = re.search(matchstring, \"Testing with string\") \n",
    "\n",
    "\n",
    "if out is None: \n",
    "    print(\"Not Found\")\n",
    "else:\n",
    "    print(\"Found\")\n",
    "    print(out)\n",
    "    print(out.group())\n",
    "    print(out.span()[0])"
   ]
  },
  {
   "cell_type": "markdown",
   "metadata": {},
   "source": [
    "- match the pattern ```XXxXXxXX```\n",
    "- Here, ```X``` denotes whitespace characters, ```x``` and denotes non-white space characters."
   ]
  },
  {
   "cell_type": "code",
   "execution_count": 24,
   "metadata": {},
   "outputs": [
    {
     "name": "stdout",
     "output_type": "stream",
     "text": [
      "true\n",
      "false\n"
     ]
    }
   ],
   "source": [
    "matchstring = \"\\S\\S\\s\\S\\S\\s\\S\\S\"\n",
    "\n",
    "print(str(bool(re.search(matchstring, \"hi hi HI\"))).lower())\n",
    "print(str(bool(re.search(matchstring, \"hi ghig HI\"))).lower())"
   ]
  },
  {
   "cell_type": "code",
   "execution_count": null,
   "metadata": {},
   "outputs": [],
   "source": []
  }
 ],
 "metadata": {
  "kernelspec": {
   "display_name": "Python 3 (ipykernel)",
   "language": "python",
   "name": "python3"
  },
  "language_info": {
   "codemirror_mode": {
    "name": "ipython",
    "version": 3
   },
   "file_extension": ".py",
   "mimetype": "text/x-python",
   "name": "python",
   "nbconvert_exporter": "python",
   "pygments_lexer": "ipython3",
   "version": "3.9.7"
  }
 },
 "nbformat": 4,
 "nbformat_minor": 4
}
