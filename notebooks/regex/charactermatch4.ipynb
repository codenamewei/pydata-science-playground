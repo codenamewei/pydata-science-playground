{
 "cells": [
  {
   "cell_type": "markdown",
   "metadata": {},
   "source": [
    "### Caret before [] to indicate beginning\n",
    "### $ after [] to indicate ending "
   ]
  },
  {
   "cell_type": "code",
   "execution_count": 35,
   "metadata": {},
   "outputs": [],
   "source": [
    "import re"
   ]
  },
  {
   "cell_type": "code",
   "execution_count": 16,
   "metadata": {},
   "outputs": [
    {
     "name": "stdout",
     "output_type": "stream",
     "text": [
      "Found\n",
      "<re.Match object; span=(0, 1), match='0'>\n",
      "0\n",
      "0\n"
     ]
    }
   ],
   "source": [
    "matchstring = r\"^[0-9]\"\n",
    "\n",
    "out = re.search(matchstring, \"01042341234: Hello\")\n",
    "\n",
    "if out is None: \n",
    "    print(\"Not Found\")\n",
    "else:\n",
    "    print(\"Found\")\n",
    "    print(out)\n",
    "    print(out.group())\n",
    "    print(out.span()[0])"
   ]
  },
  {
   "cell_type": "markdown",
   "metadata": {},
   "source": [
    "### caret + negation"
   ]
  },
  {
   "cell_type": "code",
   "execution_count": 30,
   "metadata": {},
   "outputs": [
    {
     "name": "stdout",
     "output_type": "stream",
     "text": [
      "Not Found\n",
      "Found\n",
      "<re.Match object; span=(0, 1), match='H'>\n",
      "H\n",
      "0\n"
     ]
    }
   ],
   "source": [
    "matchstring = r\"^[A-Z]\"\n",
    "inputstrings = [\"01042341234: Hello\", \"Hello World.\"]\n",
    "outs = [re.search(matchstring, i) for i in inputstrings]\n",
    "\n",
    "for out in outs:\n",
    "    \n",
    "    if out is None: \n",
    "        print(\"Not Found\")\n",
    "    else:\n",
    "        print(\"Found\")\n",
    "        print(out)\n",
    "        print(out.group())\n",
    "        print(out.span()[0])"
   ]
  },
  {
   "cell_type": "code",
   "execution_count": 34,
   "metadata": {},
   "outputs": [
    {
     "name": "stdout",
     "output_type": "stream",
     "text": [
      "Found\n",
      "<re.Match object; span=(17, 18), match='o'>\n",
      "o\n",
      "17\n",
      "Not Found\n"
     ]
    }
   ],
   "source": [
    "matchstring = r\"[^\\.]$\" #find those where the ending of the string does not ends with period mark\n",
    "\n",
    "outs = [re.search(matchstring, i) for i in inputstrings]\n",
    "\n",
    "for out in outs:\n",
    "    \n",
    "    if out is None: \n",
    "        print(\"Not Found\")\n",
    "    else:\n",
    "        print(\"Found\")\n",
    "        print(out)\n",
    "        print(out.group())\n",
    "        print(out.span()[0])"
   ]
  }
 ],
 "metadata": {
  "kernelspec": {
   "display_name": "Python 3 (ipykernel)",
   "language": "python",
   "name": "python3"
  },
  "language_info": {
   "codemirror_mode": {
    "name": "ipython",
    "version": 3
   },
   "file_extension": ".py",
   "mimetype": "text/x-python",
   "name": "python",
   "nbconvert_exporter": "python",
   "pygments_lexer": "ipython3",
   "version": "3.9.7"
  }
 },
 "nbformat": 4,
 "nbformat_minor": 4
}
