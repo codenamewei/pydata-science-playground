{
 "cells": [
  {
   "cell_type": "markdown",
   "metadata": {},
   "source": [
    "## Disjunction\n",
    "- the relationship between two distinct alternatives. (或)\n",
    "<img src = \"metadata/disjunction.jpg\" width=\"800\">"
   ]
  },
  {
   "cell_type": "code",
   "execution_count": 10,
   "metadata": {},
   "outputs": [],
   "source": [
    "import re\n",
    "inputstrings = [\"Good morning today we are going to the park\", \"Hi all, good afternoon to you and good night to him\"]"
   ]
  },
  {
   "cell_type": "code",
   "execution_count": 11,
   "metadata": {},
   "outputs": [
    {
     "name": "stdout",
     "output_type": "stream",
     "text": [
      "['morning']\n",
      "['afternoon', 'night']\n"
     ]
    }
   ],
   "source": [
    "for inputstring in inputstrings:\n",
    "    print(re.findall(\"night|afternoon|morning\", inputstring))"
   ]
  },
  {
   "cell_type": "markdown",
   "metadata": {},
   "source": [
    "### combining disjunction with character matching \n",
    "- Example: find occurence of following name in string"
   ]
  },
  {
   "cell_type": "code",
   "execution_count": 10,
   "metadata": {},
   "outputs": [
    {
     "data": {
      "text/plain": [
       "{'kelvin': 4, 'thomas': 3}"
      ]
     },
     "execution_count": 10,
     "metadata": {},
     "output_type": "execute_result"
    }
   ],
   "source": [
    "import pandas as pd\n",
    "import numpy as np\n",
    "\n",
    "interestsentence = \"[Kk]elvin|[Tt]homas\"\n",
    "\n",
    "samplesentence = \"Kelvin and thomas are good friends. Both kelvin and thomas likes to go golfing. Due to kelvin is sick recently, kelvin is missing from a few rounds of golf. Thomas is dissapointed\"\n",
    "\n",
    "occurrence = re.findall(interestsentence, samplesentence)\n",
    "\n",
    "#lower case all\n",
    "words = list(map(str.lower, occurrence))\n",
    "\n",
    "out = pd.value_counts(np.array(words))\n",
    "\n",
    "out.to_dict()"
   ]
  },
  {
   "cell_type": "markdown",
   "metadata": {},
   "source": [
    "## Use paranthesis to find alternatives of a series of patterns"
   ]
  },
  {
   "cell_type": "code",
   "execution_count": 4,
   "metadata": {},
   "outputs": [
    {
     "name": "stdout",
     "output_type": "stream",
     "text": [
      "Found\n",
      "<re.Match object; span=(7, 12), match='puppy'>\n",
      "puppy\n",
      "7\n",
      "Found\n",
      "<re.Match object; span=(13, 20), match='puppies'>\n",
      "puppies\n",
      "13\n",
      "Not Found\n"
     ]
    }
   ],
   "source": [
    "matchstring = \"pupp(y|ies)\"\n",
    "\n",
    "inputstrings = [\"find a puppy\", \"there were 3 puppies\", \"only big dog\"]\n",
    "outs = [re.search(matchstring, i) for i in inputstrings]\n",
    "\n",
    "for out in outs:\n",
    "    \n",
    "    if out is None: \n",
    "        print(\"Not Found\")\n",
    "    else:\n",
    "        print(\"Found\")\n",
    "        print(out)\n",
    "        print(out.group())\n",
    "        print(out.span()[0])"
   ]
  },
  {
   "cell_type": "code",
   "execution_count": null,
   "metadata": {},
   "outputs": [],
   "source": []
  }
 ],
 "metadata": {
  "kernelspec": {
   "display_name": "Python 3 (ipykernel)",
   "language": "python",
   "name": "python3"
  },
  "language_info": {
   "codemirror_mode": {
    "name": "ipython",
    "version": 3
   },
   "file_extension": ".py",
   "mimetype": "text/x-python",
   "name": "python",
   "nbconvert_exporter": "python",
   "pygments_lexer": "ipython3",
   "version": "3.9.7"
  }
 },
 "nbformat": 4,
 "nbformat_minor": 4
}
