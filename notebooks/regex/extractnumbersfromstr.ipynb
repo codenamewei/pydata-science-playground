{
 "cells": [
  {
   "cell_type": "code",
   "execution_count": 9,
   "id": "7722faac-5984-4c2f-9a5b-a7efcfe0a5de",
   "metadata": {},
   "outputs": [
    {
     "name": "stdout",
     "output_type": "stream",
     "text": [
      "['test', 'ipynb']\n",
      "<class 'list'>\n"
     ]
    }
   ],
   "source": [
    "abc1=\"test.ipynb\"\n",
    "abc2=\"test.ipynb\"\n",
    "\n",
    "abc1 == abc2\n",
    "test = abc1.split(\".\")\n",
    "\n",
    "print(test)\n",
    "print(type(test))"
   ]
  },
  {
   "cell_type": "code",
   "execution_count": 15,
   "id": "c3252b1a-3365-40bd-be2e-15cce7f8fb8f",
   "metadata": {},
   "outputs": [
    {
     "data": {
      "text/plain": [
       "'.ipynb'"
      ]
     },
     "execution_count": 15,
     "metadata": {},
     "output_type": "execute_result"
    }
   ],
   "source": [
    "abc1[4:]"
   ]
  },
  {
   "cell_type": "code",
   "execution_count": 16,
   "id": "264e0eb7-9e32-47c4-a85f-33784b6c205c",
   "metadata": {},
   "outputs": [
    {
     "data": {
      "text/plain": [
       "'test.ipy'"
      ]
     },
     "execution_count": 16,
     "metadata": {},
     "output_type": "execute_result"
    }
   ],
   "source": [
    "abc1[:8]"
   ]
  },
  {
   "cell_type": "code",
   "execution_count": 36,
   "id": "4c824f36-c9af-49d9-8c28-e7ecbbba37ac",
   "metadata": {},
   "outputs": [
    {
     "data": {
      "text/plain": [
       "['2', '0', '0', '30', '2', '10', '0']"
      ]
     },
     "execution_count": 36,
     "metadata": {},
     "output_type": "execute_result"
    }
   ],
   "source": [
    "inputlist = [\"test_2a0.ipynb\", \"test_0.ipynb\", \"test_30.ipynb\", \"test_2_10_0.ipynb\"]\n",
    "\n",
    "numberslist = [re.findall(r'\\d+', i) for i in inputlist]\n",
    "\n",
    "totalnumberslist = []\n",
    "\n",
    "for number in numberslist:\n",
    "    totalnumberslist.extend(number) \n",
    "\n",
    "totalnumberslist"
   ]
  },
  {
   "cell_type": "code",
   "execution_count": null,
   "id": "7d4c1d9d-25db-4835-afc8-5ef4345da5f1",
   "metadata": {},
   "outputs": [],
   "source": []
  }
 ],
 "metadata": {
  "kernelspec": {
   "display_name": "Python 3 (ipykernel)",
   "language": "python",
   "name": "python3"
  },
  "language_info": {
   "codemirror_mode": {
    "name": "ipython",
    "version": 3
   },
   "file_extension": ".py",
   "mimetype": "text/x-python",
   "name": "python",
   "nbconvert_exporter": "python",
   "pygments_lexer": "ipython3",
   "version": "3.8.5"
  }
 },
 "nbformat": 4,
 "nbformat_minor": 5
}
