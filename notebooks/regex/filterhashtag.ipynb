{
 "cells": [
  {
   "cell_type": "markdown",
   "metadata": {},
   "source": [
    "### Filter hash tags from a string of text"
   ]
  },
  {
   "cell_type": "code",
   "execution_count": 2,
   "metadata": {},
   "outputs": [],
   "source": [
    "import re"
   ]
  },
  {
   "cell_type": "code",
   "execution_count": 67,
   "metadata": {},
   "outputs": [
    {
     "name": "stdout",
     "output_type": "stream",
     "text": [
      "#morning\n",
      "#usa\n",
      "#day\n"
     ]
    }
   ],
   "source": [
    "rawtext = \"This is a nice day #morning #usa #day #12\"\n",
    "search_string = \"^#[a-z]+$\"\n",
    "\n",
    "words = rawtext.split()\n",
    "\n",
    "for word in words: \n",
    "    \n",
    "    obj = re.match(search_string, word)\n",
    "    \n",
    "    if obj is not None: \n",
    "        print(obj.group()) #group() return string "
   ]
  },
  {
   "cell_type": "code",
   "execution_count": null,
   "metadata": {},
   "outputs": [],
   "source": []
  }
 ],
 "metadata": {
  "kernelspec": {
   "display_name": "Python 3 (ipykernel)",
   "language": "python",
   "name": "python3"
  },
  "language_info": {
   "codemirror_mode": {
    "name": "ipython",
    "version": 3
   },
   "file_extension": ".py",
   "mimetype": "text/x-python",
   "name": "python",
   "nbconvert_exporter": "python",
   "pygments_lexer": "ipython3",
   "version": "3.9.7"
  }
 },
 "nbformat": 4,
 "nbformat_minor": 4
}
