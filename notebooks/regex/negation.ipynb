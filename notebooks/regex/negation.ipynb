{
 "cells": [
  {
   "cell_type": "markdown",
   "metadata": {},
   "source": [
    "## Negation [^Ss]\n",
    "\n",
    "- Meaning of negation: the absence or opposite of something actual or positive.\n",
    "- ```[^Ss]```  Carat means negation only when first in []\n",
    "\n",
    "<img src = \"metadata/negation.jpg\" width=\"800\">"
   ]
  },
  {
   "cell_type": "code",
   "execution_count": 27,
   "metadata": {},
   "outputs": [],
   "source": [
    "import re\n",
    "\n",
    "inputstring = \"Hello World hi\""
   ]
  },
  {
   "cell_type": "code",
   "execution_count": 33,
   "metadata": {},
   "outputs": [],
   "source": [
    "### Find the first character that is not the cahracter to be find."
   ]
  },
  {
   "cell_type": "code",
   "execution_count": 34,
   "metadata": {},
   "outputs": [
    {
     "name": "stdout",
     "output_type": "stream",
     "text": [
      "<re.Match object; span=(1, 2), match='e'>\n",
      "e\n",
      "1\n"
     ]
    }
   ],
   "source": [
    "characternottofind = \"Hh\" #capital and lower case character\n",
    "out = re.search(f\"[^{characternottofind}]\", inputstring) \n",
    "\n",
    "if out is None: \n",
    "    print(\"Not Found\")\n",
    "else:\n",
    "    \n",
    "    print(out)\n",
    "    print(out.group())\n",
    "    print(out.span()[0])"
   ]
  }
 ],
 "metadata": {
  "kernelspec": {
   "display_name": "Python 3 (ipykernel)",
   "language": "python",
   "name": "python3"
  },
  "language_info": {
   "codemirror_mode": {
    "name": "ipython",
    "version": 3
   },
   "file_extension": ".py",
   "mimetype": "text/x-python",
   "name": "python",
   "nbconvert_exporter": "python",
   "pygments_lexer": "ipython3",
   "version": "3.9.7"
  }
 },
 "nbformat": 4,
 "nbformat_minor": 4
}
