{
 "cells": [
  {
   "cell_type": "markdown",
   "metadata": {},
   "source": [
    "- Find character that match capital and lower case"
   ]
  },
  {
   "cell_type": "code",
   "execution_count": 1,
   "metadata": {},
   "outputs": [],
   "source": [
    "import re\n",
    "\n",
    "inputstring = \"Hello World hi world\""
   ]
  },
  {
   "cell_type": "markdown",
   "metadata": {},
   "source": [
    "### re.search\n",
    "- find the first character that match\n",
    "\n",
    "### Differences of re.search and re.match\n",
    "- re.search return the first match of a substring found in the string\n",
    "- re.match() searches only from the beginning of the string and return match object if found. But if a match of substring is found somewhere in the middle of the string, it returns none. "
   ]
  },
  {
   "cell_type": "code",
   "execution_count": 2,
   "metadata": {},
   "outputs": [
    {
     "name": "stdout",
     "output_type": "stream",
     "text": [
      "<re.Match object; span=(15, 16), match='w'>\n",
      "w\n",
      "15\n"
     ]
    }
   ],
   "source": [
    "stringtomatch = \"Ww\"\n",
    "\n",
    "out = re.search(\"f\"[{stringtomatch}]\", inputstring) \n",
    "\n",
    "if out is None: \n",
    "    print(\"Not Found\")\n",
    "else:\n",
    "    print(out)\n",
    "    print(out.group())\n",
    "    print(out.span()[0])\n"
   ]
  },
  {
   "cell_type": "markdown",
   "metadata": {},
   "source": [
    "### re.match"
   ]
  },
  {
   "cell_type": "code",
   "execution_count": 3,
   "metadata": {},
   "outputs": [],
   "source": [
    "out = re.match(f\"[{stringtomatch}]\", inputstring) \n",
    "\n",
    "if out: \n",
    "    print(out.group())"
   ]
  },
  {
   "cell_type": "markdown",
   "metadata": {},
   "source": [
    "### re.findall"
   ]
  },
  {
   "cell_type": "code",
   "execution_count": 4,
   "metadata": {},
   "outputs": [
    {
     "name": "stdout",
     "output_type": "stream",
     "text": [
      "['W', 'w']\n"
     ]
    }
   ],
   "source": [
    "out = re.findall(f\"[{stringtomatch}]\", inputstring) \n",
    "print(out)"
   ]
  },
  {
   "cell_type": "markdown",
   "metadata": {},
   "source": [
    "### re.split"
   ]
  },
  {
   "cell_type": "code",
   "execution_count": 5,
   "metadata": {},
   "outputs": [
    {
     "name": "stdout",
     "output_type": "stream",
     "text": [
      "['Hello ', 'orld hi ', 'orld']\n"
     ]
    }
   ],
   "source": [
    "out = re.split(f\"[{stringtomatch}]\", inputstring) \n",
    "print(out)"
   ]
  },
  {
   "cell_type": "code",
   "execution_count": null,
   "metadata": {},
   "outputs": [],
   "source": [
    "matchstring = \"a\\^b\" # find match of a^b, use backslash to escape caret\n",
    "\n",
    "print(re.search(matchstring, \"a^b\").group())"
   ]
  },
  {
   "cell_type": "code",
   "execution_count": null,
   "metadata": {},
   "outputs": [],
   "source": [
    "matchstring = \"a\\^b\" # find match of a^b, use backslash to escape caret\n",
    "\n",
    "print(re.search(matchstring, \"a^b\").group())"
   ]
  }
 ],
 "metadata": {
  "kernelspec": {
   "display_name": "Python 3 (ipykernel)",
   "language": "python",
   "name": "python3"
  },
  "language_info": {
   "codemirror_mode": {
    "name": "ipython",
    "version": 3
   },
   "file_extension": ".py",
   "mimetype": "text/x-python",
   "name": "python",
   "nbconvert_exporter": "python",
   "pygments_lexer": "ipython3",
   "version": "3.9.7"
  }
 },
 "nbformat": 4,
 "nbformat_minor": 4
}
