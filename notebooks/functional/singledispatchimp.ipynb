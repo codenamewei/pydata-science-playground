{
 "cells": [
  {
   "cell_type": "code",
   "execution_count": 1,
   "id": "72d29afa-5f8b-4b33-b89e-a0b5a7b88b91",
   "metadata": {},
   "outputs": [],
   "source": [
    "### Provide different functions to different data types with single dispatch"
   ]
  },
  {
   "cell_type": "code",
   "execution_count": 2,
   "id": "770553eb-5bce-4e35-b63b-db9310a10b5d",
   "metadata": {},
   "outputs": [],
   "source": [
    "import pandas as pd\n",
    "from typing import Union"
   ]
  },
  {
   "cell_type": "markdown",
   "id": "012597f7-6083-490f-9d71-4ae7c8659caf",
   "metadata": {},
   "source": [
    "## Native method:\n",
    "it gets complicated when there are more data types to consider"
   ]
  },
  {
   "cell_type": "code",
   "execution_count": 3,
   "id": "754f8f5e-ae91-4aff-9e87-03fca48fce7d",
   "metadata": {},
   "outputs": [],
   "source": [
    "def native_create_data_from_dict(data: dict):\n",
    "    print(f\"Data is created from a {type(data)}.\")\n",
    "    return pd.DataFrame(data)\n",
    "\n",
    "def native_create_data_from_list(data: list):\n",
    "    print(f\"Data is created from a {type(data)}.\")\n",
    "    return pd.DataFrame(data, columns = [\"a\", \"b\"])\n",
    "\n",
    "\n",
    "def native_create_data(data : Union[list, dict]) -> pd.DataFrame:\n",
    "    \n",
    "    if isinstance(data, dict):\n",
    "        \n",
    "        return native_create_data_from_dict(data)\n",
    "        \n",
    "    if isinstance(data, list): \n",
    "        \n",
    "        return native_create_data_from_list(data)\n",
    "        \n",
    "    else:\n",
    "        NotImplementedError(f\"Type {type(data)} is unsupported\")"
   ]
  },
  {
   "cell_type": "code",
   "execution_count": 4,
   "id": "51f3f820-44a1-4563-aac6-eeaa86d5a89a",
   "metadata": {},
   "outputs": [
    {
     "name": "stdout",
     "output_type": "stream",
     "text": [
      "Data is created from a <class 'dict'>.\n"
     ]
    },
    {
     "data": {
      "text/html": [
       "<div>\n",
       "<style scoped>\n",
       "    .dataframe tbody tr th:only-of-type {\n",
       "        vertical-align: middle;\n",
       "    }\n",
       "\n",
       "    .dataframe tbody tr th {\n",
       "        vertical-align: top;\n",
       "    }\n",
       "\n",
       "    .dataframe thead th {\n",
       "        text-align: right;\n",
       "    }\n",
       "</style>\n",
       "<table border=\"1\" class=\"dataframe\">\n",
       "  <thead>\n",
       "    <tr style=\"text-align: right;\">\n",
       "      <th></th>\n",
       "      <th>a</th>\n",
       "      <th>b</th>\n",
       "    </tr>\n",
       "  </thead>\n",
       "  <tbody>\n",
       "    <tr>\n",
       "      <th>0</th>\n",
       "      <td>1</td>\n",
       "      <td>4</td>\n",
       "    </tr>\n",
       "    <tr>\n",
       "      <th>1</th>\n",
       "      <td>2</td>\n",
       "      <td>5</td>\n",
       "    </tr>\n",
       "    <tr>\n",
       "      <th>2</th>\n",
       "      <td>3</td>\n",
       "      <td>6</td>\n",
       "    </tr>\n",
       "  </tbody>\n",
       "</table>\n",
       "</div>"
      ],
      "text/plain": [
       "   a  b\n",
       "0  1  4\n",
       "1  2  5\n",
       "2  3  6"
      ]
     },
     "execution_count": 4,
     "metadata": {},
     "output_type": "execute_result"
    }
   ],
   "source": [
    "data = dict(a = [1,2,3], b = [4,5,6])\n",
    "\n",
    "native_create_data(data)"
   ]
  },
  {
   "cell_type": "code",
   "execution_count": 5,
   "id": "1670c172-4ee1-4be9-861c-4b9e780f669b",
   "metadata": {},
   "outputs": [
    {
     "name": "stdout",
     "output_type": "stream",
     "text": [
      "Data is created from a <class 'list'>.\n"
     ]
    },
    {
     "data": {
      "text/html": [
       "<div>\n",
       "<style scoped>\n",
       "    .dataframe tbody tr th:only-of-type {\n",
       "        vertical-align: middle;\n",
       "    }\n",
       "\n",
       "    .dataframe tbody tr th {\n",
       "        vertical-align: top;\n",
       "    }\n",
       "\n",
       "    .dataframe thead th {\n",
       "        text-align: right;\n",
       "    }\n",
       "</style>\n",
       "<table border=\"1\" class=\"dataframe\">\n",
       "  <thead>\n",
       "    <tr style=\"text-align: right;\">\n",
       "      <th></th>\n",
       "      <th>a</th>\n",
       "      <th>b</th>\n",
       "    </tr>\n",
       "  </thead>\n",
       "  <tbody>\n",
       "    <tr>\n",
       "      <th>0</th>\n",
       "      <td>1</td>\n",
       "      <td>4</td>\n",
       "    </tr>\n",
       "    <tr>\n",
       "      <th>1</th>\n",
       "      <td>2</td>\n",
       "      <td>5</td>\n",
       "    </tr>\n",
       "    <tr>\n",
       "      <th>2</th>\n",
       "      <td>3</td>\n",
       "      <td>6</td>\n",
       "    </tr>\n",
       "  </tbody>\n",
       "</table>\n",
       "</div>"
      ],
      "text/plain": [
       "   a  b\n",
       "0  1  4\n",
       "1  2  5\n",
       "2  3  6"
      ]
     },
     "execution_count": 5,
     "metadata": {},
     "output_type": "execute_result"
    }
   ],
   "source": [
    "data = [(1,4), (2, 5), (3, 6)]\n",
    "native_create_data(data)"
   ]
  },
  {
   "cell_type": "markdown",
   "id": "f3172f00-c5fa-4793-a844-5066c9faf66d",
   "metadata": {},
   "source": [
    "##  Using singledispatch\n",
    "- Singledispatch will choose the right function based on the type of the current function's first argument"
   ]
  },
  {
   "cell_type": "code",
   "execution_count": null,
   "id": "60210878-6b91-448a-abaa-b3059311aa4f",
   "metadata": {},
   "outputs": [],
   "source": [
    "from functools import singledispatch\n",
    "\n",
    "@singledispatch\n",
    "def create_data(data: Union[list, dict, tuple]) -> pd.DataFrame:\n",
    "    \n",
    "    NotImplementedError(f\"Type {type(data)} is unsupported\")\n",
    "\n",
    "@create_data.register\n",
    "def create_data_from_dict(data: dict):\n",
    "    print(f\"Data is created from a {type(data)}.\")\n",
    "    return pd.DataFrame(data)\n",
    "\n",
    "@create_data.register\n",
    "def create_data_from_list(data: list):\n",
    "    print(f\"Data is created from a {type(data)}.\")\n",
    "    return pd.DataFrame(data, columns = [\"a\", \"b\"])\n"
   ]
  },
  {
   "cell_type": "code",
   "execution_count": 10,
   "id": "5e922ce9-d8f6-405c-9956-d3a45955cf9a",
   "metadata": {},
   "outputs": [
    {
     "name": "stdout",
     "output_type": "stream",
     "text": [
      "Data is created from a <class 'dict'>.\n"
     ]
    },
    {
     "data": {
      "text/html": [
       "<div>\n",
       "<style scoped>\n",
       "    .dataframe tbody tr th:only-of-type {\n",
       "        vertical-align: middle;\n",
       "    }\n",
       "\n",
       "    .dataframe tbody tr th {\n",
       "        vertical-align: top;\n",
       "    }\n",
       "\n",
       "    .dataframe thead th {\n",
       "        text-align: right;\n",
       "    }\n",
       "</style>\n",
       "<table border=\"1\" class=\"dataframe\">\n",
       "  <thead>\n",
       "    <tr style=\"text-align: right;\">\n",
       "      <th></th>\n",
       "      <th>a</th>\n",
       "      <th>b</th>\n",
       "    </tr>\n",
       "  </thead>\n",
       "  <tbody>\n",
       "    <tr>\n",
       "      <th>0</th>\n",
       "      <td>1</td>\n",
       "      <td>4</td>\n",
       "    </tr>\n",
       "    <tr>\n",
       "      <th>1</th>\n",
       "      <td>2</td>\n",
       "      <td>5</td>\n",
       "    </tr>\n",
       "    <tr>\n",
       "      <th>2</th>\n",
       "      <td>3</td>\n",
       "      <td>6</td>\n",
       "    </tr>\n",
       "  </tbody>\n",
       "</table>\n",
       "</div>"
      ],
      "text/plain": [
       "   a  b\n",
       "0  1  4\n",
       "1  2  5\n",
       "2  3  6"
      ]
     },
     "execution_count": 10,
     "metadata": {},
     "output_type": "execute_result"
    }
   ],
   "source": [
    "data = dict(a = [1,2,3], b = [4,5,6])\n",
    "\n",
    "create_data(data)"
   ]
  },
  {
   "cell_type": "code",
   "execution_count": 11,
   "id": "074ebd57-adbb-448a-80e0-ddbf86c229b5",
   "metadata": {},
   "outputs": [
    {
     "name": "stdout",
     "output_type": "stream",
     "text": [
      "Data is created from a <class 'list'>.\n"
     ]
    },
    {
     "data": {
      "text/html": [
       "<div>\n",
       "<style scoped>\n",
       "    .dataframe tbody tr th:only-of-type {\n",
       "        vertical-align: middle;\n",
       "    }\n",
       "\n",
       "    .dataframe tbody tr th {\n",
       "        vertical-align: top;\n",
       "    }\n",
       "\n",
       "    .dataframe thead th {\n",
       "        text-align: right;\n",
       "    }\n",
       "</style>\n",
       "<table border=\"1\" class=\"dataframe\">\n",
       "  <thead>\n",
       "    <tr style=\"text-align: right;\">\n",
       "      <th></th>\n",
       "      <th>a</th>\n",
       "      <th>b</th>\n",
       "    </tr>\n",
       "  </thead>\n",
       "  <tbody>\n",
       "    <tr>\n",
       "      <th>0</th>\n",
       "      <td>1</td>\n",
       "      <td>4</td>\n",
       "    </tr>\n",
       "    <tr>\n",
       "      <th>1</th>\n",
       "      <td>2</td>\n",
       "      <td>5</td>\n",
       "    </tr>\n",
       "    <tr>\n",
       "      <th>2</th>\n",
       "      <td>3</td>\n",
       "      <td>6</td>\n",
       "    </tr>\n",
       "  </tbody>\n",
       "</table>\n",
       "</div>"
      ],
      "text/plain": [
       "   a  b\n",
       "0  1  4\n",
       "1  2  5\n",
       "2  3  6"
      ]
     },
     "execution_count": 11,
     "metadata": {},
     "output_type": "execute_result"
    }
   ],
   "source": [
    "data = [(1,4), (2, 5), (3, 6)]\n",
    "create_data(data)"
   ]
  },
  {
   "cell_type": "markdown",
   "id": "eac514d9-992f-4632-9242-0b3ecfe0f044",
   "metadata": {},
   "source": [
    "### Multiple data types declaration"
   ]
  },
  {
   "cell_type": "code",
   "execution_count": 12,
   "id": "d0fddd6e-594d-429f-b871-f132f27b3f66",
   "metadata": {},
   "outputs": [],
   "source": [
    "from functools import singledispatch\n",
    "\n",
    "@singledispatch\n",
    "def create_data(data: Union[list, dict, tuple]) -> pd.DataFrame:\n",
    "    \n",
    "    NotImplementedError(f\"Type {type(data)} is unsupported\")\n",
    "\n",
    "@create_data.register(dict)\n",
    "def create_data_from_dict(data: dict):\n",
    "    print(f\"Data is created from a {type(data)}.\")\n",
    "    return pd.DataFrame(data)\n",
    "\n",
    "@create_data.register(list)\n",
    "@create_data.register(tuple)\n",
    "def create_data_from_list(data: Union[list, tuple]):\n",
    "    print(f\"Data is created from a {type(data)}.\")\n",
    "    return pd.DataFrame(data, columns = [\"a\", \"b\"])\n"
   ]
  },
  {
   "cell_type": "code",
   "execution_count": 13,
   "id": "aa034bd1-bcb7-490b-acd1-db6289a65904",
   "metadata": {},
   "outputs": [
    {
     "name": "stdout",
     "output_type": "stream",
     "text": [
      "Data is created from a <class 'tuple'>.\n"
     ]
    },
    {
     "data": {
      "text/html": [
       "<div>\n",
       "<style scoped>\n",
       "    .dataframe tbody tr th:only-of-type {\n",
       "        vertical-align: middle;\n",
       "    }\n",
       "\n",
       "    .dataframe tbody tr th {\n",
       "        vertical-align: top;\n",
       "    }\n",
       "\n",
       "    .dataframe thead th {\n",
       "        text-align: right;\n",
       "    }\n",
       "</style>\n",
       "<table border=\"1\" class=\"dataframe\">\n",
       "  <thead>\n",
       "    <tr style=\"text-align: right;\">\n",
       "      <th></th>\n",
       "      <th>a</th>\n",
       "      <th>b</th>\n",
       "    </tr>\n",
       "  </thead>\n",
       "  <tbody>\n",
       "    <tr>\n",
       "      <th>0</th>\n",
       "      <td>1</td>\n",
       "      <td>4</td>\n",
       "    </tr>\n",
       "    <tr>\n",
       "      <th>1</th>\n",
       "      <td>2</td>\n",
       "      <td>5</td>\n",
       "    </tr>\n",
       "    <tr>\n",
       "      <th>2</th>\n",
       "      <td>3</td>\n",
       "      <td>6</td>\n",
       "    </tr>\n",
       "  </tbody>\n",
       "</table>\n",
       "</div>"
      ],
      "text/plain": [
       "   a  b\n",
       "0  1  4\n",
       "1  2  5\n",
       "2  3  6"
      ]
     },
     "execution_count": 13,
     "metadata": {},
     "output_type": "execute_result"
    }
   ],
   "source": [
    "data = ((1,4), (2, 5), (3, 6))\n",
    "\n",
    "create_data(data)"
   ]
  }
 ],
 "metadata": {
  "kernelspec": {
   "display_name": "Python 3 (ipykernel)",
   "language": "python",
   "name": "python3"
  },
  "language_info": {
   "codemirror_mode": {
    "name": "ipython",
    "version": 3
   },
   "file_extension": ".py",
   "mimetype": "text/x-python",
   "name": "python",
   "nbconvert_exporter": "python",
   "pygments_lexer": "ipython3",
   "version": "3.8.5"
  }
 },
 "nbformat": 4,
 "nbformat_minor": 5
}
