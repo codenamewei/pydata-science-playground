{
 "cells": [
  {
   "cell_type": "markdown",
   "metadata": {},
   "source": [
    "## Processing iterables with a functional style\n",
    "### Three commonly used techniques\n",
    "1. **Mapping** consists of applying a transformation function to an iterable to produce a new iterable. \n",
    "   Items in the new iterable are produced by calling the transformation function on each item in the original iterable  \n",
    "   ```map()```\n",
    "2. **Filtering** consists of applying a **predicate or Boolean-valued function** to an iterable to generate a new iterable.\n",
    "   Items in the new iterable are produced by filtering out any items in the original iterable that make the predicate function return false  \n",
    "   ```filter()```\n",
    "3. **Reducing** consists of applying a reduction fucntion to an iterable to produce a single cumulative value  \n",
    "   ```reduce()```"
   ]
  },
  {
   "cell_type": "markdown",
   "metadata": {},
   "source": [
    "### obj = map(function, iterator)\n",
    "\n",
    "- The map() function returns an object of map class. The returned value can be passed to functions like \n",
    "    - list()\n",
    "    - set()\n",
    "- transform all the items in an iterable without using an explicit for loop, a technique commonly known as mapping. "
   ]
  },
  {
   "cell_type": "markdown",
   "metadata": {},
   "source": [
    "### Compute number"
   ]
  },
  {
   "cell_type": "code",
   "execution_count": 51,
   "metadata": {},
   "outputs": [
    {
     "name": "stdout",
     "output_type": "stream",
     "text": [
      "[0, 1, 2, 3, 4]\n",
      "[2, 3, 4, 5, 6]\n"
     ]
    }
   ],
   "source": [
    "sample_list = list(range(5))\n",
    "\n",
    "output = map(lambda x: x + 2, sample_list)\n",
    "\n",
    "output_list = list(output)\n",
    "\n",
    "print(f\"{sample_list}\")\n",
    "print(f\"{output_list}\")"
   ]
  },
  {
   "cell_type": "markdown",
   "metadata": {},
   "source": [
    "### Process str "
   ]
  },
  {
   "cell_type": "code",
   "execution_count": 52,
   "metadata": {},
   "outputs": [
    {
     "name": "stdout",
     "output_type": "stream",
     "text": [
      "['Processing', 'Strings', 'With', 'Map']\n",
      "['PROCESSING', 'STRINGS', 'WITH', 'MAP']\n",
      "['processing', 'strings', 'with', 'map']\n"
     ]
    }
   ],
   "source": [
    "string_it = [\"processing\", \"strings\", \"with\", \"map\"]\n",
    "print(list(map(str.capitalize, string_it)))\n",
    "\n",
    "print(list(map(str.upper, string_it)))\n",
    "\n",
    "print(list(map(str.lower, string_it)))"
   ]
  },
  {
   "cell_type": "markdown",
   "metadata": {},
   "source": [
    "### Convert list of string to int "
   ]
  },
  {
   "cell_type": "code",
   "execution_count": 53,
   "metadata": {},
   "outputs": [
    {
     "name": "stdout",
     "output_type": "stream",
     "text": [
      "['123', '456', '789']\n",
      "[123, 456, 789]\n"
     ]
    }
   ],
   "source": [
    "str_list = ['123', '456', '789']\n",
    "\n",
    "int_list = list(map(int, str_list))\n",
    "\n",
    "print(f\"{str_list}\")\n",
    "print(f\"{int_list}\")"
   ]
  },
  {
   "cell_type": "code",
   "execution_count": 54,
   "metadata": {},
   "outputs": [],
   "source": [
    "### Elaborated conversion function to catch potential errors"
   ]
  },
  {
   "cell_type": "code",
   "execution_count": 55,
   "metadata": {},
   "outputs": [
    {
     "data": {
      "text/plain": [
       "[12.3, 3.3, -15.2, nan]"
      ]
     },
     "execution_count": 55,
     "metadata": {},
     "output_type": "execute_result"
    }
   ],
   "source": [
    "def to_float(number):\n",
    "    try:\n",
    "        return float(number.replace(\",\", \".\"))\n",
    "    except ValueError:\n",
    "        return float(\"nan\")\n",
    "    \n",
    "list(map(to_float, [\"12.3\", \"3,3\", \"-15.2\", \"One\"]))"
   ]
  },
  {
   "cell_type": "markdown",
   "metadata": {},
   "source": [
    "### Remove punctuation "
   ]
  },
  {
   "cell_type": "code",
   "execution_count": 56,
   "metadata": {},
   "outputs": [
    {
     "name": "stdout",
     "output_type": "stream",
     "text": [
      "Input string: \n",
      "Some people, when confront?ed with a problem, think\n",
      "... \"I know, I'll use (regular expressions).\"\n",
      "... Now they have two problems. Jamie Zawinski\n",
      "\n",
      "Output String\n",
      "Some people when confronted with a problem think  I know I'll use regular expressions  Now they have two problems Jamie Zawinski\n"
     ]
    }
   ],
   "source": [
    "import re\n",
    "\n",
    "ext = \"\"\"Some people, when confront?ed with a problem, think\n",
    "... \"I know, I'll use (regular expressions).\"\n",
    "... Now they have two problems. Jamie Zawinski\"\"\"\n",
    "\n",
    "print(f\"Input string: \\n{ext}\\n\")\n",
    "\n",
    "def remove_punctuation(word):\n",
    "    return re.sub(r'[!?.:;,\"()-]', \"\", word)\n",
    "\n",
    "print(\"Output String\")\n",
    "output_list = list(map(remove_punctuation, ext.split()))\n",
    "\n",
    "print(\" \".join(output_list))"
   ]
  },
  {
   "cell_type": "markdown",
   "metadata": {},
   "source": [
    "# Can take multiple iterables\n",
    "- The func object have to take as many arguments as iterables you pass in\n",
    "- Each iteration of map() will pass one value from each iterable as an argument to function\n",
    "- The iterable stops at the end of the shortest iterable"
   ]
  },
  {
   "cell_type": "code",
   "execution_count": 57,
   "metadata": {},
   "outputs": [
    {
     "data": {
      "text/plain": [
       "[1, 32, 729]"
      ]
     },
     "execution_count": 57,
     "metadata": {},
     "output_type": "execute_result"
    }
   ],
   "source": [
    "first_it = [1, 2, 3]\n",
    "second_it = [4, 5, 6, 7]\n",
    "\n",
    "list(map(pow, first_it, second_it))"
   ]
  },
  {
   "cell_type": "markdown",
   "metadata": {},
   "source": [
    "### Using map and filter together\n",
    "Example: square root of negative number raise error"
   ]
  },
  {
   "cell_type": "code",
   "execution_count": 60,
   "metadata": {},
   "outputs": [
    {
     "data": {
      "text/plain": [
       "[2.0, 3.0]"
      ]
     },
     "execution_count": 60,
     "metadata": {},
     "output_type": "execute_result"
    }
   ],
   "source": [
    "import math \n",
    "\n",
    "value_list = [-1, 4, 9, -100]\n",
    "\n",
    "list(map(math.sqrt, filter(lambda x: x > 0, value_list)))"
   ]
  },
  {
   "cell_type": "code",
   "execution_count": null,
   "metadata": {},
   "outputs": [],
   "source": []
  }
 ],
 "metadata": {
  "kernelspec": {
   "display_name": "Python 3 (ipykernel)",
   "language": "python",
   "name": "python3"
  },
  "language_info": {
   "codemirror_mode": {
    "name": "ipython",
    "version": 3
   },
   "file_extension": ".py",
   "mimetype": "text/x-python",
   "name": "python",
   "nbconvert_exporter": "python",
   "pygments_lexer": "ipython3",
   "version": "3.9.7"
  }
 },
 "nbformat": 4,
 "nbformat_minor": 4
}
