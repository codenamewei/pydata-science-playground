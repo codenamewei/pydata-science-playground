{
 "cells": [
  {
   "cell_type": "markdown",
   "metadata": {},
   "source": [
    "### filter() \n",
    "- extracts elements from an iterable (list, tuple etc.) for which a function returns True\n",
    "\n",
    "```obj = filter(function, iterator)```"
   ]
  },
  {
   "cell_type": "code",
   "execution_count": null,
   "metadata": {},
   "outputs": [],
   "source": [
    "### find even int in a list"
   ]
  },
  {
   "cell_type": "code",
   "execution_count": 7,
   "metadata": {},
   "outputs": [
    {
     "name": "stdout",
     "output_type": "stream",
     "text": [
      "[0, 2, 4, 6, 8]\n"
     ]
    }
   ],
   "source": [
    "int_list = list(range(0, 10))\n",
    "\n",
    "even_list = list(filter(lambda x: x % 2 == 0, int_list))\n",
    "\n",
    "even_list"
   ]
  },
  {
   "cell_type": "markdown",
   "metadata": {},
   "source": [
    "### find substring in str list"
   ]
  },
  {
   "cell_type": "code",
   "execution_count": 10,
   "metadata": {},
   "outputs": [
    {
     "data": {
      "text/plain": [
       "['wording', 'word']"
      ]
     },
     "execution_count": 10,
     "metadata": {},
     "output_type": "execute_result"
    }
   ],
   "source": [
    "str_list = [\"hello\", \"wording\", \"word\", \"world\"]\n",
    "\n",
    "substring_list = list(filter(lambda var: var. (\"word\") != -1, str_list))\n",
    "\n",
    "substring_list"
   ]
  },
  {
   "cell_type": "markdown",
   "metadata": {},
   "source": [
    "### Using None as a Function Inside filter()\n",
    "Return value not False, 0"
   ]
  },
  {
   "cell_type": "code",
   "execution_count": 11,
   "metadata": {},
   "outputs": [
    {
     "name": "stdout",
     "output_type": "stream",
     "text": [
      "[1, 'a', 0, False, True, '0']\n",
      "[1, 'a', True, '0']\n"
     ]
    }
   ],
   "source": [
    "# random list\n",
    "random_list = [1, 'a', 0, False, True, '0']\n",
    "\n",
    "filtered_iterator = filter(None, random_list)\n",
    "\n",
    "#converting to list\n",
    "filtered_list = list(filtered_iterator)\n",
    "\n",
    "print(random_list)\n",
    "print(filtered_list)"
   ]
  },
  {
   "cell_type": "code",
   "execution_count": null,
   "metadata": {},
   "outputs": [],
   "source": []
  }
 ],
 "metadata": {
  "kernelspec": {
   "display_name": "Python 3 (ipykernel)",
   "language": "python",
   "name": "python3"
  },
  "language_info": {
   "codemirror_mode": {
    "name": "ipython",
    "version": 3
   },
   "file_extension": ".py",
   "mimetype": "text/x-python",
   "name": "python",
   "nbconvert_exporter": "python",
   "pygments_lexer": "ipython3",
   "version": "3.9.7"
  }
 },
 "nbformat": 4,
 "nbformat_minor": 4
}
