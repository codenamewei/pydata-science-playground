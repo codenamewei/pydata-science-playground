{
 "cells": [
  {
   "cell_type": "markdown",
   "metadata": {},
   "source": [
    "## compare if any differences in the two list is more than 40 %\n",
    "\n",
    "- use ```any(iterable)```"
   ]
  },
  {
   "cell_type": "code",
   "execution_count": 14,
   "metadata": {},
   "outputs": [],
   "source": [
    "out = [5, 10, 20, 25, 8, 9, 30, 45]"
   ]
  },
  {
   "cell_type": "markdown",
   "metadata": {},
   "source": [
    "## Method 1"
   ]
  },
  {
   "cell_type": "code",
   "execution_count": 15,
   "metadata": {},
   "outputs": [
    {
     "name": "stdout",
     "output_type": "stream",
     "text": [
      "There is differences more than 40%\n"
     ]
    }
   ],
   "source": [
    "thres = 40 #check if any value is more than 50% differences\n",
    "\n",
    "morethanthres = any(filter(lambda x : x > thres, out))\n",
    "\n",
    "if morethanthres is True:\n",
    "    print(f\"There is differences more than {thres}%\")\n",
    "else:\n",
    "    print(\"all is good\")"
   ]
  },
  {
   "cell_type": "markdown",
   "metadata": {},
   "source": [
    "## Method 2"
   ]
  },
  {
   "cell_type": "code",
   "execution_count": 16,
   "metadata": {},
   "outputs": [
    {
     "name": "stdout",
     "output_type": "stream",
     "text": [
      "There is differences more than 40%\n"
     ]
    }
   ],
   "source": [
    "morethanthres = any(x > thres for x in out)\n",
    "\n",
    "if morethanthres is True:\n",
    "    print(f\"There is differences more than {thres}%\")\n",
    "else:\n",
    "    print(\"all is good\")"
   ]
  }
 ],
 "metadata": {
  "kernelspec": {
   "display_name": "Python 3 (ipykernel)",
   "language": "python",
   "name": "python3"
  },
  "language_info": {
   "codemirror_mode": {
    "name": "ipython",
    "version": 3
   },
   "file_extension": ".py",
   "mimetype": "text/x-python",
   "name": "python",
   "nbconvert_exporter": "python",
   "pygments_lexer": "ipython3",
   "version": "3.8.5"
  }
 },
 "nbformat": 4,
 "nbformat_minor": 4
}
