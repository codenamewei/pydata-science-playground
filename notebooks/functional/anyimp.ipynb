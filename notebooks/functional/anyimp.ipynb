{
 "cells": [
  {
   "cell_type": "markdown",
   "metadata": {},
   "source": [
    "## compare if any differences in the two list is more than 10 %\n",
    "\n",
    "- use ```any(iterable)```"
   ]
  },
  {
   "cell_type": "code",
   "execution_count": 54,
   "metadata": {},
   "outputs": [],
   "source": [
    "from random import randint"
   ]
  },
  {
   "cell_type": "code",
   "execution_count": 61,
   "metadata": {},
   "outputs": [
    {
     "name": "stdout",
     "output_type": "stream",
     "text": [
      "[5, 9, 6, 5, 5, 4, 8, 5, 5, 4]\n",
      "[4, 9, 1, 9, 8, 3, 6, 3, 5, 2]\n"
     ]
    }
   ],
   "source": [
    "list1 = [randint(1, 10) for _ in range(10)]\n",
    "list2 = [randint(1, 10) for _ in range(10)]\n",
    "\n",
    "print(list1)\n",
    "print(list2)"
   ]
  },
  {
   "cell_type": "code",
   "execution_count": 62,
   "metadata": {},
   "outputs": [
    {
     "data": {
      "text/plain": [
       "[25.0,\n",
       " 0.0,\n",
       " 500.0,\n",
       " 44.44444444444444,\n",
       " 37.5,\n",
       " 33.33333333333333,\n",
       " 33.33333333333333,\n",
       " 66.66666666666666,\n",
       " 0.0,\n",
       " 100.0]"
      ]
     },
     "execution_count": 62,
     "metadata": {},
     "output_type": "execute_result"
    }
   ],
   "source": [
    "out = [abs(item1 - item2) / item2 *100 for item1, item2 in zip(list1, list2)]\n",
    "\n",
    "out"
   ]
  },
  {
   "cell_type": "code",
   "execution_count": 63,
   "metadata": {},
   "outputs": [
    {
     "name": "stdout",
     "output_type": "stream",
     "text": [
      "There is differences more than 100%\n"
     ]
    }
   ],
   "source": [
    "thres = 100 #check if any value is more than 50% differences\n",
    "\n",
    "morethanthres = any(filter(lambda x : x > thres, out))\n",
    "\n",
    "if morethanthres is True:\n",
    "    print(f\"There is differences more than {thres}%\")\n",
    "else:\n",
    "    print(\"all is good\")"
   ]
  },
  {
   "cell_type": "code",
   "execution_count": 65,
   "metadata": {},
   "outputs": [
    {
     "data": {
      "text/plain": [
       "[9, 18, 7, 14, 13, 7, 14, 8, 10, 6]"
      ]
     },
     "execution_count": 65,
     "metadata": {},
     "output_type": "execute_result"
    }
   ],
   "source": []
  },
  {
   "cell_type": "code",
   "execution_count": null,
   "metadata": {},
   "outputs": [],
   "source": []
  }
 ],
 "metadata": {
  "kernelspec": {
   "display_name": "Python 3 (ipykernel)",
   "language": "python",
   "name": "python3"
  },
  "language_info": {
   "codemirror_mode": {
    "name": "ipython",
    "version": 3
   },
   "file_extension": ".py",
   "mimetype": "text/x-python",
   "name": "python",
   "nbconvert_exporter": "python",
   "pygments_lexer": "ipython3",
   "version": "3.9.7"
  }
 },
 "nbformat": 4,
 "nbformat_minor": 4
}
