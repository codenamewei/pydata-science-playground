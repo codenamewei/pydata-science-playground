{
 "cells": [
  {
   "cell_type": "markdown",
   "metadata": {},
   "source": [
    "### Uploading with progress callback \n",
    "- Under the hood, it counts the bytes send / total bytes to calculate percentage"
   ]
  },
  {
   "cell_type": "code",
   "execution_count": 1,
   "metadata": {},
   "outputs": [],
   "source": [
    "import boto3\n",
    "import time\n",
    "import os"
   ]
  },
  {
   "cell_type": "code",
   "execution_count": 2,
   "metadata": {},
   "outputs": [],
   "source": [
    "filename = r\"C:\\Users\\codenamewei\\Documents\\xboxgamebar\\Captures\\shortest.mp4\"\n",
    "bucketname = \"hello-world-abc\"\n",
    "objectname = os.path.basename(filename)"
   ]
  },
  {
   "cell_type": "markdown",
   "metadata": {},
   "source": [
    "## !! TEMPORARY !!"
   ]
  },
  {
   "cell_type": "code",
   "execution_count": 3,
   "metadata": {},
   "outputs": [],
   "source": [
    "import json\n",
    "\n",
    "configfilepath = r\"C:\\Users\\codenamewei\\Downloads\\temp\\awscredential.json\"\n",
    "with open(configfilepath, 'r') as openfile:\n",
    " \n",
    "    # Reading from json file\n",
    "    config = json.load(openfile)\n",
    "    \n",
    "s3 = boto3.client('s3', aws_access_key_id=config[\"aws_access_key_id\"], aws_secret_access_key= config[\"aws_secret_access_key\"])"
   ]
  },
  {
   "cell_type": "code",
   "execution_count": 7,
   "metadata": {},
   "outputs": [],
   "source": [
    "import os\n",
    "import sys\n",
    "import threading\n",
    "\n",
    "class ProgressPercentage(object):\n",
    "\n",
    "    def __init__(self, filename):\n",
    "        self._filename = filename\n",
    "        self._size = float(os.path.getsize(filename))\n",
    "        self._seen_so_far = 0\n",
    "        self._lock = threading.Lock()\n",
    "\n",
    "    def __call__(self, bytes_amount):\n",
    "        # To simplify, assume this is hooked up to a single filename\n",
    "        with self._lock:\n",
    "            self._seen_so_far += bytes_amount\n",
    "            percentage = (self._seen_so_far / self._size) * 100\n",
    "            sys.stdout.write(\n",
    "                \"\\r%s  %s / %s  (%.2f%%)\" % (\n",
    "                    self._filename, self._seen_so_far, self._size,\n",
    "                    percentage))\n",
    "            sys.stdout.flush()"
   ]
  },
  {
   "cell_type": "markdown",
   "metadata": {},
   "source": [
    "### Upload file to bucket"
   ]
  },
  {
   "cell_type": "markdown",
   "metadata": {},
   "source": [
    "- The upload_fileobj method accepts a readable file-like object. \n",
    "- The file object must be opened in binary mode, not text mode.\n",
    "- No benefits are gained by calling one class's method over another's. Use whichever class is most convenient."
   ]
  },
  {
   "cell_type": "code",
   "execution_count": 13,
   "metadata": {},
   "outputs": [
    {
     "name": "stdout",
     "output_type": "stream",
     "text": [
      "C:\\Users\\codenamewei\\Documents\\xboxgamebar\\Captures\\shortest.mp4  5844555 / 5844555.0  (100.00%)Time consumed in seconds: 11.688815355300903s\n"
     ]
    }
   ],
   "source": [
    "start = time.time()\n",
    "\n",
    "with open(filename, \"rb\") as f:\n",
    "    s3.upload_fileobj(f, bucketname, objectname, Callback = ProgressPercentage(filename))\n",
    "    \n",
    "end = time.time()\n",
    "\n",
    "print(f\"Time consumed in seconds: {end - start}s\")"
   ]
  },
  {
   "cell_type": "code",
   "execution_count": null,
   "metadata": {},
   "outputs": [],
   "source": []
  }
 ],
 "metadata": {
  "kernelspec": {
   "display_name": "Python 3 (ipykernel)",
   "language": "python",
   "name": "python3"
  },
  "language_info": {
   "codemirror_mode": {
    "name": "ipython",
    "version": 3
   },
   "file_extension": ".py",
   "mimetype": "text/x-python",
   "name": "python",
   "nbconvert_exporter": "python",
   "pygments_lexer": "ipython3",
   "version": "3.8.5"
  }
 },
 "nbformat": 4,
 "nbformat_minor": 4
}
