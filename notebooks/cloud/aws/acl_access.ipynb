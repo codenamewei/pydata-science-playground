{
 "cells": [
  {
   "cell_type": "markdown",
   "id": "6bc64f23-9dcf-4f82-90f7-47bae8c0aa2a",
   "metadata": {},
   "source": [
    "### Note\n",
    "- ACL stands for Access Control List\n",
    "- TLDR:\n",
    "\n",
    "<img src = \"metadata\\acl.jpg\" width=\"800\">\n",
    "- Read more at https://docs.aws.amazon.com/AmazonS3/latest/userguide/acl-overview.html"
   ]
  },
  {
   "cell_type": "code",
   "execution_count": null,
   "id": "c9f52062-c3a0-4c93-967e-48e42d33fd31",
   "metadata": {},
   "outputs": [],
   "source": []
  }
 ],
 "metadata": {
  "kernelspec": {
   "display_name": "Python 3 (ipykernel)",
   "language": "python",
   "name": "python3"
  },
  "language_info": {
   "codemirror_mode": {
    "name": "ipython",
    "version": 3
   },
   "file_extension": ".py",
   "mimetype": "text/x-python",
   "name": "python",
   "nbconvert_exporter": "python",
   "pygments_lexer": "ipython3",
   "version": "3.8.5"
  }
 },
 "nbformat": 4,
 "nbformat_minor": 5
}
