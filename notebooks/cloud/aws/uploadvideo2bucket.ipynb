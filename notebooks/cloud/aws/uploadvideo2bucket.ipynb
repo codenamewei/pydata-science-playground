{
 "cells": [
  {
   "cell_type": "markdown",
   "metadata": {},
   "source": [
    "### Uploading a video file of 180 MB takes 8 - 10 seconds"
   ]
  },
  {
   "cell_type": "code",
   "execution_count": 7,
   "metadata": {},
   "outputs": [],
   "source": [
    "import boto3\n",
    "import time\n",
    "import os"
   ]
  },
  {
   "cell_type": "code",
   "execution_count": 8,
   "metadata": {},
   "outputs": [],
   "source": [
    "filename = r\"C:\\Users\\lich1003\\Downloads\\Testing.avi\"\n",
    "bucketname = \"hello-world-abc\"\n",
    "objectname = os.path.basename(filename)"
   ]
  },
  {
   "cell_type": "markdown",
   "metadata": {},
   "source": [
    "## !! TEMPORARY !!"
   ]
  },
  {
   "cell_type": "code",
   "execution_count": 9,
   "metadata": {},
   "outputs": [],
   "source": [
    "import json\n",
    "\n",
    "configfilepath = \"../../../../awscredential.json\"\n",
    "with open(configfilepath, 'r') as openfile:\n",
    " \n",
    "    # Reading from json file\n",
    "    config = json.load(openfile)\n",
    "    \n",
    "s3 = boto3.client('s3', aws_access_key_id=config[\"aws_access_key_id\"], aws_secret_access_key= config[\"aws_secret_access_key\"])"
   ]
  },
  {
   "cell_type": "markdown",
   "metadata": {},
   "source": [
    "### Upload file to bucket"
   ]
  },
  {
   "cell_type": "markdown",
   "metadata": {},
   "source": [
    "- The upload_fileobj method accepts a readable file-like object. \n",
    "- The file object must be opened in binary mode, not text mode.\n",
    "- No benefits are gained by calling one class's method over another's. Use whichever class is most convenient."
   ]
  },
  {
   "cell_type": "code",
   "execution_count": 11,
   "metadata": {},
   "outputs": [
    {
     "name": "stdout",
     "output_type": "stream",
     "text": [
      "Time consumed in seconds: 8.53389835357666s\n"
     ]
    }
   ],
   "source": [
    "start = time.time()\n",
    "\n",
    "with open(filename, \"rb\") as f:\n",
    "    s3.upload_fileobj(f, bucketname, objectname)\n",
    "    \n",
    "end = time.time()\n",
    "\n",
    "print(f\"Time consumed in seconds: {end - start}s\")"
   ]
  },
  {
   "cell_type": "code",
   "execution_count": null,
   "metadata": {},
   "outputs": [],
   "source": []
  }
 ],
 "metadata": {
  "kernelspec": {
   "display_name": "Python 3 (ipykernel)",
   "language": "python",
   "name": "python3"
  },
  "language_info": {
   "codemirror_mode": {
    "name": "ipython",
    "version": 3
   },
   "file_extension": ".py",
   "mimetype": "text/x-python",
   "name": "python",
   "nbconvert_exporter": "python",
   "pygments_lexer": "ipython3",
   "version": "3.9.7"
  }
 },
 "nbformat": 4,
 "nbformat_minor": 4
}
