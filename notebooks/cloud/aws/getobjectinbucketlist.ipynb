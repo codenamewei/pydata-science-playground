{
 "cells": [
  {
   "cell_type": "code",
   "execution_count": 2,
   "id": "b4e6b0dc-435d-4c6e-a32d-b4242ee3a8c3",
   "metadata": {},
   "outputs": [],
   "source": [
    "import boto3\n",
    "import json\n",
    "\n",
    "configfilepath = r\"C:\\Users\\codenamewei\\Downloads\\temp\\awscredential.json\"\n",
    "with open(configfilepath, 'r') as openfile:\n",
    " \n",
    "    # Reading from json file\n",
    "    config = json.load(openfile)"
   ]
  },
  {
   "cell_type": "markdown",
   "id": "4b2aff03-1ed9-4e97-9c70-84369611a813",
   "metadata": {},
   "source": [
    "### List all files in a bucket"
   ]
  },
  {
   "cell_type": "markdown",
   "id": "412f8c4d-f64c-4399-9ef3-ef463ff38ba4",
   "metadata": {},
   "source": [
    "bucket_name = \"hello-world-abc\"\n",
    "\n",
    "session = boto3.Session(aws_access_key_id=config[\"aws_access_key_id\"], aws_secret_access_key=config[\"aws_secret_access_key\"])\n",
    "\n",
    "s3 = session.resource('s3')\n",
    "\n",
    "my_bucket = s3.Bucket(bucket_name)\n",
    "\n",
    "for my_bucket_object in my_bucket.objects.all():\n",
    "    print(my_bucket_object.key)"
   ]
  },
  {
   "cell_type": "markdown",
   "id": "e5c5e7c0-38af-45ca-be21-88e291cd88da",
   "metadata": {},
   "source": [
    "### List files of specific extension"
   ]
  },
  {
   "cell_type": "code",
   "execution_count": 16,
   "id": "df9153e6-41a5-48f6-9a5e-5e26f9a1009b",
   "metadata": {},
   "outputs": [
    {
     "data": {
      "text/plain": [
       "[s3.ObjectSummary(bucket_name='hello-world-abc', key='disney.mp4'),\n",
       " s3.ObjectSummary(bucket_name='hello-world-abc', key='greyanatomy2.mp4'),\n",
       " s3.ObjectSummary(bucket_name='hello-world-abc', key='shortest.mp4')]"
      ]
     },
     "execution_count": 16,
     "metadata": {},
     "output_type": "execute_result"
    }
   ],
   "source": [
    "fileswithspecificextension = list(filter(lambda objectitem: objectitem.key.endswith(\".mp4\") == True, my_bucket.objects.all()))\n",
    "\n",
    "fileswithspecificextension"
   ]
  },
  {
   "cell_type": "markdown",
   "id": "4803d3d3-9fc2-448a-83ed-0fecf0ef9758",
   "metadata": {},
   "source": [
    "## Find if specific file exist\n",
    "- True for found"
   ]
  },
  {
   "cell_type": "code",
   "execution_count": 12,
   "id": "cdb831ec-0638-4141-a2d0-639e73da6d8a",
   "metadata": {},
   "outputs": [
    {
     "data": {
      "text/plain": [
       "True"
      ]
     },
     "execution_count": 12,
     "metadata": {},
     "output_type": "execute_result"
    }
   ],
   "source": [
    "keyfiletofind = \"disney.mp4\" #to write as new file name is same file name exist\n",
    "any((objectitem.key == keyfiletofind for objectitem in my_bucket.objects.all())) # same file name in bucket"
   ]
  },
  {
   "cell_type": "code",
   "execution_count": 14,
   "id": "2d9e9c24-178a-4b3f-862c-bb799e0f4b08",
   "metadata": {},
   "outputs": [
    {
     "data": {
      "text/plain": [
       "False"
      ]
     },
     "execution_count": 14,
     "metadata": {},
     "output_type": "execute_result"
    }
   ],
   "source": [
    "keyfiletofind = \"disney2.mp4\" #to write as new file name is same file name exist\n",
    "any((objectitem.key == keyfiletofind for objectitem in my_bucket.objects.all())) # no same file name in bucket\n"
   ]
  },
  {
   "cell_type": "code",
   "execution_count": null,
   "id": "924dbf2a-cc6b-4b78-a56b-a3abf2dd4cfd",
   "metadata": {},
   "outputs": [],
   "source": []
  }
 ],
 "metadata": {
  "kernelspec": {
   "display_name": "Python 3 (ipykernel)",
   "language": "python",
   "name": "python3"
  },
  "language_info": {
   "codemirror_mode": {
    "name": "ipython",
    "version": 3
   },
   "file_extension": ".py",
   "mimetype": "text/x-python",
   "name": "python",
   "nbconvert_exporter": "python",
   "pygments_lexer": "ipython3",
   "version": "3.8.5"
  }
 },
 "nbformat": 4,
 "nbformat_minor": 5
}
