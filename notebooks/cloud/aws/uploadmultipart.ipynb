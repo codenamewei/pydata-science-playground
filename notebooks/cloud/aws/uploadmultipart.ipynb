{
 "cells": [
  {
   "cell_type": "markdown",
   "id": "d2825033-9a49-45fd-b08b-c58e934bdf89",
   "metadata": {},
   "source": [
    "### Notes\n",
    "- How much to partition for each parts?\n",
    "    - Tutorial shows 10MB (10,000,000)\n",
    "    \n",
    "- Can use multiprocessing to speed up the uploading of parts..?\n",
    "\n",
    "- Is there callback? \n",
    "  Cant find the same callback as `s3_upload_fileobj(...)`. But able to use upload by chunk size to calculate progress\n",
    "\n",
    "### References\n",
    "- https://docs.aws.amazon.com/AmazonS3/latest/userguide/mpuoverview.html\n",
    "- https://blog.filestack.com/tutorials/amazon-s3-multipart-uploads-python-tutorial/"
   ]
  },
  {
   "cell_type": "code",
   "execution_count": 1,
   "id": "eb2f9696-e570-4f87-b7ab-85aa6fca04ce",
   "metadata": {},
   "outputs": [],
   "source": [
    "import boto3\n",
    "import time\n",
    "import os"
   ]
  },
  {
   "cell_type": "markdown",
   "id": "117868ba-48b3-47bf-b729-c6d58f437909",
   "metadata": {},
   "source": [
    "- C:\\Users\\codenamewei\\Documents\\xboxgamebar\\Captures\\greyanatomy2.mp4 32 MB\n",
    "    - native multipart: Time consumed in seconds: 104.95232319831848s\n",
    "    - multipart with multiprocessing: "
   ]
  },
  {
   "cell_type": "code",
   "execution_count": 2,
   "id": "3fe7e3e1-cbc6-41f0-974e-42ecf91a968c",
   "metadata": {},
   "outputs": [],
   "source": [
    "filename = r\"C:\\Users\\codenamewei\\Documents\\xboxgamebar\\Captures\\greyanatomy2.mp4\"\n",
    "bucketname = \"hello-world-abc\"\n",
    "objectname = os.path.basename(filename)"
   ]
  },
  {
   "cell_type": "code",
   "execution_count": 3,
   "id": "3de628f7-4d21-45f4-8b99-9142679f37a2",
   "metadata": {},
   "outputs": [],
   "source": [
    "import json\n",
    "\n",
    "configfilepath = r\"C:\\Users\\codenamewei\\Downloads\\temp\\awscredential.json\"\n",
    "with open(configfilepath, 'r') as openfile:\n",
    " \n",
    "    # Reading from json file\n",
    "    config = json.load(openfile)\n",
    "    \n",
    "s3client = boto3.client('s3', aws_access_key_id=config[\"aws_access_key_id\"], aws_secret_access_key= config[\"aws_secret_access_key\"])"
   ]
  },
  {
   "cell_type": "code",
   "execution_count": 4,
   "id": "d5ad8ae1-627f-4d8c-b7ce-6180721319b4",
   "metadata": {},
   "outputs": [],
   "source": [
    "import os\n",
    "import sys\n",
    "import threading\n",
    "\n",
    "class ProgressPercentage(object):\n",
    "\n",
    "    def __init__(self, filename):\n",
    "        self._filename = filename\n",
    "        self._size = float(os.path.getsize(filename))\n",
    "        self._seen_so_far = 0\n",
    "        self._lock = threading.Lock()\n",
    "\n",
    "    def __call__(self, bytes_amount):\n",
    "        # To simplify, assume this is hooked up to a single filename\n",
    "        with self._lock:\n",
    "            self._seen_so_far += bytes_amount\n",
    "            percentage = (self._seen_so_far / self._size) * 100\n",
    "            print(\"\\r%s  %s / %s  (%.2f%%)\" % (\n",
    "                    self._filename, self._seen_so_far, self._size,\n",
    "                    percentage), end = \"\")\n",
    "     \n",
    "            sys.stdout.flush()"
   ]
  },
  {
   "cell_type": "markdown",
   "id": "77ccca52-1a74-40df-9852-7875857f1e2e",
   "metadata": {},
   "source": [
    "### https://boto3.amazonaws.com/v1/documentation/api/latest/reference/services/s3.html#S3.Client.create_multipart_upload\n",
    "\n",
    "```\n",
    "response = client.create_multipart_upload(\n",
    "    ACL='private'|'public-read'|'public-read-write'|'authenticated-read'|'aws-exec-read'|'bucket-owner-read'|'bucket-owner-full-control',\n",
    "    Bucket='string',\n",
    "    CacheControl='string',\n",
    "    ContentDisposition='string',\n",
    "    ContentEncoding='string',\n",
    "    ContentLanguage='string',\n",
    "    ContentType='string',\n",
    "    Expires=datetime(2015, 1, 1),\n",
    "    GrantFullControl='string',\n",
    "    GrantRead='string',\n",
    "    GrantReadACP='string',\n",
    "    GrantWriteACP='string',\n",
    "    Key='string',\n",
    "    Metadata={\n",
    "        'string': 'string'\n",
    "    },\n",
    "    ServerSideEncryption='AES256'|'aws:kms',\n",
    "    StorageClass='STANDARD'|'REDUCED_REDUNDANCY'|'STANDARD_IA'|'ONEZONE_IA'|'INTELLIGENT_TIERING'|'GLACIER'|'DEEP_ARCHIVE'|'OUTPOSTS'|'GLACIER_IR',\n",
    "    WebsiteRedirectLocation='string',\n",
    "    SSECustomerAlgorithm='string',\n",
    "    SSECustomerKey='string',\n",
    "    SSEKMSKeyId='string',\n",
    "    SSEKMSEncryptionContext='string',\n",
    "    BucketKeyEnabled=True|False,\n",
    "    RequestPayer='requester',\n",
    "    Tagging='string',\n",
    "    ObjectLockMode='GOVERNANCE'|'COMPLIANCE',\n",
    "    ObjectLockRetainUntilDate=datetime(2015, 1, 1),\n",
    "    ObjectLockLegalHoldStatus='ON'|'OFF',\n",
    "    ExpectedBucketOwner='string',\n",
    "    ChecksumAlgorithm='CRC32'|'CRC32C'|'SHA1'|'SHA256'\n",
    ")\n",
    "```"
   ]
  },
  {
   "cell_type": "code",
   "execution_count": 5,
   "id": "c34dc9e8-93c9-43ff-9b63-0213eb810d5e",
   "metadata": {},
   "outputs": [
    {
     "name": "stdout",
     "output_type": "stream",
     "text": [
      "C:\\Users\\codenamewei\\Documents\\xboxgamebar\\Captures\\greyanatomy2.mp4  10000033 / 32619572.0  (30.66%)Complete part 1\n",
      "C:\\Users\\codenamewei\\Documents\\xboxgamebar\\Captures\\greyanatomy2.mp4  20000066 / 32619572.0  (61.31%)Complete part 2\n",
      "C:\\Users\\codenamewei\\Documents\\xboxgamebar\\Captures\\greyanatomy2.mp4  30000099 / 32619572.0  (91.97%)Complete part 3\n",
      "C:\\Users\\codenamewei\\Documents\\xboxgamebar\\Captures\\greyanatomy2.mp4  32619704 / 32619572.0  (100.00%)Complete part 4\n"
     ]
    }
   ],
   "source": [
    "basename = os.path.basename(filename)\n",
    "\n",
    "#https://boto3.amazonaws.com/v1/documentation/api/latest/reference/services/s3.html#S3.Client.create_multipart_upload\n",
    "multipart_upload = s3client.create_multipart_upload(\n",
    "    ACL='private',\n",
    "    Bucket=bucketname,\n",
    "    ContentType='video/mp4',\n",
    "    Key=basename,\n",
    ")\n",
    "\n",
    "part_number = 1\n",
    "parts = []\n",
    "\n",
    "progress = ProgressPercentage(filename)\n",
    "\n",
    "s3resource = boto3.resource('s3', aws_access_key_id=config[\"aws_access_key_id\"], aws_secret_access_key= config[\"aws_secret_access_key\"])\n",
    "\n",
    "sizeperchunk = 10000000# roughly 10 mb parts\n",
    "start = time.time()\n",
    "\n",
    "with open(filename, 'rb') as f:\n",
    "    while True:\n",
    "        piece = f.read(sizeperchunk) \n",
    "        if piece == b'':\n",
    "            break\n",
    "                                                                                                                                                           \n",
    "        #https://boto3.amazonaws.com/v1/documentation/api/latest/reference/services/s3.html#multipartuploadpart\n",
    "        uploadPart = s3resource.MultipartUploadPart(\n",
    "            bucket_name = bucketname, object_key = basename, multipart_upload_id =  multipart_upload['UploadId'], part_number = part_number)\n",
    "\n",
    "        uploadPartResponse = uploadPart.upload(\n",
    "            Body=piece,\n",
    "        )\n",
    "            \n",
    "        progress(sys.getsizeof(piece))\n",
    "        \n",
    "        parts.append({\n",
    "            'PartNumber': part_number,\n",
    "            'ETag': uploadPartResponse['ETag']\n",
    "        })\n",
    "        \n",
    "        print(f\"Complete part {part_number}\")\n",
    "        part_number = part_number + 1\n"
   ]
  },
  {
   "cell_type": "markdown",
   "id": "0e41711b-c0a8-4a26-933f-a4077c59470c",
   "metadata": {},
   "source": [
    "### To signal completion"
   ]
  },
  {
   "cell_type": "code",
   "execution_count": 6,
   "id": "2021d498-be24-4ae4-854d-43cff9d11f33",
   "metadata": {},
   "outputs": [
    {
     "name": "stdout",
     "output_type": "stream",
     "text": [
      "Time consumed in seconds: 68.89313983917236s\n"
     ]
    }
   ],
   "source": [
    "completeResult = s3client.complete_multipart_upload(\n",
    "    Bucket=bucketname,\n",
    "    Key=basename,\n",
    "    MultipartUpload={\n",
    "        'Parts': parts\n",
    "    },\n",
    "    UploadId=multipart_upload['UploadId'],\n",
    ")\n",
    "\n",
    "end = time.time()\n",
    "\n",
    "print(f\"Time consumed in seconds: {end - start}s\")"
   ]
  },
  {
   "cell_type": "code",
   "execution_count": null,
   "id": "926e84bf-0c04-4837-9fdb-9ded1abd2491",
   "metadata": {},
   "outputs": [],
   "source": []
  }
 ],
 "metadata": {
  "kernelspec": {
   "display_name": "Python 3 (ipykernel)",
   "language": "python",
   "name": "python3"
  },
  "language_info": {
   "codemirror_mode": {
    "name": "ipython",
    "version": 3
   },
   "file_extension": ".py",
   "mimetype": "text/x-python",
   "name": "python",
   "nbconvert_exporter": "python",
   "pygments_lexer": "ipython3",
   "version": "3.8.5"
  }
 },
 "nbformat": 4,
 "nbformat_minor": 5
}
