{
 "cells": [
  {
   "cell_type": "markdown",
   "id": "5f71c1a2-08f1-474b-ba4b-dc5a3c2f7bb4",
   "metadata": {},
   "source": [
    "### Get object from S3"
   ]
  },
  {
   "cell_type": "code",
   "execution_count": 1,
   "id": "00604fde-a6f3-43cf-bf3f-c48d4bffb5a3",
   "metadata": {},
   "outputs": [],
   "source": [
    "import json\n",
    "import boto3\n",
    "import os\n",
    "\n",
    "configfilepath = r\"C:\\Users\\codenamewei\\Downloads\\temp\\awscredential.json\"\n",
    "\n",
    "downloadfilename = \"shortest.mp4\"\n",
    "outputsavedpath = r\"C:\\Users\\codenamewei\\Downloads\\temp\"\n",
    "bucketname = \"hello-world-abc\"\n",
    "\n",
    "outputfilename = os.path.join(outputsavedpath, downloadfilename)"
   ]
  },
  {
   "cell_type": "code",
   "execution_count": 5,
   "id": "bb30d366-c994-40e7-9761-44de5db2eebe",
   "metadata": {},
   "outputs": [],
   "source": [
    "with open(configfilepath, 'r') as openfile:\n",
    " \n",
    "    # Reading from json file\n",
    "    config = json.load(openfile)\n",
    "    \n",
    "s3 = boto3.client('s3', aws_access_key_id=config[\"aws_access_key_id\"], aws_secret_access_key= config[\"aws_secret_access_key\"])"
   ]
  },
  {
   "cell_type": "markdown",
   "id": "7284ab19-f9aa-4393-a2f6-112d2354e7e5",
   "metadata": {},
   "source": [
    "### Getting object to filelike and file with ```s3.download_fileobj(...)```"
   ]
  },
  {
   "cell_type": "code",
   "execution_count": 7,
   "id": "51ca6d54-0652-4a01-9030-1b11596d61bd",
   "metadata": {},
   "outputs": [
    {
     "name": "stdout",
     "output_type": "stream",
     "text": [
      "<class '_io.BufferedWriter'>\n"
     ]
    }
   ],
   "source": [
    "with open(outputfilename, 'wb') as data:\n",
    "    \"\"\"\n",
    "    s3.download_fileobj('mybucket', 'mykey', data)\n",
    "    data : io.BufferedWriter\n",
    "    mybucket: bucketname\n",
    "    mykey: file name on s3\n",
    "    \"\"\"\n",
    "    s3.download_fileobj(bucketname, downloadfilename, data)\n",
    "    \n",
    "print(type(data))"
   ]
  },
  {
   "cell_type": "markdown",
   "id": "9edd66f8-8036-454e-83eb-ddec85542b99",
   "metadata": {},
   "source": [
    "### Getting object straight to file with ```s3.meta.client.download_file```"
   ]
  },
  {
   "cell_type": "code",
   "execution_count": 6,
   "id": "e8346858-0bf5-4cbb-8d98-b0bf53faa857",
   "metadata": {},
   "outputs": [],
   "source": [
    "s3resource = boto3.resource('s3', aws_access_key_id=config[\"aws_access_key_id\"], aws_secret_access_key= config[\"aws_secret_access_key\"])\n",
    "\n",
    "s3resource.meta.client.download_file(bucketname, downloadfilename, outputfilename)"
   ]
  },
  {
   "cell_type": "code",
   "execution_count": null,
   "id": "5a840ed9-282d-437a-a49f-a6944029ea5b",
   "metadata": {},
   "outputs": [],
   "source": []
  }
 ],
 "metadata": {
  "kernelspec": {
   "display_name": "Python 3 (ipykernel)",
   "language": "python",
   "name": "python3"
  },
  "language_info": {
   "codemirror_mode": {
    "name": "ipython",
    "version": 3
   },
   "file_extension": ".py",
   "mimetype": "text/x-python",
   "name": "python",
   "nbconvert_exporter": "python",
   "pygments_lexer": "ipython3",
   "version": "3.8.5"
  }
 },
 "nbformat": 4,
 "nbformat_minor": 5
}
