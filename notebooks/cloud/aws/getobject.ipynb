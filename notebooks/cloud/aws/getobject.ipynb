{
 "cells": [
  {
   "cell_type": "markdown",
   "id": "5f71c1a2-08f1-474b-ba4b-dc5a3c2f7bb4",
   "metadata": {},
   "source": [
    "### Get object from S3\n",
    "\n",
    "- documentations says there's no preferences over choosing one over another\n",
    "- download_fileobj download to filelike object while download_file download to files\n",
    "- Multipart upload is built-in, [TransferConfig](https://boto3.amazonaws.com/v1/documentation/api/1.9.42/reference/customizations/s3.html#boto3.s3.transfer.TransferConfig) to adjust it"
   ]
  },
  {
   "cell_type": "code",
   "execution_count": 1,
   "id": "00604fde-a6f3-43cf-bf3f-c48d4bffb5a3",
   "metadata": {},
   "outputs": [],
   "source": [
    "import json\n",
    "import boto3\n",
    "import os\n",
    "import time\n",
    "\n",
    "configfilepath = r\"C:\\Users\\codenamewei\\Downloads\\temp\\awscredential.json\"\n",
    "\n",
    "downloadfilename = \"disney.mp4\"\n",
    "outputsavedpath = r\"C:\\Users\\codenamewei\\Downloads\\temp\"\n",
    "bucketname = \"hello-world-abc\"\n",
    "\n",
    "outputfilename = os.path.join(outputsavedpath, downloadfilename)"
   ]
  },
  {
   "cell_type": "code",
   "execution_count": 2,
   "id": "bb30d366-c994-40e7-9761-44de5db2eebe",
   "metadata": {},
   "outputs": [],
   "source": [
    "with open(configfilepath, 'r') as openfile:\n",
    " \n",
    "    # Reading from json file\n",
    "    config = json.load(openfile)\n",
    "    \n",
    "s3 = boto3.client('s3', aws_access_key_id=config[\"aws_access_key_id\"], aws_secret_access_key= config[\"aws_secret_access_key\"])"
   ]
  },
  {
   "cell_type": "markdown",
   "id": "7284ab19-f9aa-4393-a2f6-112d2354e7e5",
   "metadata": {},
   "source": [
    "### Getting object to filelike and file with ```s3.download_fileobj(...)```\n",
    "\n",
    "- https://boto3.amazonaws.com/v1/documentation/api/1.9.42/reference/services/s3.html#S3.Bucket.download_fileobj\n"
   ]
  },
  {
   "cell_type": "code",
   "execution_count": 3,
   "id": "51ca6d54-0652-4a01-9030-1b11596d61bd",
   "metadata": {},
   "outputs": [
    {
     "name": "stdout",
     "output_type": "stream",
     "text": [
      "<class '_io.BufferedWriter'>\n",
      "Time consumed in seconds: 26.9236s\n"
     ]
    }
   ],
   "source": [
    "start = time.time()\n",
    "\n",
    "with open(outputfilename, 'wb') as data:\n",
    "    \"\"\"\n",
    "    s3.download_fileobj('mybucket', 'mykey', data)\n",
    "    data : io.BufferedWriter\n",
    "    mybucket: bucketname\n",
    "    mykey: file name on s3\n",
    "    \"\"\"\n",
    "    s3.download_fileobj(bucketname, downloadfilename, data)\n",
    "\n",
    "print(type(data))\n",
    "end = time.time()\n",
    "\n",
    "print(\"Time consumed in seconds: %.4fs\" % (end-start))"
   ]
  },
  {
   "cell_type": "markdown",
   "id": "9edd66f8-8036-454e-83eb-ddec85542b99",
   "metadata": {},
   "source": [
    "### Getting object straight to file with ```s3.meta.client.download_file```\n",
    "\n",
    "- https://boto3.amazonaws.com/v1/documentation/api/1.9.42/reference/services/s3.html#S3.Bucket.download_file"
   ]
  },
  {
   "cell_type": "code",
   "execution_count": 4,
   "id": "e8346858-0bf5-4cbb-8d98-b0bf53faa857",
   "metadata": {},
   "outputs": [
    {
     "name": "stdout",
     "output_type": "stream",
     "text": [
      "<class '_io.BufferedWriter'>\n",
      "Time consumed in seconds: 28.5379s\n"
     ]
    }
   ],
   "source": [
    "start = time.time()\n",
    "\n",
    "\n",
    "s3resource = boto3.resource('s3', aws_access_key_id=config[\"aws_access_key_id\"], aws_secret_access_key= config[\"aws_secret_access_key\"])\n",
    "\n",
    "\n",
    "# no returning value\n",
    "# use raise exception \n",
    "\n",
    "try:\n",
    "    \n",
    "    s3resource.meta.client.download_file(bucketname, downloadfilename, outputfilename)\n",
    "    \n",
    "except Exception as e:\n",
    "    \n",
    "    print(e)\n",
    "\n",
    "print(type(data))\n",
    "end = time.time()\n",
    "\n",
    "print(\"Time consumed in seconds: %.4fs\" % (end-start))"
   ]
  },
  {
   "cell_type": "code",
   "execution_count": null,
   "id": "05b032c0-baa0-4b60-a523-cd10859edb22",
   "metadata": {},
   "outputs": [],
   "source": []
  }
 ],
 "metadata": {
  "kernelspec": {
   "display_name": "Python 3 (ipykernel)",
   "language": "python",
   "name": "python3"
  },
  "language_info": {
   "codemirror_mode": {
    "name": "ipython",
    "version": 3
   },
   "file_extension": ".py",
   "mimetype": "text/x-python",
   "name": "python",
   "nbconvert_exporter": "python",
   "pygments_lexer": "ipython3",
   "version": "3.8.5"
  }
 },
 "nbformat": 4,
 "nbformat_minor": 5
}
