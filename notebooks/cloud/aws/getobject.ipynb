{
 "cells": [
  {
   "cell_type": "code",
   "execution_count": 2,
   "id": "bb30d366-c994-40e7-9761-44de5db2eebe",
   "metadata": {},
   "outputs": [],
   "source": [
    "import json\n",
    "import boto3\n",
    "import os\n",
    "\n",
    "configfilepath = r\"C:\\Users\\codenamewei\\Downloads\\temp\\awscredential.json\"\n",
    "\n",
    "downloadfilename = \"shortest.mp4\"\n",
    "outputsavedpath = r\"C:\\Users\\codenamewei\\Downloads\\temp\"\n",
    "bucketname = \"hello-world-abc\"\n",
    "\n",
    "outputfilename = os.path.join(outputsavedpath, downloadfilename)\n",
    "\n",
    "with open(configfilepath, 'r') as openfile:\n",
    " \n",
    "    # Reading from json file\n",
    "    config = json.load(openfile)\n",
    "    \n",
    "s3 = boto3.client('s3', aws_access_key_id=config[\"aws_access_key_id\"], aws_secret_access_key= config[\"aws_secret_access_key\"])"
   ]
  },
  {
   "cell_type": "code",
   "execution_count": 3,
   "id": "51ca6d54-0652-4a01-9030-1b11596d61bd",
   "metadata": {},
   "outputs": [],
   "source": [
    "with open(outputfilename, 'wb') as data:\n",
    "    \"\"\"\n",
    "    s3.download_fileobj('mybucket', 'mykey', data)\n",
    "    mybucket: bucketname\n",
    "    mykey: file name on s3\n",
    "    \"\"\"\n",
    "    s3.download_fileobj(bucketname, downloadfilename, data)"
   ]
  },
  {
   "cell_type": "code",
   "execution_count": null,
   "id": "7efa1bbe-7b98-4745-8187-6e366f1ccc8b",
   "metadata": {},
   "outputs": [],
   "source": []
  }
 ],
 "metadata": {
  "kernelspec": {
   "display_name": "Python 3 (ipykernel)",
   "language": "python",
   "name": "python3"
  },
  "language_info": {
   "codemirror_mode": {
    "name": "ipython",
    "version": 3
   },
   "file_extension": ".py",
   "mimetype": "text/x-python",
   "name": "python",
   "nbconvert_exporter": "python",
   "pygments_lexer": "ipython3",
   "version": "3.8.5"
  }
 },
 "nbformat": 4,
 "nbformat_minor": 5
}
