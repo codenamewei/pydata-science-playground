{
 "cells": [
  {
   "cell_type": "markdown",
   "metadata": {},
   "source": [
    "# log to file "
   ]
  },
  {
   "cell_type": "code",
   "execution_count": 1,
   "metadata": {},
   "outputs": [],
   "source": [
    "import logging\n",
    "import os\n",
    "\n",
    "logfullpath = \"test.log\"\n",
    "\n",
    "logging.basicConfig(filename = logfullpath, \n",
    "            level = os.environ.get(\"LOGLEVEL\", \"INFO\").upper(),\n",
    "            format = '%(asctime)s %(levelname)s %(filename)s:%(lineno)s - %(funcName)s(): %(message)s',\n",
    "            datefmt='%Y-%m-%d %H:%M:%S') \n",
    "\n",
    "logger = logging.getLogger()\n",
    "\n",
    "logger.info(\"Test infos\")\n",
    "\n",
    "#alternatively, do logging.info(\"\")"
   ]
  }
 ],
 "metadata": {
  "interpreter": {
   "hash": "566fc2406c534f779744276e0ad6e818e0f4a899b0fcebb34d8f31acd47d8f89"
  },
  "kernelspec": {
   "display_name": "Python 3.8.5 64-bit ('data-science-playground': conda)",
   "language": "python",
   "name": "python3"
  },
  "language_info": {
   "codemirror_mode": {
    "name": "ipython",
    "version": 3
   },
   "file_extension": ".py",
   "mimetype": "text/x-python",
   "name": "python",
   "nbconvert_exporter": "python",
   "pygments_lexer": "ipython3",
   "version": "3.8.5"
  },
  "orig_nbformat": 4
 },
 "nbformat": 4,
 "nbformat_minor": 2
}
