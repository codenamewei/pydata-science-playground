{
 "cells": [
  {
   "cell_type": "markdown",
   "metadata": {},
   "source": [
    "Strength of ice cream\n",
    "- Easy installation ```pip install ice cream```\n",
    "- Easy to inspect order of program ```from icecream import ic;ic()```\n",
    "- Easy to log with filename, line number, and parent function ```ic.configureOutput(includeContext=True)```\n",
    "- Installat in one file and run in all without calling it."
   ]
  },
  {
   "cell_type": "markdown",
   "metadata": {},
   "source": [
    "### ic helps to identify the order of program \n",
    "- Without arguments, ic() inspects itself and prints the calling filename, line number, and parent function. \n",
    "- Check [this](programorder.py) out"
   ]
  },
  {
   "cell_type": "markdown",
   "metadata": {},
   "source": [
    "### includeContext, if provided and True, adds the ic() call's filename, line number, and parent function to ic()'s output.\n",
    "\n",
    "- check [this](logwithcontext.py) out"
   ]
  },
  {
   "cell_type": "markdown",
   "metadata": {},
   "source": [
    "### To make ic() available in every file without needing to be imported in every file, you can install() it. \n",
    "- For example, in a root A.py:\n",
    "```\n",
    "#!/usr/bin/env python3\n",
    "# -*- coding: utf-8 -*-\n",
    "\n",
    "from icecream import install\n",
    "install()\n",
    "\n",
    "from B import foo\n",
    "foo()\n",
    "```\n",
    "\n",
    "- and then in B.py, which is imported by A.py, just call ic():\n",
    "\n",
    "```\n",
    "# -*- coding: utf-8 -*-\n",
    "\n",
    "def foo():\n",
    "    x = 3\n",
    "    ic(x)\n",
    "```"
   ]
  },
  {
   "cell_type": "code",
   "execution_count": 10,
   "metadata": {},
   "outputs": [
    {
     "name": "stderr",
     "output_type": "stream",
     "text": [
      "ic| foo(123): 456\n"
     ]
    },
    {
     "data": {
      "text/plain": [
       "456"
      ]
     },
     "execution_count": 10,
     "metadata": {},
     "output_type": "execute_result"
    }
   ],
   "source": [
    "from icecream import ic\n",
    "\n",
    "def foo(i):\n",
    "\n",
    "    return i + 333\n",
    "\n",
    "ic(foo(123))\n"
   ]
  },
  {
   "cell_type": "markdown",
   "metadata": {},
   "source": [
    "### ic prints the function and the output   "
   ]
  },
  {
   "cell_type": "code",
   "execution_count": 11,
   "metadata": {},
   "outputs": [
    {
     "name": "stderr",
     "output_type": "stream",
     "text": [
      "ic| d['key'][1]: 'one'\n",
      "ic| klass.attr: 'yep'\n"
     ]
    },
    {
     "data": {
      "text/plain": [
       "'yep'"
      ]
     },
     "execution_count": 11,
     "metadata": {},
     "output_type": "execute_result"
    }
   ],
   "source": [
    "d = {'key': {1: 'one'}}\n",
    "ic(d['key'][1])\n",
    "\n",
    "class klass():\n",
    "    attr = 'yep'\n",
    "ic(klass.attr)"
   ]
  },
  {
   "cell_type": "markdown",
   "metadata": {},
   "source": [
    "### ic() returns its argument(s), so ic() can easily be inserted into pre-existing code."
   ]
  },
  {
   "cell_type": "code",
   "execution_count": 12,
   "metadata": {},
   "outputs": [
    {
     "name": "stderr",
     "output_type": "stream",
     "text": [
      "ic| a: 6\n",
      "ic| b: 3.0\n"
     ]
    },
    {
     "data": {
      "text/plain": [
       "3.0"
      ]
     },
     "execution_count": 12,
     "metadata": {},
     "output_type": "execute_result"
    }
   ],
   "source": [
    "a = 6\n",
    "\n",
    "def half(i):\n",
    "    return i / 2\n",
    "\n",
    "b = half(ic(a))\n",
    "\n",
    "ic(b)"
   ]
  },
  {
   "cell_type": "markdown",
   "metadata": {},
   "source": []
  },
  {
   "cell_type": "markdown",
   "metadata": {},
   "source": []
  }
 ],
 "metadata": {
  "interpreter": {
   "hash": "566fc2406c534f779744276e0ad6e818e0f4a899b0fcebb34d8f31acd47d8f89"
  },
  "kernelspec": {
   "display_name": "Python 3.8.5 64-bit ('data-science-playground': conda)",
   "language": "python",
   "name": "python3"
  },
  "language_info": {
   "codemirror_mode": {
    "name": "ipython",
    "version": 3
   },
   "file_extension": ".py",
   "mimetype": "text/x-python",
   "name": "python",
   "nbconvert_exporter": "python",
   "pygments_lexer": "ipython3",
   "version": "3.8.5"
  },
  "orig_nbformat": 4
 },
 "nbformat": 4,
 "nbformat_minor": 2
}
