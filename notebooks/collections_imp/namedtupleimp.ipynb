{
 "cells": [
  {
   "cell_type": "markdown",
   "metadata": {},
   "source": [
    "### Revision: What is Tuple\n",
    "\n",
    "- Tuple is a collection to store multiple items in a single variable.\n",
    "- It can store datatypes of different types.\n",
    "- Tuple is **immutable** (cannot changed after define) \n",
    "- Allows repetitive values\n",
    "\n",
    "### Downside\n",
    "- The data stored in them can only be pulled out by accessing it through integer indexes. You can’t give names to individual properties stored in a tuple. This can impact code readability.\n",
    "- a tuple is always an ad-hoc structure. It’s hard to ensure that two tuples have the same number of fields and the same properties stored on them. This makes it easy to introduce “slip-of-the-mind” bugs by mixing up the field order."
   ]
  },
  {
   "cell_type": "code",
   "execution_count": 3,
   "metadata": {},
   "outputs": [
    {
     "name": "stdout",
     "output_type": "stream",
     "text": [
      "(True, False, True, False)\n",
      "('abc', 34, True, 40, 'male')\n",
      "male\n"
     ]
    }
   ],
   "source": [
    "rawtuple = (True, False, True, False)\n",
    "tuple1 = (\"abc\", 34, True, 40, \"male\")\n",
    "\n",
    "print(rawtuple)\n",
    "print(tuple1)\n",
    "\n",
    "print(tuple1[-1])"
   ]
  },
  {
   "cell_type": "markdown",
   "metadata": {},
   "source": [
    "### Better Alternative: namedtuple\n",
    "\n",
    "```namedtuple(typename/classname, [fieldname1, fieldname]```\n",
    "- Build the typename/classname same as the return type\n",
    "\n",
    "#### Strength: \n",
    "- Ability to access by index or keyname\n",
    "\n",
    "#### References: \n",
    "- https://realpython.com/python-namedtuple/"
   ]
  },
  {
   "cell_type": "code",
   "execution_count": 2,
   "metadata": {},
   "outputs": [
    {
     "ename": "TypeError",
     "evalue": "<lambda>() takes 3 positional arguments but 4 were given",
     "output_type": "error",
     "traceback": [
      "\u001b[1;31m---------------------------------------------------------------------------\u001b[0m",
      "\u001b[1;31mTypeError\u001b[0m                                 Traceback (most recent call last)",
      "\u001b[1;32mC:\\Users\\CODENA~1\\AppData\\Local\\Temp/ipykernel_26768/3657354294.py\u001b[0m in \u001b[0;36m<module>\u001b[1;34m\u001b[0m\n\u001b[0;32m      3\u001b[0m \u001b[1;33m\u001b[0m\u001b[0m\n\u001b[0;32m      4\u001b[0m \u001b[0mtoggleobj1\u001b[0m \u001b[1;33m=\u001b[0m \u001b[0mNamedTupleToggle\u001b[0m\u001b[1;33m(\u001b[0m\u001b[1;32mTrue\u001b[0m\u001b[1;33m,\u001b[0m \u001b[1;32mFalse\u001b[0m\u001b[1;33m)\u001b[0m\u001b[1;33m\u001b[0m\u001b[1;33m\u001b[0m\u001b[0m\n\u001b[1;32m----> 5\u001b[1;33m \u001b[0mtoggleobj1\u001b[0m \u001b[1;33m=\u001b[0m \u001b[0mNamedTupleToggle\u001b[0m\u001b[1;33m(\u001b[0m\u001b[1;32mTrue\u001b[0m\u001b[1;33m,\u001b[0m \u001b[1;32mFalse\u001b[0m\u001b[1;33m,\u001b[0m \u001b[1;32mFalse\u001b[0m\u001b[1;33m)\u001b[0m\u001b[1;33m\u001b[0m\u001b[1;33m\u001b[0m\u001b[0m\n\u001b[0m",
      "\u001b[1;31mTypeError\u001b[0m: <lambda>() takes 3 positional arguments but 4 were given"
     ]
    }
   ],
   "source": [
    "from collections import namedtuple\n",
    "NamedTupleToggle = namedtuple(\"NamedTupleToggle\",['hall', 'room'])\n",
    "toggleobj1 = NamedTupleToggle(True, False)\n",
    "toggleobj1 = NamedTupleToggle(True, False, False)"
   ]
  },
  {
   "cell_type": "markdown",
   "metadata": {},
   "source": [
    "### NamedTuple to dict "
   ]
  },
  {
   "cell_type": "code",
   "execution_count": 7,
   "metadata": {},
   "outputs": [
    {
     "name": "stdout",
     "output_type": "stream",
     "text": [
      "hall: True\n",
      "<class 'str'>: <class 'bool'>\n",
      "room: False\n",
      "<class 'str'>: <class 'bool'>\n"
     ]
    }
   ],
   "source": [
    "dictobj = toggleobj1._asdict()\n",
    "\n",
    "type(dictobj)\n",
    "\n",
    "for key, value in dictobj.items():\n",
    "    print(f\"{type(key)}: {type(value)}\")\n",
    "    print(f\"{key}: {value}\")"
   ]
  },
  {
   "cell_type": "code",
   "execution_count": null,
   "metadata": {},
   "outputs": [],
   "source": []
  }
 ],
 "metadata": {
  "kernelspec": {
   "display_name": "Python 3 (ipykernel)",
   "language": "python",
   "name": "python3"
  },
  "language_info": {
   "codemirror_mode": {
    "name": "ipython",
    "version": 3
   },
   "file_extension": ".py",
   "mimetype": "text/x-python",
   "name": "python",
   "nbconvert_exporter": "python",
   "pygments_lexer": "ipython3",
   "version": "3.9.7"
  }
 },
 "nbformat": 4,
 "nbformat_minor": 4
}
