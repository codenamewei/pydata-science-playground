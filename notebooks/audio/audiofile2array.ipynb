{
 "cells": [
  {
   "cell_type": "markdown",
   "metadata": {},
   "source": [
    "### Audio file -> numpy array\n",
    "\n",
    "- Tested with audio format of wav and flac."
   ]
  },
  {
   "cell_type": "code",
   "execution_count": 27,
   "metadata": {},
   "outputs": [],
   "source": [
    "audioformat = \"flac\"\n",
    "\n",
    "audiofile = r\"C:\\Users\\codenamewei\\Documents\\temp\\audio-chunks\\Yann_LeCun__Dark_Matter_of_Intelligence_and_Self-Supervised_Learning___Lex_Fridman_Podcast_#258\\\\chunk1.\" + audioformat\n",
    "\n",
    "outfile = r\"C:\\Users\\codenamewei\\Downloads\\temp.\" + audioformat"
   ]
  },
  {
   "cell_type": "code",
   "execution_count": 28,
   "metadata": {},
   "outputs": [
    {
     "name": "stdout",
     "output_type": "stream",
     "text": [
      "Type of data:  <class 'numpy.ndarray'>\n",
      "[0.00000000e+00 0.00000000e+00 0.00000000e+00 ... 1.85132027e-04\n",
      " 9.11951065e-05 8.53180885e-04]\n",
      "16000\n"
     ]
    }
   ],
   "source": [
    "import soundfile as sf\n",
    "\n",
    "data, samplerate = sf.read(audiofile)\n",
    "\n",
    "print(\"Type of data: \", type(data))\n",
    "print(data)\n",
    "print(samplerate)\n"
   ]
  },
  {
   "cell_type": "markdown",
   "metadata": {},
   "source": [
    "### Numpy array to audio file"
   ]
  },
  {
   "cell_type": "code",
   "execution_count": 29,
   "metadata": {},
   "outputs": [],
   "source": [
    "import numpy as np\n",
    "\n",
    "sf.write(outfile, data, samplerate)"
   ]
  }
 ],
 "metadata": {
  "interpreter": {
   "hash": "39853f62b8e4c2d3ee3838cfeadfd556e69cd9100de065179bf5857a68cd5520"
  },
  "kernelspec": {
   "display_name": "Python 3.8.5 64-bit ('nlp-playground': conda)",
   "language": "python",
   "name": "python3"
  },
  "language_info": {
   "codemirror_mode": {
    "name": "ipython",
    "version": 3
   },
   "file_extension": ".py",
   "mimetype": "text/x-python",
   "name": "python",
   "nbconvert_exporter": "python",
   "pygments_lexer": "ipython3",
   "version": "3.8.5"
  },
  "orig_nbformat": 4
 },
 "nbformat": 4,
 "nbformat_minor": 2
}
