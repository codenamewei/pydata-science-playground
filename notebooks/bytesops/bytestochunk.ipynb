{
 "cells": [
  {
   "cell_type": "markdown",
   "id": "4e2f1471-910f-4cf5-b222-a653b79fcdda",
   "metadata": {},
   "source": [
    "### https://stackoverflow.com/questions/35580801/chunking-bytes-not-strings-in-python-2-and-3"
   ]
  },
  {
   "cell_type": "code",
   "execution_count": 13,
   "id": "55b7d6ab-5007-44ee-a9f7-7888c8995ec6",
   "metadata": {},
   "outputs": [],
   "source": [
    "import os"
   ]
  },
  {
   "cell_type": "code",
   "execution_count": 14,
   "id": "23e13f4b-e948-49e8-94a4-4e9ad5075061",
   "metadata": {
    "tags": []
   },
   "outputs": [],
   "source": [
    "def chunked(source : bytes, chunk_size : int):\n",
    "    for i in range(0, len(source), chunk_size):\n",
    "        yield source[i:i+chunk_size]"
   ]
  },
  {
   "cell_type": "code",
   "execution_count": 15,
   "id": "e73cc33d-d0b4-485a-89ef-19a6f9995597",
   "metadata": {},
   "outputs": [
    {
     "name": "stdout",
     "output_type": "stream",
     "text": [
      "Total size: 16571272.0\n",
      "Number of chunks 2\n"
     ]
    }
   ],
   "source": [
    "filepath = r\"C:\\Users\\codenamewei\\Documents\\xboxgamebar\\Captures\\insanefood.mp4\"\n",
    "sizeperchunk = 1000\n",
    "totalsize = float(os.path.getsize(filepath))\n",
    "\n",
    "print(f\"Total size: {totalsize}\")\n",
    "      \n",
    "if sizeperchunk > totalsize:\n",
    "      print(\"No splitting\")\n",
    "else:\n",
    "\n",
    "    with open(filepath, \"rb\") as f:\n",
    "        contents = f.read() #total contents\n",
    "\n",
    "    chunklist = list(chunked(contents, sizeperchunk))\n",
    "    \n",
    "    print(f\"Number of chunks {len(chunklist)}\")\n"
   ]
  },
  {
   "cell_type": "code",
   "execution_count": null,
   "id": "544e67b7-9b4f-412f-acd7-7c1e68ae7e42",
   "metadata": {},
   "outputs": [],
   "source": []
  }
 ],
 "metadata": {
  "kernelspec": {
   "display_name": "Python 3 (ipykernel)",
   "language": "python",
   "name": "python3"
  },
  "language_info": {
   "codemirror_mode": {
    "name": "ipython",
    "version": 3
   },
   "file_extension": ".py",
   "mimetype": "text/x-python",
   "name": "python",
   "nbconvert_exporter": "python",
   "pygments_lexer": "ipython3",
   "version": "3.8.5"
  }
 },
 "nbformat": 4,
 "nbformat_minor": 5
}
